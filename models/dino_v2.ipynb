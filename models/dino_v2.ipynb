{
  "cells": [
    {
      "cell_type": "markdown",
      "metadata": {
        "id": "CSXDJcczMrB6"
      },
      "source": [
        "# **MRI Brain Alzheimer Classification - Dino V2**"
      ]
    },
    {
      "cell_type": "markdown",
      "metadata": {
        "id": "wS-LcsglIn5e"
      },
      "source": [
        "**Clone Dataset from GitHub**"
      ]
    },
    {
      "cell_type": "code",
      "execution_count": 1,
      "metadata": {},
      "outputs": [
        {
          "name": "stdout",
          "output_type": "stream",
          "text": [
            "c:\\Dor\\TECHNION\\deep_learning\\Project\\MRI_Barin_Alzheimer_Classification\n"
          ]
        }
      ],
      "source": [
        "# Check if the directory exists and clone if it does not\n",
        "# !if [ ! -d \"MRI_Brain_Alzheimer_Classification\" ]; then git clone https://github.com/nivbartov/MRI_Brain_Alzheimer_Classification; fi\n",
        "\n",
        "# Change directory to the cloned repository\n",
        "# %cd MRI_Brain_Alzheimer_Classification\n",
        "%cd .."
      ]
    },
    {
      "cell_type": "markdown",
      "metadata": {},
      "source": [
        "**Install Packages**"
      ]
    },
    {
      "cell_type": "code",
      "execution_count": 2,
      "metadata": {
        "id": "Gq0ikAVMMuUK"
      },
      "outputs": [],
      "source": [
        "# # !git clone https://github.com/facebookresearch/dinov2.git\n",
        "# !pip install --no-deps -r requirements.txt \n",
        "\n",
        "# !pip show xformers || pip3 install -U xformers --index-url https://download.pytorch.org/whl/cu124\n",
        "# !pip show torchvision || pip install torchvision\n",
        "# !pip show optuna || pip install optuna\n",
        "# !pip show tqdm || pip install tqdm"
      ]
    },
    {
      "cell_type": "markdown",
      "metadata": {
        "id": "mEWgxGwpIvtv"
      },
      "source": [
        "**Import Packages**"
      ]
    },
    {
      "cell_type": "code",
      "execution_count": 3,
      "metadata": {
        "colab": {
          "base_uri": "https://localhost:8080/"
        },
        "id": "v_yU5PXHEX4x",
        "outputId": "d6964a73-4847-43ec-d164-e29b28e9b3a3"
      },
      "outputs": [],
      "source": [
        "# Suppress user and future warnings\n",
        "import warnings\n",
        "warnings.filterwarnings(\"ignore\", category=FutureWarning)\n",
        "warnings.filterwarnings(\"ignore\", category=UserWarning)\n",
        "\n",
        "# imports\n",
        "import sys\n",
        "import os\n",
        "import numpy as np\n",
        "import pandas as pd\n",
        "import torch\n",
        "from torchsummary import summary\n",
        "import torch.nn as nn\n",
        "from torch.utils.data import TensorDataset, DataLoader, Subset, ConcatDataset\n",
        "import torchvision\n",
        "import torchvision.datasets as datasets\n",
        "import torchvision.transforms as transforms\n",
        "from kornia import augmentation as K\n",
        "from kornia.augmentation import AugmentationSequential\n",
        "import matplotlib.pyplot as plt\n",
        "%matplotlib inline\n",
        "from tqdm import tqdm\n",
        "import random\n",
        "import time\n",
        "\n",
        "\n",
        "# repository imports\n",
        "from models import def_models\n",
        "from utils import utils_funcs\n",
        "from utils import optuna_search\n"
      ]
    },
    {
      "cell_type": "markdown",
      "metadata": {},
      "source": [
        "**Device Definition**"
      ]
    },
    {
      "cell_type": "code",
      "execution_count": 4,
      "metadata": {},
      "outputs": [
        {
          "name": "stdout",
          "output_type": "stream",
          "text": [
            "torch.cuda.is_available(): True\n",
            "device: cuda:0\n"
          ]
        }
      ],
      "source": [
        "# check if there is a CUDA device available \n",
        "print(f'torch.cuda.is_available(): {torch.cuda.is_available()}')\n",
        "\n",
        "# device\n",
        "device = torch.device(\"cuda:0\" if torch.cuda.is_available() else \"cpu\")\n",
        "print(f'device: {device}')\n",
        "torch.cuda.empty_cache()"
      ]
    },
    {
      "cell_type": "markdown",
      "metadata": {
        "id": "1mLsGXKEKVJy"
      },
      "source": [
        "**Load the Dataset**"
      ]
    },
    {
      "cell_type": "code",
      "execution_count": 5,
      "metadata": {
        "id": "YuDq65E6UMbl"
      },
      "outputs": [],
      "source": [
        "train_set = torch.load('dataset/dataset_variables/train_set.pt')\n",
        "validation_set = torch.load('dataset/dataset_variables/validation_set.pt')\n",
        "test_set = torch.load('dataset/dataset_variables/test_set.pt')"
      ]
    },
    {
      "cell_type": "markdown",
      "metadata": {},
      "source": [
        "**Pre-processing of the data**"
      ]
    },
    {
      "cell_type": "code",
      "execution_count": 6,
      "metadata": {},
      "outputs": [],
      "source": [
        "# Resize images from 128x128 to 224x224 transformation\n",
        "preprocess = transforms.Compose([\n",
        "    transforms.Resize((224, 224)), \n",
        "    transforms.ToTensor()\n",
        "])\n",
        "\n",
        "# Apply transformations to the datasets\n",
        "train_set = utils_funcs.apply_transformations(train_set, preprocess)\n",
        "validation_set = utils_funcs.apply_transformations(validation_set, preprocess)\n",
        "test_set = utils_funcs.apply_transformations(test_set, preprocess)"
      ]
    },
    {
      "cell_type": "markdown",
      "metadata": {
        "id": "eCYl_TtCNRRy"
      },
      "source": [
        "**Model Definition and Initialization**"
      ]
    },
    {
      "cell_type": "code",
      "execution_count": 7,
      "metadata": {
        "id": "h0rr3nWPNoN8"
      },
      "outputs": [
        {
          "name": "stderr",
          "output_type": "stream",
          "text": [
            "Using cache found in C:\\Users\\97252/.cache\\torch\\hub\\facebookresearch_dinov2_main\n"
          ]
        }
      ],
      "source": [
        "# Initialize in,out channels, width and height sizes\n",
        "input_channels = 3\n",
        "width = 224\n",
        "height = 224\n",
        "output_channels = 4\n",
        "\n",
        "dino_v2_model = torch.hub.load('facebookresearch/dinov2', 'dinov2_vits14')\n",
        "\n",
        "# freeze dino_v2 layers\n",
        "for param in dino_v2_model.parameters():\n",
        "    param.requires_grad = False\n",
        "    \n",
        "\n",
        "# make the model\n",
        "model = def_models.DINO_v2_FT(dino_backbone=dino_v2_model, output_channels=output_channels).to(device)"
      ]
    },
    {
      "cell_type": "markdown",
      "metadata": {},
      "source": [
        "**Model Statistics**"
      ]
    },
    {
      "cell_type": "code",
      "execution_count": 8,
      "metadata": {},
      "outputs": [
        {
          "name": "stdout",
          "output_type": "stream",
          "text": [
            "model  DINO_v2_FT  statistics\n",
            "----------------------------------------------------------------\n",
            "        Layer (type)               Output Shape         Param #\n",
            "================================================================\n",
            "            Conv2d-1          [-1, 384, 16, 16]         226,176\n",
            "          Identity-2             [-1, 256, 384]               0\n",
            "        PatchEmbed-3             [-1, 256, 384]               0\n",
            "         LayerNorm-4             [-1, 257, 384]             768\n",
            "            Linear-5            [-1, 257, 1152]         443,520\n",
            "            Linear-6             [-1, 257, 384]         147,840\n",
            "           Dropout-7             [-1, 257, 384]               0\n",
            "   MemEffAttention-8             [-1, 257, 384]               0\n",
            "        LayerScale-9             [-1, 257, 384]               0\n",
            "        LayerNorm-10             [-1, 257, 384]             768\n",
            "           Linear-11            [-1, 257, 1536]         591,360\n",
            "             GELU-12            [-1, 257, 1536]               0\n",
            "          Dropout-13            [-1, 257, 1536]               0\n",
            "           Linear-14             [-1, 257, 384]         590,208\n",
            "          Dropout-15             [-1, 257, 384]               0\n",
            "              Mlp-16             [-1, 257, 384]               0\n",
            "       LayerScale-17             [-1, 257, 384]               0\n",
            "NestedTensorBlock-18             [-1, 257, 384]               0\n",
            "        LayerNorm-19             [-1, 257, 384]             768\n",
            "           Linear-20            [-1, 257, 1152]         443,520\n",
            "           Linear-21             [-1, 257, 384]         147,840\n",
            "          Dropout-22             [-1, 257, 384]               0\n",
            "  MemEffAttention-23             [-1, 257, 384]               0\n",
            "       LayerScale-24             [-1, 257, 384]               0\n",
            "        LayerNorm-25             [-1, 257, 384]             768\n",
            "           Linear-26            [-1, 257, 1536]         591,360\n",
            "             GELU-27            [-1, 257, 1536]               0\n",
            "          Dropout-28            [-1, 257, 1536]               0\n",
            "           Linear-29             [-1, 257, 384]         590,208\n",
            "          Dropout-30             [-1, 257, 384]               0\n",
            "              Mlp-31             [-1, 257, 384]               0\n",
            "       LayerScale-32             [-1, 257, 384]               0\n",
            "NestedTensorBlock-33             [-1, 257, 384]               0\n",
            "        LayerNorm-34             [-1, 257, 384]             768\n",
            "           Linear-35            [-1, 257, 1152]         443,520\n",
            "           Linear-36             [-1, 257, 384]         147,840\n",
            "          Dropout-37             [-1, 257, 384]               0\n",
            "  MemEffAttention-38             [-1, 257, 384]               0\n",
            "       LayerScale-39             [-1, 257, 384]               0\n",
            "        LayerNorm-40             [-1, 257, 384]             768\n",
            "           Linear-41            [-1, 257, 1536]         591,360\n",
            "             GELU-42            [-1, 257, 1536]               0\n",
            "          Dropout-43            [-1, 257, 1536]               0\n",
            "           Linear-44             [-1, 257, 384]         590,208\n",
            "          Dropout-45             [-1, 257, 384]               0\n",
            "              Mlp-46             [-1, 257, 384]               0\n",
            "       LayerScale-47             [-1, 257, 384]               0\n",
            "NestedTensorBlock-48             [-1, 257, 384]               0\n",
            "        LayerNorm-49             [-1, 257, 384]             768\n",
            "           Linear-50            [-1, 257, 1152]         443,520\n",
            "           Linear-51             [-1, 257, 384]         147,840\n",
            "          Dropout-52             [-1, 257, 384]               0\n",
            "  MemEffAttention-53             [-1, 257, 384]               0\n",
            "       LayerScale-54             [-1, 257, 384]               0\n",
            "        LayerNorm-55             [-1, 257, 384]             768\n",
            "           Linear-56            [-1, 257, 1536]         591,360\n",
            "             GELU-57            [-1, 257, 1536]               0\n",
            "          Dropout-58            [-1, 257, 1536]               0\n",
            "           Linear-59             [-1, 257, 384]         590,208\n",
            "          Dropout-60             [-1, 257, 384]               0\n",
            "              Mlp-61             [-1, 257, 384]               0\n",
            "       LayerScale-62             [-1, 257, 384]               0\n",
            "NestedTensorBlock-63             [-1, 257, 384]               0\n",
            "        LayerNorm-64             [-1, 257, 384]             768\n",
            "           Linear-65            [-1, 257, 1152]         443,520\n",
            "           Linear-66             [-1, 257, 384]         147,840\n",
            "          Dropout-67             [-1, 257, 384]               0\n",
            "  MemEffAttention-68             [-1, 257, 384]               0\n",
            "       LayerScale-69             [-1, 257, 384]               0\n",
            "        LayerNorm-70             [-1, 257, 384]             768\n",
            "           Linear-71            [-1, 257, 1536]         591,360\n",
            "             GELU-72            [-1, 257, 1536]               0\n",
            "          Dropout-73            [-1, 257, 1536]               0\n",
            "           Linear-74             [-1, 257, 384]         590,208\n",
            "          Dropout-75             [-1, 257, 384]               0\n",
            "              Mlp-76             [-1, 257, 384]               0\n",
            "       LayerScale-77             [-1, 257, 384]               0\n",
            "NestedTensorBlock-78             [-1, 257, 384]               0\n",
            "        LayerNorm-79             [-1, 257, 384]             768\n",
            "           Linear-80            [-1, 257, 1152]         443,520\n",
            "           Linear-81             [-1, 257, 384]         147,840\n",
            "          Dropout-82             [-1, 257, 384]               0\n",
            "  MemEffAttention-83             [-1, 257, 384]               0\n",
            "       LayerScale-84             [-1, 257, 384]               0\n",
            "        LayerNorm-85             [-1, 257, 384]             768\n",
            "           Linear-86            [-1, 257, 1536]         591,360\n",
            "             GELU-87            [-1, 257, 1536]               0\n",
            "          Dropout-88            [-1, 257, 1536]               0\n",
            "           Linear-89             [-1, 257, 384]         590,208\n",
            "          Dropout-90             [-1, 257, 384]               0\n",
            "              Mlp-91             [-1, 257, 384]               0\n",
            "       LayerScale-92             [-1, 257, 384]               0\n",
            "NestedTensorBlock-93             [-1, 257, 384]               0\n",
            "        LayerNorm-94             [-1, 257, 384]             768\n",
            "           Linear-95            [-1, 257, 1152]         443,520\n",
            "           Linear-96             [-1, 257, 384]         147,840\n",
            "          Dropout-97             [-1, 257, 384]               0\n",
            "  MemEffAttention-98             [-1, 257, 384]               0\n",
            "       LayerScale-99             [-1, 257, 384]               0\n",
            "       LayerNorm-100             [-1, 257, 384]             768\n",
            "          Linear-101            [-1, 257, 1536]         591,360\n",
            "            GELU-102            [-1, 257, 1536]               0\n",
            "         Dropout-103            [-1, 257, 1536]               0\n",
            "          Linear-104             [-1, 257, 384]         590,208\n",
            "         Dropout-105             [-1, 257, 384]               0\n",
            "             Mlp-106             [-1, 257, 384]               0\n",
            "      LayerScale-107             [-1, 257, 384]               0\n",
            "NestedTensorBlock-108             [-1, 257, 384]               0\n",
            "       LayerNorm-109             [-1, 257, 384]             768\n",
            "          Linear-110            [-1, 257, 1152]         443,520\n",
            "          Linear-111             [-1, 257, 384]         147,840\n",
            "         Dropout-112             [-1, 257, 384]               0\n",
            " MemEffAttention-113             [-1, 257, 384]               0\n",
            "      LayerScale-114             [-1, 257, 384]               0\n",
            "       LayerNorm-115             [-1, 257, 384]             768\n",
            "          Linear-116            [-1, 257, 1536]         591,360\n",
            "            GELU-117            [-1, 257, 1536]               0\n",
            "         Dropout-118            [-1, 257, 1536]               0\n",
            "          Linear-119             [-1, 257, 384]         590,208\n",
            "         Dropout-120             [-1, 257, 384]               0\n",
            "             Mlp-121             [-1, 257, 384]               0\n",
            "      LayerScale-122             [-1, 257, 384]               0\n",
            "NestedTensorBlock-123             [-1, 257, 384]               0\n",
            "       LayerNorm-124             [-1, 257, 384]             768\n",
            "          Linear-125            [-1, 257, 1152]         443,520\n",
            "          Linear-126             [-1, 257, 384]         147,840\n",
            "         Dropout-127             [-1, 257, 384]               0\n",
            " MemEffAttention-128             [-1, 257, 384]               0\n",
            "      LayerScale-129             [-1, 257, 384]               0\n",
            "       LayerNorm-130             [-1, 257, 384]             768\n",
            "          Linear-131            [-1, 257, 1536]         591,360\n",
            "            GELU-132            [-1, 257, 1536]               0\n",
            "         Dropout-133            [-1, 257, 1536]               0\n",
            "          Linear-134             [-1, 257, 384]         590,208\n",
            "         Dropout-135             [-1, 257, 384]               0\n",
            "             Mlp-136             [-1, 257, 384]               0\n",
            "      LayerScale-137             [-1, 257, 384]               0\n",
            "NestedTensorBlock-138             [-1, 257, 384]               0\n",
            "       LayerNorm-139             [-1, 257, 384]             768\n",
            "          Linear-140            [-1, 257, 1152]         443,520\n",
            "          Linear-141             [-1, 257, 384]         147,840\n",
            "         Dropout-142             [-1, 257, 384]               0\n",
            " MemEffAttention-143             [-1, 257, 384]               0\n",
            "      LayerScale-144             [-1, 257, 384]               0\n",
            "       LayerNorm-145             [-1, 257, 384]             768\n",
            "          Linear-146            [-1, 257, 1536]         591,360\n",
            "            GELU-147            [-1, 257, 1536]               0\n",
            "         Dropout-148            [-1, 257, 1536]               0\n",
            "          Linear-149             [-1, 257, 384]         590,208\n",
            "         Dropout-150             [-1, 257, 384]               0\n",
            "             Mlp-151             [-1, 257, 384]               0\n",
            "      LayerScale-152             [-1, 257, 384]               0\n",
            "NestedTensorBlock-153             [-1, 257, 384]               0\n",
            "       LayerNorm-154             [-1, 257, 384]             768\n",
            "          Linear-155            [-1, 257, 1152]         443,520\n",
            "          Linear-156             [-1, 257, 384]         147,840\n",
            "         Dropout-157             [-1, 257, 384]               0\n",
            " MemEffAttention-158             [-1, 257, 384]               0\n",
            "      LayerScale-159             [-1, 257, 384]               0\n",
            "       LayerNorm-160             [-1, 257, 384]             768\n",
            "          Linear-161            [-1, 257, 1536]         591,360\n",
            "            GELU-162            [-1, 257, 1536]               0\n",
            "         Dropout-163            [-1, 257, 1536]               0\n",
            "          Linear-164             [-1, 257, 384]         590,208\n",
            "         Dropout-165             [-1, 257, 384]               0\n",
            "             Mlp-166             [-1, 257, 384]               0\n",
            "      LayerScale-167             [-1, 257, 384]               0\n",
            "NestedTensorBlock-168             [-1, 257, 384]               0\n",
            "       LayerNorm-169             [-1, 257, 384]             768\n",
            "          Linear-170            [-1, 257, 1152]         443,520\n",
            "          Linear-171             [-1, 257, 384]         147,840\n",
            "         Dropout-172             [-1, 257, 384]               0\n",
            " MemEffAttention-173             [-1, 257, 384]               0\n",
            "      LayerScale-174             [-1, 257, 384]               0\n",
            "       LayerNorm-175             [-1, 257, 384]             768\n",
            "          Linear-176            [-1, 257, 1536]         591,360\n",
            "            GELU-177            [-1, 257, 1536]               0\n",
            "         Dropout-178            [-1, 257, 1536]               0\n",
            "          Linear-179             [-1, 257, 384]         590,208\n",
            "         Dropout-180             [-1, 257, 384]               0\n",
            "             Mlp-181             [-1, 257, 384]               0\n",
            "      LayerScale-182             [-1, 257, 384]               0\n",
            "NestedTensorBlock-183             [-1, 257, 384]               0\n",
            "       LayerNorm-184             [-1, 257, 384]             768\n",
            "        Identity-185                  [-1, 384]               0\n",
            "DinoVisionTransformer-186                  [-1, 384]               0\n",
            "          Linear-187                 [-1, 2048]         788,480\n",
            "     BatchNorm1d-188                 [-1, 2048]           4,096\n",
            "            GELU-189                 [-1, 2048]               0\n",
            "         Dropout-190                 [-1, 2048]               0\n",
            "          Linear-191                 [-1, 2048]       4,196,352\n",
            "     BatchNorm1d-192                 [-1, 2048]           4,096\n",
            "            GELU-193                 [-1, 2048]               0\n",
            "         Dropout-194                 [-1, 2048]               0\n",
            "          Linear-195                 [-1, 2048]       4,196,352\n",
            "     BatchNorm1d-196                 [-1, 2048]           4,096\n",
            "            GELU-197                 [-1, 2048]               0\n",
            "         Dropout-198                 [-1, 2048]               0\n",
            "          Linear-199                 [-1, 1000]       2,049,000\n",
            "     BatchNorm1d-200                 [-1, 1000]           2,000\n",
            "            GELU-201                 [-1, 1000]               0\n",
            "         Dropout-202                 [-1, 1000]               0\n",
            "          Linear-203                    [-1, 4]           4,004\n",
            "================================================================\n",
            "Total params: 32,768,988\n",
            "Trainable params: 11,248,476\n",
            "Non-trainable params: 21,520,512\n",
            "----------------------------------------------------------------\n",
            "Input size (MB): 0.57\n",
            "Forward/backward pass size (MB): 238.14\n",
            "Params size (MB): 125.00\n",
            "Estimated Total Size (MB): 363.72\n",
            "----------------------------------------------------------------\n",
            "Total parameters: 33305052\n",
            "Trainable parameters: 11248476\n"
          ]
        }
      ],
      "source": [
        "# model statistics\n",
        "model_name = type(model).__name__\n",
        "print(\"model \", model_name,\" statistics\")\n",
        "summary(model, (input_channels, height, width))\n",
        "\n",
        "total_params = sum(p.numel() for p in model.parameters())\n",
        "trainable_params = sum(p.numel() for p in model.parameters() if p.requires_grad)\n",
        "\n",
        "print(f\"Total parameters: {total_params}\")\n",
        "print(f\"Trainable parameters: {trainable_params}\")"
      ]
    },
    {
      "cell_type": "markdown",
      "metadata": {},
      "source": [
        "**Optuna**"
      ]
    },
    {
      "cell_type": "code",
      "execution_count": 9,
      "metadata": {},
      "outputs": [
        {
          "name": "stderr",
          "output_type": "stream",
          "text": [
            "[I 2024-09-30 22:50:02,161] A new study created in memory with name: mri-alzhimer-classification\n"
          ]
        },
        {
          "name": "stdout",
          "output_type": "stream",
          "text": [
            "Optuna is done on device: cuda:0\n"
          ]
        },
        {
          "name": "stderr",
          "output_type": "stream",
          "text": [
            "Using cache found in C:\\Users\\97252/.cache\\torch\\hub\\facebookresearch_dinov2_main\n",
            "100%|██████████| 10/10 [07:42<00:00, 46.29s/it]\n",
            "[I 2024-09-30 22:58:02,210] Trial 0 finished with value: 0.5015625 and parameters: {'lr': 7.68766102588969e-05, 'optimizer': 'SGD', 'batch_size': 128}. Best is trial 0 with value: 0.5015625.\n",
            "Using cache found in C:\\Users\\97252/.cache\\torch\\hub\\facebookresearch_dinov2_main\n",
            "100%|██████████| 10/10 [09:33<00:00, 57.33s/it]\n",
            "[I 2024-09-30 23:07:50,011] Trial 1 finished with value: 0.2421875 and parameters: {'lr': 2.1827485266129956e-06, 'optimizer': 'SGD', 'batch_size': 128}. Best is trial 0 with value: 0.5015625.\n",
            "Using cache found in C:\\Users\\97252/.cache\\torch\\hub\\facebookresearch_dinov2_main\n",
            "100%|██████████| 10/10 [11:00<00:00, 66.09s/it]\n",
            "[I 2024-09-30 23:19:06,248] Trial 2 finished with value: 0.88125 and parameters: {'lr': 2.8833349380395257e-05, 'optimizer': 'Adam', 'batch_size': 256}. Best is trial 2 with value: 0.88125.\n",
            "Using cache found in C:\\Users\\97252/.cache\\torch\\hub\\facebookresearch_dinov2_main\n",
            "100%|██████████| 10/10 [08:51<00:00, 53.12s/it]\n",
            "[I 2024-09-30 23:28:12,926] Trial 3 finished with value: 0.578125 and parameters: {'lr': 0.0001632477924860585, 'optimizer': 'SGD', 'batch_size': 64}. Best is trial 2 with value: 0.88125.\n",
            "Using cache found in C:\\Users\\97252/.cache\\torch\\hub\\facebookresearch_dinov2_main\n",
            "100%|██████████| 10/10 [13:43<00:00, 82.31s/it]\n",
            "[I 2024-09-30 23:42:11,338] Trial 4 finished with value: 0.8390625 and parameters: {'lr': 0.005623429401866094, 'optimizer': 'Adam', 'batch_size': 256}. Best is trial 2 with value: 0.88125.\n",
            "Using cache found in C:\\Users\\97252/.cache\\torch\\hub\\facebookresearch_dinov2_main\n",
            "100%|██████████| 10/10 [06:13<00:00, 37.37s/it]\n",
            "[I 2024-09-30 23:48:40,432] Trial 5 finished with value: 0.8020833333333334 and parameters: {'lr': 1.8944209667981558e-05, 'optimizer': 'Adam', 'batch_size': 32}. Best is trial 2 with value: 0.88125.\n",
            "Using cache found in C:\\Users\\97252/.cache\\torch\\hub\\facebookresearch_dinov2_main\n",
            "100%|██████████| 10/10 [14:51<00:00, 89.19s/it]\n",
            "[I 2024-10-01 00:03:47,182] Trial 6 finished with value: 0.84375 and parameters: {'lr': 0.0003791252675759469, 'optimizer': 'RMSprop', 'batch_size': 256}. Best is trial 2 with value: 0.88125.\n",
            "Using cache found in C:\\Users\\97252/.cache\\torch\\hub\\facebookresearch_dinov2_main\n",
            "  0%|          | 0/10 [01:31<?, ?it/s]\n",
            "[I 2024-10-01 00:05:33,459] Trial 7 pruned. \n",
            "Using cache found in C:\\Users\\97252/.cache\\torch\\hub\\facebookresearch_dinov2_main\n",
            "  0%|          | 0/10 [00:43<?, ?it/s]\n",
            "[I 2024-10-01 00:06:32,233] Trial 8 pruned. \n",
            "Using cache found in C:\\Users\\97252/.cache\\torch\\hub\\facebookresearch_dinov2_main\n",
            "  0%|          | 0/10 [01:06<?, ?it/s]\n",
            "[I 2024-10-01 00:07:53,271] Trial 9 pruned. \n",
            "Using cache found in C:\\Users\\97252/.cache\\torch\\hub\\facebookresearch_dinov2_main\n",
            "100%|██████████| 10/10 [10:50<00:00, 65.03s/it]\n",
            "[I 2024-10-01 00:18:59,387] Trial 10 finished with value: 0.8578125 and parameters: {'lr': 1.6519544062084957e-05, 'optimizer': 'Adam', 'batch_size': 64}. Best is trial 2 with value: 0.88125.\n",
            "Using cache found in C:\\Users\\97252/.cache\\torch\\hub\\facebookresearch_dinov2_main\n",
            "  0%|          | 0/10 [01:14<?, ?it/s]\n",
            "[I 2024-10-01 00:20:28,463] Trial 11 pruned. \n",
            "Using cache found in C:\\Users\\97252/.cache\\torch\\hub\\facebookresearch_dinov2_main\n",
            " 40%|████      | 4/10 [05:26<08:09, 81.64s/it]\n",
            "[I 2024-10-01 00:26:09,717] Trial 12 pruned. \n",
            "Using cache found in C:\\Users\\97252/.cache\\torch\\hub\\facebookresearch_dinov2_main\n",
            "100%|██████████| 10/10 [12:22<00:00, 74.25s/it]\n",
            "[I 2024-10-01 00:38:47,381] Trial 13 finished with value: 0.86875 and parameters: {'lr': 1.7390194324348338e-05, 'optimizer': 'Adam', 'batch_size': 64}. Best is trial 2 with value: 0.88125.\n",
            "Using cache found in C:\\Users\\97252/.cache\\torch\\hub\\facebookresearch_dinov2_main\n",
            "100%|██████████| 10/10 [15:58<00:00, 95.85s/it]\n",
            "[I 2024-10-01 00:55:01,201] Trial 14 finished with value: 0.8859375 and parameters: {'lr': 3.9978431980855914e-05, 'optimizer': 'Adam', 'batch_size': 256}. Best is trial 14 with value: 0.8859375.\n",
            "Using cache found in C:\\Users\\97252/.cache\\torch\\hub\\facebookresearch_dinov2_main\n",
            "100%|██████████| 10/10 [16:27<00:00, 98.70s/it]\n",
            "[I 2024-10-01 01:11:43,090] Trial 15 finished with value: 0.9203125 and parameters: {'lr': 8.963915542714111e-05, 'optimizer': 'Adam', 'batch_size': 256}. Best is trial 15 with value: 0.9203125.\n",
            "Using cache found in C:\\Users\\97252/.cache\\torch\\hub\\facebookresearch_dinov2_main\n",
            " 40%|████      | 4/10 [08:30<12:45, 127.55s/it]\n",
            "[I 2024-10-01 01:20:27,766] Trial 16 pruned. \n",
            "Using cache found in C:\\Users\\97252/.cache\\torch\\hub\\facebookresearch_dinov2_main\n",
            "100%|██████████| 10/10 [17:21<00:00, 104.17s/it]\n",
            "[I 2024-10-01 01:38:04,945] Trial 17 finished with value: 0.9234375 and parameters: {'lr': 7.185654686340861e-05, 'optimizer': 'Adam', 'batch_size': 256}. Best is trial 17 with value: 0.9234375.\n",
            "Using cache found in C:\\Users\\97252/.cache\\torch\\hub\\facebookresearch_dinov2_main\n",
            "  0%|          | 0/10 [01:54<?, ?it/s]\n",
            "[I 2024-10-01 01:40:13,599] Trial 18 pruned. \n",
            "Using cache found in C:\\Users\\97252/.cache\\torch\\hub\\facebookresearch_dinov2_main\n",
            " 20%|██        | 2/10 [04:06<16:26, 123.28s/it]\n",
            "[I 2024-10-01 01:44:34,806] Trial 19 pruned. \n",
            "Using cache found in C:\\Users\\97252/.cache\\torch\\hub\\facebookresearch_dinov2_main\n",
            " 50%|█████     | 5/10 [04:48<04:48, 57.63s/it]\n",
            "[I 2024-10-01 01:49:38,364] Trial 20 pruned. \n",
            "Using cache found in C:\\Users\\97252/.cache\\torch\\hub\\facebookresearch_dinov2_main\n",
            "100%|██████████| 10/10 [17:06<00:00, 102.70s/it]\n",
            "[I 2024-10-01 02:07:00,720] Trial 21 finished with value: 0.91875 and parameters: {'lr': 9.824493997817768e-05, 'optimizer': 'Adam', 'batch_size': 256}. Best is trial 17 with value: 0.9234375.\n",
            "Using cache found in C:\\Users\\97252/.cache\\torch\\hub\\facebookresearch_dinov2_main\n",
            "  0%|          | 0/10 [01:32<?, ?it/s]\n",
            "[I 2024-10-01 02:08:47,687] Trial 22 pruned. \n",
            "Using cache found in C:\\Users\\97252/.cache\\torch\\hub\\facebookresearch_dinov2_main\n",
            "100%|██████████| 10/10 [18:12<00:00, 109.30s/it]\n",
            "[I 2024-10-01 02:27:16,629] Trial 23 finished with value: 0.915625 and parameters: {'lr': 0.0002096837816180684, 'optimizer': 'Adam', 'batch_size': 256}. Best is trial 17 with value: 0.9234375.\n",
            "Using cache found in C:\\Users\\97252/.cache\\torch\\hub\\facebookresearch_dinov2_main\n",
            "100%|██████████| 10/10 [16:44<00:00, 100.42s/it]\n",
            "[I 2024-10-01 02:44:16,243] Trial 24 finished with value: 0.9078125 and parameters: {'lr': 5.929426159897679e-05, 'optimizer': 'Adam', 'batch_size': 256}. Best is trial 17 with value: 0.9234375.\n",
            "Using cache found in C:\\Users\\97252/.cache\\torch\\hub\\facebookresearch_dinov2_main\n",
            "  0%|          | 0/10 [02:00<?, ?it/s]\n",
            "[I 2024-10-01 02:46:31,086] Trial 25 pruned. \n",
            "Using cache found in C:\\Users\\97252/.cache\\torch\\hub\\facebookresearch_dinov2_main\n",
            "  0%|          | 0/10 [01:20<?, ?it/s]\n",
            "[I 2024-10-01 02:48:06,726] Trial 26 pruned. \n",
            "Using cache found in C:\\Users\\97252/.cache\\torch\\hub\\facebookresearch_dinov2_main\n",
            "100%|██████████| 10/10 [17:06<00:00, 102.60s/it]\n",
            "[I 2024-10-01 03:05:28,395] Trial 27 finished with value: 0.9015625 and parameters: {'lr': 0.000607844759767447, 'optimizer': 'Adam', 'batch_size': 256}. Best is trial 17 with value: 0.9234375.\n",
            "Using cache found in C:\\Users\\97252/.cache\\torch\\hub\\facebookresearch_dinov2_main\n",
            "  0%|          | 0/10 [01:26<?, ?it/s]\n",
            "[I 2024-10-01 03:07:09,408] Trial 28 pruned. \n",
            "Using cache found in C:\\Users\\97252/.cache\\torch\\hub\\facebookresearch_dinov2_main\n",
            " 50%|█████     | 5/10 [04:34<04:34, 54.92s/it]\n",
            "[I 2024-10-01 03:11:58,924] Trial 29 pruned. \n",
            "Using cache found in C:\\Users\\97252/.cache\\torch\\hub\\facebookresearch_dinov2_main\n",
            "  0%|          | 0/10 [01:17<?, ?it/s]\n",
            "[I 2024-10-01 03:13:31,283] Trial 30 pruned. \n",
            "Using cache found in C:\\Users\\97252/.cache\\torch\\hub\\facebookresearch_dinov2_main\n",
            "100%|██████████| 10/10 [17:30<00:00, 105.01s/it]\n",
            "[I 2024-10-01 03:31:17,224] Trial 31 finished with value: 0.925 and parameters: {'lr': 0.0001720357458884157, 'optimizer': 'Adam', 'batch_size': 256}. Best is trial 31 with value: 0.925.\n",
            "Using cache found in C:\\Users\\97252/.cache\\torch\\hub\\facebookresearch_dinov2_main\n",
            "100%|██████████| 10/10 [17:41<00:00, 106.14s/it]\n",
            "[I 2024-10-01 03:49:13,549] Trial 32 finished with value: 0.9125 and parameters: {'lr': 4.5160175516171687e-05, 'optimizer': 'Adam', 'batch_size': 256}. Best is trial 31 with value: 0.925.\n",
            "Using cache found in C:\\Users\\97252/.cache\\torch\\hub\\facebookresearch_dinov2_main\n",
            "100%|██████████| 10/10 [17:50<00:00, 107.09s/it]\n",
            "[I 2024-10-01 04:07:19,290] Trial 33 finished with value: 0.9140625 and parameters: {'lr': 0.00015501086771239163, 'optimizer': 'Adam', 'batch_size': 256}. Best is trial 31 with value: 0.925.\n",
            "Using cache found in C:\\Users\\97252/.cache\\torch\\hub\\facebookresearch_dinov2_main\n",
            " 10%|█         | 1/10 [03:27<31:07, 207.45s/it]\n",
            "[I 2024-10-01 04:11:01,047] Trial 34 pruned. \n",
            "Using cache found in C:\\Users\\97252/.cache\\torch\\hub\\facebookresearch_dinov2_main\n",
            "  0%|          | 0/10 [01:22<?, ?it/s]\n",
            "[I 2024-10-01 04:12:38,795] Trial 35 pruned. \n",
            "Using cache found in C:\\Users\\97252/.cache\\torch\\hub\\facebookresearch_dinov2_main\n",
            "  0%|          | 0/10 [01:35<?, ?it/s]\n",
            "[I 2024-10-01 04:14:29,828] Trial 36 pruned. \n",
            "Using cache found in C:\\Users\\97252/.cache\\torch\\hub\\facebookresearch_dinov2_main\n",
            "100%|██████████| 10/10 [17:28<00:00, 104.88s/it]\n",
            "[I 2024-10-01 04:32:14,734] Trial 37 finished with value: 0.903125 and parameters: {'lr': 0.0005313675153296287, 'optimizer': 'Adam', 'batch_size': 256}. Best is trial 31 with value: 0.925.\n",
            "Using cache found in C:\\Users\\97252/.cache\\torch\\hub\\facebookresearch_dinov2_main\n",
            "  0%|          | 0/10 [01:35<?, ?it/s]\n",
            "[I 2024-10-01 04:34:04,244] Trial 38 pruned. \n",
            "Using cache found in C:\\Users\\97252/.cache\\torch\\hub\\facebookresearch_dinov2_main\n",
            "  0%|          | 0/10 [01:01<?, ?it/s]\n",
            "[I 2024-10-01 04:35:21,108] Trial 39 pruned. \n"
          ]
        },
        {
          "name": "stdout",
          "output_type": "stream",
          "text": [
            "Study statistics: \n",
            "  Number of finished trials:  40\n",
            "  Number of pruned trials:  20\n",
            "  Number of complete trials:  20\n",
            "Best trial:\n",
            "  Value:  0.925\n",
            "  Params: \n",
            "    lr: 0.0001720357458884157\n",
            "    optimizer: Adam\n",
            "    batch_size: 256\n",
            "Best parameters saved to checkpoints/op_tuna_params\\DINO_v2_FT\\DINO_v2_FT_0.9250.json\n",
            "{'lr': 0.0001720357458884157, 'optimizer': 'Adam', 'batch_size': 256}\n"
          ]
        }
      ],
      "source": [
        "params = optuna_search.optuna_param_search(model_name=\"DINO_v2_FT\", loss_criterion=nn.CrossEntropyLoss(), num_epochs_for_experiments=10, device=device,transfer_learning=True)\n",
        "print(params)"
      ]
    },
    {
      "cell_type": "markdown",
      "metadata": {
        "id": "EEgWWGpPV8y-"
      },
      "source": [
        "**Hyper-Parameters**"
      ]
    },
    {
      "cell_type": "code",
      "execution_count": 10,
      "metadata": {
        "id": "zZJ3eTYHNxv3"
      },
      "outputs": [],
      "source": [
        "# Hyper-parameters\n",
        "batch_size = params['batch_size']\n",
        "learning_rate = params['lr']\n",
        "optimizer_name = params['optimizer']\n",
        "\n",
        "num_epochs = 50\n",
        "\n",
        "# loss criterion\n",
        "criterion = nn.CrossEntropyLoss()\n",
        "\n",
        "# optimizer\n",
        "##optimizer = getattr(torch.optim, optimizer_name)(filter(lambda p: p.requires_grad, model.parameters()), lr=learning_rate)\n",
        "optimizer = getattr(torch.optim, optimizer_name)(model.fc.parameters(), lr=learning_rate)\n",
        "\n",
        "# Combine train_set and val_set into one dataset and\n",
        "combined_train_val_set = ConcatDataset([train_set, validation_set])\n",
        "\n",
        "# Loading the data and shuffling it\n",
        "trainloader = torch.utils.data.DataLoader(combined_train_val_set, batch_size=batch_size, shuffle=True, num_workers=6,pin_memory=True)\n",
        "testloader = torch.utils.data.DataLoader(test_set, batch_size=batch_size, shuffle=False, num_workers=6,pin_memory=True)\n"
      ]
    },
    {
      "cell_type": "markdown",
      "metadata": {
        "id": "0NMxcWt8WBVl"
      },
      "source": [
        "**Train Model**"
      ]
    },
    {
      "cell_type": "code",
      "execution_count": 11,
      "metadata": {
        "colab": {
          "base_uri": "https://localhost:8080/"
        },
        "id": "RFzmKpCGODd8",
        "outputId": "54f07c21-de3e-4710-ae1b-f1cc12031b2a"
      },
      "outputs": [
        {
          "name": "stdout",
          "output_type": "stream",
          "text": [
            "Training model: DINO_v2_FT on cuda:0\n",
            "Epoch: 1 | Loss: 0.9351 | Training accuracy: 79.961% | Epoch Time: 152.26 secs\n",
            "Epoch: 2 | Loss: 0.3965 | Training accuracy: 96.465% | Epoch Time: 226.51 secs\n",
            "Epoch: 3 | Loss: 0.1747 | Training accuracy: 99.395% | Epoch Time: 199.70 secs\n",
            "Epoch: 4 | Loss: 0.0893 | Training accuracy: 99.785% | Epoch Time: 205.40 secs\n",
            "Epoch: 5 | Loss: 0.0542 | Training accuracy: 99.844% | Epoch Time: 224.09 secs\n",
            "==> Saving model ...\n",
            "saved as ./checkpoints/DINO_v2_FT_045209_01102024.pth\n",
            "Epoch: 6 | Loss: 0.0444 | Training accuracy: 99.727% | Epoch Time: 205.64 secs\n",
            "Epoch: 7 | Loss: 0.0344 | Training accuracy: 99.961% | Epoch Time: 228.69 secs\n",
            "Epoch: 8 | Loss: 0.0300 | Training accuracy: 99.883% | Epoch Time: 212.21 secs\n",
            "Epoch: 9 | Loss: 0.0294 | Training accuracy: 99.980% | Epoch Time: 228.60 secs\n",
            "Epoch: 10 | Loss: 0.0222 | Training accuracy: 99.902% | Epoch Time: 198.18 secs\n",
            "==> Saving model ...\n",
            "saved as ./checkpoints/DINO_v2_FT_051003_01102024.pth\n",
            "Epoch: 11 | Loss: 0.0153 | Training accuracy: 99.941% | Epoch Time: 220.67 secs\n",
            "Epoch: 12 | Loss: 0.0106 | Training accuracy: 100.000% | Epoch Time: 241.65 secs\n",
            "Epoch: 13 | Loss: 0.0078 | Training accuracy: 99.980% | Epoch Time: 196.55 secs\n",
            "Epoch: 14 | Loss: 0.0054 | Training accuracy: 100.000% | Epoch Time: 277.31 secs\n",
            "Epoch: 15 | Loss: 0.0048 | Training accuracy: 100.000% | Epoch Time: 186.16 secs\n",
            "==> Saving model ...\n",
            "saved as ./checkpoints/DINO_v2_FT_052846_01102024.pth\n",
            "Epoch: 16 | Loss: 0.0040 | Training accuracy: 100.000% | Epoch Time: 210.79 secs\n",
            "Epoch: 17 | Loss: 0.0030 | Training accuracy: 100.000% | Epoch Time: 230.95 secs\n",
            "Epoch: 18 | Loss: 0.0036 | Training accuracy: 100.000% | Epoch Time: 191.33 secs\n",
            "Epoch: 19 | Loss: 0.0061 | Training accuracy: 99.863% | Epoch Time: 263.47 secs\n",
            "Epoch: 20 | Loss: 0.0065 | Training accuracy: 100.000% | Epoch Time: 203.57 secs\n",
            "==> Saving model ...\n",
            "saved as ./checkpoints/DINO_v2_FT_054706_01102024.pth\n",
            "Epoch: 21 | Loss: 0.0046 | Training accuracy: 100.000% | Epoch Time: 213.84 secs\n",
            "Epoch: 22 | Loss: 0.0037 | Training accuracy: 99.980% | Epoch Time: 212.75 secs\n",
            "Epoch: 23 | Loss: 0.0028 | Training accuracy: 100.000% | Epoch Time: 239.40 secs\n",
            "Epoch: 24 | Loss: 0.0027 | Training accuracy: 100.000% | Epoch Time: 193.94 secs\n",
            "Epoch: 25 | Loss: 0.0026 | Training accuracy: 99.961% | Epoch Time: 228.92 secs\n",
            "==> Saving model ...\n",
            "saved as ./checkpoints/DINO_v2_FT_060516_01102024.pth\n",
            "Epoch: 26 | Loss: 0.0031 | Training accuracy: 100.000% | Epoch Time: 205.31 secs\n",
            "Epoch: 27 | Loss: 0.0031 | Training accuracy: 99.980% | Epoch Time: 230.14 secs\n",
            "Epoch: 28 | Loss: 0.0027 | Training accuracy: 100.000% | Epoch Time: 215.14 secs\n",
            "Epoch: 29 | Loss: 0.0025 | Training accuracy: 100.000% | Epoch Time: 199.72 secs\n",
            "Epoch: 30 | Loss: 0.0053 | Training accuracy: 99.922% | Epoch Time: 245.61 secs\n",
            "==> Saving model ...\n",
            "saved as ./checkpoints/DINO_v2_FT_062332_01102024.pth\n",
            "Epoch: 31 | Loss: 0.0214 | Training accuracy: 99.863% | Epoch Time: 189.23 secs\n",
            "Epoch: 32 | Loss: 0.0747 | Training accuracy: 94.941% | Epoch Time: 228.98 secs\n",
            "Epoch: 33 | Loss: 0.1696 | Training accuracy: 97.090% | Epoch Time: 239.43 secs\n",
            "Epoch: 34 | Loss: 0.0910 | Training accuracy: 99.277% | Epoch Time: 203.35 secs\n",
            "Epoch: 35 | Loss: 0.0379 | Training accuracy: 99.824% | Epoch Time: 262.88 secs\n",
            "==> Saving model ...\n",
            "saved as ./checkpoints/DINO_v2_FT_064216_01102024.pth\n",
            "Epoch: 36 | Loss: 0.0172 | Training accuracy: 100.000% | Epoch Time: 215.37 secs\n",
            "Epoch: 37 | Loss: 0.0068 | Training accuracy: 100.000% | Epoch Time: 233.89 secs\n",
            "Epoch: 38 | Loss: 0.0031 | Training accuracy: 100.000% | Epoch Time: 226.10 secs\n",
            "Epoch: 39 | Loss: 0.0025 | Training accuracy: 100.000% | Epoch Time: 203.99 secs\n",
            "Epoch: 40 | Loss: 0.0020 | Training accuracy: 100.000% | Epoch Time: 235.64 secs\n",
            "==> Saving model ...\n",
            "saved as ./checkpoints/DINO_v2_FT_070052_01102024.pth\n",
            "Epoch: 41 | Loss: 0.0016 | Training accuracy: 100.000% | Epoch Time: 214.07 secs\n",
            "Epoch: 42 | Loss: 0.0010 | Training accuracy: 100.000% | Epoch Time: 247.33 secs\n",
            "Epoch: 43 | Loss: 0.0008 | Training accuracy: 100.000% | Epoch Time: 213.49 secs\n",
            "Epoch: 44 | Loss: 0.0007 | Training accuracy: 100.000% | Epoch Time: 219.13 secs\n",
            "Epoch: 45 | Loss: 0.0006 | Training accuracy: 100.000% | Epoch Time: 229.78 secs\n",
            "==> Saving model ...\n",
            "saved as ./checkpoints/DINO_v2_FT_071936_01102024.pth\n",
            "Epoch: 46 | Loss: 0.0005 | Training accuracy: 100.000% | Epoch Time: 207.38 secs\n",
            "Epoch: 47 | Loss: 0.0006 | Training accuracy: 100.000% | Epoch Time: 240.06 secs\n",
            "Epoch: 48 | Loss: 0.0005 | Training accuracy: 100.000% | Epoch Time: 220.28 secs\n",
            "Epoch: 49 | Loss: 0.0004 | Training accuracy: 100.000% | Epoch Time: 271.28 secs\n",
            "Epoch: 50 | Loss: 0.0004 | Training accuracy: 100.000% | Epoch Time: 291.37 secs\n",
            "==> Saving model ...\n",
            "saved as ./checkpoints/DINO_v2_FT_074007_01102024.pth\n"
          ]
        }
      ],
      "source": [
        "epoch_losses = utils_funcs.train(model, num_epochs, trainloader, device, criterion, optimizer)"
      ]
    },
    {
      "cell_type": "markdown",
      "metadata": {},
      "source": [
        "**Load fine-tuned parameters**"
      ]
    },
    {
      "cell_type": "code",
      "execution_count": 12,
      "metadata": {},
      "outputs": [],
      "source": [
        "# model_path = './checkpoints/DINO_v2_FT_055736_30092024.pth'\n",
        "# checkpoint = torch.load(model_path,weights_only=True)\n",
        "# last_epoch, last_loss = utils_funcs.load_model(model, optimizer, model_path)\n",
        "# model.load_state_dict(checkpoint['net'])"
      ]
    },
    {
      "cell_type": "markdown",
      "metadata": {
        "id": "EbJ0dBbeVkzF"
      },
      "source": [
        "**Results**"
      ]
    },
    {
      "cell_type": "code",
      "execution_count": 13,
      "metadata": {},
      "outputs": [
        {
          "data": {
            "text/plain": [
              "<Figure size 800x600 with 0 Axes>"
            ]
          },
          "metadata": {},
          "output_type": "display_data"
        },
        {
          "data": {
            "image/png": "[encoded data removed]",
            "text/plain": [
              "<Figure size 640x480 with 2 Axes>"
            ]
          },
          "metadata": {},
          "output_type": "display_data"
        }
      ],
      "source": [
        "class_names = ['VeryMildDemented', 'NonDemented', 'ModerateDemented', 'MildDemented']\n",
        "utils_funcs.plot_normalized_confusion_matrix(testloader, model, class_names, device, model_name)"
      ]
    },
    {
      "cell_type": "code",
      "execution_count": 14,
      "metadata": {
        "colab": {
          "base_uri": "https://localhost:8080/",
          "height": 507
        },
        "id": "g7O4VexWVcyQ",
        "outputId": "31a8ce59-8229-46e2-fdbd-8b0233f20aec"
      },
      "outputs": [
        {
          "data": {
            "image/png": "[encoded data removed]",
            "text/plain": [
              "<Figure size 500x500 with 1 Axes>"
            ]
          },
          "metadata": {},
          "output_type": "display_data"
        }
      ],
      "source": [
        "utils_funcs.plot_loss_curve(epoch_losses, num_epochs)"
      ]
    },
    {
      "cell_type": "code",
      "execution_count": 15,
      "metadata": {
        "colab": {
          "base_uri": "https://localhost:8080/"
        },
        "id": "bWniJm-0VgEz",
        "outputId": "ce9017cc-6400-41c3-da40-610bb1516ae9"
      },
      "outputs": [
        {
          "name": "stdout",
          "output_type": "stream",
          "text": [
            "Test accuracy: 94.922%\n"
          ]
        }
      ],
      "source": [
        "test_accuracy = utils_funcs.calculate_accuracy(model, testloader, device)\n",
        "print(\"Test accuracy: {:.3f}%\".format(test_accuracy))"
      ]
    }
  ],
  "metadata": {
    "accelerator": "GPU",
    "colab": {
      "gpuType": "T4",
      "provenance": []
    },
    "kernelspec": {
      "display_name": "Python 3",
      "name": "python3"
    },
    "language_info": {
      "codemirror_mode": {
        "name": "ipython",
        "version": 3
      },
      "file_extension": ".py",
      "mimetype": "text/x-python",
      "name": "python",
      "nbconvert_exporter": "python",
      "pygments_lexer": "ipython3",
      "version": "3.10.14"
    }
  },
  "nbformat": 4,
  "nbformat_minor": 0
}
