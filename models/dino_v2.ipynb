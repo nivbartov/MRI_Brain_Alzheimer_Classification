{
  "cells": [
    {
      "cell_type": "markdown",
      "metadata": {
        "id": "CSXDJcczMrB6"
      },
      "source": [
        "# **MRI Brain Alzheimer Classification - Dino V2**"
      ]
    },
    {
      "cell_type": "markdown",
      "metadata": {
        "id": "wS-LcsglIn5e"
      },
      "source": [
        "**Clone Dataset from GitHub**"
      ]
    },
    {
      "cell_type": "code",
      "execution_count": 1,
      "metadata": {},
      "outputs": [
        {
          "name": "stdout",
          "output_type": "stream",
          "text": [
            "c:\\Dor\\TECHNION\\deep_learning\\Project\\MRI_Barin_Alzheimer_Classification\n"
          ]
        }
      ],
      "source": [
        "# Check if the directory exists and clone if it does not\n",
        "# !if [ ! -d \"MRI_Brain_Alzheimer_Classification\" ]; then git clone https://github.com/nivbartov/MRI_Brain_Alzheimer_Classification; fi\n",
        "\n",
        "# Change directory to the cloned repository\n",
        "# %cd MRI_Brain_Alzheimer_Classification\n",
        "%cd .."
      ]
    },
    {
      "cell_type": "markdown",
      "metadata": {},
      "source": [
        "**Install Packages**"
      ]
    },
    {
      "cell_type": "code",
      "execution_count": 2,
      "metadata": {
        "id": "Gq0ikAVMMuUK"
      },
      "outputs": [],
      "source": [
        "# # !git clone https://github.com/facebookresearch/dinov2.git\n",
        "# !pip install --no-deps -r requirements.txt \n",
        "\n",
        "# !pip show xformers || pip3 install -U xformers --index-url https://download.pytorch.org/whl/cu124\n",
        "# !pip show torchvision || pip install torchvision\n",
        "# !pip show optuna || pip install optuna\n",
        "# !pip show tqdm || pip install tqdm"
      ]
    },
    {
      "cell_type": "markdown",
      "metadata": {
        "id": "mEWgxGwpIvtv"
      },
      "source": [
        "**Import Packages**"
      ]
    },
    {
      "cell_type": "code",
      "execution_count": 3,
      "metadata": {
        "colab": {
          "base_uri": "https://localhost:8080/"
        },
        "id": "v_yU5PXHEX4x",
        "outputId": "d6964a73-4847-43ec-d164-e29b28e9b3a3"
      },
      "outputs": [],
      "source": [
        "import warnings\n",
        "# Suppress user and future warnings\n",
        "warnings.filterwarnings(\"ignore\", category=FutureWarning)\n",
        "warnings.filterwarnings(\"ignore\", category=UserWarning)\n",
        "\n",
        "# imports\n",
        "import sys\n",
        "import os\n",
        "import numpy as np\n",
        "import pandas as pd\n",
        "import torch\n",
        "from torchsummary import summary\n",
        "import torch.nn as nn\n",
        "from torch.utils.data import TensorDataset, DataLoader, Subset, ConcatDataset\n",
        "import torchvision\n",
        "import torchvision.datasets as datasets\n",
        "import torchvision.transforms as transforms\n",
        "from kornia import augmentation as K\n",
        "from kornia.augmentation import AugmentationSequential\n",
        "import matplotlib.pyplot as plt\n",
        "%matplotlib inline\n",
        "from tqdm import tqdm\n",
        "import random\n",
        "import time\n",
        "\n",
        "\n",
        "# repository imports\n",
        "from models import def_models\n",
        "from utils import utils_funcs\n",
        "from utils import optuna_search\n"
      ]
    },
    {
      "cell_type": "markdown",
      "metadata": {},
      "source": [
        "**Device Definition**"
      ]
    },
    {
      "cell_type": "code",
      "execution_count": 4,
      "metadata": {},
      "outputs": [
        {
          "name": "stdout",
          "output_type": "stream",
          "text": [
            "torch.cuda.is_available(): True\n",
            "device: cuda:0\n"
          ]
        }
      ],
      "source": [
        "# check if there is a CUDA device available \n",
        "print(f'torch.cuda.is_available(): {torch.cuda.is_available()}')\n",
        "\n",
        "# device\n",
        "device = torch.device(\"cuda:0\" if torch.cuda.is_available() else \"cpu\")\n",
        "print(f'device: {device}')\n",
        "torch.cuda.empty_cache()"
      ]
    },
    {
      "cell_type": "markdown",
      "metadata": {
        "id": "1mLsGXKEKVJy"
      },
      "source": [
        "**Load the Dataset**"
      ]
    },
    {
      "cell_type": "code",
      "execution_count": 5,
      "metadata": {
        "id": "YuDq65E6UMbl"
      },
      "outputs": [],
      "source": [
        "train_set = torch.load('dataset/dataset_variables/train_set.pt')\n",
        "validation_set = torch.load('dataset/dataset_variables/validation_set.pt')\n",
        "test_set = torch.load('dataset/dataset_variables/test_set.pt')"
      ]
    },
    {
      "cell_type": "markdown",
      "metadata": {},
      "source": [
        "**Pre-processing of the data**"
      ]
    },
    {
      "cell_type": "code",
      "execution_count": 6,
      "metadata": {},
      "outputs": [],
      "source": [
        "# Resize images from 128x128 to 224x224 transformation\n",
        "preprocess = transforms.Compose([\n",
        "    transforms.Resize((224, 224)), \n",
        "    transforms.ToTensor()\n",
        "])\n",
        "\n",
        "# Apply transformations to the datasets\n",
        "train_set = utils_funcs.apply_transformations(train_set, preprocess)\n",
        "validation_set = utils_funcs.apply_transformations(validation_set, preprocess)\n",
        "test_set = utils_funcs.apply_transformations(test_set, preprocess)"
      ]
    },
    {
      "cell_type": "markdown",
      "metadata": {
        "id": "eCYl_TtCNRRy"
      },
      "source": [
        "**Model Definition and Initialization**"
      ]
    },
    {
      "cell_type": "code",
      "execution_count": 7,
      "metadata": {
        "id": "h0rr3nWPNoN8"
      },
      "outputs": [
        {
          "name": "stderr",
          "output_type": "stream",
          "text": [
            "Using cache found in C:\\Users\\97252/.cache\\torch\\hub\\facebookresearch_dinov2_main\n"
          ]
        }
      ],
      "source": [
        "# Initialize in,out channels, width and height sizes\n",
        "input_channels = 3\n",
        "width = 224\n",
        "height = 224\n",
        "output_channels = 4\n",
        "\n",
        "dino_v2_model = torch.hub.load('facebookresearch/dinov2', 'dinov2_vits14')\n",
        "\n",
        "# freeze dino_v2 layers\n",
        "for param in dino_v2_model.parameters():\n",
        "    param.requires_grad = False\n",
        "    \n",
        "\n",
        "# make the model\n",
        "model = def_models.DINO_v2_FT(dino_backbone=dino_v2_model, output_channels=output_channels).to(device)"
      ]
    },
    {
      "cell_type": "markdown",
      "metadata": {},
      "source": [
        "**Model Statistics**"
      ]
    },
    {
      "cell_type": "code",
      "execution_count": 8,
      "metadata": {},
      "outputs": [
        {
          "name": "stdout",
          "output_type": "stream",
          "text": [
            "model  DINO_v2_FT  statistics\n",
            "----------------------------------------------------------------\n",
            "        Layer (type)               Output Shape         Param #\n",
            "================================================================\n",
            "            Conv2d-1          [-1, 384, 16, 16]         226,176\n",
            "          Identity-2             [-1, 256, 384]               0\n",
            "        PatchEmbed-3             [-1, 256, 384]               0\n",
            "         LayerNorm-4             [-1, 257, 384]             768\n",
            "            Linear-5            [-1, 257, 1152]         443,520\n",
            "            Linear-6             [-1, 257, 384]         147,840\n",
            "           Dropout-7             [-1, 257, 384]               0\n",
            "   MemEffAttention-8             [-1, 257, 384]               0\n",
            "        LayerScale-9             [-1, 257, 384]               0\n",
            "        LayerNorm-10             [-1, 257, 384]             768\n",
            "           Linear-11            [-1, 257, 1536]         591,360\n",
            "             GELU-12            [-1, 257, 1536]               0\n",
            "          Dropout-13            [-1, 257, 1536]               0\n",
            "           Linear-14             [-1, 257, 384]         590,208\n",
            "          Dropout-15             [-1, 257, 384]               0\n",
            "              Mlp-16             [-1, 257, 384]               0\n",
            "       LayerScale-17             [-1, 257, 384]               0\n",
            "NestedTensorBlock-18             [-1, 257, 384]               0\n",
            "        LayerNorm-19             [-1, 257, 384]             768\n",
            "           Linear-20            [-1, 257, 1152]         443,520\n",
            "           Linear-21             [-1, 257, 384]         147,840\n",
            "          Dropout-22             [-1, 257, 384]               0\n",
            "  MemEffAttention-23             [-1, 257, 384]               0\n",
            "       LayerScale-24             [-1, 257, 384]               0\n",
            "        LayerNorm-25             [-1, 257, 384]             768\n",
            "           Linear-26            [-1, 257, 1536]         591,360\n",
            "             GELU-27            [-1, 257, 1536]               0\n",
            "          Dropout-28            [-1, 257, 1536]               0\n",
            "           Linear-29             [-1, 257, 384]         590,208\n",
            "          Dropout-30             [-1, 257, 384]               0\n",
            "              Mlp-31             [-1, 257, 384]               0\n",
            "       LayerScale-32             [-1, 257, 384]               0\n",
            "NestedTensorBlock-33             [-1, 257, 384]               0\n",
            "        LayerNorm-34             [-1, 257, 384]             768\n",
            "           Linear-35            [-1, 257, 1152]         443,520\n",
            "           Linear-36             [-1, 257, 384]         147,840\n",
            "          Dropout-37             [-1, 257, 384]               0\n",
            "  MemEffAttention-38             [-1, 257, 384]               0\n",
            "       LayerScale-39             [-1, 257, 384]               0\n",
            "        LayerNorm-40             [-1, 257, 384]             768\n",
            "           Linear-41            [-1, 257, 1536]         591,360\n",
            "             GELU-42            [-1, 257, 1536]               0\n",
            "          Dropout-43            [-1, 257, 1536]               0\n",
            "           Linear-44             [-1, 257, 384]         590,208\n",
            "          Dropout-45             [-1, 257, 384]               0\n",
            "              Mlp-46             [-1, 257, 384]               0\n",
            "       LayerScale-47             [-1, 257, 384]               0\n",
            "NestedTensorBlock-48             [-1, 257, 384]               0\n",
            "        LayerNorm-49             [-1, 257, 384]             768\n",
            "           Linear-50            [-1, 257, 1152]         443,520\n",
            "           Linear-51             [-1, 257, 384]         147,840\n",
            "          Dropout-52             [-1, 257, 384]               0\n",
            "  MemEffAttention-53             [-1, 257, 384]               0\n",
            "       LayerScale-54             [-1, 257, 384]               0\n",
            "        LayerNorm-55             [-1, 257, 384]             768\n",
            "           Linear-56            [-1, 257, 1536]         591,360\n",
            "             GELU-57            [-1, 257, 1536]               0\n",
            "          Dropout-58            [-1, 257, 1536]               0\n",
            "           Linear-59             [-1, 257, 384]         590,208\n",
            "          Dropout-60             [-1, 257, 384]               0\n",
            "              Mlp-61             [-1, 257, 384]               0\n",
            "       LayerScale-62             [-1, 257, 384]               0\n",
            "NestedTensorBlock-63             [-1, 257, 384]               0\n",
            "        LayerNorm-64             [-1, 257, 384]             768\n",
            "           Linear-65            [-1, 257, 1152]         443,520\n",
            "           Linear-66             [-1, 257, 384]         147,840\n",
            "          Dropout-67             [-1, 257, 384]               0\n",
            "  MemEffAttention-68             [-1, 257, 384]               0\n",
            "       LayerScale-69             [-1, 257, 384]               0\n",
            "        LayerNorm-70             [-1, 257, 384]             768\n",
            "           Linear-71            [-1, 257, 1536]         591,360\n",
            "             GELU-72            [-1, 257, 1536]               0\n",
            "          Dropout-73            [-1, 257, 1536]               0\n",
            "           Linear-74             [-1, 257, 384]         590,208\n",
            "          Dropout-75             [-1, 257, 384]               0\n",
            "              Mlp-76             [-1, 257, 384]               0\n",
            "       LayerScale-77             [-1, 257, 384]               0\n",
            "NestedTensorBlock-78             [-1, 257, 384]               0\n",
            "        LayerNorm-79             [-1, 257, 384]             768\n",
            "           Linear-80            [-1, 257, 1152]         443,520\n",
            "           Linear-81             [-1, 257, 384]         147,840\n",
            "          Dropout-82             [-1, 257, 384]               0\n",
            "  MemEffAttention-83             [-1, 257, 384]               0\n",
            "       LayerScale-84             [-1, 257, 384]               0\n",
            "        LayerNorm-85             [-1, 257, 384]             768\n",
            "           Linear-86            [-1, 257, 1536]         591,360\n",
            "             GELU-87            [-1, 257, 1536]               0\n",
            "          Dropout-88            [-1, 257, 1536]               0\n",
            "           Linear-89             [-1, 257, 384]         590,208\n",
            "          Dropout-90             [-1, 257, 384]               0\n",
            "              Mlp-91             [-1, 257, 384]               0\n",
            "       LayerScale-92             [-1, 257, 384]               0\n",
            "NestedTensorBlock-93             [-1, 257, 384]               0\n",
            "        LayerNorm-94             [-1, 257, 384]             768\n",
            "           Linear-95            [-1, 257, 1152]         443,520\n",
            "           Linear-96             [-1, 257, 384]         147,840\n",
            "          Dropout-97             [-1, 257, 384]               0\n",
            "  MemEffAttention-98             [-1, 257, 384]               0\n",
            "       LayerScale-99             [-1, 257, 384]               0\n",
            "       LayerNorm-100             [-1, 257, 384]             768\n",
            "          Linear-101            [-1, 257, 1536]         591,360\n",
            "            GELU-102            [-1, 257, 1536]               0\n",
            "         Dropout-103            [-1, 257, 1536]               0\n",
            "          Linear-104             [-1, 257, 384]         590,208\n",
            "         Dropout-105             [-1, 257, 384]               0\n",
            "             Mlp-106             [-1, 257, 384]               0\n",
            "      LayerScale-107             [-1, 257, 384]               0\n",
            "NestedTensorBlock-108             [-1, 257, 384]               0\n",
            "       LayerNorm-109             [-1, 257, 384]             768\n",
            "          Linear-110            [-1, 257, 1152]         443,520\n",
            "          Linear-111             [-1, 257, 384]         147,840\n",
            "         Dropout-112             [-1, 257, 384]               0\n",
            " MemEffAttention-113             [-1, 257, 384]               0\n",
            "      LayerScale-114             [-1, 257, 384]               0\n",
            "       LayerNorm-115             [-1, 257, 384]             768\n",
            "          Linear-116            [-1, 257, 1536]         591,360\n",
            "            GELU-117            [-1, 257, 1536]               0\n",
            "         Dropout-118            [-1, 257, 1536]               0\n",
            "          Linear-119             [-1, 257, 384]         590,208\n",
            "         Dropout-120             [-1, 257, 384]               0\n",
            "             Mlp-121             [-1, 257, 384]               0\n",
            "      LayerScale-122             [-1, 257, 384]               0\n",
            "NestedTensorBlock-123             [-1, 257, 384]               0\n",
            "       LayerNorm-124             [-1, 257, 384]             768\n",
            "          Linear-125            [-1, 257, 1152]         443,520\n",
            "          Linear-126             [-1, 257, 384]         147,840\n",
            "         Dropout-127             [-1, 257, 384]               0\n",
            " MemEffAttention-128             [-1, 257, 384]               0\n",
            "      LayerScale-129             [-1, 257, 384]               0\n",
            "       LayerNorm-130             [-1, 257, 384]             768\n",
            "          Linear-131            [-1, 257, 1536]         591,360\n",
            "            GELU-132            [-1, 257, 1536]               0\n",
            "         Dropout-133            [-1, 257, 1536]               0\n",
            "          Linear-134             [-1, 257, 384]         590,208\n",
            "         Dropout-135             [-1, 257, 384]               0\n",
            "             Mlp-136             [-1, 257, 384]               0\n",
            "      LayerScale-137             [-1, 257, 384]               0\n",
            "NestedTensorBlock-138             [-1, 257, 384]               0\n",
            "       LayerNorm-139             [-1, 257, 384]             768\n",
            "          Linear-140            [-1, 257, 1152]         443,520\n",
            "          Linear-141             [-1, 257, 384]         147,840\n",
            "         Dropout-142             [-1, 257, 384]               0\n",
            " MemEffAttention-143             [-1, 257, 384]               0\n",
            "      LayerScale-144             [-1, 257, 384]               0\n",
            "       LayerNorm-145             [-1, 257, 384]             768\n",
            "          Linear-146            [-1, 257, 1536]         591,360\n",
            "            GELU-147            [-1, 257, 1536]               0\n",
            "         Dropout-148            [-1, 257, 1536]               0\n",
            "          Linear-149             [-1, 257, 384]         590,208\n",
            "         Dropout-150             [-1, 257, 384]               0\n",
            "             Mlp-151             [-1, 257, 384]               0\n",
            "      LayerScale-152             [-1, 257, 384]               0\n",
            "NestedTensorBlock-153             [-1, 257, 384]               0\n",
            "       LayerNorm-154             [-1, 257, 384]             768\n",
            "          Linear-155            [-1, 257, 1152]         443,520\n",
            "          Linear-156             [-1, 257, 384]         147,840\n",
            "         Dropout-157             [-1, 257, 384]               0\n",
            " MemEffAttention-158             [-1, 257, 384]               0\n",
            "      LayerScale-159             [-1, 257, 384]               0\n",
            "       LayerNorm-160             [-1, 257, 384]             768\n",
            "          Linear-161            [-1, 257, 1536]         591,360\n",
            "            GELU-162            [-1, 257, 1536]               0\n",
            "         Dropout-163            [-1, 257, 1536]               0\n",
            "          Linear-164             [-1, 257, 384]         590,208\n",
            "         Dropout-165             [-1, 257, 384]               0\n",
            "             Mlp-166             [-1, 257, 384]               0\n",
            "      LayerScale-167             [-1, 257, 384]               0\n",
            "NestedTensorBlock-168             [-1, 257, 384]               0\n",
            "       LayerNorm-169             [-1, 257, 384]             768\n",
            "          Linear-170            [-1, 257, 1152]         443,520\n",
            "          Linear-171             [-1, 257, 384]         147,840\n",
            "         Dropout-172             [-1, 257, 384]               0\n",
            " MemEffAttention-173             [-1, 257, 384]               0\n",
            "      LayerScale-174             [-1, 257, 384]               0\n",
            "       LayerNorm-175             [-1, 257, 384]             768\n",
            "          Linear-176            [-1, 257, 1536]         591,360\n",
            "            GELU-177            [-1, 257, 1536]               0\n",
            "         Dropout-178            [-1, 257, 1536]               0\n",
            "          Linear-179             [-1, 257, 384]         590,208\n",
            "         Dropout-180             [-1, 257, 384]               0\n",
            "             Mlp-181             [-1, 257, 384]               0\n",
            "      LayerScale-182             [-1, 257, 384]               0\n",
            "NestedTensorBlock-183             [-1, 257, 384]               0\n",
            "       LayerNorm-184             [-1, 257, 384]             768\n",
            "        Identity-185                  [-1, 384]               0\n",
            "DinoVisionTransformer-186                  [-1, 384]               0\n",
            "          Linear-187                  [-1, 512]         197,120\n",
            "     BatchNorm1d-188                  [-1, 512]           1,024\n",
            "            GELU-189                  [-1, 512]               0\n",
            "         Dropout-190                  [-1, 512]               0\n",
            "          Linear-191                  [-1, 256]         131,328\n",
            "     BatchNorm1d-192                  [-1, 256]             512\n",
            "            GELU-193                  [-1, 256]               0\n",
            "         Dropout-194                  [-1, 256]               0\n",
            "          Linear-195                  [-1, 128]          32,896\n",
            "     BatchNorm1d-196                  [-1, 128]             256\n",
            "            GELU-197                  [-1, 128]               0\n",
            "         Dropout-198                  [-1, 128]               0\n",
            "          Linear-199                   [-1, 64]           8,256\n",
            "     BatchNorm1d-200                   [-1, 64]             128\n",
            "            GELU-201                   [-1, 64]               0\n",
            "         Dropout-202                   [-1, 64]               0\n",
            "          Linear-203                    [-1, 4]             260\n",
            "================================================================\n",
            "Total params: 21,892,292\n",
            "Trainable params: 371,780\n",
            "Non-trainable params: 21,520,512\n",
            "----------------------------------------------------------------\n",
            "Input size (MB): 0.57\n",
            "Forward/backward pass size (MB): 237.95\n",
            "Params size (MB): 83.51\n",
            "Estimated Total Size (MB): 322.04\n",
            "----------------------------------------------------------------\n",
            "Total parameters: 22428356\n",
            "Trainable parameters: 371780\n"
          ]
        }
      ],
      "source": [
        "# model statistics\n",
        "print(\"model \", type(model).__name__,\" statistics\")\n",
        "summary(model, (input_channels, height, width))\n",
        "\n",
        "total_params = sum(p.numel() for p in model.parameters())\n",
        "trainable_params = sum(p.numel() for p in model.parameters() if p.requires_grad)\n",
        "\n",
        "print(f\"Total parameters: {total_params}\")\n",
        "print(f\"Trainable parameters: {trainable_params}\")"
      ]
    },
    {
      "cell_type": "markdown",
      "metadata": {},
      "source": [
        "**Optuna**"
      ]
    },
    {
      "cell_type": "code",
      "execution_count": 9,
      "metadata": {},
      "outputs": [
        {
          "name": "stderr",
          "output_type": "stream",
          "text": [
            "[I 2024-09-29 22:28:43,966] A new study created in memory with name: mri-alzhimer-classification\n"
          ]
        },
        {
          "name": "stdout",
          "output_type": "stream",
          "text": [
            "Optuna is done on device: cuda:0\n"
          ]
        },
        {
          "name": "stderr",
          "output_type": "stream",
          "text": [
            "Using cache found in C:\\Users\\97252/.cache\\torch\\hub\\facebookresearch_dinov2_main\n",
            "100%|██████████| 10/10 [13:09<00:00, 78.91s/it]\n",
            "[I 2024-09-29 22:42:11,814] Trial 0 finished with value: 0.7953125 and parameters: {'lr': 0.003364709702214566, 'optimizer': 'RMSprop', 'batch_size': 256}. Best is trial 0 with value: 0.7953125.\n",
            "Using cache found in C:\\Users\\97252/.cache\\torch\\hub\\facebookresearch_dinov2_main\n",
            "100%|██████████| 10/10 [15:55<00:00, 95.54s/it] \n",
            "[I 2024-09-29 22:58:24,599] Trial 1 finished with value: 0.8546875 and parameters: {'lr': 0.08340427009166704, 'optimizer': 'SGD', 'batch_size': 128}. Best is trial 1 with value: 0.8546875.\n",
            "Using cache found in C:\\Users\\97252/.cache\\torch\\hub\\facebookresearch_dinov2_main\n",
            "100%|██████████| 10/10 [20:55<00:00, 125.52s/it]\n",
            "[I 2024-09-29 23:19:34,555] Trial 2 finished with value: 0.8625 and parameters: {'lr': 0.01969347554219696, 'optimizer': 'Adam', 'batch_size': 128}. Best is trial 2 with value: 0.8625.\n",
            "Using cache found in C:\\Users\\97252/.cache\\torch\\hub\\facebookresearch_dinov2_main\n",
            "100%|██████████| 10/10 [08:57<00:00, 53.77s/it]\n",
            "[I 2024-09-29 23:28:45,814] Trial 3 finished with value: 0.7270833333333333 and parameters: {'lr': 0.018400606100817462, 'optimizer': 'SGD', 'batch_size': 32}. Best is trial 2 with value: 0.8625.\n",
            "Using cache found in C:\\Users\\97252/.cache\\torch\\hub\\facebookresearch_dinov2_main\n",
            "100%|██████████| 10/10 [08:33<00:00, 51.40s/it]\n",
            "[I 2024-09-29 23:37:33,774] Trial 4 finished with value: 0.5 and parameters: {'lr': 5.890676171928717e-06, 'optimizer': 'RMSprop', 'batch_size': 32}. Best is trial 2 with value: 0.8625.\n",
            "Using cache found in C:\\Users\\97252/.cache\\torch\\hub\\facebookresearch_dinov2_main\n",
            "  0%|          | 0/10 [01:44<?, ?it/s]\n",
            "[I 2024-09-29 23:39:31,343] Trial 5 pruned. \n",
            "Using cache found in C:\\Users\\97252/.cache\\torch\\hub\\facebookresearch_dinov2_main\n",
            "  0%|          | 0/10 [01:17<?, ?it/s]\n",
            "[I 2024-09-29 23:41:04,273] Trial 6 pruned. \n",
            "Using cache found in C:\\Users\\97252/.cache\\torch\\hub\\facebookresearch_dinov2_main\n",
            "  0%|          | 0/10 [01:15<?, ?it/s]\n",
            "[I 2024-09-29 23:42:33,393] Trial 7 pruned. \n",
            "Using cache found in C:\\Users\\97252/.cache\\torch\\hub\\facebookresearch_dinov2_main\n",
            "  0%|          | 0/10 [01:42<?, ?it/s]\n",
            "[I 2024-09-29 23:44:29,753] Trial 8 pruned. \n",
            "Using cache found in C:\\Users\\97252/.cache\\torch\\hub\\facebookresearch_dinov2_main\n",
            "  0%|          | 0/10 [02:01<?, ?it/s]\n",
            "[I 2024-09-29 23:46:45,860] Trial 9 pruned. \n",
            "Using cache found in C:\\Users\\97252/.cache\\torch\\hub\\facebookresearch_dinov2_main\n",
            " 40%|████      | 4/10 [07:48<11:43, 117.19s/it]\n",
            "[I 2024-09-29 23:54:48,707] Trial 10 pruned. \n",
            "Using cache found in C:\\Users\\97252/.cache\\torch\\hub\\facebookresearch_dinov2_main\n",
            "100%|██████████| 10/10 [19:39<00:00, 117.93s/it]\n",
            "[I 2024-09-30 00:14:42,261] Trial 11 finished with value: 0.878125 and parameters: {'lr': 0.08614041554167083, 'optimizer': 'SGD', 'batch_size': 128}. Best is trial 11 with value: 0.878125.\n",
            "Using cache found in C:\\Users\\97252/.cache\\torch\\hub\\facebookresearch_dinov2_main\n",
            "100%|██████████| 10/10 [20:08<00:00, 120.87s/it]\n",
            "[I 2024-09-30 00:35:05,670] Trial 12 finished with value: 0.8578125 and parameters: {'lr': 0.0811229472494262, 'optimizer': 'SGD', 'batch_size': 128}. Best is trial 11 with value: 0.878125.\n",
            "Using cache found in C:\\Users\\97252/.cache\\torch\\hub\\facebookresearch_dinov2_main\n",
            " 50%|█████     | 5/10 [12:02<12:02, 144.49s/it]\n",
            "[I 2024-09-30 00:47:22,023] Trial 13 pruned. \n",
            "Using cache found in C:\\Users\\97252/.cache\\torch\\hub\\facebookresearch_dinov2_main\n",
            "100%|██████████| 10/10 [20:11<00:00, 121.17s/it]\n",
            "[I 2024-09-30 01:07:48,765] Trial 14 finished with value: 0.8578125 and parameters: {'lr': 0.0005794589868597246, 'optimizer': 'RMSprop', 'batch_size': 128}. Best is trial 11 with value: 0.878125.\n",
            "Using cache found in C:\\Users\\97252/.cache\\torch\\hub\\facebookresearch_dinov2_main\n",
            "  0%|          | 0/10 [01:59<?, ?it/s]\n",
            "[I 2024-09-30 01:10:01,846] Trial 15 pruned. \n",
            "Using cache found in C:\\Users\\97252/.cache\\torch\\hub\\facebookresearch_dinov2_main\n",
            "  0%|          | 0/10 [01:53<?, ?it/s]\n",
            "[I 2024-09-30 01:12:09,566] Trial 16 pruned. \n",
            "Using cache found in C:\\Users\\97252/.cache\\torch\\hub\\facebookresearch_dinov2_main\n",
            " 30%|███       | 3/10 [06:52<16:02, 137.47s/it]\n",
            "[I 2024-09-30 01:19:16,336] Trial 17 pruned. \n",
            "Using cache found in C:\\Users\\97252/.cache\\torch\\hub\\facebookresearch_dinov2_main\n",
            "  0%|          | 0/10 [02:44<?, ?it/s]\n",
            "[I 2024-09-30 01:22:16,912] Trial 18 pruned. \n",
            "Using cache found in C:\\Users\\97252/.cache\\torch\\hub\\facebookresearch_dinov2_main\n",
            "  0%|          | 0/10 [02:00<?, ?it/s]\n",
            "[I 2024-09-30 01:24:31,692] Trial 19 pruned. \n",
            "Using cache found in C:\\Users\\97252/.cache\\torch\\hub\\facebookresearch_dinov2_main\n",
            "  0%|          | 0/10 [01:39<?, ?it/s]\n",
            "[I 2024-09-30 01:26:25,303] Trial 20 pruned. \n",
            "Using cache found in C:\\Users\\97252/.cache\\torch\\hub\\facebookresearch_dinov2_main\n",
            " 70%|███████   | 7/10 [16:31<07:04, 141.59s/it]\n",
            "[I 2024-09-30 01:43:10,814] Trial 21 pruned. \n",
            "Using cache found in C:\\Users\\97252/.cache\\torch\\hub\\facebookresearch_dinov2_main\n",
            " 40%|████      | 4/10 [09:51<14:46, 147.78s/it]\n",
            "[I 2024-09-30 01:53:16,215] Trial 22 pruned. \n",
            "Using cache found in C:\\Users\\97252/.cache\\torch\\hub\\facebookresearch_dinov2_main\n",
            " 40%|████      | 4/10 [09:51<14:47, 147.98s/it]\n",
            "[I 2024-09-30 02:03:22,559] Trial 23 pruned. \n",
            "Using cache found in C:\\Users\\97252/.cache\\torch\\hub\\facebookresearch_dinov2_main\n",
            "  0%|          | 0/10 [02:20<?, ?it/s]\n",
            "[I 2024-09-30 02:05:57,638] Trial 24 pruned. \n",
            "Using cache found in C:\\Users\\97252/.cache\\torch\\hub\\facebookresearch_dinov2_main\n",
            "100%|██████████| 10/10 [20:40<00:00, 124.00s/it]\n",
            "[I 2024-09-30 02:26:52,234] Trial 25 finished with value: 0.8921875 and parameters: {'lr': 0.0003168846480451579, 'optimizer': 'Adam', 'batch_size': 128}. Best is trial 25 with value: 0.8921875.\n",
            "Using cache found in C:\\Users\\97252/.cache\\torch\\hub\\facebookresearch_dinov2_main\n",
            "  0%|          | 0/10 [02:10<?, ?it/s]\n",
            "[I 2024-09-30 02:29:18,248] Trial 26 pruned. \n",
            "Using cache found in C:\\Users\\97252/.cache\\torch\\hub\\facebookresearch_dinov2_main\n",
            " 20%|██        | 2/10 [04:53<19:32, 146.52s/it]\n",
            "[I 2024-09-30 02:34:26,205] Trial 27 pruned. \n",
            "Using cache found in C:\\Users\\97252/.cache\\torch\\hub\\facebookresearch_dinov2_main\n",
            "  0%|          | 0/10 [01:05<?, ?it/s]\n",
            "[I 2024-09-30 02:35:45,707] Trial 28 pruned. \n",
            "Using cache found in C:\\Users\\97252/.cache\\torch\\hub\\facebookresearch_dinov2_main\n",
            " 10%|█         | 1/10 [03:04<27:41, 184.61s/it]\n",
            "[I 2024-09-30 02:39:04,012] Trial 29 pruned. \n"
          ]
        },
        {
          "name": "stdout",
          "output_type": "stream",
          "text": [
            "Study statistics: \n",
            "  Number of finished trials:  30\n",
            "  Number of pruned trials:  21\n",
            "  Number of complete trials:  9\n",
            "Best trial:\n",
            "  Value:  0.8921875\n",
            "  Params: \n",
            "    lr: 0.0003168846480451579\n",
            "    optimizer: Adam\n",
            "    batch_size: 128\n",
            "Best parameters saved to checkpoints/op_tuna_params\\DINO_v2_FT\\DINO_v2_FT_0.8922.json\n",
            "{'lr': 0.0003168846480451579, 'optimizer': 'Adam', 'batch_size': 128}\n"
          ]
        }
      ],
      "source": [
        "params = optuna_search.optuna_param_search(model_name=\"DINO_v2_FT\", loss_criterion=nn.CrossEntropyLoss(), num_epochs_for_experiments=10, device=device,transfer_learning=True)\n",
        "print(params)"
      ]
    },
    {
      "cell_type": "markdown",
      "metadata": {
        "id": "EEgWWGpPV8y-"
      },
      "source": [
        "**Hyper-Parameters**"
      ]
    },
    {
      "cell_type": "code",
      "execution_count": 10,
      "metadata": {
        "id": "zZJ3eTYHNxv3"
      },
      "outputs": [],
      "source": [
        "# Hyper-parameters\n",
        "batch_size = params['batch_size']\n",
        "learning_rate = params['lr']\n",
        "optimizer_name = params['optimizer']\n",
        "num_epochs = 50\n",
        "\n",
        "# loss criterion\n",
        "criterion = nn.CrossEntropyLoss()\n",
        "\n",
        "# optimizer\n",
        "##optimizer = getattr(torch.optim, optimizer_name)(filter(lambda p: p.requires_grad, model.parameters()), lr=learning_rate)\n",
        "optimizer = getattr(torch.optim, optimizer_name)(model.fc.parameters(), lr=learning_rate)\n",
        "\n",
        "# Combine train_set and val_set into one dataset and\n",
        "combined_train_val_set = ConcatDataset([train_set, validation_set])\n",
        "\n",
        "# Loading the data and shuffling it\n",
        "trainloader = torch.utils.data.DataLoader(combined_train_val_set, batch_size=batch_size, shuffle=True, num_workers=6,pin_memory=True)\n",
        "testloader = torch.utils.data.DataLoader(test_set, batch_size=batch_size, shuffle=False, num_workers=6,pin_memory=True)\n"
      ]
    },
    {
      "cell_type": "markdown",
      "metadata": {
        "id": "0NMxcWt8WBVl"
      },
      "source": [
        "**Train Model**"
      ]
    },
    {
      "cell_type": "code",
      "execution_count": 11,
      "metadata": {
        "colab": {
          "base_uri": "https://localhost:8080/"
        },
        "id": "RFzmKpCGODd8",
        "outputId": "54f07c21-de3e-4710-ae1b-f1cc12031b2a"
      },
      "outputs": [
        {
          "name": "stdout",
          "output_type": "stream",
          "text": [
            "Training model: DINO_v2_FT\n",
            "Epoch: 1 | Loss: 1.2004 | Training accuracy: 69.883% | Epoch Time: 280.63 secs\n",
            "Epoch: 2 | Loss: 0.8915 | Training accuracy: 79.805% | Epoch Time: 238.62 secs\n",
            "Epoch: 3 | Loss: 0.6835 | Training accuracy: 88.945% | Epoch Time: 277.74 secs\n",
            "Epoch: 4 | Loss: 0.5245 | Training accuracy: 92.754% | Epoch Time: 196.91 secs\n",
            "Epoch: 5 | Loss: 0.3800 | Training accuracy: 96.523% | Epoch Time: 233.98 secs\n",
            "==> Saving model ...\n",
            "saved as ./checkpoints/DINO_v2_FT_025932_30092024.pth\n",
            "Epoch: 6 | Loss: 0.2850 | Training accuracy: 98.613% | Epoch Time: 277.94 secs\n",
            "Epoch: 7 | Loss: 0.2091 | Training accuracy: 98.457% | Epoch Time: 237.30 secs\n",
            "Epoch: 8 | Loss: 0.1605 | Training accuracy: 99.355% | Epoch Time: 219.55 secs\n",
            "Epoch: 9 | Loss: 0.1253 | Training accuracy: 99.629% | Epoch Time: 261.91 secs\n",
            "Epoch: 10 | Loss: 0.0994 | Training accuracy: 99.922% | Epoch Time: 220.75 secs\n",
            "==> Saving model ...\n",
            "saved as ./checkpoints/DINO_v2_FT_031950_30092024.pth\n",
            "Epoch: 11 | Loss: 0.0876 | Training accuracy: 99.902% | Epoch Time: 214.19 secs\n",
            "Epoch: 12 | Loss: 0.0749 | Training accuracy: 99.961% | Epoch Time: 248.14 secs\n",
            "Epoch: 13 | Loss: 0.0683 | Training accuracy: 99.883% | Epoch Time: 235.30 secs\n",
            "Epoch: 14 | Loss: 0.0573 | Training accuracy: 99.961% | Epoch Time: 246.62 secs\n",
            "Epoch: 15 | Loss: 0.0515 | Training accuracy: 99.961% | Epoch Time: 230.15 secs\n",
            "==> Saving model ...\n",
            "saved as ./checkpoints/DINO_v2_FT_033924_30092024.pth\n",
            "Epoch: 16 | Loss: 0.0480 | Training accuracy: 99.980% | Epoch Time: 240.31 secs\n",
            "Epoch: 17 | Loss: 0.0495 | Training accuracy: 99.902% | Epoch Time: 205.80 secs\n",
            "Epoch: 18 | Loss: 0.0366 | Training accuracy: 99.961% | Epoch Time: 339.32 secs\n",
            "Epoch: 19 | Loss: 0.0341 | Training accuracy: 99.961% | Epoch Time: 287.43 secs\n",
            "Epoch: 20 | Loss: 0.0271 | Training accuracy: 99.980% | Epoch Time: 229.53 secs\n",
            "==> Saving model ...\n",
            "saved as ./checkpoints/DINO_v2_FT_040107_30092024.pth\n",
            "Epoch: 21 | Loss: 0.0270 | Training accuracy: 100.000% | Epoch Time: 234.56 secs\n",
            "Epoch: 22 | Loss: 0.0320 | Training accuracy: 99.980% | Epoch Time: 244.54 secs\n",
            "Epoch: 23 | Loss: 0.0310 | Training accuracy: 99.961% | Epoch Time: 237.99 secs\n",
            "Epoch: 24 | Loss: 0.0274 | Training accuracy: 100.000% | Epoch Time: 248.52 secs\n",
            "Epoch: 25 | Loss: 0.0213 | Training accuracy: 100.000% | Epoch Time: 229.28 secs\n",
            "==> Saving model ...\n",
            "saved as ./checkpoints/DINO_v2_FT_042102_30092024.pth\n",
            "Epoch: 26 | Loss: 0.0267 | Training accuracy: 99.961% | Epoch Time: 244.25 secs\n",
            "Epoch: 27 | Loss: 0.0223 | Training accuracy: 99.980% | Epoch Time: 233.54 secs\n",
            "Epoch: 28 | Loss: 0.0222 | Training accuracy: 99.961% | Epoch Time: 209.77 secs\n",
            "Epoch: 29 | Loss: 0.0304 | Training accuracy: 99.863% | Epoch Time: 259.55 secs\n",
            "Epoch: 30 | Loss: 0.0337 | Training accuracy: 99.551% | Epoch Time: 194.50 secs\n",
            "==> Saving model ...\n",
            "saved as ./checkpoints/DINO_v2_FT_044004_30092024.pth\n",
            "Epoch: 31 | Loss: 0.0283 | Training accuracy: 99.844% | Epoch Time: 245.78 secs\n",
            "Epoch: 32 | Loss: 0.0247 | Training accuracy: 99.961% | Epoch Time: 196.13 secs\n",
            "Epoch: 33 | Loss: 0.0248 | Training accuracy: 99.863% | Epoch Time: 241.01 secs\n",
            "Epoch: 34 | Loss: 0.0296 | Training accuracy: 99.961% | Epoch Time: 219.29 secs\n",
            "Epoch: 35 | Loss: 0.0191 | Training accuracy: 99.961% | Epoch Time: 249.72 secs\n",
            "==> Saving model ...\n",
            "saved as ./checkpoints/DINO_v2_FT_045916_30092024.pth\n",
            "Epoch: 36 | Loss: 0.0187 | Training accuracy: 99.922% | Epoch Time: 211.97 secs\n",
            "Epoch: 37 | Loss: 0.0252 | Training accuracy: 99.785% | Epoch Time: 230.75 secs\n",
            "Epoch: 38 | Loss: 0.0194 | Training accuracy: 99.961% | Epoch Time: 221.64 secs\n",
            "Epoch: 39 | Loss: 0.0168 | Training accuracy: 99.883% | Epoch Time: 260.46 secs\n",
            "Epoch: 40 | Loss: 0.0112 | Training accuracy: 99.980% | Epoch Time: 225.32 secs\n",
            "==> Saving model ...\n",
            "saved as ./checkpoints/DINO_v2_FT_051826_30092024.pth\n",
            "Epoch: 41 | Loss: 0.0156 | Training accuracy: 100.000% | Epoch Time: 264.79 secs\n",
            "Epoch: 42 | Loss: 0.0119 | Training accuracy: 99.980% | Epoch Time: 182.03 secs\n",
            "Epoch: 43 | Loss: 0.0171 | Training accuracy: 100.000% | Epoch Time: 286.06 secs\n",
            "Epoch: 44 | Loss: 0.0121 | Training accuracy: 100.000% | Epoch Time: 231.97 secs\n",
            "Epoch: 45 | Loss: 0.0127 | Training accuracy: 99.824% | Epoch Time: 221.92 secs\n",
            "==> Saving model ...\n",
            "saved as ./checkpoints/DINO_v2_FT_053813_30092024.pth\n",
            "Epoch: 46 | Loss: 0.0154 | Training accuracy: 99.941% | Epoch Time: 234.59 secs\n",
            "Epoch: 47 | Loss: 0.0133 | Training accuracy: 99.961% | Epoch Time: 255.22 secs\n",
            "Epoch: 48 | Loss: 0.0143 | Training accuracy: 99.961% | Epoch Time: 210.65 secs\n",
            "Epoch: 49 | Loss: 0.0128 | Training accuracy: 99.961% | Epoch Time: 242.32 secs\n",
            "Epoch: 50 | Loss: 0.0102 | Training accuracy: 99.961% | Epoch Time: 219.64 secs\n",
            "==> Saving model ...\n",
            "saved as ./checkpoints/DINO_v2_FT_055736_30092024.pth\n"
          ]
        }
      ],
      "source": [
        "epoch_losses = utils_funcs.train(model, num_epochs, trainloader, device, criterion, optimizer)"
      ]
    },
    {
      "cell_type": "markdown",
      "metadata": {},
      "source": [
        "**Load fine-tuned parameters**"
      ]
    },
    {
      "cell_type": "code",
      "execution_count": 12,
      "metadata": {},
      "outputs": [],
      "source": [
        "# model_path = './checkpoints/DINO_v2_FT_20240929_163744.pth'\n",
        "# checkpoint = torch.load(model_path,weights_only=True)\n",
        "# last_epoch, last_loss = utils_funcs.load_model(model, optimizer, model_path)\n",
        "# model.load_state_dict(checkpoint['net'])"
      ]
    },
    {
      "cell_type": "markdown",
      "metadata": {
        "id": "EbJ0dBbeVkzF"
      },
      "source": [
        "**Results**"
      ]
    },
    {
      "cell_type": "code",
      "execution_count": 13,
      "metadata": {
        "colab": {
          "base_uri": "https://localhost:8080/",
          "height": 507
        },
        "id": "g7O4VexWVcyQ",
        "outputId": "31a8ce59-8229-46e2-fdbd-8b0233f20aec"
      },
      "outputs": [
        {
          "data": {
            "image/png": "[encoded data removed]",
            "text/plain": [
              "<Figure size 500x500 with 1 Axes>"
            ]
          },
          "metadata": {},
          "output_type": "display_data"
        }
      ],
      "source": [
        "utils_funcs.plot_loss_curve(epoch_losses, num_epochs)"
      ]
    },
    {
      "cell_type": "code",
      "execution_count": 14,
      "metadata": {
        "colab": {
          "base_uri": "https://localhost:8080/"
        },
        "id": "bWniJm-0VgEz",
        "outputId": "ce9017cc-6400-41c3-da40-610bb1516ae9"
      },
      "outputs": [
        {
          "name": "stdout",
          "output_type": "stream",
          "text": [
            "Test accuracy: 92.344%\n"
          ]
        }
      ],
      "source": [
        "test_accuracy = utils_funcs.calculate_accuracy(model, testloader, device)\n",
        "print(\"Test accuracy: {:.3f}%\".format(test_accuracy))"
      ]
    }
  ],
  "metadata": {
    "accelerator": "GPU",
    "colab": {
      "gpuType": "T4",
      "provenance": []
    },
    "kernelspec": {
      "display_name": "Python 3",
      "name": "python3"
    },
    "language_info": {
      "codemirror_mode": {
        "name": "ipython",
        "version": 3
      },
      "file_extension": ".py",
      "mimetype": "text/x-python",
      "name": "python",
      "nbconvert_exporter": "python",
      "pygments_lexer": "ipython3",
      "version": "3.10.14"
    }
  },
  "nbformat": 4,
  "nbformat_minor": 0
}
