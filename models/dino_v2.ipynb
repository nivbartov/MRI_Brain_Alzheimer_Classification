{
  "cells": [
    {
      "cell_type": "markdown",
      "metadata": {
        "id": "CSXDJcczMrB6"
      },
      "source": [
        "# **MRI Brain Alzheimer Classification - Dino V2**"
      ]
    },
    {
      "cell_type": "markdown",
      "metadata": {
        "id": "wS-LcsglIn5e"
      },
      "source": [
        "**Clone Dataset from GitHub**"
      ]
    },
    {
      "cell_type": "code",
      "execution_count": 1,
      "metadata": {},
      "outputs": [
        {
          "name": "stdout",
          "output_type": "stream",
          "text": [
            "c:\\Dor\\TECHNION\\deep_learning\\Project\\MRI_Barin_Alzheimer_Classification\n"
          ]
        }
      ],
      "source": [
        "# Check if the directory exists and clone if it does not\n",
        "# !if [ ! -d \"MRI_Brain_Alzheimer_Classification\" ]; then git clone https://github.com/nivbartov/MRI_Brain_Alzheimer_Classification; fi\n",
        "\n",
        "# Change directory to the cloned repository\n",
        "# %cd MRI_Brain_Alzheimer_Classification\n",
        "%cd .."
      ]
    },
    {
      "cell_type": "markdown",
      "metadata": {
        "id": "mEWgxGwpIvtv"
      },
      "source": [
        "**Import Packages**"
      ]
    },
    {
      "cell_type": "code",
      "execution_count": 2,
      "metadata": {
        "colab": {
          "base_uri": "https://localhost:8080/"
        },
        "id": "v_yU5PXHEX4x",
        "outputId": "d6964a73-4847-43ec-d164-e29b28e9b3a3"
      },
      "outputs": [],
      "source": [
        "# Suppress user and future warnings\n",
        "import warnings\n",
        "warnings.filterwarnings(\"ignore\", category=FutureWarning)\n",
        "warnings.filterwarnings(\"ignore\", category=UserWarning)\n",
        "\n",
        "# imports\n",
        "import sys\n",
        "import os\n",
        "import numpy as np\n",
        "import pandas as pd\n",
        "import torch\n",
        "from torchsummary import summary\n",
        "import torch.nn as nn\n",
        "from torch.utils.data import TensorDataset, DataLoader, Subset, ConcatDataset\n",
        "import torchvision\n",
        "import torchvision.datasets as datasets\n",
        "import torchvision.transforms as transforms\n",
        "from kornia import augmentation as K\n",
        "from kornia.augmentation import AugmentationSequential\n",
        "from torch.optim.lr_scheduler import CosineAnnealingLR, StepLR\n",
        "import matplotlib.pyplot as plt\n",
        "%matplotlib inline\n",
        "from tqdm import tqdm\n",
        "import random\n",
        "import time\n",
        "from datetime import datetime\n",
        "import json\n",
        "\n",
        "\n",
        "# repository imports\n",
        "from models import def_models\n",
        "from utils import utils_funcs\n",
        "from utils import optuna_search\n"
      ]
    },
    {
      "cell_type": "markdown",
      "metadata": {},
      "source": [
        "**Device Definition**"
      ]
    },
    {
      "cell_type": "code",
      "execution_count": 3,
      "metadata": {},
      "outputs": [
        {
          "name": "stdout",
          "output_type": "stream",
          "text": [
            "torch.cuda.is_available(): True\n",
            "device: cuda:0\n"
          ]
        }
      ],
      "source": [
        "# check if there is a CUDA device available \n",
        "print(f'torch.cuda.is_available(): {torch.cuda.is_available()}')\n",
        "\n",
        "# device\n",
        "device = torch.device(\"cuda:0\" if torch.cuda.is_available() else \"cpu\")\n",
        "print(f'device: {device}')\n",
        "torch.cuda.empty_cache()"
      ]
    },
    {
      "cell_type": "markdown",
      "metadata": {
        "id": "1mLsGXKEKVJy"
      },
      "source": [
        "**Load the Dataset**"
      ]
    },
    {
      "cell_type": "code",
      "execution_count": 4,
      "metadata": {
        "id": "YuDq65E6UMbl"
      },
      "outputs": [],
      "source": [
        "train_set = torch.load('dataset/dataset_variables/train_set.pt')\n",
        "validation_set = torch.load('dataset/dataset_variables/validation_set.pt')\n",
        "test_set = torch.load('dataset/dataset_variables/test_set.pt')"
      ]
    },
    {
      "cell_type": "markdown",
      "metadata": {
        "id": "eCYl_TtCNRRy"
      },
      "source": [
        "**Model Definition and Initialization**"
      ]
    },
    {
      "cell_type": "code",
      "execution_count": 5,
      "metadata": {
        "id": "h0rr3nWPNoN8"
      },
      "outputs": [
        {
          "name": "stderr",
          "output_type": "stream",
          "text": [
            "Using cache found in C:\\Users\\97252/.cache\\torch\\hub\\facebookresearch_dinov2_main\n"
          ]
        }
      ],
      "source": [
        "# Initialize in,out channels, width and height sizes\n",
        "width = 224\n",
        "height = 224\n",
        "input_channels = 3\n",
        "output_channels = 4\n",
        "\n",
        "dino_v2_model = torch.hub.load('facebookresearch/dinov2', 'dinov2_vits14')\n",
        "\n",
        "# freeze dino_v2 layers\n",
        "for param in dino_v2_model.parameters():\n",
        "    param.requires_grad = False\n",
        "    \n",
        "\n",
        "# make the model\n",
        "model = def_models.DINO_v2_FT(dino_backbone=dino_v2_model, output_channels=output_channels).to(device)"
      ]
    },
    {
      "cell_type": "markdown",
      "metadata": {},
      "source": [
        "**Pre-processing of the data**"
      ]
    },
    {
      "cell_type": "code",
      "execution_count": 6,
      "metadata": {},
      "outputs": [],
      "source": [
        "# Resize images from 128x128 to 224x224 transformation\n",
        "preprocess = transforms.Compose([\n",
        "    transforms.Resize((width, height)),\n",
        "    transforms.ToTensor()\n",
        "])\n",
        "\n",
        "# Apply transformations to the datasets\n",
        "train_set = utils_funcs.apply_transformations(train_set, preprocess)\n",
        "validation_set = utils_funcs.apply_transformations(validation_set, preprocess)\n",
        "test_set = utils_funcs.apply_transformations(test_set, preprocess)"
      ]
    },
    {
      "cell_type": "markdown",
      "metadata": {},
      "source": [
        "**Model Statistics**"
      ]
    },
    {
      "cell_type": "code",
      "execution_count": 7,
      "metadata": {},
      "outputs": [
        {
          "name": "stdout",
          "output_type": "stream",
          "text": [
            "model  DINO_v2_FT  statistics\n",
            "----------------------------------------------------------------\n",
            "        Layer (type)               Output Shape         Param #\n",
            "================================================================\n",
            "            Conv2d-1          [-1, 384, 16, 16]         226,176\n",
            "          Identity-2             [-1, 256, 384]               0\n",
            "        PatchEmbed-3             [-1, 256, 384]               0\n",
            "         LayerNorm-4             [-1, 257, 384]             768\n",
            "            Linear-5            [-1, 257, 1152]         443,520\n",
            "            Linear-6             [-1, 257, 384]         147,840\n",
            "           Dropout-7             [-1, 257, 384]               0\n",
            "   MemEffAttention-8             [-1, 257, 384]               0\n",
            "        LayerScale-9             [-1, 257, 384]               0\n",
            "        LayerNorm-10             [-1, 257, 384]             768\n",
            "           Linear-11            [-1, 257, 1536]         591,360\n",
            "             GELU-12            [-1, 257, 1536]               0\n",
            "          Dropout-13            [-1, 257, 1536]               0\n",
            "           Linear-14             [-1, 257, 384]         590,208\n",
            "          Dropout-15             [-1, 257, 384]               0\n",
            "              Mlp-16             [-1, 257, 384]               0\n",
            "       LayerScale-17             [-1, 257, 384]               0\n",
            "NestedTensorBlock-18             [-1, 257, 384]               0\n",
            "        LayerNorm-19             [-1, 257, 384]             768\n",
            "           Linear-20            [-1, 257, 1152]         443,520\n",
            "           Linear-21             [-1, 257, 384]         147,840\n",
            "          Dropout-22             [-1, 257, 384]               0\n",
            "  MemEffAttention-23             [-1, 257, 384]               0\n",
            "       LayerScale-24             [-1, 257, 384]               0\n",
            "        LayerNorm-25             [-1, 257, 384]             768\n",
            "           Linear-26            [-1, 257, 1536]         591,360\n",
            "             GELU-27            [-1, 257, 1536]               0\n",
            "          Dropout-28            [-1, 257, 1536]               0\n",
            "           Linear-29             [-1, 257, 384]         590,208\n",
            "          Dropout-30             [-1, 257, 384]               0\n",
            "              Mlp-31             [-1, 257, 384]               0\n",
            "       LayerScale-32             [-1, 257, 384]               0\n",
            "NestedTensorBlock-33             [-1, 257, 384]               0\n",
            "        LayerNorm-34             [-1, 257, 384]             768\n",
            "           Linear-35            [-1, 257, 1152]         443,520\n",
            "           Linear-36             [-1, 257, 384]         147,840\n",
            "          Dropout-37             [-1, 257, 384]               0\n",
            "  MemEffAttention-38             [-1, 257, 384]               0\n",
            "       LayerScale-39             [-1, 257, 384]               0\n",
            "        LayerNorm-40             [-1, 257, 384]             768\n",
            "           Linear-41            [-1, 257, 1536]         591,360\n",
            "             GELU-42            [-1, 257, 1536]               0\n",
            "          Dropout-43            [-1, 257, 1536]               0\n",
            "           Linear-44             [-1, 257, 384]         590,208\n",
            "          Dropout-45             [-1, 257, 384]               0\n",
            "              Mlp-46             [-1, 257, 384]               0\n",
            "       LayerScale-47             [-1, 257, 384]               0\n",
            "NestedTensorBlock-48             [-1, 257, 384]               0\n",
            "        LayerNorm-49             [-1, 257, 384]             768\n",
            "           Linear-50            [-1, 257, 1152]         443,520\n",
            "           Linear-51             [-1, 257, 384]         147,840\n",
            "          Dropout-52             [-1, 257, 384]               0\n",
            "  MemEffAttention-53             [-1, 257, 384]               0\n",
            "       LayerScale-54             [-1, 257, 384]               0\n",
            "        LayerNorm-55             [-1, 257, 384]             768\n",
            "           Linear-56            [-1, 257, 1536]         591,360\n",
            "             GELU-57            [-1, 257, 1536]               0\n",
            "          Dropout-58            [-1, 257, 1536]               0\n",
            "           Linear-59             [-1, 257, 384]         590,208\n",
            "          Dropout-60             [-1, 257, 384]               0\n",
            "              Mlp-61             [-1, 257, 384]               0\n",
            "       LayerScale-62             [-1, 257, 384]               0\n",
            "NestedTensorBlock-63             [-1, 257, 384]               0\n",
            "        LayerNorm-64             [-1, 257, 384]             768\n",
            "           Linear-65            [-1, 257, 1152]         443,520\n",
            "           Linear-66             [-1, 257, 384]         147,840\n",
            "          Dropout-67             [-1, 257, 384]               0\n",
            "  MemEffAttention-68             [-1, 257, 384]               0\n",
            "       LayerScale-69             [-1, 257, 384]               0\n",
            "        LayerNorm-70             [-1, 257, 384]             768\n",
            "           Linear-71            [-1, 257, 1536]         591,360\n",
            "             GELU-72            [-1, 257, 1536]               0\n",
            "          Dropout-73            [-1, 257, 1536]               0\n",
            "           Linear-74             [-1, 257, 384]         590,208\n",
            "          Dropout-75             [-1, 257, 384]               0\n",
            "              Mlp-76             [-1, 257, 384]               0\n",
            "       LayerScale-77             [-1, 257, 384]               0\n",
            "NestedTensorBlock-78             [-1, 257, 384]               0\n",
            "        LayerNorm-79             [-1, 257, 384]             768\n",
            "           Linear-80            [-1, 257, 1152]         443,520\n",
            "           Linear-81             [-1, 257, 384]         147,840\n",
            "          Dropout-82             [-1, 257, 384]               0\n",
            "  MemEffAttention-83             [-1, 257, 384]               0\n",
            "       LayerScale-84             [-1, 257, 384]               0\n",
            "        LayerNorm-85             [-1, 257, 384]             768\n",
            "           Linear-86            [-1, 257, 1536]         591,360\n",
            "             GELU-87            [-1, 257, 1536]               0\n",
            "          Dropout-88            [-1, 257, 1536]               0\n",
            "           Linear-89             [-1, 257, 384]         590,208\n",
            "          Dropout-90             [-1, 257, 384]               0\n",
            "              Mlp-91             [-1, 257, 384]               0\n",
            "       LayerScale-92             [-1, 257, 384]               0\n",
            "NestedTensorBlock-93             [-1, 257, 384]               0\n",
            "        LayerNorm-94             [-1, 257, 384]             768\n",
            "           Linear-95            [-1, 257, 1152]         443,520\n",
            "           Linear-96             [-1, 257, 384]         147,840\n",
            "          Dropout-97             [-1, 257, 384]               0\n",
            "  MemEffAttention-98             [-1, 257, 384]               0\n",
            "       LayerScale-99             [-1, 257, 384]               0\n",
            "       LayerNorm-100             [-1, 257, 384]             768\n",
            "          Linear-101            [-1, 257, 1536]         591,360\n",
            "            GELU-102            [-1, 257, 1536]               0\n",
            "         Dropout-103            [-1, 257, 1536]               0\n",
            "          Linear-104             [-1, 257, 384]         590,208\n",
            "         Dropout-105             [-1, 257, 384]               0\n",
            "             Mlp-106             [-1, 257, 384]               0\n",
            "      LayerScale-107             [-1, 257, 384]               0\n",
            "NestedTensorBlock-108             [-1, 257, 384]               0\n",
            "       LayerNorm-109             [-1, 257, 384]             768\n",
            "          Linear-110            [-1, 257, 1152]         443,520\n",
            "          Linear-111             [-1, 257, 384]         147,840\n",
            "         Dropout-112             [-1, 257, 384]               0\n",
            " MemEffAttention-113             [-1, 257, 384]               0\n",
            "      LayerScale-114             [-1, 257, 384]               0\n",
            "       LayerNorm-115             [-1, 257, 384]             768\n",
            "          Linear-116            [-1, 257, 1536]         591,360\n",
            "            GELU-117            [-1, 257, 1536]               0\n",
            "         Dropout-118            [-1, 257, 1536]               0\n",
            "          Linear-119             [-1, 257, 384]         590,208\n",
            "         Dropout-120             [-1, 257, 384]               0\n",
            "             Mlp-121             [-1, 257, 384]               0\n",
            "      LayerScale-122             [-1, 257, 384]               0\n",
            "NestedTensorBlock-123             [-1, 257, 384]               0\n",
            "       LayerNorm-124             [-1, 257, 384]             768\n",
            "          Linear-125            [-1, 257, 1152]         443,520\n",
            "          Linear-126             [-1, 257, 384]         147,840\n",
            "         Dropout-127             [-1, 257, 384]               0\n",
            " MemEffAttention-128             [-1, 257, 384]               0\n",
            "      LayerScale-129             [-1, 257, 384]               0\n",
            "       LayerNorm-130             [-1, 257, 384]             768\n",
            "          Linear-131            [-1, 257, 1536]         591,360\n",
            "            GELU-132            [-1, 257, 1536]               0\n",
            "         Dropout-133            [-1, 257, 1536]               0\n",
            "          Linear-134             [-1, 257, 384]         590,208\n",
            "         Dropout-135             [-1, 257, 384]               0\n",
            "             Mlp-136             [-1, 257, 384]               0\n",
            "      LayerScale-137             [-1, 257, 384]               0\n",
            "NestedTensorBlock-138             [-1, 257, 384]               0\n",
            "       LayerNorm-139             [-1, 257, 384]             768\n",
            "          Linear-140            [-1, 257, 1152]         443,520\n",
            "          Linear-141             [-1, 257, 384]         147,840\n",
            "         Dropout-142             [-1, 257, 384]               0\n",
            " MemEffAttention-143             [-1, 257, 384]               0\n",
            "      LayerScale-144             [-1, 257, 384]               0\n",
            "       LayerNorm-145             [-1, 257, 384]             768\n",
            "          Linear-146            [-1, 257, 1536]         591,360\n",
            "            GELU-147            [-1, 257, 1536]               0\n",
            "         Dropout-148            [-1, 257, 1536]               0\n",
            "          Linear-149             [-1, 257, 384]         590,208\n",
            "         Dropout-150             [-1, 257, 384]               0\n",
            "             Mlp-151             [-1, 257, 384]               0\n",
            "      LayerScale-152             [-1, 257, 384]               0\n",
            "NestedTensorBlock-153             [-1, 257, 384]               0\n",
            "       LayerNorm-154             [-1, 257, 384]             768\n",
            "          Linear-155            [-1, 257, 1152]         443,520\n",
            "          Linear-156             [-1, 257, 384]         147,840\n",
            "         Dropout-157             [-1, 257, 384]               0\n",
            " MemEffAttention-158             [-1, 257, 384]               0\n",
            "      LayerScale-159             [-1, 257, 384]               0\n",
            "       LayerNorm-160             [-1, 257, 384]             768\n",
            "          Linear-161            [-1, 257, 1536]         591,360\n",
            "            GELU-162            [-1, 257, 1536]               0\n",
            "         Dropout-163            [-1, 257, 1536]               0\n",
            "          Linear-164             [-1, 257, 384]         590,208\n",
            "         Dropout-165             [-1, 257, 384]               0\n",
            "             Mlp-166             [-1, 257, 384]               0\n",
            "      LayerScale-167             [-1, 257, 384]               0\n",
            "NestedTensorBlock-168             [-1, 257, 384]               0\n",
            "       LayerNorm-169             [-1, 257, 384]             768\n",
            "          Linear-170            [-1, 257, 1152]         443,520\n",
            "          Linear-171             [-1, 257, 384]         147,840\n",
            "         Dropout-172             [-1, 257, 384]               0\n",
            " MemEffAttention-173             [-1, 257, 384]               0\n",
            "      LayerScale-174             [-1, 257, 384]               0\n",
            "       LayerNorm-175             [-1, 257, 384]             768\n",
            "          Linear-176            [-1, 257, 1536]         591,360\n",
            "            GELU-177            [-1, 257, 1536]               0\n",
            "         Dropout-178            [-1, 257, 1536]               0\n",
            "          Linear-179             [-1, 257, 384]         590,208\n",
            "         Dropout-180             [-1, 257, 384]               0\n",
            "             Mlp-181             [-1, 257, 384]               0\n",
            "      LayerScale-182             [-1, 257, 384]               0\n",
            "NestedTensorBlock-183             [-1, 257, 384]               0\n",
            "       LayerNorm-184             [-1, 257, 384]             768\n",
            "        Identity-185                  [-1, 384]               0\n",
            "DinoVisionTransformer-186                  [-1, 384]               0\n",
            "          Linear-187                 [-1, 2048]         788,480\n",
            "     BatchNorm1d-188                 [-1, 2048]           4,096\n",
            "            GELU-189                 [-1, 2048]               0\n",
            "         Dropout-190                 [-1, 2048]               0\n",
            "          Linear-191                 [-1, 1024]       2,098,176\n",
            "     BatchNorm1d-192                 [-1, 1024]           2,048\n",
            "            GELU-193                 [-1, 1024]               0\n",
            "         Dropout-194                 [-1, 1024]               0\n",
            "          Linear-195                  [-1, 512]         524,800\n",
            "     BatchNorm1d-196                  [-1, 512]           1,024\n",
            "            GELU-197                  [-1, 512]               0\n",
            "         Dropout-198                  [-1, 512]               0\n",
            "          Linear-199                  [-1, 256]         131,328\n",
            "     BatchNorm1d-200                  [-1, 256]             512\n",
            "            GELU-201                  [-1, 256]               0\n",
            "         Dropout-202                  [-1, 256]               0\n",
            "          Linear-203                    [-1, 4]           1,028\n",
            "================================================================\n",
            "Total params: 25,072,004\n",
            "Trainable params: 3,551,492\n",
            "Non-trainable params: 21,520,512\n",
            "----------------------------------------------------------------\n",
            "Input size (MB): 0.57\n",
            "Forward/backward pass size (MB): 238.04\n",
            "Params size (MB): 95.64\n",
            "Estimated Total Size (MB): 334.26\n",
            "----------------------------------------------------------------\n",
            "Total parameters: 25608068\n",
            "Trainable parameters: 3551492\n"
          ]
        }
      ],
      "source": [
        "# model statistics\n",
        "model_name = type(model).__name__\n",
        "print(\"model \", model_name,\" statistics\")\n",
        "summary(model, (input_channels, height, width))\n",
        "\n",
        "total_params = sum(p.numel() for p in model.parameters())\n",
        "trainable_params = sum(p.numel() for p in model.parameters() if p.requires_grad)\n",
        "\n",
        "print(f\"Total parameters: {total_params}\")\n",
        "print(f\"Trainable parameters: {trainable_params}\")"
      ]
    },
    {
      "cell_type": "markdown",
      "metadata": {},
      "source": [
        "**Session Directory**"
      ]
    },
    {
      "cell_type": "code",
      "execution_count": 8,
      "metadata": {},
      "outputs": [],
      "source": [
        "# current_time = datetime.now().strftime(\"%H%M%S_%d%m%Y\")  # Format: HHMMSS_DDMMYYYY\n",
        "# session_dir = f\"./checkpoints/{model_name}_session_{current_time}\"\n",
        "# os.makedirs(session_dir, exist_ok=True)\n",
        "# print(f\"Saving session to: {session_dir}\")"
      ]
    },
    {
      "cell_type": "markdown",
      "metadata": {},
      "source": [
        "**Optuna**"
      ]
    },
    {
      "cell_type": "code",
      "execution_count": 9,
      "metadata": {},
      "outputs": [
        {
          "name": "stderr",
          "output_type": "stream",
          "text": [
            "[I 2024-10-02 23:23:54,097] A new study created in memory with name: mri-alzhimer-classification\n"
          ]
        },
        {
          "name": "stdout",
          "output_type": "stream",
          "text": [
            "Optuna is done on device: cuda:0\n"
          ]
        },
        {
          "name": "stderr",
          "output_type": "stream",
          "text": [
            "Using cache found in C:\\Users\\97252/.cache\\torch\\hub\\facebookresearch_dinov2_main\n",
            "100%|██████████| 10/10 [09:37<00:00, 57.70s/it]\n",
            "[I 2024-10-02 23:33:47,102] Trial 0 finished with value: 0.6171875 and parameters: {'lr': 0.001008330978170977, 'optimizer': 'SGD', 'batch_size': 128, 'scheduler': 'StepLR'}. Best is trial 0 with value: 0.6171875.\n",
            "Using cache found in C:\\Users\\97252/.cache\\torch\\hub\\facebookresearch_dinov2_main\n",
            "100%|██████████| 10/10 [05:58<00:00, 35.87s/it]\n",
            "[I 2024-10-02 23:40:01,525] Trial 1 finished with value: 0.7541666666666667 and parameters: {'lr': 3.878851801197722e-05, 'optimizer': 'Adam', 'batch_size': 32, 'scheduler': 'CosineAnnealingLR'}. Best is trial 1 with value: 0.7541666666666667.\n",
            "Using cache found in C:\\Users\\97252/.cache\\torch\\hub\\facebookresearch_dinov2_main\n",
            "100%|██████████| 10/10 [06:04<00:00, 36.49s/it]\n",
            "[I 2024-10-02 23:46:21,232] Trial 2 finished with value: 0.625 and parameters: {'lr': 9.640761996979857e-06, 'optimizer': 'Adam', 'batch_size': 32, 'scheduler': 'CosineAnnealingLR'}. Best is trial 1 with value: 0.7541666666666667.\n",
            "Using cache found in C:\\Users\\97252/.cache\\torch\\hub\\facebookresearch_dinov2_main\n",
            "100%|██████████| 10/10 [10:59<00:00, 65.94s/it]\n",
            "[I 2024-10-02 23:57:35,826] Trial 3 finished with value: 0.8140625 and parameters: {'lr': 0.0010515879958218535, 'optimizer': 'Adam', 'batch_size': 64, 'scheduler': 'StepLR'}. Best is trial 3 with value: 0.8140625.\n",
            "Using cache found in C:\\Users\\97252/.cache\\torch\\hub\\facebookresearch_dinov2_main\n",
            "100%|██████████| 10/10 [14:52<00:00, 89.25s/it]\n",
            "[I 2024-10-03 00:12:46,121] Trial 4 finished with value: 0.7984375 and parameters: {'lr': 0.025906032851013526, 'optimizer': 'SGD', 'batch_size': 256, 'scheduler': 'StepLR'}. Best is trial 3 with value: 0.8140625.\n",
            "Using cache found in C:\\Users\\97252/.cache\\torch\\hub\\facebookresearch_dinov2_main\n",
            " 20%|██        | 2/10 [04:21<17:24, 130.54s/it]\n",
            "[I 2024-10-03 00:17:22,101] Trial 5 pruned. \n",
            "Using cache found in C:\\Users\\97252/.cache\\torch\\hub\\facebookresearch_dinov2_main\n",
            "  0%|          | 0/10 [01:22<?, ?it/s]\n",
            "[I 2024-10-03 00:19:02,718] Trial 6 pruned. \n",
            "Using cache found in C:\\Users\\97252/.cache\\torch\\hub\\facebookresearch_dinov2_main\n",
            "  0%|          | 0/10 [00:38<?, ?it/s]\n",
            "[I 2024-10-03 00:19:56,505] Trial 7 pruned. \n",
            "Using cache found in C:\\Users\\97252/.cache\\torch\\hub\\facebookresearch_dinov2_main\n",
            " 10%|█         | 1/10 [02:51<25:39, 171.05s/it]\n",
            "[I 2024-10-03 00:23:02,897] Trial 8 pruned. \n",
            "Using cache found in C:\\Users\\97252/.cache\\torch\\hub\\facebookresearch_dinov2_main\n",
            "  0%|          | 0/10 [01:21<?, ?it/s]\n",
            "[I 2024-10-03 00:24:40,196] Trial 9 pruned. \n",
            "Using cache found in C:\\Users\\97252/.cache\\torch\\hub\\facebookresearch_dinov2_main\n",
            "  0%|          | 0/10 [01:08<?, ?it/s]\n",
            "[I 2024-10-03 00:26:04,610] Trial 10 pruned. \n",
            "Using cache found in C:\\Users\\97252/.cache\\torch\\hub\\facebookresearch_dinov2_main\n",
            " 20%|██        | 2/10 [03:20<13:20, 100.10s/it]\n",
            "[I 2024-10-03 00:29:40,838] Trial 11 pruned. \n",
            "Using cache found in C:\\Users\\97252/.cache\\torch\\hub\\facebookresearch_dinov2_main\n",
            " 20%|██        | 2/10 [03:03<12:15, 91.98s/it]\n",
            "[I 2024-10-03 00:33:00,448] Trial 12 pruned. \n",
            "Using cache found in C:\\Users\\97252/.cache\\torch\\hub\\facebookresearch_dinov2_main\n",
            " 30%|███       | 3/10 [05:32<12:55, 110.77s/it]\n",
            "[I 2024-10-03 00:38:48,718] Trial 13 pruned. \n",
            "Using cache found in C:\\Users\\97252/.cache\\torch\\hub\\facebookresearch_dinov2_main\n",
            "100%|██████████| 10/10 [12:06<00:00, 72.60s/it]\n",
            "[I 2024-10-03 00:51:11,103] Trial 14 finished with value: 0.8140625 and parameters: {'lr': 0.0011511587974417793, 'optimizer': 'RMSprop', 'batch_size': 64, 'scheduler': 'StepLR'}. Best is trial 3 with value: 0.8140625.\n",
            "Using cache found in C:\\Users\\97252/.cache\\torch\\hub\\facebookresearch_dinov2_main\n",
            "100%|██████████| 10/10 [12:08<00:00, 72.84s/it]\n",
            "[I 2024-10-03 01:03:34,874] Trial 15 finished with value: 0.8578125 and parameters: {'lr': 0.0006947586000286784, 'optimizer': 'RMSprop', 'batch_size': 64, 'scheduler': 'StepLR'}. Best is trial 15 with value: 0.8578125.\n",
            "Using cache found in C:\\Users\\97252/.cache\\torch\\hub\\facebookresearch_dinov2_main\n",
            "100%|██████████| 10/10 [12:46<00:00, 76.64s/it]\n",
            "[I 2024-10-03 01:16:36,730] Trial 16 finished with value: 0.846875 and parameters: {'lr': 0.0004073907437266776, 'optimizer': 'RMSprop', 'batch_size': 64, 'scheduler': 'StepLR'}. Best is trial 15 with value: 0.8578125.\n",
            "Using cache found in C:\\Users\\97252/.cache\\torch\\hub\\facebookresearch_dinov2_main\n",
            "100%|██████████| 10/10 [13:32<00:00, 81.30s/it]\n",
            "[I 2024-10-03 01:30:24,593] Trial 17 finished with value: 0.896875 and parameters: {'lr': 0.00019472848623778815, 'optimizer': 'RMSprop', 'batch_size': 64, 'scheduler': 'StepLR'}. Best is trial 17 with value: 0.896875.\n",
            "Using cache found in C:\\Users\\97252/.cache\\torch\\hub\\facebookresearch_dinov2_main\n",
            "100%|██████████| 10/10 [12:42<00:00, 76.25s/it]\n",
            "[I 2024-10-03 01:43:22,473] Trial 18 finished with value: 0.890625 and parameters: {'lr': 0.00010477673360053183, 'optimizer': 'RMSprop', 'batch_size': 64, 'scheduler': 'CosineAnnealingLR'}. Best is trial 17 with value: 0.896875.\n",
            "Using cache found in C:\\Users\\97252/.cache\\torch\\hub\\facebookresearch_dinov2_main\n",
            "100%|██████████| 10/10 [14:14<00:00, 85.47s/it]\n",
            "[I 2024-10-03 01:57:52,567] Trial 19 finished with value: 0.8921875 and parameters: {'lr': 0.00011829632792465388, 'optimizer': 'RMSprop', 'batch_size': 64, 'scheduler': 'CosineAnnealingLR'}. Best is trial 17 with value: 0.896875.\n",
            "Using cache found in C:\\Users\\97252/.cache\\torch\\hub\\facebookresearch_dinov2_main\n",
            " 20%|██        | 2/10 [05:15<21:01, 157.68s/it]\n",
            "[I 2024-10-03 02:03:22,894] Trial 20 pruned. \n",
            "Using cache found in C:\\Users\\97252/.cache\\torch\\hub\\facebookresearch_dinov2_main\n",
            "100%|██████████| 10/10 [14:02<00:00, 84.22s/it]\n",
            "[I 2024-10-03 02:17:40,845] Trial 21 finished with value: 0.890625 and parameters: {'lr': 0.0001217394280435138, 'optimizer': 'RMSprop', 'batch_size': 64, 'scheduler': 'CosineAnnealingLR'}. Best is trial 17 with value: 0.896875.\n",
            "Using cache found in C:\\Users\\97252/.cache\\torch\\hub\\facebookresearch_dinov2_main\n",
            "100%|██████████| 10/10 [15:20<00:00, 92.03s/it]\n",
            "[I 2024-10-03 02:33:16,417] Trial 22 finished with value: 0.89375 and parameters: {'lr': 0.0001744322283394107, 'optimizer': 'RMSprop', 'batch_size': 64, 'scheduler': 'CosineAnnealingLR'}. Best is trial 17 with value: 0.896875.\n",
            "Using cache found in C:\\Users\\97252/.cache\\torch\\hub\\facebookresearch_dinov2_main\n",
            "  0%|          | 0/10 [02:33<?, ?it/s]\n",
            "[I 2024-10-03 02:36:05,067] Trial 23 pruned. \n",
            "Using cache found in C:\\Users\\97252/.cache\\torch\\hub\\facebookresearch_dinov2_main\n",
            "100%|██████████| 10/10 [15:01<00:00, 90.14s/it]\n",
            "[I 2024-10-03 02:51:21,105] Trial 24 finished with value: 0.8953125 and parameters: {'lr': 0.00014683409739001897, 'optimizer': 'RMSprop', 'batch_size': 64, 'scheduler': 'CosineAnnealingLR'}. Best is trial 17 with value: 0.896875.\n",
            "Using cache found in C:\\Users\\97252/.cache\\torch\\hub\\facebookresearch_dinov2_main\n",
            "  0%|          | 0/10 [01:31<?, ?it/s]\n",
            "[I 2024-10-03 02:53:06,335] Trial 25 pruned. \n",
            "Using cache found in C:\\Users\\97252/.cache\\torch\\hub\\facebookresearch_dinov2_main\n",
            "  0%|          | 0/10 [00:56<?, ?it/s]\n",
            "[I 2024-10-03 02:54:17,724] Trial 26 pruned. \n",
            "Using cache found in C:\\Users\\97252/.cache\\torch\\hub\\facebookresearch_dinov2_main\n",
            " 20%|██        | 2/10 [04:25<17:42, 132.87s/it]\n",
            "[I 2024-10-03 02:58:59,361] Trial 27 pruned. \n",
            "Using cache found in C:\\Users\\97252/.cache\\torch\\hub\\facebookresearch_dinov2_main\n",
            "  0%|          | 0/10 [01:46<?, ?it/s]\n",
            "[I 2024-10-03 03:01:00,825] Trial 28 pruned. \n",
            "Using cache found in C:\\Users\\97252/.cache\\torch\\hub\\facebookresearch_dinov2_main\n",
            "  0%|          | 0/10 [00:55<?, ?it/s]\n",
            "[I 2024-10-03 03:02:10,911] Trial 29 pruned. \n",
            "Using cache found in C:\\Users\\97252/.cache\\torch\\hub\\facebookresearch_dinov2_main\n",
            "  0%|          | 0/10 [01:12<?, ?it/s]\n",
            "[I 2024-10-03 03:03:38,150] Trial 30 pruned. \n",
            "Using cache found in C:\\Users\\97252/.cache\\torch\\hub\\facebookresearch_dinov2_main\n",
            "100%|██████████| 10/10 [14:52<00:00, 89.22s/it]\n",
            "[I 2024-10-03 03:18:46,676] Trial 31 finished with value: 0.89375 and parameters: {'lr': 0.00011457155927355139, 'optimizer': 'RMSprop', 'batch_size': 64, 'scheduler': 'CosineAnnealingLR'}. Best is trial 17 with value: 0.896875.\n",
            "Using cache found in C:\\Users\\97252/.cache\\torch\\hub\\facebookresearch_dinov2_main\n",
            "100%|██████████| 10/10 [16:10<00:00, 97.03s/it] \n",
            "[I 2024-10-03 03:35:12,681] Trial 32 finished with value: 0.8953125 and parameters: {'lr': 0.0001936540300638754, 'optimizer': 'RMSprop', 'batch_size': 64, 'scheduler': 'CosineAnnealingLR'}. Best is trial 17 with value: 0.896875.\n",
            "Using cache found in C:\\Users\\97252/.cache\\torch\\hub\\facebookresearch_dinov2_main\n",
            "100%|██████████| 10/10 [17:31<00:00, 105.11s/it]\n",
            "[I 2024-10-03 03:52:59,004] Trial 33 finished with value: 0.9015625 and parameters: {'lr': 0.0002223726853808997, 'optimizer': 'RMSprop', 'batch_size': 64, 'scheduler': 'CosineAnnealingLR'}. Best is trial 33 with value: 0.9015625.\n",
            "Using cache found in C:\\Users\\97252/.cache\\torch\\hub\\facebookresearch_dinov2_main\n",
            "  0%|          | 0/10 [00:52<?, ?it/s]\n",
            "[I 2024-10-03 03:54:05,036] Trial 34 pruned. \n",
            "Using cache found in C:\\Users\\97252/.cache\\torch\\hub\\facebookresearch_dinov2_main\n",
            " 20%|██        | 2/10 [03:15<13:02, 97.87s/it]\n",
            "[I 2024-10-03 03:57:35,861] Trial 35 pruned. \n",
            "Using cache found in C:\\Users\\97252/.cache\\torch\\hub\\facebookresearch_dinov2_main\n",
            "  0%|          | 0/10 [01:05<?, ?it/s]\n",
            "[I 2024-10-03 03:58:56,230] Trial 36 pruned. \n",
            "Using cache found in C:\\Users\\97252/.cache\\torch\\hub\\facebookresearch_dinov2_main\n",
            " 80%|████████  | 8/10 [14:53<03:43, 111.69s/it]\n",
            "[I 2024-10-03 04:14:05,731] Trial 37 pruned. \n",
            "Using cache found in C:\\Users\\97252/.cache\\torch\\hub\\facebookresearch_dinov2_main\n",
            "  0%|          | 0/10 [00:45<?, ?it/s]\n",
            "[I 2024-10-03 04:15:06,876] Trial 38 pruned. \n",
            "Using cache found in C:\\Users\\97252/.cache\\torch\\hub\\facebookresearch_dinov2_main\n",
            " 20%|██        | 2/10 [04:17<17:11, 128.93s/it]\n",
            "[I 2024-10-03 04:19:39,793] Trial 39 pruned. \n",
            "Using cache found in C:\\Users\\97252/.cache\\torch\\hub\\facebookresearch_dinov2_main\n",
            "100%|██████████| 10/10 [21:35<00:00, 129.52s/it]\n",
            "[I 2024-10-03 04:41:30,396] Trial 40 finished with value: 0.903125 and parameters: {'lr': 6.348489594348218e-05, 'optimizer': 'RMSprop', 'batch_size': 128, 'scheduler': 'CosineAnnealingLR'}. Best is trial 40 with value: 0.903125.\n",
            "Using cache found in C:\\Users\\97252/.cache\\torch\\hub\\facebookresearch_dinov2_main\n",
            "100%|██████████| 10/10 [20:25<00:00, 122.51s/it]\n",
            "[I 2024-10-03 05:02:10,290] Trial 41 finished with value: 0.9046875 and parameters: {'lr': 7.630581776391123e-05, 'optimizer': 'RMSprop', 'batch_size': 128, 'scheduler': 'CosineAnnealingLR'}. Best is trial 41 with value: 0.9046875.\n",
            "Using cache found in C:\\Users\\97252/.cache\\torch\\hub\\facebookresearch_dinov2_main\n",
            "100%|██████████| 10/10 [21:23<00:00, 128.30s/it]\n",
            "[I 2024-10-03 05:23:48,302] Trial 42 finished with value: 0.928125 and parameters: {'lr': 8.052984216230575e-05, 'optimizer': 'RMSprop', 'batch_size': 128, 'scheduler': 'CosineAnnealingLR'}. Best is trial 42 with value: 0.928125.\n",
            "Using cache found in C:\\Users\\97252/.cache\\torch\\hub\\facebookresearch_dinov2_main\n",
            "100%|██████████| 10/10 [22:27<00:00, 134.74s/it]\n",
            "[I 2024-10-03 05:46:30,813] Trial 43 finished with value: 0.90625 and parameters: {'lr': 6.96102235860261e-05, 'optimizer': 'RMSprop', 'batch_size': 128, 'scheduler': 'CosineAnnealingLR'}. Best is trial 42 with value: 0.928125.\n",
            "Using cache found in C:\\Users\\97252/.cache\\torch\\hub\\facebookresearch_dinov2_main\n",
            "  0%|          | 0/10 [01:29<?, ?it/s]\n",
            "[I 2024-10-03 05:48:14,714] Trial 44 pruned. \n"
          ]
        },
        {
          "name": "stdout",
          "output_type": "stream",
          "text": [
            "Study statistics: \n",
            "  Number of finished trials:  45\n",
            "  Number of pruned trials:  24\n",
            "  Number of complete trials:  21\n",
            "Best trial:\n",
            "  Value:  0.928125\n",
            "  Params: \n",
            "    lr: 8.052984216230575e-05\n",
            "    optimizer: RMSprop\n",
            "    batch_size: 128\n",
            "    scheduler: CosineAnnealingLR\n",
            "Best parameters saved to checkpoints/op_tuna_params\\DINO_v2_FT\\DINO_v2_FT_0.9281.json\n",
            "{'lr': 8.052984216230575e-05, 'optimizer': 'RMSprop', 'batch_size': 128, 'scheduler': 'CosineAnnealingLR'}\n"
          ]
        }
      ],
      "source": [
        "params = optuna_search.optuna_param_search(model_name=\"DINO_v2_FT\", loss_criterion=nn.CrossEntropyLoss(), num_epochs_for_experiments=10, device=device,transfer_learning=True)\n",
        "print(params)"
      ]
    },
    {
      "cell_type": "markdown",
      "metadata": {},
      "source": [
        "**Load best Hyper Parameters**"
      ]
    },
    {
      "cell_type": "code",
      "execution_count": 10,
      "metadata": {},
      "outputs": [],
      "source": [
        "# op_tuna_params_path = f'./checkpoints/op_tuna_params/{model_name}/DINO_v2_FT_0.9109.json'\n",
        "\n",
        "# print(\"Retrieving op_tuna params...\")\n",
        "\n",
        "# with open(op_tuna_params_path, 'r') as file:\n",
        "#     params = json.load(file)\n",
        "\n",
        "# # Hyper-parameters\n",
        "# batch_size = params['batch_size']\n",
        "# learning_rate = params['lr']\n",
        "# optimizer_name = params['optimizer']\n",
        "# scheduler = params['scheduler']\n",
        "\n",
        "# print(f'Batch Size: {batch_size}')\n",
        "# print(f'Learning Rate: {learning_rate}')\n",
        "# print(f'Optimizer Name: {optimizer_name}')\n",
        "# print(f'Scheduler Name: {scheduler}')\n"
      ]
    },
    {
      "cell_type": "markdown",
      "metadata": {
        "id": "EEgWWGpPV8y-"
      },
      "source": [
        "**Hyper-Parameters**"
      ]
    },
    {
      "cell_type": "code",
      "execution_count": 11,
      "metadata": {
        "id": "zZJ3eTYHNxv3"
      },
      "outputs": [],
      "source": [
        "# Hyper-parameters\n",
        "batch_size = params['batch_size']\n",
        "learning_rate = params['lr']\n",
        "optimizer_name = params['optimizer']\n",
        "scheduler = params['scheduler']\n",
        "\n",
        "num_epochs = 50\n",
        "\n",
        "# loss criterion\n",
        "criterion = nn.CrossEntropyLoss()\n",
        "\n",
        "# optimizer\n",
        "optimizer = getattr(torch.optim, optimizer_name)(model.fc.parameters(), lr=learning_rate)\n",
        "\n",
        "# scheduler\n",
        "scheduler = StepLR(optimizer, 10, 0.1, verbose=True) if scheduler == \"StepLR\" else CosineAnnealingLR(optimizer, num_epochs, verbose=True)\n",
        "\n",
        "\n",
        "augmentations = K.AugmentationSequential(\n",
        "        K.RandomHorizontalFlip(p=0.1),\n",
        "        K.RandomVerticalFlip(p=0.1),\n",
        "        K.RandomRotation(degrees=10, p=0.1),\n",
        "        K.RandomAffine(degrees=5, translate=(0.05, 0.05), scale=(0.95, 1.05), p=0.1),\n",
        "        K.RandomBrightness(brightness=(0.8, 1.2), p=0.1),\n",
        "        K.RandomContrast(contrast=(0.8, 1.2), p=0.1),\n",
        "        K.RandomGamma(gamma=(0.9, 1.1), p=0.1),\n",
        "        K.RandomSharpness(p=0.1),\n",
        "        same_on_batch=False\n",
        ")\n"
      ]
    },
    {
      "cell_type": "markdown",
      "metadata": {},
      "source": [
        "**Prepare the data**"
      ]
    },
    {
      "cell_type": "code",
      "execution_count": 12,
      "metadata": {},
      "outputs": [],
      "source": [
        "# Combine train_set and val_set into one dataset and\n",
        "combined_train_val_set = ConcatDataset([train_set, validation_set])\n",
        "\n",
        "# Loading the data and shuffling it\n",
        "trainloader = torch.utils.data.DataLoader(combined_train_val_set, batch_size=batch_size, shuffle=True, num_workers=4,pin_memory=True)\n",
        "testloader = torch.utils.data.DataLoader(test_set, batch_size=batch_size, shuffle=False, num_workers=4,pin_memory=True)"
      ]
    },
    {
      "cell_type": "markdown",
      "metadata": {},
      "source": [
        "**Load fine-tuned parameters**"
      ]
    },
    {
      "cell_type": "code",
      "execution_count": 13,
      "metadata": {},
      "outputs": [],
      "source": [
        "# model_path = './checkpoints/DINO_v2_FT_070051_02102024.pth'\n",
        "# checkpoint = torch.load(model_path,weights_only=True)\n",
        "# last_epoch, last_loss = utils_funcs.load_model(model, optimizer, model_path)\n",
        "# model.load_state_dict(checkpoint['net'])"
      ]
    },
    {
      "cell_type": "markdown",
      "metadata": {
        "id": "0NMxcWt8WBVl"
      },
      "source": [
        "**Train Model**"
      ]
    },
    {
      "cell_type": "code",
      "execution_count": 14,
      "metadata": {
        "colab": {
          "base_uri": "https://localhost:8080/"
        },
        "id": "RFzmKpCGODd8",
        "outputId": "54f07c21-de3e-4710-ae1b-f1cc12031b2a"
      },
      "outputs": [
        {
          "name": "stdout",
          "output_type": "stream",
          "text": [
            "Training model: DINO_v2_FT on cuda:0\n"
          ]
        },
        {
          "name": "stderr",
          "output_type": "stream",
          "text": [
            "Epoch 1/50: 100%|██████████| 40/40 [03:03<00:00,  4.60s/it]\n"
          ]
        },
        {
          "name": "stdout",
          "output_type": "stream",
          "text": [
            "Epoch: 1 | Loss: 0.9435 | Training accuracy: 80.391% | Epoch Time: 282.06 secs\n"
          ]
        },
        {
          "name": "stderr",
          "output_type": "stream",
          "text": [
            "Epoch 2/50: 100%|██████████| 40/40 [01:46<00:00,  2.67s/it]\n"
          ]
        },
        {
          "name": "stdout",
          "output_type": "stream",
          "text": [
            "Epoch: 2 | Loss: 0.6457 | Training accuracy: 90.215% | Epoch Time: 239.25 secs\n"
          ]
        },
        {
          "name": "stderr",
          "output_type": "stream",
          "text": [
            "Epoch 3/50: 100%|██████████| 40/40 [02:56<00:00,  4.42s/it]\n"
          ]
        },
        {
          "name": "stdout",
          "output_type": "stream",
          "text": [
            "Epoch: 3 | Loss: 0.4967 | Training accuracy: 94.121% | Epoch Time: 278.55 secs\n"
          ]
        },
        {
          "name": "stderr",
          "output_type": "stream",
          "text": [
            "Epoch 4/50: 100%|██████████| 40/40 [01:34<00:00,  2.35s/it]\n"
          ]
        },
        {
          "name": "stdout",
          "output_type": "stream",
          "text": [
            "Epoch: 4 | Loss: 0.4043 | Training accuracy: 95.449% | Epoch Time: 318.88 secs\n"
          ]
        },
        {
          "name": "stderr",
          "output_type": "stream",
          "text": [
            "Epoch 5/50: 100%|██████████| 40/40 [01:13<00:00,  1.84s/it]\n"
          ]
        },
        {
          "name": "stdout",
          "output_type": "stream",
          "text": [
            "Epoch: 5 | Loss: 0.3386 | Training accuracy: 97.148% | Epoch Time: 175.87 secs\n"
          ]
        },
        {
          "name": "stderr",
          "output_type": "stream",
          "text": [
            "Epoch 6/50: 100%|██████████| 40/40 [02:10<00:00,  3.26s/it]\n"
          ]
        },
        {
          "name": "stdout",
          "output_type": "stream",
          "text": [
            "Epoch: 6 | Loss: 0.2881 | Training accuracy: 98.574% | Epoch Time: 256.66 secs\n"
          ]
        },
        {
          "name": "stderr",
          "output_type": "stream",
          "text": [
            "Epoch 7/50: 100%|██████████| 40/40 [02:23<00:00,  3.58s/it]\n"
          ]
        },
        {
          "name": "stdout",
          "output_type": "stream",
          "text": [
            "Epoch: 7 | Loss: 0.2441 | Training accuracy: 99.355% | Epoch Time: 283.69 secs\n"
          ]
        },
        {
          "name": "stderr",
          "output_type": "stream",
          "text": [
            "Epoch 8/50: 100%|██████████| 40/40 [01:58<00:00,  2.95s/it]\n"
          ]
        },
        {
          "name": "stdout",
          "output_type": "stream",
          "text": [
            "Epoch: 8 | Loss: 0.2114 | Training accuracy: 99.805% | Epoch Time: 208.25 secs\n"
          ]
        },
        {
          "name": "stderr",
          "output_type": "stream",
          "text": [
            "Epoch 9/50: 100%|██████████| 40/40 [01:26<00:00,  2.16s/it]\n"
          ]
        },
        {
          "name": "stdout",
          "output_type": "stream",
          "text": [
            "Epoch: 9 | Loss: 0.1936 | Training accuracy: 99.766% | Epoch Time: 188.80 secs\n"
          ]
        },
        {
          "name": "stderr",
          "output_type": "stream",
          "text": [
            "Epoch 10/50: 100%|██████████| 40/40 [03:22<00:00,  5.07s/it]\n"
          ]
        },
        {
          "name": "stdout",
          "output_type": "stream",
          "text": [
            "Epoch: 10 | Loss: 0.1745 | Training accuracy: 99.766% | Epoch Time: 287.61 secs\n",
            "==> Saving model ...\n",
            "saved as ./checkpoints/DINO_v2_FT_063015_03102024.pth\n"
          ]
        },
        {
          "name": "stderr",
          "output_type": "stream",
          "text": [
            "Epoch 11/50: 100%|██████████| 40/40 [01:30<00:00,  2.26s/it]\n"
          ]
        },
        {
          "name": "stdout",
          "output_type": "stream",
          "text": [
            "Epoch: 11 | Loss: 0.1693 | Training accuracy: 99.883% | Epoch Time: 211.62 secs\n"
          ]
        },
        {
          "name": "stderr",
          "output_type": "stream",
          "text": [
            "Epoch 12/50: 100%|██████████| 40/40 [02:09<00:00,  3.23s/it]\n"
          ]
        },
        {
          "name": "stdout",
          "output_type": "stream",
          "text": [
            "Epoch: 12 | Loss: 0.1471 | Training accuracy: 99.863% | Epoch Time: 227.30 secs\n"
          ]
        },
        {
          "name": "stderr",
          "output_type": "stream",
          "text": [
            "Epoch 13/50: 100%|██████████| 40/40 [01:37<00:00,  2.43s/it]\n"
          ]
        },
        {
          "name": "stdout",
          "output_type": "stream",
          "text": [
            "Epoch: 13 | Loss: 0.1411 | Training accuracy: 99.980% | Epoch Time: 226.66 secs\n"
          ]
        },
        {
          "name": "stderr",
          "output_type": "stream",
          "text": [
            "Epoch 14/50: 100%|██████████| 40/40 [01:20<00:00,  2.02s/it]\n"
          ]
        },
        {
          "name": "stdout",
          "output_type": "stream",
          "text": [
            "Epoch: 14 | Loss: 0.1358 | Training accuracy: 100.000% | Epoch Time: 197.25 secs\n"
          ]
        },
        {
          "name": "stderr",
          "output_type": "stream",
          "text": [
            "Epoch 15/50: 100%|██████████| 40/40 [02:57<00:00,  4.45s/it]\n"
          ]
        },
        {
          "name": "stdout",
          "output_type": "stream",
          "text": [
            "Epoch: 15 | Loss: 0.1204 | Training accuracy: 99.922% | Epoch Time: 277.43 secs\n"
          ]
        },
        {
          "name": "stderr",
          "output_type": "stream",
          "text": [
            "Epoch 16/50: 100%|██████████| 40/40 [01:26<00:00,  2.15s/it]\n"
          ]
        },
        {
          "name": "stdout",
          "output_type": "stream",
          "text": [
            "Epoch: 16 | Loss: 0.1174 | Training accuracy: 99.980% | Epoch Time: 204.23 secs\n"
          ]
        },
        {
          "name": "stderr",
          "output_type": "stream",
          "text": [
            "Epoch 17/50: 100%|██████████| 40/40 [02:31<00:00,  3.79s/it]\n"
          ]
        },
        {
          "name": "stdout",
          "output_type": "stream",
          "text": [
            "Epoch: 17 | Loss: 0.1080 | Training accuracy: 100.000% | Epoch Time: 272.04 secs\n"
          ]
        },
        {
          "name": "stderr",
          "output_type": "stream",
          "text": [
            "Epoch 18/50: 100%|██████████| 40/40 [01:21<00:00,  2.03s/it]\n"
          ]
        },
        {
          "name": "stdout",
          "output_type": "stream",
          "text": [
            "Epoch: 18 | Loss: 0.1068 | Training accuracy: 100.000% | Epoch Time: 217.16 secs\n"
          ]
        },
        {
          "name": "stderr",
          "output_type": "stream",
          "text": [
            "Epoch 19/50: 100%|██████████| 40/40 [02:32<00:00,  3.81s/it]\n"
          ]
        },
        {
          "name": "stdout",
          "output_type": "stream",
          "text": [
            "Epoch: 19 | Loss: 0.0935 | Training accuracy: 100.000% | Epoch Time: 328.38 secs\n"
          ]
        },
        {
          "name": "stderr",
          "output_type": "stream",
          "text": [
            "Epoch 20/50: 100%|██████████| 40/40 [01:16<00:00,  1.90s/it]\n"
          ]
        },
        {
          "name": "stdout",
          "output_type": "stream",
          "text": [
            "Epoch: 20 | Loss: 0.0919 | Training accuracy: 100.000% | Epoch Time: 246.23 secs\n",
            "==> Saving model ...\n",
            "saved as ./checkpoints/DINO_v2_FT_071023_03102024.pth\n"
          ]
        },
        {
          "name": "stderr",
          "output_type": "stream",
          "text": [
            "Epoch 21/50: 100%|██████████| 40/40 [03:30<00:00,  5.25s/it]\n"
          ]
        },
        {
          "name": "stdout",
          "output_type": "stream",
          "text": [
            "Epoch: 21 | Loss: 0.0838 | Training accuracy: 100.000% | Epoch Time: 346.22 secs\n"
          ]
        },
        {
          "name": "stderr",
          "output_type": "stream",
          "text": [
            "Epoch 22/50: 100%|██████████| 40/40 [01:58<00:00,  2.95s/it]\n"
          ]
        },
        {
          "name": "stdout",
          "output_type": "stream",
          "text": [
            "Epoch: 22 | Loss: 0.0828 | Training accuracy: 99.980% | Epoch Time: 218.18 secs\n"
          ]
        },
        {
          "name": "stderr",
          "output_type": "stream",
          "text": [
            "Epoch 23/50: 100%|██████████| 40/40 [03:44<00:00,  5.62s/it]\n"
          ]
        },
        {
          "name": "stdout",
          "output_type": "stream",
          "text": [
            "Epoch: 23 | Loss: 0.0816 | Training accuracy: 100.000% | Epoch Time: 389.49 secs\n"
          ]
        },
        {
          "name": "stderr",
          "output_type": "stream",
          "text": [
            "Epoch 24/50: 100%|██████████| 40/40 [01:23<00:00,  2.09s/it]\n"
          ]
        },
        {
          "name": "stdout",
          "output_type": "stream",
          "text": [
            "Epoch: 24 | Loss: 0.0785 | Training accuracy: 99.980% | Epoch Time: 192.05 secs\n"
          ]
        },
        {
          "name": "stderr",
          "output_type": "stream",
          "text": [
            "Epoch 25/50: 100%|██████████| 40/40 [02:49<00:00,  4.24s/it]\n"
          ]
        },
        {
          "name": "stdout",
          "output_type": "stream",
          "text": [
            "Epoch: 25 | Loss: 0.0858 | Training accuracy: 100.000% | Epoch Time: 310.05 secs\n"
          ]
        },
        {
          "name": "stderr",
          "output_type": "stream",
          "text": [
            "Epoch 26/50: 100%|██████████| 40/40 [02:19<00:00,  3.49s/it]\n"
          ]
        },
        {
          "name": "stdout",
          "output_type": "stream",
          "text": [
            "Epoch: 26 | Loss: 0.0714 | Training accuracy: 99.980% | Epoch Time: 266.92 secs\n"
          ]
        },
        {
          "name": "stderr",
          "output_type": "stream",
          "text": [
            "Epoch 27/50: 100%|██████████| 40/40 [03:19<00:00,  4.99s/it]\n"
          ]
        },
        {
          "name": "stdout",
          "output_type": "stream",
          "text": [
            "Epoch: 27 | Loss: 0.0734 | Training accuracy: 100.000% | Epoch Time: 288.53 secs\n"
          ]
        },
        {
          "name": "stderr",
          "output_type": "stream",
          "text": [
            "Epoch 28/50: 100%|██████████| 40/40 [01:28<00:00,  2.20s/it]\n"
          ]
        },
        {
          "name": "stdout",
          "output_type": "stream",
          "text": [
            "Epoch: 28 | Loss: 0.0657 | Training accuracy: 100.000% | Epoch Time: 202.00 secs\n"
          ]
        },
        {
          "name": "stderr",
          "output_type": "stream",
          "text": [
            "Epoch 29/50: 100%|██████████| 40/40 [01:58<00:00,  2.97s/it]\n"
          ]
        },
        {
          "name": "stdout",
          "output_type": "stream",
          "text": [
            "Epoch: 29 | Loss: 0.0695 | Training accuracy: 100.000% | Epoch Time: 253.67 secs\n"
          ]
        },
        {
          "name": "stderr",
          "output_type": "stream",
          "text": [
            "Epoch 30/50: 100%|██████████| 40/40 [01:41<00:00,  2.53s/it]\n"
          ]
        },
        {
          "name": "stdout",
          "output_type": "stream",
          "text": [
            "Epoch: 30 | Loss: 0.0693 | Training accuracy: 100.000% | Epoch Time: 227.27 secs\n",
            "==> Saving model ...\n",
            "saved as ./checkpoints/DINO_v2_FT_075518_03102024.pth\n"
          ]
        },
        {
          "name": "stderr",
          "output_type": "stream",
          "text": [
            "Epoch 31/50: 100%|██████████| 40/40 [01:38<00:00,  2.45s/it]\n"
          ]
        },
        {
          "name": "stdout",
          "output_type": "stream",
          "text": [
            "Epoch: 31 | Loss: 0.0485 | Training accuracy: 100.000% | Epoch Time: 256.12 secs\n"
          ]
        },
        {
          "name": "stderr",
          "output_type": "stream",
          "text": [
            "Epoch 32/50: 100%|██████████| 40/40 [01:43<00:00,  2.59s/it]\n"
          ]
        },
        {
          "name": "stdout",
          "output_type": "stream",
          "text": [
            "Epoch: 32 | Loss: 0.0635 | Training accuracy: 100.000% | Epoch Time: 229.91 secs\n"
          ]
        },
        {
          "name": "stderr",
          "output_type": "stream",
          "text": [
            "Epoch 33/50: 100%|██████████| 40/40 [01:44<00:00,  2.61s/it]\n"
          ]
        },
        {
          "name": "stdout",
          "output_type": "stream",
          "text": [
            "Epoch: 33 | Loss: 0.0538 | Training accuracy: 100.000% | Epoch Time: 231.57 secs\n"
          ]
        },
        {
          "name": "stderr",
          "output_type": "stream",
          "text": [
            "Epoch 34/50: 100%|██████████| 40/40 [01:58<00:00,  2.95s/it]\n"
          ]
        },
        {
          "name": "stdout",
          "output_type": "stream",
          "text": [
            "Epoch: 34 | Loss: 0.0585 | Training accuracy: 100.000% | Epoch Time: 249.20 secs\n"
          ]
        },
        {
          "name": "stderr",
          "output_type": "stream",
          "text": [
            "Epoch 35/50: 100%|██████████| 40/40 [01:47<00:00,  2.69s/it]\n"
          ]
        },
        {
          "name": "stdout",
          "output_type": "stream",
          "text": [
            "Epoch: 35 | Loss: 0.0512 | Training accuracy: 100.000% | Epoch Time: 227.89 secs\n"
          ]
        },
        {
          "name": "stderr",
          "output_type": "stream",
          "text": [
            "Epoch 36/50: 100%|██████████| 40/40 [01:49<00:00,  2.75s/it]\n"
          ]
        },
        {
          "name": "stdout",
          "output_type": "stream",
          "text": [
            "Epoch: 36 | Loss: 0.0507 | Training accuracy: 100.000% | Epoch Time: 239.09 secs\n"
          ]
        },
        {
          "name": "stderr",
          "output_type": "stream",
          "text": [
            "Epoch 37/50: 100%|██████████| 40/40 [01:49<00:00,  2.75s/it]\n"
          ]
        },
        {
          "name": "stdout",
          "output_type": "stream",
          "text": [
            "Epoch: 37 | Loss: 0.0506 | Training accuracy: 100.000% | Epoch Time: 243.32 secs\n"
          ]
        },
        {
          "name": "stderr",
          "output_type": "stream",
          "text": [
            "Epoch 38/50: 100%|██████████| 40/40 [01:58<00:00,  2.97s/it]\n"
          ]
        },
        {
          "name": "stdout",
          "output_type": "stream",
          "text": [
            "Epoch: 38 | Loss: 0.0469 | Training accuracy: 100.000% | Epoch Time: 246.60 secs\n"
          ]
        },
        {
          "name": "stderr",
          "output_type": "stream",
          "text": [
            "Epoch 39/50: 100%|██████████| 40/40 [01:45<00:00,  2.63s/it]\n"
          ]
        },
        {
          "name": "stdout",
          "output_type": "stream",
          "text": [
            "Epoch: 39 | Loss: 0.0535 | Training accuracy: 100.000% | Epoch Time: 247.08 secs\n"
          ]
        },
        {
          "name": "stderr",
          "output_type": "stream",
          "text": [
            "Epoch 40/50: 100%|██████████| 40/40 [02:23<00:00,  3.58s/it]\n"
          ]
        },
        {
          "name": "stdout",
          "output_type": "stream",
          "text": [
            "Epoch: 40 | Loss: 0.0440 | Training accuracy: 100.000% | Epoch Time: 290.80 secs\n",
            "==> Saving model ...\n",
            "saved as ./checkpoints/DINO_v2_FT_083619_03102024.pth\n"
          ]
        },
        {
          "name": "stderr",
          "output_type": "stream",
          "text": [
            "Epoch 41/50: 100%|██████████| 40/40 [01:53<00:00,  2.83s/it]\n"
          ]
        },
        {
          "name": "stdout",
          "output_type": "stream",
          "text": [
            "Epoch: 41 | Loss: 0.0483 | Training accuracy: 100.000% | Epoch Time: 259.40 secs\n"
          ]
        },
        {
          "name": "stderr",
          "output_type": "stream",
          "text": [
            "Epoch 42/50: 100%|██████████| 40/40 [01:59<00:00,  2.98s/it]\n"
          ]
        },
        {
          "name": "stdout",
          "output_type": "stream",
          "text": [
            "Epoch: 42 | Loss: 0.0476 | Training accuracy: 100.000% | Epoch Time: 273.88 secs\n"
          ]
        },
        {
          "name": "stderr",
          "output_type": "stream",
          "text": [
            "Epoch 43/50: 100%|██████████| 40/40 [01:45<00:00,  2.63s/it]\n"
          ]
        },
        {
          "name": "stdout",
          "output_type": "stream",
          "text": [
            "Epoch: 43 | Loss: 0.0476 | Training accuracy: 100.000% | Epoch Time: 230.40 secs\n"
          ]
        },
        {
          "name": "stderr",
          "output_type": "stream",
          "text": [
            "Epoch 44/50: 100%|██████████| 40/40 [01:43<00:00,  2.59s/it]\n"
          ]
        },
        {
          "name": "stdout",
          "output_type": "stream",
          "text": [
            "Epoch: 44 | Loss: 0.0453 | Training accuracy: 100.000% | Epoch Time: 238.64 secs\n"
          ]
        },
        {
          "name": "stderr",
          "output_type": "stream",
          "text": [
            "Epoch 45/50: 100%|██████████| 40/40 [01:23<00:00,  2.09s/it]\n"
          ]
        },
        {
          "name": "stdout",
          "output_type": "stream",
          "text": [
            "Epoch: 45 | Loss: 0.0388 | Training accuracy: 100.000% | Epoch Time: 210.33 secs\n"
          ]
        },
        {
          "name": "stderr",
          "output_type": "stream",
          "text": [
            "Epoch 46/50: 100%|██████████| 40/40 [01:23<00:00,  2.10s/it]\n"
          ]
        },
        {
          "name": "stdout",
          "output_type": "stream",
          "text": [
            "Epoch: 46 | Loss: 0.0453 | Training accuracy: 100.000% | Epoch Time: 205.50 secs\n"
          ]
        },
        {
          "name": "stderr",
          "output_type": "stream",
          "text": [
            "Epoch 47/50: 100%|██████████| 40/40 [01:22<00:00,  2.07s/it]\n"
          ]
        },
        {
          "name": "stdout",
          "output_type": "stream",
          "text": [
            "Epoch: 47 | Loss: 0.0445 | Training accuracy: 100.000% | Epoch Time: 207.16 secs\n"
          ]
        },
        {
          "name": "stderr",
          "output_type": "stream",
          "text": [
            "Epoch 48/50: 100%|██████████| 40/40 [01:18<00:00,  1.96s/it]\n"
          ]
        },
        {
          "name": "stdout",
          "output_type": "stream",
          "text": [
            "Epoch: 48 | Loss: 0.0456 | Training accuracy: 100.000% | Epoch Time: 197.77 secs\n"
          ]
        },
        {
          "name": "stderr",
          "output_type": "stream",
          "text": [
            "Epoch 49/50: 100%|██████████| 40/40 [01:17<00:00,  1.95s/it]\n"
          ]
        },
        {
          "name": "stdout",
          "output_type": "stream",
          "text": [
            "Epoch: 49 | Loss: 0.0462 | Training accuracy: 100.000% | Epoch Time: 195.58 secs\n"
          ]
        },
        {
          "name": "stderr",
          "output_type": "stream",
          "text": [
            "Epoch 50/50: 100%|██████████| 40/40 [01:22<00:00,  2.07s/it]\n"
          ]
        },
        {
          "name": "stdout",
          "output_type": "stream",
          "text": [
            "Epoch: 50 | Loss: 0.0416 | Training accuracy: 100.000% | Epoch Time: 183.82 secs\n",
            "==> Saving model ...\n",
            "saved as ./checkpoints/DINO_v2_FT_091302_03102024.pth\n"
          ]
        }
      ],
      "source": [
        "epoch_losses = utils_funcs.train(model, num_epochs, trainloader, device, criterion, optimizer, scheduler, augmentations)"
      ]
    },
    {
      "cell_type": "markdown",
      "metadata": {
        "id": "EbJ0dBbeVkzF"
      },
      "source": [
        "**Results**"
      ]
    },
    {
      "cell_type": "code",
      "execution_count": 15,
      "metadata": {},
      "outputs": [
        {
          "data": {
            "text/plain": [
              "<Figure size 800x600 with 0 Axes>"
            ]
          },
          "metadata": {},
          "output_type": "display_data"
        },
        {
          "data": {
            "image/png": "[encoded data removed]",
            "text/plain": [
              "<Figure size 640x480 with 2 Axes>"
            ]
          },
          "metadata": {},
          "output_type": "display_data"
        }
      ],
      "source": [
        "class_names = ['VeryMildDemented', 'NonDemented', 'ModerateDemented', 'MildDemented']\n",
        "utils_funcs.plot_normalized_confusion_matrix(testloader, model, class_names, device, model_name)"
      ]
    },
    {
      "cell_type": "code",
      "execution_count": 16,
      "metadata": {
        "colab": {
          "base_uri": "https://localhost:8080/",
          "height": 507
        },
        "id": "g7O4VexWVcyQ",
        "outputId": "31a8ce59-8229-46e2-fdbd-8b0233f20aec"
      },
      "outputs": [
        {
          "data": {
            "image/png": "[encoded data removed]",
            "text/plain": [
              "<Figure size 500x500 with 1 Axes>"
            ]
          },
          "metadata": {},
          "output_type": "display_data"
        }
      ],
      "source": [
        "utils_funcs.plot_loss_curve(epoch_losses, num_epochs)"
      ]
    },
    {
      "cell_type": "code",
      "execution_count": 17,
      "metadata": {
        "colab": {
          "base_uri": "https://localhost:8080/"
        },
        "id": "bWniJm-0VgEz",
        "outputId": "ce9017cc-6400-41c3-da40-610bb1516ae9"
      },
      "outputs": [
        {
          "name": "stdout",
          "output_type": "stream",
          "text": [
            "Test accuracy: 96.094%\n"
          ]
        }
      ],
      "source": [
        "test_accuracy = utils_funcs.calculate_accuracy(model, testloader, device)\n",
        "print(\"Test accuracy: {:.3f}%\".format(test_accuracy))"
      ]
    }
  ],
  "metadata": {
    "accelerator": "GPU",
    "colab": {
      "gpuType": "T4",
      "provenance": []
    },
    "kernelspec": {
      "display_name": "Python 3",
      "name": "python3"
    },
    "language_info": {
      "codemirror_mode": {
        "name": "ipython",
        "version": 3
      },
      "file_extension": ".py",
      "mimetype": "text/x-python",
      "name": "python",
      "nbconvert_exporter": "python",
      "pygments_lexer": "ipython3",
      "version": "3.10.14"
    }
  },
  "nbformat": 4,
  "nbformat_minor": 0
}
