{
  "cells": [
    {
      "cell_type": "markdown",
      "metadata": {
        "id": "CSXDJcczMrB6"
      },
      "source": [
        "# **MRI Brain Alzheimer Classification - Dino V2**"
      ]
    },
    {
      "cell_type": "markdown",
      "metadata": {
        "id": "wS-LcsglIn5e"
      },
      "source": [
        "**Clone Dataset from GitHub**"
      ]
    },
    {
      "cell_type": "code",
      "execution_count": 1,
      "metadata": {},
      "outputs": [
        {
          "name": "stdout",
          "output_type": "stream",
          "text": [
            "c:\\Dor\\TECHNION\\deep_learning\\Project\\MRI_Barin_Alzheimer_Classification\n"
          ]
        }
      ],
      "source": [
        "# Check if the directory exists and clone if it does not\n",
        "# !if [ ! -d \"MRI_Brain_Alzheimer_Classification\" ]; then git clone https://github.com/nivbartov/MRI_Brain_Alzheimer_Classification; fi\n",
        "\n",
        "# Change directory to the cloned repository\n",
        "# %cd MRI_Brain_Alzheimer_Classification\n",
        "%cd .."
      ]
    },
    {
      "cell_type": "markdown",
      "metadata": {},
      "source": [
        "**Install Packages**"
      ]
    },
    {
      "cell_type": "code",
      "execution_count": 2,
      "metadata": {
        "id": "Gq0ikAVMMuUK"
      },
      "outputs": [],
      "source": [
        "# # !git clone https://github.com/facebookresearch/dinov2.git\n",
        "# !pip install --no-deps -r requirements.txt \n",
        "\n",
        "# !pip show xformers || pip3 install -U xformers --index-url https://download.pytorch.org/whl/cu124\n",
        "# !pip show torchvision || pip install torchvision\n",
        "# !pip show optuna || pip install optuna\n",
        "# !pip show tqdm || pip install tqdm"
      ]
    },
    {
      "cell_type": "markdown",
      "metadata": {
        "id": "mEWgxGwpIvtv"
      },
      "source": [
        "**Import Packages**"
      ]
    },
    {
      "cell_type": "code",
      "execution_count": 3,
      "metadata": {
        "colab": {
          "base_uri": "https://localhost:8080/"
        },
        "id": "v_yU5PXHEX4x",
        "outputId": "d6964a73-4847-43ec-d164-e29b28e9b3a3"
      },
      "outputs": [],
      "source": [
        "# Suppress user and future warnings\n",
        "import warnings\n",
        "warnings.filterwarnings(\"ignore\", category=FutureWarning)\n",
        "warnings.filterwarnings(\"ignore\", category=UserWarning)\n",
        "\n",
        "# imports\n",
        "import sys\n",
        "import os\n",
        "import numpy as np\n",
        "import pandas as pd\n",
        "import torch\n",
        "from torchsummary import summary\n",
        "import torch.nn as nn\n",
        "from torch.utils.data import TensorDataset, DataLoader, Subset, ConcatDataset\n",
        "import torchvision\n",
        "import torchvision.datasets as datasets\n",
        "import torchvision.transforms as transforms\n",
        "from kornia import augmentation as K\n",
        "from kornia.augmentation import AugmentationSequential\n",
        "from torch.optim.lr_scheduler import CosineAnnealingLR, StepLR\n",
        "import matplotlib.pyplot as plt\n",
        "%matplotlib inline\n",
        "from tqdm import tqdm\n",
        "import random\n",
        "import time\n",
        "\n",
        "\n",
        "# repository imports\n",
        "from models import def_models\n",
        "from utils import utils_funcs\n",
        "from utils import optuna_search\n"
      ]
    },
    {
      "cell_type": "markdown",
      "metadata": {},
      "source": [
        "**Device Definition**"
      ]
    },
    {
      "cell_type": "code",
      "execution_count": 4,
      "metadata": {},
      "outputs": [
        {
          "name": "stdout",
          "output_type": "stream",
          "text": [
            "torch.cuda.is_available(): True\n",
            "device: cuda:0\n"
          ]
        }
      ],
      "source": [
        "# check if there is a CUDA device available \n",
        "print(f'torch.cuda.is_available(): {torch.cuda.is_available()}')\n",
        "\n",
        "# device\n",
        "device = torch.device(\"cuda:0\" if torch.cuda.is_available() else \"cpu\")\n",
        "print(f'device: {device}')\n",
        "torch.cuda.empty_cache()"
      ]
    },
    {
      "cell_type": "markdown",
      "metadata": {
        "id": "1mLsGXKEKVJy"
      },
      "source": [
        "**Load the Dataset**"
      ]
    },
    {
      "cell_type": "code",
      "execution_count": 5,
      "metadata": {
        "id": "YuDq65E6UMbl"
      },
      "outputs": [],
      "source": [
        "train_set = torch.load('dataset/dataset_variables/train_set.pt')\n",
        "validation_set = torch.load('dataset/dataset_variables/validation_set.pt')\n",
        "test_set = torch.load('dataset/dataset_variables/test_set.pt')"
      ]
    },
    {
      "cell_type": "markdown",
      "metadata": {},
      "source": [
        "**Pre-processing of the data**"
      ]
    },
    {
      "cell_type": "code",
      "execution_count": 6,
      "metadata": {},
      "outputs": [],
      "source": [
        "# Resize images from 128x128 to 224x224 transformation\n",
        "preprocess = transforms.Compose([\n",
        "    transforms.Resize((224, 224)), \n",
        "    transforms.ToTensor()\n",
        "])\n",
        "\n",
        "# Apply transformations to the datasets\n",
        "train_set = utils_funcs.apply_transformations(train_set, preprocess)\n",
        "validation_set = utils_funcs.apply_transformations(validation_set, preprocess)\n",
        "test_set = utils_funcs.apply_transformations(test_set, preprocess)"
      ]
    },
    {
      "cell_type": "markdown",
      "metadata": {
        "id": "eCYl_TtCNRRy"
      },
      "source": [
        "**Model Definition and Initialization**"
      ]
    },
    {
      "cell_type": "code",
      "execution_count": 7,
      "metadata": {
        "id": "h0rr3nWPNoN8"
      },
      "outputs": [
        {
          "name": "stderr",
          "output_type": "stream",
          "text": [
            "Using cache found in C:\\Users\\97252/.cache\\torch\\hub\\facebookresearch_dinov2_main\n"
          ]
        }
      ],
      "source": [
        "# Initialize in,out channels, width and height sizes\n",
        "input_channels = 3\n",
        "width = 224\n",
        "height = 224\n",
        "output_channels = 4\n",
        "\n",
        "dino_v2_model = torch.hub.load('facebookresearch/dinov2', 'dinov2_vits14')\n",
        "\n",
        "# freeze dino_v2 layers\n",
        "for param in dino_v2_model.parameters():\n",
        "    param.requires_grad = False\n",
        "    \n",
        "\n",
        "# make the model\n",
        "model = def_models.DINO_v2_FT(dino_backbone=dino_v2_model, output_channels=output_channels).to(device)"
      ]
    },
    {
      "cell_type": "markdown",
      "metadata": {},
      "source": [
        "**Model Statistics**"
      ]
    },
    {
      "cell_type": "code",
      "execution_count": 8,
      "metadata": {},
      "outputs": [
        {
          "name": "stdout",
          "output_type": "stream",
          "text": [
            "model  DINO_v2_FT  statistics\n",
            "----------------------------------------------------------------\n",
            "        Layer (type)               Output Shape         Param #\n",
            "================================================================\n",
            "            Conv2d-1          [-1, 384, 16, 16]         226,176\n",
            "          Identity-2             [-1, 256, 384]               0\n",
            "        PatchEmbed-3             [-1, 256, 384]               0\n",
            "         LayerNorm-4             [-1, 257, 384]             768\n",
            "            Linear-5            [-1, 257, 1152]         443,520\n",
            "            Linear-6             [-1, 257, 384]         147,840\n",
            "           Dropout-7             [-1, 257, 384]               0\n",
            "   MemEffAttention-8             [-1, 257, 384]               0\n",
            "        LayerScale-9             [-1, 257, 384]               0\n",
            "        LayerNorm-10             [-1, 257, 384]             768\n",
            "           Linear-11            [-1, 257, 1536]         591,360\n",
            "             GELU-12            [-1, 257, 1536]               0\n",
            "          Dropout-13            [-1, 257, 1536]               0\n",
            "           Linear-14             [-1, 257, 384]         590,208\n",
            "          Dropout-15             [-1, 257, 384]               0\n",
            "              Mlp-16             [-1, 257, 384]               0\n",
            "       LayerScale-17             [-1, 257, 384]               0\n",
            "NestedTensorBlock-18             [-1, 257, 384]               0\n",
            "        LayerNorm-19             [-1, 257, 384]             768\n",
            "           Linear-20            [-1, 257, 1152]         443,520\n",
            "           Linear-21             [-1, 257, 384]         147,840\n",
            "          Dropout-22             [-1, 257, 384]               0\n",
            "  MemEffAttention-23             [-1, 257, 384]               0\n",
            "       LayerScale-24             [-1, 257, 384]               0\n",
            "        LayerNorm-25             [-1, 257, 384]             768\n",
            "           Linear-26            [-1, 257, 1536]         591,360\n",
            "             GELU-27            [-1, 257, 1536]               0\n",
            "          Dropout-28            [-1, 257, 1536]               0\n",
            "           Linear-29             [-1, 257, 384]         590,208\n",
            "          Dropout-30             [-1, 257, 384]               0\n",
            "              Mlp-31             [-1, 257, 384]               0\n",
            "       LayerScale-32             [-1, 257, 384]               0\n",
            "NestedTensorBlock-33             [-1, 257, 384]               0\n",
            "        LayerNorm-34             [-1, 257, 384]             768\n",
            "           Linear-35            [-1, 257, 1152]         443,520\n",
            "           Linear-36             [-1, 257, 384]         147,840\n",
            "          Dropout-37             [-1, 257, 384]               0\n",
            "  MemEffAttention-38             [-1, 257, 384]               0\n",
            "       LayerScale-39             [-1, 257, 384]               0\n",
            "        LayerNorm-40             [-1, 257, 384]             768\n",
            "           Linear-41            [-1, 257, 1536]         591,360\n",
            "             GELU-42            [-1, 257, 1536]               0\n",
            "          Dropout-43            [-1, 257, 1536]               0\n",
            "           Linear-44             [-1, 257, 384]         590,208\n",
            "          Dropout-45             [-1, 257, 384]               0\n",
            "              Mlp-46             [-1, 257, 384]               0\n",
            "       LayerScale-47             [-1, 257, 384]               0\n",
            "NestedTensorBlock-48             [-1, 257, 384]               0\n",
            "        LayerNorm-49             [-1, 257, 384]             768\n",
            "           Linear-50            [-1, 257, 1152]         443,520\n",
            "           Linear-51             [-1, 257, 384]         147,840\n",
            "          Dropout-52             [-1, 257, 384]               0\n",
            "  MemEffAttention-53             [-1, 257, 384]               0\n",
            "       LayerScale-54             [-1, 257, 384]               0\n",
            "        LayerNorm-55             [-1, 257, 384]             768\n",
            "           Linear-56            [-1, 257, 1536]         591,360\n",
            "             GELU-57            [-1, 257, 1536]               0\n",
            "          Dropout-58            [-1, 257, 1536]               0\n",
            "           Linear-59             [-1, 257, 384]         590,208\n",
            "          Dropout-60             [-1, 257, 384]               0\n",
            "              Mlp-61             [-1, 257, 384]               0\n",
            "       LayerScale-62             [-1, 257, 384]               0\n",
            "NestedTensorBlock-63             [-1, 257, 384]               0\n",
            "        LayerNorm-64             [-1, 257, 384]             768\n",
            "           Linear-65            [-1, 257, 1152]         443,520\n",
            "           Linear-66             [-1, 257, 384]         147,840\n",
            "          Dropout-67             [-1, 257, 384]               0\n",
            "  MemEffAttention-68             [-1, 257, 384]               0\n",
            "       LayerScale-69             [-1, 257, 384]               0\n",
            "        LayerNorm-70             [-1, 257, 384]             768\n",
            "           Linear-71            [-1, 257, 1536]         591,360\n",
            "             GELU-72            [-1, 257, 1536]               0\n",
            "          Dropout-73            [-1, 257, 1536]               0\n",
            "           Linear-74             [-1, 257, 384]         590,208\n",
            "          Dropout-75             [-1, 257, 384]               0\n",
            "              Mlp-76             [-1, 257, 384]               0\n",
            "       LayerScale-77             [-1, 257, 384]               0\n",
            "NestedTensorBlock-78             [-1, 257, 384]               0\n",
            "        LayerNorm-79             [-1, 257, 384]             768\n",
            "           Linear-80            [-1, 257, 1152]         443,520\n",
            "           Linear-81             [-1, 257, 384]         147,840\n",
            "          Dropout-82             [-1, 257, 384]               0\n",
            "  MemEffAttention-83             [-1, 257, 384]               0\n",
            "       LayerScale-84             [-1, 257, 384]               0\n",
            "        LayerNorm-85             [-1, 257, 384]             768\n",
            "           Linear-86            [-1, 257, 1536]         591,360\n",
            "             GELU-87            [-1, 257, 1536]               0\n",
            "          Dropout-88            [-1, 257, 1536]               0\n",
            "           Linear-89             [-1, 257, 384]         590,208\n",
            "          Dropout-90             [-1, 257, 384]               0\n",
            "              Mlp-91             [-1, 257, 384]               0\n",
            "       LayerScale-92             [-1, 257, 384]               0\n",
            "NestedTensorBlock-93             [-1, 257, 384]               0\n",
            "        LayerNorm-94             [-1, 257, 384]             768\n",
            "           Linear-95            [-1, 257, 1152]         443,520\n",
            "           Linear-96             [-1, 257, 384]         147,840\n",
            "          Dropout-97             [-1, 257, 384]               0\n",
            "  MemEffAttention-98             [-1, 257, 384]               0\n",
            "       LayerScale-99             [-1, 257, 384]               0\n",
            "       LayerNorm-100             [-1, 257, 384]             768\n",
            "          Linear-101            [-1, 257, 1536]         591,360\n",
            "            GELU-102            [-1, 257, 1536]               0\n",
            "         Dropout-103            [-1, 257, 1536]               0\n",
            "          Linear-104             [-1, 257, 384]         590,208\n",
            "         Dropout-105             [-1, 257, 384]               0\n",
            "             Mlp-106             [-1, 257, 384]               0\n",
            "      LayerScale-107             [-1, 257, 384]               0\n",
            "NestedTensorBlock-108             [-1, 257, 384]               0\n",
            "       LayerNorm-109             [-1, 257, 384]             768\n",
            "          Linear-110            [-1, 257, 1152]         443,520\n",
            "          Linear-111             [-1, 257, 384]         147,840\n",
            "         Dropout-112             [-1, 257, 384]               0\n",
            " MemEffAttention-113             [-1, 257, 384]               0\n",
            "      LayerScale-114             [-1, 257, 384]               0\n",
            "       LayerNorm-115             [-1, 257, 384]             768\n",
            "          Linear-116            [-1, 257, 1536]         591,360\n",
            "            GELU-117            [-1, 257, 1536]               0\n",
            "         Dropout-118            [-1, 257, 1536]               0\n",
            "          Linear-119             [-1, 257, 384]         590,208\n",
            "         Dropout-120             [-1, 257, 384]               0\n",
            "             Mlp-121             [-1, 257, 384]               0\n",
            "      LayerScale-122             [-1, 257, 384]               0\n",
            "NestedTensorBlock-123             [-1, 257, 384]               0\n",
            "       LayerNorm-124             [-1, 257, 384]             768\n",
            "          Linear-125            [-1, 257, 1152]         443,520\n",
            "          Linear-126             [-1, 257, 384]         147,840\n",
            "         Dropout-127             [-1, 257, 384]               0\n",
            " MemEffAttention-128             [-1, 257, 384]               0\n",
            "      LayerScale-129             [-1, 257, 384]               0\n",
            "       LayerNorm-130             [-1, 257, 384]             768\n",
            "          Linear-131            [-1, 257, 1536]         591,360\n",
            "            GELU-132            [-1, 257, 1536]               0\n",
            "         Dropout-133            [-1, 257, 1536]               0\n",
            "          Linear-134             [-1, 257, 384]         590,208\n",
            "         Dropout-135             [-1, 257, 384]               0\n",
            "             Mlp-136             [-1, 257, 384]               0\n",
            "      LayerScale-137             [-1, 257, 384]               0\n",
            "NestedTensorBlock-138             [-1, 257, 384]               0\n",
            "       LayerNorm-139             [-1, 257, 384]             768\n",
            "          Linear-140            [-1, 257, 1152]         443,520\n",
            "          Linear-141             [-1, 257, 384]         147,840\n",
            "         Dropout-142             [-1, 257, 384]               0\n",
            " MemEffAttention-143             [-1, 257, 384]               0\n",
            "      LayerScale-144             [-1, 257, 384]               0\n",
            "       LayerNorm-145             [-1, 257, 384]             768\n",
            "          Linear-146            [-1, 257, 1536]         591,360\n",
            "            GELU-147            [-1, 257, 1536]               0\n",
            "         Dropout-148            [-1, 257, 1536]               0\n",
            "          Linear-149             [-1, 257, 384]         590,208\n",
            "         Dropout-150             [-1, 257, 384]               0\n",
            "             Mlp-151             [-1, 257, 384]               0\n",
            "      LayerScale-152             [-1, 257, 384]               0\n",
            "NestedTensorBlock-153             [-1, 257, 384]               0\n",
            "       LayerNorm-154             [-1, 257, 384]             768\n",
            "          Linear-155            [-1, 257, 1152]         443,520\n",
            "          Linear-156             [-1, 257, 384]         147,840\n",
            "         Dropout-157             [-1, 257, 384]               0\n",
            " MemEffAttention-158             [-1, 257, 384]               0\n",
            "      LayerScale-159             [-1, 257, 384]               0\n",
            "       LayerNorm-160             [-1, 257, 384]             768\n",
            "          Linear-161            [-1, 257, 1536]         591,360\n",
            "            GELU-162            [-1, 257, 1536]               0\n",
            "         Dropout-163            [-1, 257, 1536]               0\n",
            "          Linear-164             [-1, 257, 384]         590,208\n",
            "         Dropout-165             [-1, 257, 384]               0\n",
            "             Mlp-166             [-1, 257, 384]               0\n",
            "      LayerScale-167             [-1, 257, 384]               0\n",
            "NestedTensorBlock-168             [-1, 257, 384]               0\n",
            "       LayerNorm-169             [-1, 257, 384]             768\n",
            "          Linear-170            [-1, 257, 1152]         443,520\n",
            "          Linear-171             [-1, 257, 384]         147,840\n",
            "         Dropout-172             [-1, 257, 384]               0\n",
            " MemEffAttention-173             [-1, 257, 384]               0\n",
            "      LayerScale-174             [-1, 257, 384]               0\n",
            "       LayerNorm-175             [-1, 257, 384]             768\n",
            "          Linear-176            [-1, 257, 1536]         591,360\n",
            "            GELU-177            [-1, 257, 1536]               0\n",
            "         Dropout-178            [-1, 257, 1536]               0\n",
            "          Linear-179             [-1, 257, 384]         590,208\n",
            "         Dropout-180             [-1, 257, 384]               0\n",
            "             Mlp-181             [-1, 257, 384]               0\n",
            "      LayerScale-182             [-1, 257, 384]               0\n",
            "NestedTensorBlock-183             [-1, 257, 384]               0\n",
            "       LayerNorm-184             [-1, 257, 384]             768\n",
            "        Identity-185                  [-1, 384]               0\n",
            "DinoVisionTransformer-186                  [-1, 384]               0\n",
            "          Linear-187                 [-1, 2048]         788,480\n",
            "     BatchNorm1d-188                 [-1, 2048]           4,096\n",
            "            GELU-189                 [-1, 2048]               0\n",
            "         Dropout-190                 [-1, 2048]               0\n",
            "          Linear-191                 [-1, 2048]       4,196,352\n",
            "     BatchNorm1d-192                 [-1, 2048]           4,096\n",
            "            GELU-193                 [-1, 2048]               0\n",
            "         Dropout-194                 [-1, 2048]               0\n",
            "          Linear-195                 [-1, 2048]       4,196,352\n",
            "     BatchNorm1d-196                 [-1, 2048]           4,096\n",
            "            GELU-197                 [-1, 2048]               0\n",
            "         Dropout-198                 [-1, 2048]               0\n",
            "          Linear-199                 [-1, 1000]       2,049,000\n",
            "     BatchNorm1d-200                 [-1, 1000]           2,000\n",
            "            GELU-201                 [-1, 1000]               0\n",
            "         Dropout-202                 [-1, 1000]               0\n",
            "          Linear-203                    [-1, 4]           4,004\n",
            "================================================================\n",
            "Total params: 32,768,988\n",
            "Trainable params: 11,248,476\n",
            "Non-trainable params: 21,520,512\n",
            "----------------------------------------------------------------\n",
            "Input size (MB): 0.57\n",
            "Forward/backward pass size (MB): 238.14\n",
            "Params size (MB): 125.00\n",
            "Estimated Total Size (MB): 363.72\n",
            "----------------------------------------------------------------\n",
            "Total parameters: 33305052\n",
            "Trainable parameters: 11248476\n"
          ]
        }
      ],
      "source": [
        "# model statistics\n",
        "model_name = type(model).__name__\n",
        "print(\"model \", model_name,\" statistics\")\n",
        "summary(model, (input_channels, height, width))\n",
        "\n",
        "total_params = sum(p.numel() for p in model.parameters())\n",
        "trainable_params = sum(p.numel() for p in model.parameters() if p.requires_grad)\n",
        "\n",
        "print(f\"Total parameters: {total_params}\")\n",
        "print(f\"Trainable parameters: {trainable_params}\")"
      ]
    },
    {
      "cell_type": "markdown",
      "metadata": {},
      "source": [
        "**Optuna**"
      ]
    },
    {
      "cell_type": "code",
      "execution_count": 9,
      "metadata": {},
      "outputs": [
        {
          "name": "stderr",
          "output_type": "stream",
          "text": [
            "[I 2024-10-01 23:22:37,268] A new study created in memory with name: mri-alzhimer-classification\n"
          ]
        },
        {
          "name": "stdout",
          "output_type": "stream",
          "text": [
            "Optuna is done on device: cuda:0\n"
          ]
        },
        {
          "name": "stderr",
          "output_type": "stream",
          "text": [
            "Using cache found in C:\\Users\\97252/.cache\\torch\\hub\\facebookresearch_dinov2_main\n",
            "100%|██████████| 10/10 [07:58<00:00, 47.85s/it]\n",
            "[I 2024-10-01 23:30:49,978] Trial 0 finished with value: 0.8 and parameters: {'lr': 0.018043434846857755, 'optimizer': 'SGD', 'batch_size': 256, 'scheduler': 'CosineAnnealingLR'}. Best is trial 0 with value: 0.8.\n",
            "Using cache found in C:\\Users\\97252/.cache\\torch\\hub\\facebookresearch_dinov2_main\n",
            "100%|██████████| 10/10 [08:11<00:00, 49.11s/it]\n",
            "[I 2024-10-01 23:39:16,316] Trial 1 finished with value: 0.8125 and parameters: {'lr': 0.019037268193414877, 'optimizer': 'Adam', 'batch_size': 64, 'scheduler': 'CosineAnnealingLR'}. Best is trial 1 with value: 0.8125.\n",
            "Using cache found in C:\\Users\\97252/.cache\\torch\\hub\\facebookresearch_dinov2_main\n",
            "100%|██████████| 10/10 [08:51<00:00, 53.18s/it]\n",
            "[I 2024-10-01 23:48:22,944] Trial 2 finished with value: 0.6109375 and parameters: {'lr': 1.6026016667283474e-06, 'optimizer': 'Adam', 'batch_size': 64, 'scheduler': 'StepLR'}. Best is trial 1 with value: 0.8125.\n",
            "Using cache found in C:\\Users\\97252/.cache\\torch\\hub\\facebookresearch_dinov2_main\n",
            "100%|██████████| 10/10 [12:39<00:00, 75.97s/it]\n",
            "[I 2024-10-02 00:01:17,331] Trial 3 finished with value: 0.6546875 and parameters: {'lr': 4.17567467519753e-06, 'optimizer': 'Adam', 'batch_size': 128, 'scheduler': 'CosineAnnealingLR'}. Best is trial 1 with value: 0.8125.\n",
            "Using cache found in C:\\Users\\97252/.cache\\torch\\hub\\facebookresearch_dinov2_main\n",
            "100%|██████████| 10/10 [14:16<00:00, 85.68s/it]\n",
            "[I 2024-10-02 00:15:48,959] Trial 4 finished with value: 0.8359375 and parameters: {'lr': 0.0038432604706724817, 'optimizer': 'Adam', 'batch_size': 256, 'scheduler': 'StepLR'}. Best is trial 4 with value: 0.8359375.\n",
            "Using cache found in C:\\Users\\97252/.cache\\torch\\hub\\facebookresearch_dinov2_main\n",
            " 90%|█████████ | 9/10 [15:21<01:42, 102.40s/it]\n",
            "[I 2024-10-02 00:31:24,578] Trial 5 pruned. \n",
            "Using cache found in C:\\Users\\97252/.cache\\torch\\hub\\facebookresearch_dinov2_main\n",
            " 50%|█████     | 5/10 [09:09<09:09, 109.96s/it]\n",
            "[I 2024-10-02 00:40:48,505] Trial 6 pruned. \n",
            "Using cache found in C:\\Users\\97252/.cache\\torch\\hub\\facebookresearch_dinov2_main\n",
            "100%|██████████| 10/10 [16:28<00:00, 98.81s/it] \n",
            "[I 2024-10-02 00:57:31,930] Trial 7 finished with value: 0.9109375 and parameters: {'lr': 0.00014209161863054374, 'optimizer': 'Adam', 'batch_size': 128, 'scheduler': 'CosineAnnealingLR'}. Best is trial 7 with value: 0.9109375.\n",
            "Using cache found in C:\\Users\\97252/.cache\\torch\\hub\\facebookresearch_dinov2_main\n",
            "  0%|          | 0/10 [01:16<?, ?it/s]\n",
            "[I 2024-10-02 00:59:01,544] Trial 8 pruned. \n",
            "Using cache found in C:\\Users\\97252/.cache\\torch\\hub\\facebookresearch_dinov2_main\n",
            "  0%|          | 0/10 [01:49<?, ?it/s]\n",
            "[I 2024-10-02 01:01:05,592] Trial 9 pruned. \n",
            "Using cache found in C:\\Users\\97252/.cache\\torch\\hub\\facebookresearch_dinov2_main\n",
            "100%|██████████| 10/10 [07:17<00:00, 43.78s/it]\n",
            "[I 2024-10-02 01:08:38,085] Trial 10 finished with value: 0.81875 and parameters: {'lr': 8.989028816942469e-05, 'optimizer': 'RMSprop', 'batch_size': 32, 'scheduler': 'StepLR'}. Best is trial 7 with value: 0.9109375.\n",
            "Using cache found in C:\\Users\\97252/.cache\\torch\\hub\\facebookresearch_dinov2_main\n",
            "100%|██████████| 10/10 [15:13<00:00, 91.37s/it]\n",
            "[I 2024-10-02 01:24:05,834] Trial 11 finished with value: 0.9 and parameters: {'lr': 0.0006084668369943416, 'optimizer': 'Adam', 'batch_size': 256, 'scheduler': 'StepLR'}. Best is trial 7 with value: 0.9109375.\n",
            "Using cache found in C:\\Users\\97252/.cache\\torch\\hub\\facebookresearch_dinov2_main\n",
            "  0%|          | 0/10 [01:09<?, ?it/s]\n",
            "[I 2024-10-02 01:25:29,411] Trial 12 pruned. \n",
            "Using cache found in C:\\Users\\97252/.cache\\torch\\hub\\facebookresearch_dinov2_main\n",
            "100%|██████████| 10/10 [16:23<00:00, 98.31s/it] \n",
            "[I 2024-10-02 01:42:06,689] Trial 13 finished with value: 0.909375 and parameters: {'lr': 0.0007294459111068081, 'optimizer': 'Adam', 'batch_size': 256, 'scheduler': 'StepLR'}. Best is trial 7 with value: 0.9109375.\n",
            "Using cache found in C:\\Users\\97252/.cache\\torch\\hub\\facebookresearch_dinov2_main\n",
            "  0%|          | 0/10 [01:34<?, ?it/s]\n",
            "[I 2024-10-02 01:43:55,173] Trial 14 pruned. \n",
            "Using cache found in C:\\Users\\97252/.cache\\torch\\hub\\facebookresearch_dinov2_main\n",
            "100%|██████████| 10/10 [17:03<00:00, 102.39s/it]\n",
            "[I 2024-10-02 02:01:14,354] Trial 15 finished with value: 0.8875 and parameters: {'lr': 5.622104189615244e-05, 'optimizer': 'Adam', 'batch_size': 256, 'scheduler': 'StepLR'}. Best is trial 7 with value: 0.9109375.\n",
            "Using cache found in C:\\Users\\97252/.cache\\torch\\hub\\facebookresearch_dinov2_main\n",
            "  0%|          | 0/10 [00:37<?, ?it/s]\n",
            "[I 2024-10-02 02:02:05,547] Trial 16 pruned. \n",
            "Using cache found in C:\\Users\\97252/.cache\\torch\\hub\\facebookresearch_dinov2_main\n",
            "  0%|          | 0/10 [01:37<?, ?it/s]\n",
            "[I 2024-10-02 02:03:57,148] Trial 17 pruned. \n",
            "Using cache found in C:\\Users\\97252/.cache\\torch\\hub\\facebookresearch_dinov2_main\n",
            "100%|██████████| 10/10 [12:44<00:00, 76.48s/it]\n",
            "[I 2024-10-02 02:16:57,552] Trial 18 finished with value: 0.8875 and parameters: {'lr': 0.0002536647448424248, 'optimizer': 'Adam', 'batch_size': 64, 'scheduler': 'CosineAnnealingLR'}. Best is trial 7 with value: 0.9109375.\n",
            "Using cache found in C:\\Users\\97252/.cache\\torch\\hub\\facebookresearch_dinov2_main\n",
            "  0%|          | 0/10 [01:33<?, ?it/s]\n",
            "[I 2024-10-02 02:18:45,697] Trial 19 pruned. \n",
            "Using cache found in C:\\Users\\97252/.cache\\torch\\hub\\facebookresearch_dinov2_main\n",
            "  0%|          | 0/10 [01:22<?, ?it/s]\n",
            "[I 2024-10-02 02:20:22,570] Trial 20 pruned. \n",
            "Using cache found in C:\\Users\\97252/.cache\\torch\\hub\\facebookresearch_dinov2_main\n",
            "  0%|          | 0/10 [01:46<?, ?it/s]\n",
            "[I 2024-10-02 02:22:23,514] Trial 21 pruned. \n",
            "Using cache found in C:\\Users\\97252/.cache\\torch\\hub\\facebookresearch_dinov2_main\n",
            "100%|██████████| 10/10 [17:07<00:00, 102.77s/it]\n",
            "[I 2024-10-02 02:39:45,903] Trial 22 finished with value: 0.9 and parameters: {'lr': 0.0003113967373600538, 'optimizer': 'Adam', 'batch_size': 256, 'scheduler': 'StepLR'}. Best is trial 7 with value: 0.9109375.\n",
            "Using cache found in C:\\Users\\97252/.cache\\torch\\hub\\facebookresearch_dinov2_main\n",
            "100%|██████████| 10/10 [17:44<00:00, 106.49s/it]\n",
            "[I 2024-10-02 02:57:45,125] Trial 23 finished with value: 0.9109375 and parameters: {'lr': 0.00012180310923305572, 'optimizer': 'Adam', 'batch_size': 256, 'scheduler': 'StepLR'}. Best is trial 7 with value: 0.9109375.\n",
            "Using cache found in C:\\Users\\97252/.cache\\torch\\hub\\facebookresearch_dinov2_main\n",
            "  0%|          | 0/10 [02:10<?, ?it/s]\n",
            "[I 2024-10-02 03:00:10,699] Trial 24 pruned. \n",
            "Using cache found in C:\\Users\\97252/.cache\\torch\\hub\\facebookresearch_dinov2_main\n",
            "100%|██████████| 10/10 [18:39<00:00, 111.96s/it]\n",
            "[I 2024-10-02 03:19:05,070] Trial 25 finished with value: 0.9078125 and parameters: {'lr': 8.73947651638335e-05, 'optimizer': 'Adam', 'batch_size': 128, 'scheduler': 'StepLR'}. Best is trial 7 with value: 0.9109375.\n",
            "Using cache found in C:\\Users\\97252/.cache\\torch\\hub\\facebookresearch_dinov2_main\n",
            " 10%|█         | 1/10 [02:46<25:01, 166.78s/it]\n",
            "[I 2024-10-02 03:22:05,963] Trial 26 pruned. \n",
            "Using cache found in C:\\Users\\97252/.cache\\torch\\hub\\facebookresearch_dinov2_main\n",
            "  0%|          | 0/10 [00:46<?, ?it/s]\n",
            "[I 2024-10-02 03:23:06,443] Trial 27 pruned. \n",
            "Using cache found in C:\\Users\\97252/.cache\\torch\\hub\\facebookresearch_dinov2_main\n",
            "  0%|          | 0/10 [01:09<?, ?it/s]\n",
            "[I 2024-10-02 03:24:30,241] Trial 28 pruned. \n",
            "Using cache found in C:\\Users\\97252/.cache\\torch\\hub\\facebookresearch_dinov2_main\n",
            "  0%|          | 0/10 [01:03<?, ?it/s]\n",
            "[I 2024-10-02 03:25:48,337] Trial 29 pruned. \n",
            "Using cache found in C:\\Users\\97252/.cache\\torch\\hub\\facebookresearch_dinov2_main\n",
            "  0%|          | 0/10 [01:54<?, ?it/s]\n",
            "[I 2024-10-02 03:27:57,612] Trial 30 pruned. \n",
            "Using cache found in C:\\Users\\97252/.cache\\torch\\hub\\facebookresearch_dinov2_main\n",
            "100%|██████████| 10/10 [17:48<00:00, 106.81s/it]\n",
            "[I 2024-10-02 03:46:00,780] Trial 31 finished with value: 0.9109375 and parameters: {'lr': 9.496651521780119e-05, 'optimizer': 'Adam', 'batch_size': 128, 'scheduler': 'StepLR'}. Best is trial 7 with value: 0.9109375.\n",
            "Using cache found in C:\\Users\\97252/.cache\\torch\\hub\\facebookresearch_dinov2_main\n",
            "100%|██████████| 10/10 [18:58<00:00, 113.88s/it]\n",
            "[I 2024-10-02 04:05:14,209] Trial 32 finished with value: 0.8890625 and parameters: {'lr': 0.00011400136305559581, 'optimizer': 'Adam', 'batch_size': 128, 'scheduler': 'StepLR'}. Best is trial 7 with value: 0.9109375.\n",
            "Using cache found in C:\\Users\\97252/.cache\\torch\\hub\\facebookresearch_dinov2_main\n",
            "  0%|          | 0/10 [02:06<?, ?it/s]\n",
            "[I 2024-10-02 04:07:34,916] Trial 33 pruned. \n",
            "Using cache found in C:\\Users\\97252/.cache\\torch\\hub\\facebookresearch_dinov2_main\n",
            " 10%|█         | 1/10 [02:44<24:38, 164.32s/it]\n",
            "[I 2024-10-02 04:10:33,051] Trial 34 pruned. \n",
            "Using cache found in C:\\Users\\97252/.cache\\torch\\hub\\facebookresearch_dinov2_main\n",
            "  0%|          | 0/10 [01:15<?, ?it/s]\n",
            "[I 2024-10-02 04:12:02,443] Trial 35 pruned. \n",
            "Using cache found in C:\\Users\\97252/.cache\\torch\\hub\\facebookresearch_dinov2_main\n",
            "  0%|          | 0/10 [01:20<?, ?it/s]\n",
            "[I 2024-10-02 04:13:38,347] Trial 36 pruned. \n",
            "Using cache found in C:\\Users\\97252/.cache\\torch\\hub\\facebookresearch_dinov2_main\n",
            "  0%|          | 0/10 [01:07<?, ?it/s]\n",
            "[I 2024-10-02 04:15:01,014] Trial 37 pruned. \n",
            "Using cache found in C:\\Users\\97252/.cache\\torch\\hub\\facebookresearch_dinov2_main\n",
            "  0%|          | 0/10 [01:21<?, ?it/s]\n",
            "[I 2024-10-02 04:16:37,269] Trial 38 pruned. \n",
            "Using cache found in C:\\Users\\97252/.cache\\torch\\hub\\facebookresearch_dinov2_main\n",
            "  0%|          | 0/10 [01:09<?, ?it/s]\n",
            "[I 2024-10-02 04:18:01,535] Trial 39 pruned. \n"
          ]
        },
        {
          "name": "stdout",
          "output_type": "stream",
          "text": [
            "Study statistics: \n",
            "  Number of finished trials:  40\n",
            "  Number of pruned trials:  24\n",
            "  Number of complete trials:  16\n",
            "Best trial:\n",
            "  Value:  0.9109375\n",
            "  Params: \n",
            "    lr: 0.00014209161863054374\n",
            "    optimizer: Adam\n",
            "    batch_size: 128\n",
            "    scheduler: CosineAnnealingLR\n",
            "Best parameters saved to checkpoints/op_tuna_params\\DINO_v2_FT\\DINO_v2_FT_0.9109.json\n",
            "{'lr': 0.00014209161863054374, 'optimizer': 'Adam', 'batch_size': 128, 'scheduler': 'CosineAnnealingLR'}\n"
          ]
        }
      ],
      "source": [
        "params = optuna_search.optuna_param_search(model_name=\"DINO_v2_FT\", loss_criterion=nn.CrossEntropyLoss(), num_epochs_for_experiments=10, device=device,transfer_learning=True)\n",
        "print(params)"
      ]
    },
    {
      "cell_type": "markdown",
      "metadata": {
        "id": "EEgWWGpPV8y-"
      },
      "source": [
        "**Hyper-Parameters**"
      ]
    },
    {
      "cell_type": "code",
      "execution_count": 10,
      "metadata": {
        "id": "zZJ3eTYHNxv3"
      },
      "outputs": [],
      "source": [
        "# Hyper-parameters\n",
        "batch_size = params['batch_size']\n",
        "learning_rate = params['lr']\n",
        "optimizer_name = params['optimizer']\n",
        "scheduler = params['scheduler']\n",
        "\n",
        "num_epochs = 50\n",
        "\n",
        "# loss criterion\n",
        "criterion = nn.CrossEntropyLoss()\n",
        "\n",
        "# optimizer\n",
        "optimizer = getattr(torch.optim, optimizer_name)(model.fc.parameters(), lr=learning_rate)\n",
        "\n",
        "# scheduler\n",
        "scheduler = StepLR(optimizer, 10, 0.1, verbose=True) if scheduler == \"StepLR\" else CosineAnnealingLR(optimizer, num_epochs, verbose=True)\n",
        "\n",
        "\n",
        "augmentations = K.AugmentationSequential(\n",
        "        K.RandomHorizontalFlip(p=0.1),\n",
        "        K.RandomVerticalFlip(p=0.1),\n",
        "        K.RandomRotation(degrees=10, p=0.1),\n",
        "        K.RandomAffine(degrees=5, translate=(0.05, 0.05), scale=(0.95, 1.05), p=0.1),\n",
        "        K.RandomBrightness(brightness=(0.8, 1.2), p=0.1),\n",
        "        K.RandomContrast(contrast=(0.8, 1.2), p=0.1),\n",
        "        K.RandomGamma(gamma=(0.9, 1.1), p=0.1),\n",
        "        K.RandomSharpness(p=0.1),\n",
        "        same_on_batch=False\n",
        ")\n"
      ]
    },
    {
      "cell_type": "markdown",
      "metadata": {},
      "source": [
        "**Prepare the data**"
      ]
    },
    {
      "cell_type": "code",
      "execution_count": 11,
      "metadata": {},
      "outputs": [],
      "source": [
        "# Combine train_set and val_set into one dataset and\n",
        "combined_train_val_set = ConcatDataset([train_set, validation_set])\n",
        "\n",
        "# Loading the data and shuffling it\n",
        "trainloader = torch.utils.data.DataLoader(combined_train_val_set, batch_size=batch_size, shuffle=True, num_workers=6,pin_memory=True)\n",
        "testloader = torch.utils.data.DataLoader(test_set, batch_size=batch_size, shuffle=False, num_workers=6,pin_memory=True)"
      ]
    },
    {
      "cell_type": "markdown",
      "metadata": {
        "id": "0NMxcWt8WBVl"
      },
      "source": [
        "**Train Model**"
      ]
    },
    {
      "cell_type": "code",
      "execution_count": 12,
      "metadata": {
        "colab": {
          "base_uri": "https://localhost:8080/"
        },
        "id": "RFzmKpCGODd8",
        "outputId": "54f07c21-de3e-4710-ae1b-f1cc12031b2a"
      },
      "outputs": [
        {
          "name": "stdout",
          "output_type": "stream",
          "text": [
            "Training model: DINO_v2_FT on cuda:0\n",
            "Epoch: 1 | Loss: 0.9464 | Training accuracy: 81.289% | Epoch Time: 205.86 secs\n",
            "Epoch: 2 | Loss: 0.5638 | Training accuracy: 90.625% | Epoch Time: 202.58 secs\n",
            "Epoch: 3 | Loss: 0.4099 | Training accuracy: 95.605% | Epoch Time: 206.34 secs\n",
            "Epoch: 4 | Loss: 0.2903 | Training accuracy: 98.535% | Epoch Time: 224.43 secs\n",
            "Epoch: 5 | Loss: 0.2462 | Training accuracy: 97.871% | Epoch Time: 175.39 secs\n",
            "==> Saving model ...\n",
            "saved as ./checkpoints/DINO_v2_FT_043456_02102024.pth\n",
            "Epoch: 6 | Loss: 0.2209 | Training accuracy: 98.945% | Epoch Time: 202.57 secs\n",
            "Epoch: 7 | Loss: 0.1860 | Training accuracy: 99.707% | Epoch Time: 230.42 secs\n",
            "Epoch: 8 | Loss: 0.1698 | Training accuracy: 99.297% | Epoch Time: 169.88 secs\n",
            "Epoch: 9 | Loss: 0.1589 | Training accuracy: 99.727% | Epoch Time: 275.78 secs\n",
            "Epoch: 10 | Loss: 0.1479 | Training accuracy: 99.668% | Epoch Time: 211.13 secs\n",
            "==> Saving model ...\n",
            "saved as ./checkpoints/DINO_v2_FT_045306_02102024.pth\n",
            "Epoch: 11 | Loss: 0.1356 | Training accuracy: 99.629% | Epoch Time: 230.38 secs\n",
            "Epoch: 12 | Loss: 0.1149 | Training accuracy: 99.980% | Epoch Time: 219.35 secs\n",
            "Epoch: 13 | Loss: 0.0995 | Training accuracy: 99.902% | Epoch Time: 244.36 secs\n",
            "Epoch: 14 | Loss: 0.1087 | Training accuracy: 99.805% | Epoch Time: 206.85 secs\n",
            "Epoch: 15 | Loss: 0.1040 | Training accuracy: 99.922% | Epoch Time: 199.03 secs\n",
            "==> Saving model ...\n",
            "saved as ./checkpoints/DINO_v2_FT_051127_02102024.pth\n",
            "Epoch: 16 | Loss: 0.0900 | Training accuracy: 99.805% | Epoch Time: 234.97 secs\n",
            "Epoch: 17 | Loss: 0.0804 | Training accuracy: 99.980% | Epoch Time: 166.25 secs\n",
            "Epoch: 18 | Loss: 0.0744 | Training accuracy: 100.000% | Epoch Time: 246.90 secs\n",
            "Epoch: 19 | Loss: 0.0745 | Training accuracy: 99.922% | Epoch Time: 215.61 secs\n",
            "Epoch: 20 | Loss: 0.0692 | Training accuracy: 99.980% | Epoch Time: 213.43 secs\n",
            "==> Saving model ...\n",
            "saved as ./checkpoints/DINO_v2_FT_052924_02102024.pth\n",
            "Epoch: 21 | Loss: 0.0657 | Training accuracy: 100.000% | Epoch Time: 218.22 secs\n",
            "Epoch: 22 | Loss: 0.0639 | Training accuracy: 100.000% | Epoch Time: 209.65 secs\n",
            "Epoch: 23 | Loss: 0.0681 | Training accuracy: 99.980% | Epoch Time: 218.13 secs\n",
            "Epoch: 24 | Loss: 0.0675 | Training accuracy: 100.000% | Epoch Time: 224.90 secs\n",
            "Epoch: 25 | Loss: 0.0579 | Training accuracy: 100.000% | Epoch Time: 261.78 secs\n",
            "==> Saving model ...\n",
            "saved as ./checkpoints/DINO_v2_FT_054817_02102024.pth\n",
            "Epoch: 26 | Loss: 0.0565 | Training accuracy: 100.000% | Epoch Time: 162.36 secs\n",
            "Epoch: 27 | Loss: 0.0434 | Training accuracy: 100.000% | Epoch Time: 223.17 secs\n",
            "Epoch: 28 | Loss: 0.0481 | Training accuracy: 100.000% | Epoch Time: 228.31 secs\n",
            "Epoch: 29 | Loss: 0.0463 | Training accuracy: 100.000% | Epoch Time: 186.54 secs\n",
            "Epoch: 30 | Loss: 0.0466 | Training accuracy: 100.000% | Epoch Time: 268.91 secs\n",
            "==> Saving model ...\n",
            "saved as ./checkpoints/DINO_v2_FT_060607_02102024.pth\n",
            "Epoch: 31 | Loss: 0.0364 | Training accuracy: 100.000% | Epoch Time: 226.73 secs\n",
            "Epoch: 32 | Loss: 0.0422 | Training accuracy: 100.000% | Epoch Time: 212.09 secs\n",
            "Epoch: 33 | Loss: 0.0394 | Training accuracy: 100.000% | Epoch Time: 200.48 secs\n",
            "Epoch: 34 | Loss: 0.0380 | Training accuracy: 100.000% | Epoch Time: 210.62 secs\n",
            "Epoch: 35 | Loss: 0.0349 | Training accuracy: 100.000% | Epoch Time: 221.02 secs\n",
            "==> Saving model ...\n",
            "saved as ./checkpoints/DINO_v2_FT_062358_02102024.pth\n",
            "Epoch: 36 | Loss: 0.0310 | Training accuracy: 100.000% | Epoch Time: 223.18 secs\n",
            "Epoch: 37 | Loss: 0.0320 | Training accuracy: 100.000% | Epoch Time: 193.32 secs\n",
            "Epoch: 38 | Loss: 0.0313 | Training accuracy: 100.000% | Epoch Time: 255.12 secs\n",
            "Epoch: 39 | Loss: 0.0305 | Training accuracy: 100.000% | Epoch Time: 204.19 secs\n",
            "Epoch: 40 | Loss: 0.0291 | Training accuracy: 100.000% | Epoch Time: 208.43 secs\n",
            "==> Saving model ...\n",
            "saved as ./checkpoints/DINO_v2_FT_064203_02102024.pth\n",
            "Epoch: 41 | Loss: 0.0239 | Training accuracy: 100.000% | Epoch Time: 225.48 secs\n",
            "Epoch: 42 | Loss: 0.0253 | Training accuracy: 100.000% | Epoch Time: 236.25 secs\n",
            "Epoch: 43 | Loss: 0.0208 | Training accuracy: 100.000% | Epoch Time: 212.08 secs\n",
            "Epoch: 44 | Loss: 0.0260 | Training accuracy: 100.000% | Epoch Time: 228.95 secs\n",
            "Epoch: 45 | Loss: 0.0175 | Training accuracy: 100.000% | Epoch Time: 224.95 secs\n",
            "==> Saving model ...\n",
            "saved as ./checkpoints/DINO_v2_FT_070051_02102024.pth\n",
            "Epoch: 46 | Loss: 0.0297 | Training accuracy: 100.000% | Epoch Time: 240.57 secs\n",
            "Epoch: 47 | Loss: 0.0224 | Training accuracy: 100.000% | Epoch Time: 192.29 secs\n",
            "Epoch: 48 | Loss: 0.0220 | Training accuracy: 100.000% | Epoch Time: 241.58 secs\n",
            "Epoch: 49 | Loss: 0.0240 | Training accuracy: 100.000% | Epoch Time: 209.75 secs\n",
            "Epoch: 50 | Loss: 0.0229 | Training accuracy: 100.000% | Epoch Time: 211.96 secs\n",
            "==> Saving model ...\n",
            "saved as ./checkpoints/DINO_v2_FT_071907_02102024.pth\n"
          ]
        }
      ],
      "source": [
        "epoch_losses = utils_funcs.train(model, num_epochs, trainloader, device, criterion, optimizer, scheduler, augmentations)"
      ]
    },
    {
      "cell_type": "markdown",
      "metadata": {},
      "source": [
        "**Load fine-tuned parameters**"
      ]
    },
    {
      "cell_type": "code",
      "execution_count": 13,
      "metadata": {},
      "outputs": [],
      "source": [
        "# model_path = './checkpoints/DINO_v2_FT_055736_30092024.pth'\n",
        "# checkpoint = torch.load(model_path,weights_only=True)\n",
        "# last_epoch, last_loss = utils_funcs.load_model(model, optimizer, model_path)\n",
        "# model.load_state_dict(checkpoint['net'])"
      ]
    },
    {
      "cell_type": "markdown",
      "metadata": {
        "id": "EbJ0dBbeVkzF"
      },
      "source": [
        "**Results**"
      ]
    },
    {
      "cell_type": "code",
      "execution_count": 14,
      "metadata": {},
      "outputs": [
        {
          "data": {
            "text/plain": [
              "<Figure size 800x600 with 0 Axes>"
            ]
          },
          "metadata": {},
          "output_type": "display_data"
        },
        {
          "data": {
            "image/png": "[encoded data removed]",
            "text/plain": [
              "<Figure size 640x480 with 2 Axes>"
            ]
          },
          "metadata": {},
          "output_type": "display_data"
        }
      ],
      "source": [
        "class_names = ['VeryMildDemented', 'NonDemented', 'ModerateDemented', 'MildDemented']\n",
        "utils_funcs.plot_normalized_confusion_matrix(testloader, model, class_names, device, model_name)"
      ]
    },
    {
      "cell_type": "code",
      "execution_count": 15,
      "metadata": {
        "colab": {
          "base_uri": "https://localhost:8080/",
          "height": 507
        },
        "id": "g7O4VexWVcyQ",
        "outputId": "31a8ce59-8229-46e2-fdbd-8b0233f20aec"
      },
      "outputs": [
        {
          "data": {
            "image/png": "[encoded data removed]",
            "text/plain": [
              "<Figure size 500x500 with 1 Axes>"
            ]
          },
          "metadata": {},
          "output_type": "display_data"
        }
      ],
      "source": [
        "utils_funcs.plot_loss_curve(epoch_losses, num_epochs)"
      ]
    },
    {
      "cell_type": "code",
      "execution_count": 16,
      "metadata": {
        "colab": {
          "base_uri": "https://localhost:8080/"
        },
        "id": "bWniJm-0VgEz",
        "outputId": "ce9017cc-6400-41c3-da40-610bb1516ae9"
      },
      "outputs": [
        {
          "name": "stdout",
          "output_type": "stream",
          "text": [
            "Test accuracy: 96.953%\n"
          ]
        }
      ],
      "source": [
        "test_accuracy = utils_funcs.calculate_accuracy(model, testloader, device)\n",
        "print(\"Test accuracy: {:.3f}%\".format(test_accuracy))"
      ]
    }
  ],
  "metadata": {
    "accelerator": "GPU",
    "colab": {
      "gpuType": "T4",
      "provenance": []
    },
    "kernelspec": {
      "display_name": "Python 3",
      "name": "python3"
    },
    "language_info": {
      "codemirror_mode": {
        "name": "ipython",
        "version": 3
      },
      "file_extension": ".py",
      "mimetype": "text/x-python",
      "name": "python",
      "nbconvert_exporter": "python",
      "pygments_lexer": "ipython3",
      "version": "3.10.14"
    }
  },
  "nbformat": 4,
  "nbformat_minor": 0
}
