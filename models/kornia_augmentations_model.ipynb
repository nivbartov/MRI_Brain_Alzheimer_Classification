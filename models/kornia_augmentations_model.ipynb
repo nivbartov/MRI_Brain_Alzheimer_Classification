{
  "nbformat": 4,
  "nbformat_minor": 0,
  "metadata": {
    "colab": {
      "provenance": [],
      "gpuType": "T4"
    },
    "kernelspec": {
      "name": "python3",
      "display_name": "Python 3"
    },
    "language_info": {
      "name": "python"
    },
    "accelerator": "GPU"
  },
  "cells": [
    {
      "cell_type": "markdown",
      "source": [
        "# **MRI Brain Alzheimer Classification - Kornia Augmentations**"
      ],
      "metadata": {
        "id": "CSXDJcczMrB6"
      }
    },
    {
      "cell_type": "markdown",
      "source": [
        "**Import Packages**"
      ],
      "metadata": {
        "id": "wS-LcsglIn5e"
      }
    },
    {
      "cell_type": "code",
      "execution_count": 2,
      "metadata": {
        "id": "Gq0ikAVMMuUK"
      },
      "outputs": [],
      "source": [
        "import sys\n",
        "import os\n",
        "import numpy as np\n",
        "import pandas as pd\n",
        "import torch\n",
        "import torch.nn as nn\n",
        "from torch.utils.data import TensorDataset, DataLoader, Subset, ConcatDataset\n",
        "import torchvision\n",
        "import torchvision.datasets as datasets\n",
        "import torchvision.transforms as transforms\n",
        "from kornia import augmentation as K\n",
        "from kornia.augmentation import AugmentationSequential\n",
        "import matplotlib.pyplot as plt\n",
        "%matplotlib inline\n",
        "import random\n",
        "import time"
      ]
    },
    {
      "cell_type": "markdown",
      "source": [
        "**Clone Dataset from GitHub**"
      ],
      "metadata": {
        "id": "mEWgxGwpIvtv"
      }
    },
    {
      "cell_type": "code",
      "source": [
        "!git clone https://github.com/nivbartov/MRI_Brain_Alzheimer_Classification\n",
        "%cd MRI_Brain_Alzheimer_Classification/\n",
        "if 'utils' not in sys.path:\n",
        "    sys.path.append('utils')\n",
        "import utils"
      ],
      "metadata": {
        "colab": {
          "base_uri": "https://localhost:8080/"
        },
        "id": "v_yU5PXHEX4x",
        "outputId": "d6964a73-4847-43ec-d164-e29b28e9b3a3"
      },
      "execution_count": 3,
      "outputs": [
        {
          "output_type": "stream",
          "name": "stdout",
          "text": [
            "Cloning into 'MRI_Brain_Alzheimer_Classification'...\n",
            "remote: Enumerating objects: 6488, done.\u001b[K\n",
            "remote: Counting objects: 100% (55/55), done.\u001b[K\n",
            "remote: Compressing objects: 100% (32/32), done.\u001b[K\n",
            "remote: Total 6488 (delta 20), reused 47 (delta 13), pack-reused 6433\u001b[K\n",
            "Receiving objects: 100% (6488/6488), 28.21 MiB | 15.89 MiB/s, done.\n",
            "Resolving deltas: 100% (24/24), done.\n",
            "/content/MRI_Brain_Alzheimer_Classification\n"
          ]
        }
      ]
    },
    {
      "cell_type": "markdown",
      "source": [
        "**Load the Dataset**"
      ],
      "metadata": {
        "id": "1mLsGXKEKVJy"
      }
    },
    {
      "cell_type": "code",
      "source": [
        "train_set = torch.load('dataset/dataset_variables/train_set.pt')\n",
        "test_set = torch.load('dataset/dataset_variables/test_set.pt')\n",
        "validation_set = torch.load('dataset/dataset_variables/validation_set.pt')"
      ],
      "metadata": {
        "id": "YuDq65E6UMbl"
      },
      "execution_count": 4,
      "outputs": []
    },
    {
      "cell_type": "markdown",
      "source": [
        "**Model Definition and Initialization**"
      ],
      "metadata": {
        "id": "eCYl_TtCNRRy"
      }
    },
    {
      "cell_type": "code",
      "source": [
        "class SimpleModel(nn.Module):\n",
        "    def __init__(self, input_channels=3, output_channels=4):\n",
        "        super(SimpleModel, self).__init__()\n",
        "\n",
        "        self.conv_layer = nn.Sequential(\n",
        "            # 1st main conv layer\n",
        "            nn.Conv2d(in_channels=input_channels, out_channels=64, kernel_size=3, padding=1),\n",
        "            nn.GroupNorm(num_groups=4, num_channels=64),\n",
        "            nn.ReLU(inplace=True),\n",
        "            nn.Conv2d(in_channels=64, out_channels=128, kernel_size=3, padding=1),\n",
        "            nn.ReLU(inplace=True),\n",
        "            nn.MaxPool2d(kernel_size=2, stride=2),\n",
        "\n",
        "            # 2nd main conv layer\n",
        "            nn.Conv2d(in_channels=128, out_channels=256, kernel_size=3, padding=1),\n",
        "            nn.GroupNorm(num_groups=8, num_channels=256),\n",
        "            nn.ReLU(inplace=True),\n",
        "            nn.Conv2d(in_channels=256, out_channels=256, kernel_size=3, padding=1),\n",
        "            nn.ReLU(inplace=True),\n",
        "            nn.MaxPool2d(kernel_size=2, stride=2),\n",
        "            nn.Dropout2d(p=0.05),\n",
        "\n",
        "            # 3rd main conv layer\n",
        "            nn.Conv2d(in_channels=256, out_channels=512, kernel_size=3, padding=1),\n",
        "            nn.GroupNorm(num_groups=16, num_channels=512),\n",
        "            nn.ReLU(inplace=True),\n",
        "            nn.Conv2d(in_channels=512, out_channels=512, kernel_size=3, padding=1),\n",
        "            nn.ReLU(inplace=True),\n",
        "            nn.MaxPool2d(kernel_size=2, stride=2),\n",
        "            nn.MaxPool2d(kernel_size=2, stride=2),\n",
        "        )\n",
        "\n",
        "        self.fc_layer = nn.Sequential(\n",
        "            nn.Dropout(p=0.1),\n",
        "            nn.Linear(512 * 8 * 8, 2048),\n",
        "            nn.ReLU(inplace=True),\n",
        "            nn.Linear(2048, 1024),\n",
        "            nn.ReLU(inplace=True),\n",
        "            nn.Dropout(p=0.1),\n",
        "            nn.Linear(1024, output_channels)\n",
        "        )\n",
        "\n",
        "    def forward(self, x):\n",
        "        x = self.conv_layer(x)\n",
        "        x = x.view(x.size(0), -1)\n",
        "        x = self.fc_layer(x)\n",
        "        return x"
      ],
      "metadata": {
        "id": "miv_LqZtM92c"
      },
      "execution_count": 13,
      "outputs": []
    },
    {
      "cell_type": "code",
      "source": [
        "# Initialize the model\n",
        "input_channels = 3\n",
        "output_channels = 4\n",
        "model = SimpleModel(input_channels, output_channels)"
      ],
      "metadata": {
        "id": "h0rr3nWPNoN8"
      },
      "execution_count": 14,
      "outputs": []
    },
    {
      "cell_type": "markdown",
      "source": [
        "**Define Kornia Augmentations**"
      ],
      "metadata": {
        "id": "vyKuXWtfz86r"
      }
    },
    {
      "cell_type": "code",
      "source": [
        "kornia_aug = AugmentationSequential(\n",
        "    K.RandomHorizontalFlip(p=0.5),\n",
        "    K.RandomVerticalFlip(p=0.5),\n",
        "    K.ColorJitter(0.1, 0.1, 0.1, 0.1),\n",
        "    same_on_batch=False,\n",
        ")"
      ],
      "metadata": {
        "id": "iuDaxppzz4_e"
      },
      "execution_count": 15,
      "outputs": []
    },
    {
      "cell_type": "markdown",
      "source": [
        "**Hyper-Parameters**"
      ],
      "metadata": {
        "id": "EEgWWGpPV8y-"
      }
    },
    {
      "cell_type": "code",
      "source": [
        "# Hyper-parameters\n",
        "batch_size = 128\n",
        "learning_rate = 1e-4\n",
        "num_epochs = 60\n",
        "\n",
        "# device\n",
        "device = torch.device(\"cuda:0\" if torch.cuda.is_available() else \"cpu\")\n",
        "# loss criterion\n",
        "criterion = nn.CrossEntropyLoss()\n",
        "# model\n",
        "model = model.to(device)\n",
        "# optimizer\n",
        "optimizer = torch.optim.Adam(model.parameters(), lr=learning_rate)\n",
        "\n",
        "# Loading the data and shuffling it\n",
        "trainloader = torch.utils.data.DataLoader(train_set, batch_size=batch_size, shuffle=True, num_workers=2)\n",
        "testloader = torch.utils.data.DataLoader(test_set, batch_size=batch_size, shuffle=False, num_workers=2)"
      ],
      "metadata": {
        "id": "zZJ3eTYHNxv3"
      },
      "execution_count": 16,
      "outputs": []
    },
    {
      "cell_type": "markdown",
      "source": [
        "**Train Model**"
      ],
      "metadata": {
        "id": "0NMxcWt8WBVl"
      }
    },
    {
      "cell_type": "code",
      "source": [
        "epoch_losses = utils.train(model, num_epochs, trainloader, device, criterion, optimizer, kornia_aug)"
      ],
      "metadata": {
        "colab": {
          "base_uri": "https://localhost:8080/"
        },
        "id": "RFzmKpCGODd8",
        "outputId": "54f07c21-de3e-4710-ae1b-f1cc12031b2a"
      },
      "execution_count": 17,
      "outputs": [
        {
          "output_type": "stream",
          "name": "stdout",
          "text": [
            "Epoch: 1 | Loss: 1.0854 | Training accuracy: 49.554% | Epoch Time: 61.71 secs\n",
            "Epoch: 2 | Loss: 1.0363 | Training accuracy: 51.406% | Epoch Time: 60.30 secs\n",
            "Epoch: 3 | Loss: 1.0145 | Training accuracy: 50.826% | Epoch Time: 60.73 secs\n",
            "Epoch: 4 | Loss: 0.9686 | Training accuracy: 53.996% | Epoch Time: 60.77 secs\n",
            "Epoch: 5 | Loss: 0.9608 | Training accuracy: 51.071% | Epoch Time: 60.89 secs\n",
            "Epoch: 6 | Loss: 0.9624 | Training accuracy: 55.156% | Epoch Time: 60.81 secs\n",
            "Epoch: 7 | Loss: 0.9335 | Training accuracy: 56.763% | Epoch Time: 61.19 secs\n",
            "Epoch: 8 | Loss: 0.9157 | Training accuracy: 56.362% | Epoch Time: 61.14 secs\n",
            "Epoch: 9 | Loss: 0.9008 | Training accuracy: 59.040% | Epoch Time: 61.26 secs\n",
            "Epoch: 10 | Loss: 0.8734 | Training accuracy: 60.424% | Epoch Time: 61.60 secs\n",
            "Epoch: 11 | Loss: 0.8768 | Training accuracy: 58.906% | Epoch Time: 60.63 secs\n",
            "Epoch: 12 | Loss: 0.8535 | Training accuracy: 60.246% | Epoch Time: 61.53 secs\n",
            "Epoch: 13 | Loss: 0.8463 | Training accuracy: 60.223% | Epoch Time: 60.90 secs\n",
            "Epoch: 14 | Loss: 0.8343 | Training accuracy: 61.741% | Epoch Time: 60.80 secs\n",
            "Epoch: 15 | Loss: 0.8297 | Training accuracy: 63.259% | Epoch Time: 61.55 secs\n",
            "Epoch: 16 | Loss: 0.8134 | Training accuracy: 63.951% | Epoch Time: 61.12 secs\n",
            "Epoch: 17 | Loss: 0.7906 | Training accuracy: 66.585% | Epoch Time: 61.39 secs\n",
            "Epoch: 18 | Loss: 0.7544 | Training accuracy: 64.688% | Epoch Time: 61.22 secs\n",
            "Epoch: 19 | Loss: 0.7334 | Training accuracy: 70.112% | Epoch Time: 61.11 secs\n",
            "Epoch: 20 | Loss: 0.6832 | Training accuracy: 72.812% | Epoch Time: 61.43 secs\n",
            "Epoch: 21 | Loss: 0.6480 | Training accuracy: 69.375% | Epoch Time: 61.51 secs\n",
            "Epoch: 22 | Loss: 0.6237 | Training accuracy: 75.826% | Epoch Time: 61.27 secs\n",
            "Epoch: 23 | Loss: 0.5794 | Training accuracy: 80.357% | Epoch Time: 61.48 secs\n",
            "Epoch: 24 | Loss: 0.5177 | Training accuracy: 77.411% | Epoch Time: 61.49 secs\n",
            "Epoch: 25 | Loss: 0.4736 | Training accuracy: 84.464% | Epoch Time: 61.12 secs\n",
            "Epoch: 26 | Loss: 0.4384 | Training accuracy: 84.152% | Epoch Time: 61.39 secs\n",
            "Epoch: 27 | Loss: 0.3956 | Training accuracy: 86.652% | Epoch Time: 61.74 secs\n",
            "Epoch: 28 | Loss: 0.3524 | Training accuracy: 90.424% | Epoch Time: 61.19 secs\n",
            "Epoch: 29 | Loss: 0.2820 | Training accuracy: 92.478% | Epoch Time: 61.47 secs\n",
            "Epoch: 30 | Loss: 0.2304 | Training accuracy: 94.777% | Epoch Time: 61.96 secs\n",
            "Epoch: 31 | Loss: 0.2361 | Training accuracy: 94.554% | Epoch Time: 61.65 secs\n",
            "Epoch: 32 | Loss: 0.1774 | Training accuracy: 95.871% | Epoch Time: 61.51 secs\n",
            "Epoch: 33 | Loss: 0.1634 | Training accuracy: 96.942% | Epoch Time: 62.03 secs\n",
            "Epoch: 34 | Loss: 0.1493 | Training accuracy: 94.442% | Epoch Time: 60.60 secs\n",
            "Epoch: 35 | Loss: 0.1144 | Training accuracy: 98.348% | Epoch Time: 60.00 secs\n",
            "Epoch: 36 | Loss: 0.0989 | Training accuracy: 97.812% | Epoch Time: 60.51 secs\n",
            "Epoch: 37 | Loss: 0.0909 | Training accuracy: 95.513% | Epoch Time: 61.70 secs\n",
            "Epoch: 38 | Loss: 0.0981 | Training accuracy: 97.879% | Epoch Time: 61.35 secs\n",
            "Epoch: 39 | Loss: 0.0743 | Training accuracy: 98.438% | Epoch Time: 61.66 secs\n",
            "Epoch: 40 | Loss: 0.0605 | Training accuracy: 99.554% | Epoch Time: 61.39 secs\n",
            "Epoch: 41 | Loss: 0.0496 | Training accuracy: 98.237% | Epoch Time: 61.17 secs\n",
            "Epoch: 42 | Loss: 0.0481 | Training accuracy: 99.509% | Epoch Time: 61.28 secs\n",
            "Epoch: 43 | Loss: 0.0359 | Training accuracy: 99.821% | Epoch Time: 61.31 secs\n",
            "Epoch: 44 | Loss: 0.0294 | Training accuracy: 99.487% | Epoch Time: 61.00 secs\n",
            "Epoch: 45 | Loss: 0.0254 | Training accuracy: 99.531% | Epoch Time: 61.77 secs\n",
            "Epoch: 46 | Loss: 0.0300 | Training accuracy: 99.241% | Epoch Time: 61.02 secs\n",
            "Epoch: 47 | Loss: 0.0315 | Training accuracy: 99.643% | Epoch Time: 61.22 secs\n",
            "Epoch: 48 | Loss: 0.0342 | Training accuracy: 99.531% | Epoch Time: 61.36 secs\n",
            "Epoch: 49 | Loss: 0.0246 | Training accuracy: 99.777% | Epoch Time: 61.48 secs\n",
            "Epoch: 50 | Loss: 0.0321 | Training accuracy: 99.598% | Epoch Time: 61.08 secs\n",
            "Epoch: 51 | Loss: 0.0238 | Training accuracy: 99.777% | Epoch Time: 61.20 secs\n",
            "Epoch: 52 | Loss: 0.0220 | Training accuracy: 99.665% | Epoch Time: 61.40 secs\n",
            "Epoch: 53 | Loss: 0.0182 | Training accuracy: 99.777% | Epoch Time: 61.42 secs\n",
            "Epoch: 54 | Loss: 0.0315 | Training accuracy: 99.420% | Epoch Time: 61.21 secs\n",
            "Epoch: 55 | Loss: 0.0198 | Training accuracy: 99.777% | Epoch Time: 61.34 secs\n",
            "Epoch: 56 | Loss: 0.0090 | Training accuracy: 99.911% | Epoch Time: 61.19 secs\n",
            "Epoch: 57 | Loss: 0.0101 | Training accuracy: 99.888% | Epoch Time: 61.20 secs\n",
            "Epoch: 58 | Loss: 0.0083 | Training accuracy: 99.799% | Epoch Time: 61.51 secs\n",
            "Epoch: 59 | Loss: 0.0080 | Training accuracy: 99.688% | Epoch Time: 61.30 secs\n",
            "Epoch: 60 | Loss: 0.0157 | Training accuracy: 99.665% | Epoch Time: 61.35 secs\n"
          ]
        }
      ]
    },
    {
      "cell_type": "markdown",
      "source": [
        "**Results**"
      ],
      "metadata": {
        "id": "EbJ0dBbeVkzF"
      }
    },
    {
      "cell_type": "code",
      "source": [
        "utils.plot_loss_curve(epoch_losses, num_epochs)"
      ],
      "metadata": {
        "colab": {
          "base_uri": "https://localhost:8080/",
          "height": 507
        },
        "id": "g7O4VexWVcyQ",
        "outputId": "31a8ce59-8229-46e2-fdbd-8b0233f20aec"
      },
      "execution_count": 18,
      "outputs": [
        {
          "output_type": "display_data",
          "data": {
            "text/plain": [
              "<Figure size 500x500 with 1 Axes>"
            ],
            "image/png": "[encoded data removed]"
          },
          "metadata": {}
        }
      ]
    },
    {
      "cell_type": "code",
      "source": [
        "test_accuracy = utils.calculate_accuracy(model, testloader, device)\n",
        "print(\"Test accuracy: {:.3f}%\".format(test_accuracy))"
      ],
      "metadata": {
        "colab": {
          "base_uri": "https://localhost:8080/"
        },
        "id": "bWniJm-0VgEz",
        "outputId": "ce9017cc-6400-41c3-da40-610bb1516ae9"
      },
      "execution_count": 19,
      "outputs": [
        {
          "output_type": "stream",
          "name": "stdout",
          "text": [
            "Test accuracy: 96.797%\n"
          ]
        }
      ]
    },
    {
      "cell_type": "markdown",
      "source": [
        "**Adding a Noise**"
      ],
      "metadata": {
        "id": "MxLeF-2sWXXI"
      }
    },
    {
      "cell_type": "code",
      "source": [
        "noise = 0.1\n",
        "correct = 0\n",
        "total = 0\n",
        "with torch.no_grad():\n",
        "    for images, labels in testloader:\n",
        "        image_n = images + noise * torch.randn(images.size())\n",
        "        image_n = image_n.to(device)\n",
        "        labels = labels.to(device)\n",
        "        outputs = model(image_n)\n",
        "        _, predicted = torch.max(outputs.data, 1)\n",
        "        total += labels.size(0)\n",
        "        correct += (predicted == labels).sum().item()\n",
        "accuracy = 100 * correct / total\n",
        "print(f\"Test accuracy with a noise: {accuracy:.3f}%\")"
      ],
      "metadata": {
        "colab": {
          "base_uri": "https://localhost:8080/"
        },
        "id": "fcgYh9GFWWKi",
        "outputId": "d4868ca0-11a9-4c6c-ec5f-b9b42f820e5b"
      },
      "execution_count": 20,
      "outputs": [
        {
          "output_type": "stream",
          "name": "stdout",
          "text": [
            "Test accuracy with a noise: 87.422%\n"
          ]
        }
      ]
    }
  ]
}