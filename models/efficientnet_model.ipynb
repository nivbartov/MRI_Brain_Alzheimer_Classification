{
  "cells": [
    {
      "cell_type": "markdown",
      "metadata": {
        "id": "CSXDJcczMrB6"
      },
      "source": [
        "# **MRI Brain Alzheimer Classification - EfficientNet Model**"
      ]
    },
    {
      "cell_type": "markdown",
      "metadata": {
        "id": "mEWgxGwpIvtv"
      },
      "source": [
        "**Clone Dataset from GitHub**"
      ]
    },
    {
      "cell_type": "code",
      "execution_count": 1,
      "metadata": {
        "colab": {
          "base_uri": "https://localhost:8080/"
        },
        "id": "jJiyYyeMASQj",
        "outputId": "a77b7b5b-4b01-4f6b-89d3-f8fad541c21b"
      },
      "outputs": [
        {
          "name": "stdout",
          "output_type": "stream",
          "text": [
            "c:\\Dor\\TECHNION\\deep_learning\\Project\\MRI_Brain_Alzheimer_Classification\n"
          ]
        }
      ],
      "source": [
        "# Clone repository from GitHub\n",
        "# !git clone https://github.com/nivbartov/MRI_Brain_Alzheimer_Classification\n",
        "\n",
        "# %cd MRI_Brain_Alzheimer_Classification\n",
        "%cd .."
      ]
    },
    {
      "cell_type": "markdown",
      "metadata": {
        "id": "EI_InVVAASQl"
      },
      "source": [
        "**Import Packages**"
      ]
    },
    {
      "cell_type": "code",
      "execution_count": 2,
      "metadata": {
        "id": "v_yU5PXHEX4x"
      },
      "outputs": [],
      "source": [
        "import warnings\n",
        "warnings.filterwarnings(\"ignore\", category=FutureWarning)\n",
        "warnings.filterwarnings(\"ignore\", category=UserWarning)\n",
        "import sys\n",
        "import os\n",
        "import numpy as np\n",
        "import pandas as pd\n",
        "import torch\n",
        "from torchsummary import summary\n",
        "import torch.nn as nn\n",
        "from torch.utils.data import TensorDataset, DataLoader, Subset, ConcatDataset\n",
        "import torchvision\n",
        "import torchvision.datasets as datasets\n",
        "import torchvision.transforms as transforms\n",
        "from kornia import augmentation as K\n",
        "from kornia.augmentation import AugmentationSequential\n",
        "from torch.optim.lr_scheduler import CosineAnnealingLR, StepLR\n",
        "import matplotlib.pyplot as plt\n",
        "%matplotlib inline\n",
        "from tqdm import tqdm\n",
        "import random\n",
        "import time\n",
        "from datetime import datetime\n",
        "import json\n",
        "import gc\n",
        "import subprocess"
      ]
    },
    {
      "cell_type": "markdown",
      "metadata": {
        "id": "vQJKfOGEJWan"
      },
      "source": [
        "**Import Internal Functions**"
      ]
    },
    {
      "cell_type": "code",
      "execution_count": 3,
      "metadata": {
        "id": "clhd-UgNJb27"
      },
      "outputs": [],
      "source": [
        "from models import def_models\n",
        "from utils import utils_funcs\n",
        "from utils import optuna_search"
      ]
    },
    {
      "cell_type": "markdown",
      "metadata": {
        "id": "3C9hi5C_-LDb"
      },
      "source": [
        "**Device Definition**"
      ]
    },
    {
      "cell_type": "code",
      "execution_count": 4,
      "metadata": {
        "colab": {
          "base_uri": "https://localhost:8080/"
        },
        "id": "gULVrEpb-LDb",
        "outputId": "def3bed7-3d0c-413b-97d7-c1f79c290856"
      },
      "outputs": [
        {
          "name": "stdout",
          "output_type": "stream",
          "text": [
            "torch.cuda.is_available(): True\n",
            "device: cuda:0\n"
          ]
        }
      ],
      "source": [
        "print(f'torch.cuda.is_available(): {torch.cuda.is_available()}')\n",
        "device = torch.device(\"cuda:0\" if torch.cuda.is_available() else \"cpu\")\n",
        "print(f'device: {device}')\n",
        "torch.cuda.empty_cache()\n",
        "gc.collect()\n",
        "utils_funcs.open_nvitop()"
      ]
    },
    {
      "cell_type": "markdown",
      "metadata": {},
      "source": [
        "**Load Dataset**"
      ]
    },
    {
      "cell_type": "code",
      "execution_count": 5,
      "metadata": {
        "id": "AAMNS4v3ASQs"
      },
      "outputs": [],
      "source": [
        "train_set = torch.load('dataset/dataset_variables/train_set.pt')\n",
        "validation_set = torch.load('dataset/dataset_variables/validation_set.pt')\n",
        "test_set = torch.load('dataset/dataset_variables/test_set.pt')"
      ]
    },
    {
      "cell_type": "markdown",
      "metadata": {},
      "source": [
        "**Normalize and Rescale the Dataset**"
      ]
    },
    {
      "cell_type": "code",
      "execution_count": null,
      "metadata": {},
      "outputs": [],
      "source": [
        "# train_set, validation_set, test_set = utils_funcs.prepare_datasets(train_set, validation_set, test_set)\n",
        "# torch.cuda.empty_cache()"
      ]
    },
    {
      "cell_type": "markdown",
      "metadata": {
        "id": "eCYl_TtCNRRy"
      },
      "source": [
        "**Model Definition and Initialization**"
      ]
    },
    {
      "cell_type": "code",
      "execution_count": 7,
      "metadata": {
        "colab": {
          "base_uri": "https://localhost:8080/"
        },
        "id": "h0rr3nWPNoN8",
        "outputId": "173b79d6-4d14-4fc2-93c0-56c16545d9aa"
      },
      "outputs": [],
      "source": [
        "# Initialize input and output sizes\n",
        "input_width = 224\n",
        "input_height = 224\n",
        "input_channels = 3\n",
        "output_channels = 4\n",
        "\n",
        "# Load a pre-trained EfficientNet-B0 model\n",
        "EfficientNet_backbone_model = torchvision.models.efficientnet_b0(pretrained=True)\n",
        "\n",
        "# Freeze EfficientNet-B0 layers\n",
        "for param in EfficientNet_backbone_model.parameters():\n",
        "    param.requires_grad = False\n",
        "    \n",
        "# Unfreeze the last classifier layer to allow training\n",
        "for param in EfficientNet_backbone_model.features[-4:].parameters():\n",
        "    param.requires_grad = True\n",
        "\n",
        "# Create EfficientNet-B4 model with FC layers before the output\n",
        "model = def_models.EfficientNet(EfficientNet_backbone=EfficientNet_backbone_model, output_channels=output_channels).to(device)"
      ]
    },
    {
      "cell_type": "markdown",
      "metadata": {},
      "source": [
        "**Model Statistics**"
      ]
    },
    {
      "cell_type": "code",
      "execution_count": 8,
      "metadata": {
        "colab": {
          "base_uri": "https://localhost:8080/"
        },
        "id": "EeoGhA5A-LDe",
        "outputId": "253d7a78-9cf9-4a4b-d22f-5224077a97be"
      },
      "outputs": [
        {
          "name": "stdout",
          "output_type": "stream",
          "text": [
            "Model EfficientNet Statistics:\n",
            "----------------------------------------------------------------\n",
            "        Layer (type)               Output Shape         Param #\n",
            "================================================================\n",
            "            Conv2d-1         [-1, 32, 112, 112]             864\n",
            "       BatchNorm2d-2         [-1, 32, 112, 112]              64\n",
            "              SiLU-3         [-1, 32, 112, 112]               0\n",
            "            Conv2d-4         [-1, 32, 112, 112]             288\n",
            "       BatchNorm2d-5         [-1, 32, 112, 112]              64\n",
            "              SiLU-6         [-1, 32, 112, 112]               0\n",
            " AdaptiveAvgPool2d-7             [-1, 32, 1, 1]               0\n",
            "            Conv2d-8              [-1, 8, 1, 1]             264\n",
            "              SiLU-9              [-1, 8, 1, 1]               0\n",
            "           Conv2d-10             [-1, 32, 1, 1]             288\n",
            "          Sigmoid-11             [-1, 32, 1, 1]               0\n",
            "SqueezeExcitation-12         [-1, 32, 112, 112]               0\n",
            "           Conv2d-13         [-1, 16, 112, 112]             512\n",
            "      BatchNorm2d-14         [-1, 16, 112, 112]              32\n",
            "           MBConv-15         [-1, 16, 112, 112]               0\n",
            "           Conv2d-16         [-1, 96, 112, 112]           1,536\n",
            "      BatchNorm2d-17         [-1, 96, 112, 112]             192\n",
            "             SiLU-18         [-1, 96, 112, 112]               0\n",
            "           Conv2d-19           [-1, 96, 56, 56]             864\n",
            "      BatchNorm2d-20           [-1, 96, 56, 56]             192\n",
            "             SiLU-21           [-1, 96, 56, 56]               0\n",
            "AdaptiveAvgPool2d-22             [-1, 96, 1, 1]               0\n",
            "           Conv2d-23              [-1, 4, 1, 1]             388\n",
            "             SiLU-24              [-1, 4, 1, 1]               0\n",
            "           Conv2d-25             [-1, 96, 1, 1]             480\n",
            "          Sigmoid-26             [-1, 96, 1, 1]               0\n",
            "SqueezeExcitation-27           [-1, 96, 56, 56]               0\n",
            "           Conv2d-28           [-1, 24, 56, 56]           2,304\n",
            "      BatchNorm2d-29           [-1, 24, 56, 56]              48\n",
            "           MBConv-30           [-1, 24, 56, 56]               0\n",
            "           Conv2d-31          [-1, 144, 56, 56]           3,456\n",
            "      BatchNorm2d-32          [-1, 144, 56, 56]             288\n",
            "             SiLU-33          [-1, 144, 56, 56]               0\n",
            "           Conv2d-34          [-1, 144, 56, 56]           1,296\n",
            "      BatchNorm2d-35          [-1, 144, 56, 56]             288\n",
            "             SiLU-36          [-1, 144, 56, 56]               0\n",
            "AdaptiveAvgPool2d-37            [-1, 144, 1, 1]               0\n",
            "           Conv2d-38              [-1, 6, 1, 1]             870\n",
            "             SiLU-39              [-1, 6, 1, 1]               0\n",
            "           Conv2d-40            [-1, 144, 1, 1]           1,008\n",
            "          Sigmoid-41            [-1, 144, 1, 1]               0\n",
            "SqueezeExcitation-42          [-1, 144, 56, 56]               0\n",
            "           Conv2d-43           [-1, 24, 56, 56]           3,456\n",
            "      BatchNorm2d-44           [-1, 24, 56, 56]              48\n",
            "  StochasticDepth-45           [-1, 24, 56, 56]               0\n",
            "           MBConv-46           [-1, 24, 56, 56]               0\n",
            "           Conv2d-47          [-1, 144, 56, 56]           3,456\n",
            "      BatchNorm2d-48          [-1, 144, 56, 56]             288\n",
            "             SiLU-49          [-1, 144, 56, 56]               0\n",
            "           Conv2d-50          [-1, 144, 28, 28]           3,600\n",
            "      BatchNorm2d-51          [-1, 144, 28, 28]             288\n",
            "             SiLU-52          [-1, 144, 28, 28]               0\n",
            "AdaptiveAvgPool2d-53            [-1, 144, 1, 1]               0\n",
            "           Conv2d-54              [-1, 6, 1, 1]             870\n",
            "             SiLU-55              [-1, 6, 1, 1]               0\n",
            "           Conv2d-56            [-1, 144, 1, 1]           1,008\n",
            "          Sigmoid-57            [-1, 144, 1, 1]               0\n",
            "SqueezeExcitation-58          [-1, 144, 28, 28]               0\n",
            "           Conv2d-59           [-1, 40, 28, 28]           5,760\n",
            "      BatchNorm2d-60           [-1, 40, 28, 28]              80\n",
            "           MBConv-61           [-1, 40, 28, 28]               0\n",
            "           Conv2d-62          [-1, 240, 28, 28]           9,600\n",
            "      BatchNorm2d-63          [-1, 240, 28, 28]             480\n",
            "             SiLU-64          [-1, 240, 28, 28]               0\n",
            "           Conv2d-65          [-1, 240, 28, 28]           6,000\n",
            "      BatchNorm2d-66          [-1, 240, 28, 28]             480\n",
            "             SiLU-67          [-1, 240, 28, 28]               0\n",
            "AdaptiveAvgPool2d-68            [-1, 240, 1, 1]               0\n",
            "           Conv2d-69             [-1, 10, 1, 1]           2,410\n",
            "             SiLU-70             [-1, 10, 1, 1]               0\n",
            "           Conv2d-71            [-1, 240, 1, 1]           2,640\n",
            "          Sigmoid-72            [-1, 240, 1, 1]               0\n",
            "SqueezeExcitation-73          [-1, 240, 28, 28]               0\n",
            "           Conv2d-74           [-1, 40, 28, 28]           9,600\n",
            "      BatchNorm2d-75           [-1, 40, 28, 28]              80\n",
            "  StochasticDepth-76           [-1, 40, 28, 28]               0\n",
            "           MBConv-77           [-1, 40, 28, 28]               0\n",
            "           Conv2d-78          [-1, 240, 28, 28]           9,600\n",
            "      BatchNorm2d-79          [-1, 240, 28, 28]             480\n",
            "             SiLU-80          [-1, 240, 28, 28]               0\n",
            "           Conv2d-81          [-1, 240, 14, 14]           2,160\n",
            "      BatchNorm2d-82          [-1, 240, 14, 14]             480\n",
            "             SiLU-83          [-1, 240, 14, 14]               0\n",
            "AdaptiveAvgPool2d-84            [-1, 240, 1, 1]               0\n",
            "           Conv2d-85             [-1, 10, 1, 1]           2,410\n",
            "             SiLU-86             [-1, 10, 1, 1]               0\n",
            "           Conv2d-87            [-1, 240, 1, 1]           2,640\n",
            "          Sigmoid-88            [-1, 240, 1, 1]               0\n",
            "SqueezeExcitation-89          [-1, 240, 14, 14]               0\n",
            "           Conv2d-90           [-1, 80, 14, 14]          19,200\n",
            "      BatchNorm2d-91           [-1, 80, 14, 14]             160\n",
            "           MBConv-92           [-1, 80, 14, 14]               0\n",
            "           Conv2d-93          [-1, 480, 14, 14]          38,400\n",
            "      BatchNorm2d-94          [-1, 480, 14, 14]             960\n",
            "             SiLU-95          [-1, 480, 14, 14]               0\n",
            "           Conv2d-96          [-1, 480, 14, 14]           4,320\n",
            "      BatchNorm2d-97          [-1, 480, 14, 14]             960\n",
            "             SiLU-98          [-1, 480, 14, 14]               0\n",
            "AdaptiveAvgPool2d-99            [-1, 480, 1, 1]               0\n",
            "          Conv2d-100             [-1, 20, 1, 1]           9,620\n",
            "            SiLU-101             [-1, 20, 1, 1]               0\n",
            "          Conv2d-102            [-1, 480, 1, 1]          10,080\n",
            "         Sigmoid-103            [-1, 480, 1, 1]               0\n",
            "SqueezeExcitation-104          [-1, 480, 14, 14]               0\n",
            "          Conv2d-105           [-1, 80, 14, 14]          38,400\n",
            "     BatchNorm2d-106           [-1, 80, 14, 14]             160\n",
            " StochasticDepth-107           [-1, 80, 14, 14]               0\n",
            "          MBConv-108           [-1, 80, 14, 14]               0\n",
            "          Conv2d-109          [-1, 480, 14, 14]          38,400\n",
            "     BatchNorm2d-110          [-1, 480, 14, 14]             960\n",
            "            SiLU-111          [-1, 480, 14, 14]               0\n",
            "          Conv2d-112          [-1, 480, 14, 14]           4,320\n",
            "     BatchNorm2d-113          [-1, 480, 14, 14]             960\n",
            "            SiLU-114          [-1, 480, 14, 14]               0\n",
            "AdaptiveAvgPool2d-115            [-1, 480, 1, 1]               0\n",
            "          Conv2d-116             [-1, 20, 1, 1]           9,620\n",
            "            SiLU-117             [-1, 20, 1, 1]               0\n",
            "          Conv2d-118            [-1, 480, 1, 1]          10,080\n",
            "         Sigmoid-119            [-1, 480, 1, 1]               0\n",
            "SqueezeExcitation-120          [-1, 480, 14, 14]               0\n",
            "          Conv2d-121           [-1, 80, 14, 14]          38,400\n",
            "     BatchNorm2d-122           [-1, 80, 14, 14]             160\n",
            " StochasticDepth-123           [-1, 80, 14, 14]               0\n",
            "          MBConv-124           [-1, 80, 14, 14]               0\n",
            "          Conv2d-125          [-1, 480, 14, 14]          38,400\n",
            "     BatchNorm2d-126          [-1, 480, 14, 14]             960\n",
            "            SiLU-127          [-1, 480, 14, 14]               0\n",
            "          Conv2d-128          [-1, 480, 14, 14]          12,000\n",
            "     BatchNorm2d-129          [-1, 480, 14, 14]             960\n",
            "            SiLU-130          [-1, 480, 14, 14]               0\n",
            "AdaptiveAvgPool2d-131            [-1, 480, 1, 1]               0\n",
            "          Conv2d-132             [-1, 20, 1, 1]           9,620\n",
            "            SiLU-133             [-1, 20, 1, 1]               0\n",
            "          Conv2d-134            [-1, 480, 1, 1]          10,080\n",
            "         Sigmoid-135            [-1, 480, 1, 1]               0\n",
            "SqueezeExcitation-136          [-1, 480, 14, 14]               0\n",
            "          Conv2d-137          [-1, 112, 14, 14]          53,760\n",
            "     BatchNorm2d-138          [-1, 112, 14, 14]             224\n",
            "          MBConv-139          [-1, 112, 14, 14]               0\n",
            "          Conv2d-140          [-1, 672, 14, 14]          75,264\n",
            "     BatchNorm2d-141          [-1, 672, 14, 14]           1,344\n",
            "            SiLU-142          [-1, 672, 14, 14]               0\n",
            "          Conv2d-143          [-1, 672, 14, 14]          16,800\n",
            "     BatchNorm2d-144          [-1, 672, 14, 14]           1,344\n",
            "            SiLU-145          [-1, 672, 14, 14]               0\n",
            "AdaptiveAvgPool2d-146            [-1, 672, 1, 1]               0\n",
            "          Conv2d-147             [-1, 28, 1, 1]          18,844\n",
            "            SiLU-148             [-1, 28, 1, 1]               0\n",
            "          Conv2d-149            [-1, 672, 1, 1]          19,488\n",
            "         Sigmoid-150            [-1, 672, 1, 1]               0\n",
            "SqueezeExcitation-151          [-1, 672, 14, 14]               0\n",
            "          Conv2d-152          [-1, 112, 14, 14]          75,264\n",
            "     BatchNorm2d-153          [-1, 112, 14, 14]             224\n",
            " StochasticDepth-154          [-1, 112, 14, 14]               0\n",
            "          MBConv-155          [-1, 112, 14, 14]               0\n",
            "          Conv2d-156          [-1, 672, 14, 14]          75,264\n",
            "     BatchNorm2d-157          [-1, 672, 14, 14]           1,344\n",
            "            SiLU-158          [-1, 672, 14, 14]               0\n",
            "          Conv2d-159          [-1, 672, 14, 14]          16,800\n",
            "     BatchNorm2d-160          [-1, 672, 14, 14]           1,344\n",
            "            SiLU-161          [-1, 672, 14, 14]               0\n",
            "AdaptiveAvgPool2d-162            [-1, 672, 1, 1]               0\n",
            "          Conv2d-163             [-1, 28, 1, 1]          18,844\n",
            "            SiLU-164             [-1, 28, 1, 1]               0\n",
            "          Conv2d-165            [-1, 672, 1, 1]          19,488\n",
            "         Sigmoid-166            [-1, 672, 1, 1]               0\n",
            "SqueezeExcitation-167          [-1, 672, 14, 14]               0\n",
            "          Conv2d-168          [-1, 112, 14, 14]          75,264\n",
            "     BatchNorm2d-169          [-1, 112, 14, 14]             224\n",
            " StochasticDepth-170          [-1, 112, 14, 14]               0\n",
            "          MBConv-171          [-1, 112, 14, 14]               0\n",
            "          Conv2d-172          [-1, 672, 14, 14]          75,264\n",
            "     BatchNorm2d-173          [-1, 672, 14, 14]           1,344\n",
            "            SiLU-174          [-1, 672, 14, 14]               0\n",
            "          Conv2d-175            [-1, 672, 7, 7]          16,800\n",
            "     BatchNorm2d-176            [-1, 672, 7, 7]           1,344\n",
            "            SiLU-177            [-1, 672, 7, 7]               0\n",
            "AdaptiveAvgPool2d-178            [-1, 672, 1, 1]               0\n",
            "          Conv2d-179             [-1, 28, 1, 1]          18,844\n",
            "            SiLU-180             [-1, 28, 1, 1]               0\n",
            "          Conv2d-181            [-1, 672, 1, 1]          19,488\n",
            "         Sigmoid-182            [-1, 672, 1, 1]               0\n",
            "SqueezeExcitation-183            [-1, 672, 7, 7]               0\n",
            "          Conv2d-184            [-1, 192, 7, 7]         129,024\n",
            "     BatchNorm2d-185            [-1, 192, 7, 7]             384\n",
            "          MBConv-186            [-1, 192, 7, 7]               0\n",
            "          Conv2d-187           [-1, 1152, 7, 7]         221,184\n",
            "     BatchNorm2d-188           [-1, 1152, 7, 7]           2,304\n",
            "            SiLU-189           [-1, 1152, 7, 7]               0\n",
            "          Conv2d-190           [-1, 1152, 7, 7]          28,800\n",
            "     BatchNorm2d-191           [-1, 1152, 7, 7]           2,304\n",
            "            SiLU-192           [-1, 1152, 7, 7]               0\n",
            "AdaptiveAvgPool2d-193           [-1, 1152, 1, 1]               0\n",
            "          Conv2d-194             [-1, 48, 1, 1]          55,344\n",
            "            SiLU-195             [-1, 48, 1, 1]               0\n",
            "          Conv2d-196           [-1, 1152, 1, 1]          56,448\n",
            "         Sigmoid-197           [-1, 1152, 1, 1]               0\n",
            "SqueezeExcitation-198           [-1, 1152, 7, 7]               0\n",
            "          Conv2d-199            [-1, 192, 7, 7]         221,184\n",
            "     BatchNorm2d-200            [-1, 192, 7, 7]             384\n",
            " StochasticDepth-201            [-1, 192, 7, 7]               0\n",
            "          MBConv-202            [-1, 192, 7, 7]               0\n",
            "          Conv2d-203           [-1, 1152, 7, 7]         221,184\n",
            "     BatchNorm2d-204           [-1, 1152, 7, 7]           2,304\n",
            "            SiLU-205           [-1, 1152, 7, 7]               0\n",
            "          Conv2d-206           [-1, 1152, 7, 7]          28,800\n",
            "     BatchNorm2d-207           [-1, 1152, 7, 7]           2,304\n",
            "            SiLU-208           [-1, 1152, 7, 7]               0\n",
            "AdaptiveAvgPool2d-209           [-1, 1152, 1, 1]               0\n",
            "          Conv2d-210             [-1, 48, 1, 1]          55,344\n",
            "            SiLU-211             [-1, 48, 1, 1]               0\n",
            "          Conv2d-212           [-1, 1152, 1, 1]          56,448\n",
            "         Sigmoid-213           [-1, 1152, 1, 1]               0\n",
            "SqueezeExcitation-214           [-1, 1152, 7, 7]               0\n",
            "          Conv2d-215            [-1, 192, 7, 7]         221,184\n",
            "     BatchNorm2d-216            [-1, 192, 7, 7]             384\n",
            " StochasticDepth-217            [-1, 192, 7, 7]               0\n",
            "          MBConv-218            [-1, 192, 7, 7]               0\n",
            "          Conv2d-219           [-1, 1152, 7, 7]         221,184\n",
            "     BatchNorm2d-220           [-1, 1152, 7, 7]           2,304\n",
            "            SiLU-221           [-1, 1152, 7, 7]               0\n",
            "          Conv2d-222           [-1, 1152, 7, 7]          28,800\n",
            "     BatchNorm2d-223           [-1, 1152, 7, 7]           2,304\n",
            "            SiLU-224           [-1, 1152, 7, 7]               0\n",
            "AdaptiveAvgPool2d-225           [-1, 1152, 1, 1]               0\n",
            "          Conv2d-226             [-1, 48, 1, 1]          55,344\n",
            "            SiLU-227             [-1, 48, 1, 1]               0\n",
            "          Conv2d-228           [-1, 1152, 1, 1]          56,448\n",
            "         Sigmoid-229           [-1, 1152, 1, 1]               0\n",
            "SqueezeExcitation-230           [-1, 1152, 7, 7]               0\n",
            "          Conv2d-231            [-1, 192, 7, 7]         221,184\n",
            "     BatchNorm2d-232            [-1, 192, 7, 7]             384\n",
            " StochasticDepth-233            [-1, 192, 7, 7]               0\n",
            "          MBConv-234            [-1, 192, 7, 7]               0\n",
            "          Conv2d-235           [-1, 1152, 7, 7]         221,184\n",
            "     BatchNorm2d-236           [-1, 1152, 7, 7]           2,304\n",
            "            SiLU-237           [-1, 1152, 7, 7]               0\n",
            "          Conv2d-238           [-1, 1152, 7, 7]          10,368\n",
            "     BatchNorm2d-239           [-1, 1152, 7, 7]           2,304\n",
            "            SiLU-240           [-1, 1152, 7, 7]               0\n",
            "AdaptiveAvgPool2d-241           [-1, 1152, 1, 1]               0\n",
            "          Conv2d-242             [-1, 48, 1, 1]          55,344\n",
            "            SiLU-243             [-1, 48, 1, 1]               0\n",
            "          Conv2d-244           [-1, 1152, 1, 1]          56,448\n",
            "         Sigmoid-245           [-1, 1152, 1, 1]               0\n",
            "SqueezeExcitation-246           [-1, 1152, 7, 7]               0\n",
            "          Conv2d-247            [-1, 320, 7, 7]         368,640\n",
            "     BatchNorm2d-248            [-1, 320, 7, 7]             640\n",
            "          MBConv-249            [-1, 320, 7, 7]               0\n",
            "          Conv2d-250           [-1, 1280, 7, 7]         409,600\n",
            "     BatchNorm2d-251           [-1, 1280, 7, 7]           2,560\n",
            "            SiLU-252           [-1, 1280, 7, 7]               0\n",
            "AdaptiveAvgPool2d-253           [-1, 1280, 1, 1]               0\n",
            "         Dropout-254                 [-1, 1280]               0\n",
            "          Linear-255                 [-1, 1000]       1,281,000\n",
            "    EfficientNet-256                 [-1, 1000]               0\n",
            "          Linear-257                 [-1, 1024]       1,025,024\n",
            "     BatchNorm1d-258                 [-1, 1024]           2,048\n",
            "            GELU-259                 [-1, 1024]               0\n",
            "         Dropout-260                 [-1, 1024]               0\n",
            "          Linear-261                  [-1, 512]         524,800\n",
            "     BatchNorm1d-262                  [-1, 512]           1,024\n",
            "            GELU-263                  [-1, 512]               0\n",
            "         Dropout-264                  [-1, 512]               0\n",
            "          Linear-265                  [-1, 256]         131,328\n",
            "     BatchNorm1d-266                  [-1, 256]             512\n",
            "            GELU-267                  [-1, 256]               0\n",
            "         Dropout-268                  [-1, 256]               0\n",
            "          Linear-269                    [-1, 4]           1,028\n",
            "================================================================\n",
            "Total params: 6,974,312\n",
            "Trainable params: 5,384,652\n",
            "Non-trainable params: 1,589,660\n",
            "----------------------------------------------------------------\n",
            "Input size (MB): 0.57\n",
            "Forward/backward pass size (MB): 173.71\n",
            "Params size (MB): 26.60\n",
            "Estimated Total Size (MB): 200.89\n",
            "----------------------------------------------------------------\n"
          ]
        }
      ],
      "source": [
        "model_name = type(model).__name__\n",
        "print(\"Model\", model_name, \"Statistics:\")\n",
        "summary(model, (input_channels, input_height, input_width))"
      ]
    },
    {
      "cell_type": "markdown",
      "metadata": {
        "id": "5IgNxKOu-LDf"
      },
      "source": [
        "**Set Hyper-Parameters Using Optuna**"
      ]
    },
    {
      "cell_type": "code",
      "execution_count": 9,
      "metadata": {
        "colab": {
          "base_uri": "https://localhost:8080/"
        },
        "id": "gbHsApTN-LDf",
        "outputId": "85aecf12-1a30-4be7-fb6d-1d762b48f330"
      },
      "outputs": [
        {
          "name": "stdout",
          "output_type": "stream",
          "text": [
            "{'lr': 0.0008763123646325776, 'optimizer': 'RMSprop', 'batch_size': 256, 'scheduler': 'StepLR'}\n"
          ]
        }
      ],
      "source": [
        "load_existing_hyperparams = True\n",
        "\n",
        "if load_existing_hyperparams:\n",
        "    # Load hyper-parameters (relevant if optuna has already used)\n",
        "    optuna_params_path = f'./checkpoints/optuna_params/{model_name}/EfficientNet_0.8901.json'\n",
        "    with open(optuna_params_path, 'r') as file:\n",
        "        hyperparams = json.load(file)\n",
        "else:\n",
        "    # Find optimal hyper-parameters using optuna\n",
        "    torch.cuda.empty_cache()\n",
        "    hyperparams = optuna_search.optuna_param_search(model_name=\"EfficientNet\", loss_criterion=nn.CrossEntropyLoss(), num_epochs_for_experiments=10, device=device, transfer_learning=True)\n",
        "\n",
        "print(hyperparams)"
      ]
    },
    {
      "cell_type": "code",
      "execution_count": 10,
      "metadata": {
        "id": "zZJ3eTYHNxv3"
      },
      "outputs": [],
      "source": [
        "# Set hyper-parameters\n",
        "batch_size = hyperparams['batch_size']\n",
        "learning_rate = hyperparams['lr']\n",
        "optimizer_name = hyperparams['optimizer']\n",
        "optimizer = getattr(torch.optim, optimizer_name)(model.parameters(), lr=learning_rate)\n",
        "# optimizer = getattr(torch.optim, optimizer_name)(model.fc.parameters(), lr=learning_rate)\n",
        "num_epochs = 30\n",
        "scheduler = hyperparams['scheduler']\n",
        "scheduler = StepLR(optimizer, 10, 0.1, verbose=True) if scheduler == \"StepLR\" else CosineAnnealingLR(optimizer, num_epochs, verbose=True)\n",
        "criterion = nn.CrossEntropyLoss()"
      ]
    },
    {
      "cell_type": "markdown",
      "metadata": {
        "id": "FqhovXlwErj8"
      },
      "source": [
        "**Data Augmentations**"
      ]
    },
    {
      "cell_type": "code",
      "execution_count": 11,
      "metadata": {
        "id": "4F_MUSBBEwao"
      },
      "outputs": [],
      "source": [
        "augmentations = K.AugmentationSequential(\n",
        "    K.RandomHorizontalFlip(p=0.1),\n",
        "    K.RandomVerticalFlip(p=0.1),\n",
        "    K.RandomRotation(degrees=10, p=0.1),\n",
        "    K.RandomAffine(degrees=5, translate=(0.05, 0.05), scale=(0.95, 1.05), p=0.1),\n",
        "    K.RandomBrightness(brightness=(0.8, 1.2), p=0.1),\n",
        "    K.RandomContrast(contrast=(0.8, 1.2), p=0.1),\n",
        "    K.RandomGamma(gamma=(0.9, 1.1), p=0.1),\n",
        "    K.RandomSharpness(p=0.1),\n",
        "    same_on_batch=False\n",
        ")"
      ]
    },
    {
      "cell_type": "markdown",
      "metadata": {
        "id": "gfXa0erP-LDh"
      },
      "source": [
        "**Create Data Loaders**"
      ]
    },
    {
      "cell_type": "code",
      "execution_count": 12,
      "metadata": {
        "id": "osh9hV7S-LDh"
      },
      "outputs": [],
      "source": [
        "# Data loading and shuffling\n",
        "trainloader = torch.utils.data.DataLoader(train_set, batch_size=batch_size, shuffle=True, num_workers=4, pin_memory=True)\n",
        "validationloader = torch.utils.data.DataLoader(validation_set, batch_size=batch_size, shuffle=True, num_workers=4, pin_memory=True)\n",
        "testloader = torch.utils.data.DataLoader(test_set, batch_size=batch_size, shuffle=False, num_workers=4, pin_memory=True)"
      ]
    },
    {
      "cell_type": "markdown",
      "metadata": {
        "id": "0NMxcWt8WBVl"
      },
      "source": [
        "**Train Model**"
      ]
    },
    {
      "cell_type": "code",
      "execution_count": 13,
      "metadata": {
        "colab": {
          "base_uri": "https://localhost:8080/",
          "height": 478
        },
        "id": "RFzmKpCGODd8",
        "outputId": "2247d507-74ec-4d10-e716-1b55e6a92e27"
      },
      "outputs": [
        {
          "name": "stdout",
          "output_type": "stream",
          "text": [
            "Created training session directory: ./checkpoints/EfficientNet_103906_16102024\n",
            "Training model: EfficientNet on cuda:0\n"
          ]
        },
        {
          "name": "stderr",
          "output_type": "stream",
          "text": [
            "Training: 100%|██████████| 32/32 [00:26<00:00,  1.21it/s]\n",
            "Validation: 100%|██████████| 8/8 [00:05<00:00,  1.37it/s]\n"
          ]
        },
        {
          "name": "stdout",
          "output_type": "stream",
          "text": [
            "Epoch: 1 | Training Loss: 0.8821 | Training Accuracy: 44.043% | Validation Loss: 1.7068 | Validation Accuracy: 43.701% | Epoch Time: 111.09 secs\n"
          ]
        },
        {
          "name": "stderr",
          "output_type": "stream",
          "text": [
            "Training: 100%|██████████| 32/32 [00:23<00:00,  1.34it/s]\n",
            "Validation: 100%|██████████| 8/8 [00:05<00:00,  1.46it/s]\n"
          ]
        },
        {
          "name": "stdout",
          "output_type": "stream",
          "text": [
            "Epoch: 2 | Training Loss: 0.4356 | Training Accuracy: 61.340% | Validation Loss: 1.0028 | Validation Accuracy: 56.055% | Epoch Time: 107.75 secs\n"
          ]
        },
        {
          "name": "stderr",
          "output_type": "stream",
          "text": [
            "Training: 100%|██████████| 32/32 [00:25<00:00,  1.26it/s]\n",
            "Validation: 100%|██████████| 8/8 [00:05<00:00,  1.39it/s]\n"
          ]
        },
        {
          "name": "stdout",
          "output_type": "stream",
          "text": [
            "Epoch: 3 | Training Loss: 0.3579 | Training Accuracy: 85.950% | Validation Loss: 0.4657 | Validation Accuracy: 83.789% | Epoch Time: 112.94 secs\n"
          ]
        },
        {
          "name": "stderr",
          "output_type": "stream",
          "text": [
            "Training: 100%|██████████| 32/32 [00:25<00:00,  1.28it/s]\n",
            "Validation: 100%|██████████| 8/8 [00:05<00:00,  1.37it/s]\n"
          ]
        },
        {
          "name": "stdout",
          "output_type": "stream",
          "text": [
            "Epoch: 4 | Training Loss: 0.2736 | Training Accuracy: 93.750% | Validation Loss: 0.4024 | Validation Accuracy: 87.695% | Epoch Time: 114.16 secs\n"
          ]
        },
        {
          "name": "stderr",
          "output_type": "stream",
          "text": [
            "Training: 100%|██████████| 32/32 [00:25<00:00,  1.27it/s]\n",
            "Validation: 100%|██████████| 8/8 [00:05<00:00,  1.38it/s]\n"
          ]
        },
        {
          "name": "stdout",
          "output_type": "stream",
          "text": [
            "Epoch: 5 | Training Loss: 0.2246 | Training Accuracy: 93.213% | Validation Loss: 0.3877 | Validation Accuracy: 86.865% | Epoch Time: 115.29 secs\n",
            "==> Saving model ...\n",
            "Saved as ./checkpoints/EfficientNet_103906_16102024/EfficientNet_104827_16102024_train_0.2246_val_0.3877.pth\n"
          ]
        },
        {
          "name": "stderr",
          "output_type": "stream",
          "text": [
            "Training: 100%|██████████| 32/32 [00:25<00:00,  1.25it/s]\n",
            "Validation: 100%|██████████| 8/8 [00:06<00:00,  1.33it/s]\n"
          ]
        },
        {
          "name": "stdout",
          "output_type": "stream",
          "text": [
            "Epoch: 6 | Training Loss: 0.2038 | Training Accuracy: 94.629% | Validation Loss: 0.3656 | Validation Accuracy: 88.770% | Epoch Time: 116.87 secs\n"
          ]
        },
        {
          "name": "stderr",
          "output_type": "stream",
          "text": [
            "Training: 100%|██████████| 32/32 [00:25<00:00,  1.26it/s]\n",
            "Validation: 100%|██████████| 8/8 [00:05<00:00,  1.38it/s]\n"
          ]
        },
        {
          "name": "stdout",
          "output_type": "stream",
          "text": [
            "Epoch: 7 | Training Loss: 0.1591 | Training Accuracy: 96.545% | Validation Loss: 0.3601 | Validation Accuracy: 90.039% | Epoch Time: 116.85 secs\n"
          ]
        },
        {
          "name": "stderr",
          "output_type": "stream",
          "text": [
            "Training: 100%|██████████| 32/32 [00:25<00:00,  1.25it/s]\n",
            "Validation: 100%|██████████| 8/8 [00:05<00:00,  1.34it/s]\n"
          ]
        },
        {
          "name": "stdout",
          "output_type": "stream",
          "text": [
            "Epoch: 8 | Training Loss: 0.1360 | Training Accuracy: 99.023% | Validation Loss: 0.2243 | Validation Accuracy: 94.531% | Epoch Time: 117.41 secs\n"
          ]
        },
        {
          "name": "stderr",
          "output_type": "stream",
          "text": [
            "Training: 100%|██████████| 32/32 [00:25<00:00,  1.25it/s]\n",
            "Validation: 100%|██████████| 8/8 [00:05<00:00,  1.34it/s]\n"
          ]
        },
        {
          "name": "stdout",
          "output_type": "stream",
          "text": [
            "Epoch: 9 | Training Loss: 0.1332 | Training Accuracy: 98.718% | Validation Loss: 0.2454 | Validation Accuracy: 94.092% | Epoch Time: 117.58 secs\n"
          ]
        },
        {
          "name": "stderr",
          "output_type": "stream",
          "text": [
            "Training: 100%|██████████| 32/32 [00:25<00:00,  1.25it/s]\n",
            "Validation: 100%|██████████| 8/8 [00:05<00:00,  1.35it/s]\n"
          ]
        },
        {
          "name": "stdout",
          "output_type": "stream",
          "text": [
            "Epoch: 10 | Training Loss: 0.1269 | Training Accuracy: 99.207% | Validation Loss: 0.2305 | Validation Accuracy: 94.385% | Epoch Time: 117.98 secs\n",
            "==> Saving model ...\n",
            "Saved as ./checkpoints/EfficientNet_103906_16102024/EfficientNet_105814_16102024_train_0.1269_val_0.2305.pth\n"
          ]
        },
        {
          "name": "stderr",
          "output_type": "stream",
          "text": [
            "Training: 100%|██████████| 32/32 [00:25<00:00,  1.25it/s]\n",
            "Validation: 100%|██████████| 8/8 [00:06<00:00,  1.33it/s]\n"
          ]
        },
        {
          "name": "stdout",
          "output_type": "stream",
          "text": [
            "Epoch: 11 | Training Loss: 0.0889 | Training Accuracy: 99.976% | Validation Loss: 0.1470 | Validation Accuracy: 96.484% | Epoch Time: 117.97 secs\n"
          ]
        },
        {
          "name": "stderr",
          "output_type": "stream",
          "text": [
            "Training: 100%|██████████| 32/32 [00:25<00:00,  1.25it/s]\n",
            "Validation: 100%|██████████| 8/8 [00:05<00:00,  1.37it/s]\n"
          ]
        },
        {
          "name": "stdout",
          "output_type": "stream",
          "text": [
            "Epoch: 12 | Training Loss: 0.0772 | Training Accuracy: 100.000% | Validation Loss: 0.1346 | Validation Accuracy: 96.924% | Epoch Time: 118.22 secs\n"
          ]
        },
        {
          "name": "stderr",
          "output_type": "stream",
          "text": [
            "Training: 100%|██████████| 32/32 [00:25<00:00,  1.25it/s]\n",
            "Validation: 100%|██████████| 8/8 [00:06<00:00,  1.32it/s]\n"
          ]
        },
        {
          "name": "stdout",
          "output_type": "stream",
          "text": [
            "Epoch: 13 | Training Loss: 0.0696 | Training Accuracy: 100.000% | Validation Loss: 0.1372 | Validation Accuracy: 96.826% | Epoch Time: 118.53 secs\n"
          ]
        },
        {
          "name": "stderr",
          "output_type": "stream",
          "text": [
            "Training: 100%|██████████| 32/32 [00:25<00:00,  1.26it/s]\n",
            "Validation: 100%|██████████| 8/8 [00:05<00:00,  1.38it/s]\n"
          ]
        },
        {
          "name": "stdout",
          "output_type": "stream",
          "text": [
            "Epoch: 14 | Training Loss: 0.0670 | Training Accuracy: 100.000% | Validation Loss: 0.1414 | Validation Accuracy: 97.705% | Epoch Time: 117.77 secs\n"
          ]
        },
        {
          "name": "stderr",
          "output_type": "stream",
          "text": [
            "Training: 100%|██████████| 32/32 [00:25<00:00,  1.25it/s]\n",
            "Validation: 100%|██████████| 8/8 [00:05<00:00,  1.36it/s]\n"
          ]
        },
        {
          "name": "stdout",
          "output_type": "stream",
          "text": [
            "Epoch: 15 | Training Loss: 0.0614 | Training Accuracy: 100.000% | Validation Loss: 0.1394 | Validation Accuracy: 96.875% | Epoch Time: 118.41 secs\n",
            "==> Saving model ...\n",
            "Saved as ./checkpoints/EfficientNet_103906_16102024/EfficientNet_110805_16102024_train_0.0614_val_0.1394.pth\n"
          ]
        },
        {
          "name": "stderr",
          "output_type": "stream",
          "text": [
            "Training: 100%|██████████| 32/32 [00:25<00:00,  1.25it/s]\n",
            "Validation: 100%|██████████| 8/8 [00:05<00:00,  1.38it/s]\n"
          ]
        },
        {
          "name": "stdout",
          "output_type": "stream",
          "text": [
            "Epoch: 16 | Training Loss: 0.0616 | Training Accuracy: 100.000% | Validation Loss: 0.1231 | Validation Accuracy: 96.777% | Epoch Time: 118.58 secs\n"
          ]
        },
        {
          "name": "stderr",
          "output_type": "stream",
          "text": [
            "Training: 100%|██████████| 32/32 [00:25<00:00,  1.26it/s]\n",
            "Validation: 100%|██████████| 8/8 [00:05<00:00,  1.37it/s]\n"
          ]
        },
        {
          "name": "stdout",
          "output_type": "stream",
          "text": [
            "Epoch: 17 | Training Loss: 0.0561 | Training Accuracy: 100.000% | Validation Loss: 0.1271 | Validation Accuracy: 97.070% | Epoch Time: 117.97 secs\n"
          ]
        },
        {
          "name": "stderr",
          "output_type": "stream",
          "text": [
            "Training: 100%|██████████| 32/32 [00:25<00:00,  1.25it/s]\n",
            "Validation: 100%|██████████| 8/8 [00:06<00:00,  1.33it/s]\n"
          ]
        },
        {
          "name": "stdout",
          "output_type": "stream",
          "text": [
            "Epoch: 18 | Training Loss: 0.0554 | Training Accuracy: 100.000% | Validation Loss: 0.1181 | Validation Accuracy: 97.607% | Epoch Time: 118.46 secs\n"
          ]
        },
        {
          "name": "stderr",
          "output_type": "stream",
          "text": [
            "Training: 100%|██████████| 32/32 [00:25<00:00,  1.23it/s]\n",
            "Validation: 100%|██████████| 8/8 [00:05<00:00,  1.38it/s]\n"
          ]
        },
        {
          "name": "stdout",
          "output_type": "stream",
          "text": [
            "Epoch: 19 | Training Loss: 0.0558 | Training Accuracy: 100.000% | Validation Loss: 0.1217 | Validation Accuracy: 97.461% | Epoch Time: 121.54 secs\n"
          ]
        },
        {
          "name": "stderr",
          "output_type": "stream",
          "text": [
            "Training: 100%|██████████| 32/32 [00:25<00:00,  1.24it/s]\n",
            "Validation: 100%|██████████| 8/8 [00:05<00:00,  1.37it/s]\n"
          ]
        },
        {
          "name": "stdout",
          "output_type": "stream",
          "text": [
            "Epoch: 20 | Training Loss: 0.0534 | Training Accuracy: 100.000% | Validation Loss: 0.1434 | Validation Accuracy: 97.412% | Epoch Time: 119.16 secs\n",
            "==> Saving model ...\n",
            "Saved as ./checkpoints/EfficientNet_103906_16102024/EfficientNet_111801_16102024_train_0.0534_val_0.1434.pth\n"
          ]
        },
        {
          "name": "stderr",
          "output_type": "stream",
          "text": [
            "Training: 100%|██████████| 32/32 [00:25<00:00,  1.25it/s]\n",
            "Validation: 100%|██████████| 8/8 [00:05<00:00,  1.36it/s]\n"
          ]
        },
        {
          "name": "stdout",
          "output_type": "stream",
          "text": [
            "Epoch: 21 | Training Loss: 0.0493 | Training Accuracy: 100.000% | Validation Loss: 0.1314 | Validation Accuracy: 97.559% | Epoch Time: 119.01 secs\n"
          ]
        },
        {
          "name": "stderr",
          "output_type": "stream",
          "text": [
            "Training: 100%|██████████| 32/32 [00:25<00:00,  1.23it/s]\n",
            "Validation: 100%|██████████| 8/8 [00:05<00:00,  1.37it/s]\n"
          ]
        },
        {
          "name": "stdout",
          "output_type": "stream",
          "text": [
            "Epoch: 22 | Training Loss: 0.0520 | Training Accuracy: 100.000% | Validation Loss: 0.1228 | Validation Accuracy: 97.559% | Epoch Time: 119.18 secs\n"
          ]
        },
        {
          "name": "stderr",
          "output_type": "stream",
          "text": [
            "Training: 100%|██████████| 32/32 [00:25<00:00,  1.25it/s]\n",
            "Validation: 100%|██████████| 8/8 [00:05<00:00,  1.34it/s]\n"
          ]
        },
        {
          "name": "stdout",
          "output_type": "stream",
          "text": [
            "Epoch: 23 | Training Loss: 0.0497 | Training Accuracy: 100.000% | Validation Loss: 0.1228 | Validation Accuracy: 97.559% | Epoch Time: 119.77 secs\n"
          ]
        },
        {
          "name": "stderr",
          "output_type": "stream",
          "text": [
            "Training: 100%|██████████| 32/32 [00:25<00:00,  1.24it/s]\n",
            "Validation: 100%|██████████| 8/8 [00:05<00:00,  1.36it/s]\n"
          ]
        },
        {
          "name": "stdout",
          "output_type": "stream",
          "text": [
            "Epoch: 24 | Training Loss: 0.0474 | Training Accuracy: 100.000% | Validation Loss: 0.1302 | Validation Accuracy: 97.705% | Epoch Time: 119.06 secs\n"
          ]
        },
        {
          "name": "stderr",
          "output_type": "stream",
          "text": [
            "Training: 100%|██████████| 32/32 [00:25<00:00,  1.25it/s]\n",
            "Validation: 100%|██████████| 8/8 [00:05<00:00,  1.37it/s]\n"
          ]
        },
        {
          "name": "stdout",
          "output_type": "stream",
          "text": [
            "Epoch: 25 | Training Loss: 0.0513 | Training Accuracy: 100.000% | Validation Loss: 0.1243 | Validation Accuracy: 97.607% | Epoch Time: 119.39 secs\n",
            "==> Saving model ...\n",
            "Saved as ./checkpoints/EfficientNet_103906_16102024/EfficientNet_112758_16102024_train_0.0513_val_0.1243.pth\n"
          ]
        }
      ],
      "source": [
        "load_existing_params = False\n",
        "train_loaded_model = False\n",
        "\n",
        "if load_existing_params:\n",
        "    model_path = './checkpoints/EfficientNet_163902_13102024/EfficientNet_172348_13102024_train_0.1178_val_0.1789.pth'\n",
        "    checkpoint = torch.load(model_path, weights_only=True)\n",
        "    model.load_state_dict(checkpoint['net'])\n",
        "    if (train_loaded_model):\n",
        "        epoch_train_losses, epoch_validation_losses, epoch_train_accuracies, epoch_validation_accuracies = utils_funcs.train_model(model, num_epochs, trainloader, validationloader, device, criterion, optimizer, scheduler, augmentations, use_amp=True)\n",
        "else:\n",
        "    epoch_train_losses, epoch_validation_losses, epoch_train_accuracies, epoch_validation_accuracies = utils_funcs.train_model(model, num_epochs, trainloader, validationloader, device, criterion, optimizer, scheduler, augmentations, use_amp=True)"
      ]
    },
    {
      "cell_type": "markdown",
      "metadata": {
        "id": "EbJ0dBbeVkzF"
      },
      "source": [
        "**Results**"
      ]
    },
    {
      "cell_type": "code",
      "execution_count": 14,
      "metadata": {
        "id": "bWniJm-0VgEz",
        "outputId": "e5587a8b-ca09-47e8-d110-3d919beaef2a"
      },
      "outputs": [
        {
          "name": "stdout",
          "output_type": "stream",
          "text": [
            "Test accuracy: 95.778%\n"
          ]
        }
      ],
      "source": [
        "test_accuracy = utils_funcs.calculate_accuracy(model, testloader, device)\n",
        "print(\"Test accuracy: {:.3f}%\".format(test_accuracy))"
      ]
    },
    {
      "cell_type": "code",
      "execution_count": 15,
      "metadata": {
        "id": "7VSHJRpx-LDj",
        "outputId": "6e8f0ed6-e0ac-47dc-a3d8-706dbe351c12"
      },
      "outputs": [
        {
          "data": {
            "text/plain": [
              "<Figure size 800x600 with 0 Axes>"
            ]
          },
          "metadata": {},
          "output_type": "display_data"
        },
        {
          "data": {
            "image/png": "[encoded data removed]",
            "text/plain": [
              "<Figure size 640x480 with 2 Axes>"
            ]
          },
          "metadata": {},
          "output_type": "display_data"
        }
      ],
      "source": [
        "class_names = ['VeryMildDemented', 'NonDemented', 'ModerateDemented', 'MildDemented']\n",
        "utils_funcs.plot_normalized_confusion_matrix(testloader, model, class_names, device, model_name)"
      ]
    },
    {
      "cell_type": "code",
      "execution_count": 16,
      "metadata": {
        "id": "g7O4VexWVcyQ",
        "outputId": "165ace2e-19d7-4248-80e2-9ea59de1384f"
      },
      "outputs": [
        {
          "data": {
            "image/png": "[encoded data removed]",
            "text/plain": [
              "<Figure size 500x500 with 1 Axes>"
            ]
          },
          "metadata": {},
          "output_type": "display_data"
        }
      ],
      "source": [
        "utils_funcs.plot_loss_curve(epoch_train_losses, epoch_validation_losses, num_epochs, model_name)"
      ]
    },
    {
      "cell_type": "code",
      "execution_count": 17,
      "metadata": {
        "id": "QXboM0ht4Rcc",
        "outputId": "56b2cf5d-a09d-4e93-df2b-2be506d3ac65"
      },
      "outputs": [
        {
          "data": {
            "image/png": "[encoded data removed]",
            "text/plain": [
              "<Figure size 500x500 with 1 Axes>"
            ]
          },
          "metadata": {},
          "output_type": "display_data"
        }
      ],
      "source": [
        "utils_funcs.plot_accuracy_curve(epoch_train_accuracies, epoch_validation_accuracies, num_epochs, model_name)"
      ]
    }
  ],
  "metadata": {
    "accelerator": "GPU",
    "colab": {
      "gpuType": "T4",
      "provenance": []
    },
    "kernelspec": {
      "display_name": "dino_deep_learn_cuda124",
      "language": "python",
      "name": "python3"
    },
    "language_info": {
      "codemirror_mode": {
        "name": "ipython",
        "version": 3
      },
      "file_extension": ".py",
      "mimetype": "text/x-python",
      "name": "python",
      "nbconvert_exporter": "python",
      "pygments_lexer": "ipython3",
      "version": "3.10.14"
    }
  },
  "nbformat": 4,
  "nbformat_minor": 0
}
