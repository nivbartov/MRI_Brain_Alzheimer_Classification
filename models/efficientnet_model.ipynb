{
  "cells": [
    {
      "cell_type": "markdown",
      "metadata": {
        "id": "CSXDJcczMrB6"
      },
      "source": [
        "<h1 style=\"display: flex; align-items: center; font-size: 35px\">\n",
        "    <img src=\"../assets/icons/deep-learning_2.png\" style=\"width: 50px; height: 50px; margin-right: 10px;\">\n",
        "    <strong>MRI Brain Alzheimer Classification - EfficientNet Model</strong>\n",
        "</h1>\n",
        "\n",
        "****"
      ]
    },
    {
      "cell_type": "markdown",
      "metadata": {
        "id": "mEWgxGwpIvtv"
      },
      "source": [
        "<h1 style=\"display: flex; align-items: center; font-size: 25px; margin: 0;\">\n",
        "    <img src=\"../assets/icons/icons8-git-48.png\" style=\"width: 40px; height: 40px; margin-right: 5px;\">\n",
        "    Clone Repository from GitHub\n",
        "</h1>\n"
      ]
    },
    {
      "cell_type": "code",
      "execution_count": 1,
      "metadata": {
        "colab": {
          "base_uri": "https://localhost:8080/"
        },
        "id": "jJiyYyeMASQj",
        "outputId": "f9f851ff-43ae-40ef-b800-0c870d3d0033"
      },
      "outputs": [
        {
          "name": "stdout",
          "output_type": "stream",
          "text": [
            "c:\\Dor\\TECHNION\\deep_learning\\Project\\MRI_Brain_Alzheimer_Classification\n"
          ]
        }
      ],
      "source": [
        "# Clone repository from GitHub\n",
        "# !git clone https://github.com/nivbartov/MRI_Brain_Alzheimer_Classification\n",
        "\n",
        "# %cd MRI_Brain_Alzheimer_Classification\n",
        "%cd .."
      ]
    },
    {
      "cell_type": "markdown",
      "metadata": {
        "id": "EI_InVVAASQl"
      },
      "source": [
        "<h1 style=\"display: flex; align-items: center; font-size: 25px; margin: 0;\">\n",
        "    <img src=\"../assets/icons/icons8-import-64.png\" style=\"width: 40px; height: 40px; margin-right: 5px;\">\n",
        "    Import Packages\n",
        "</h1>\n"
      ]
    },
    {
      "cell_type": "code",
      "execution_count": 2,
      "metadata": {
        "id": "v_yU5PXHEX4x"
      },
      "outputs": [],
      "source": [
        "import warnings\n",
        "warnings.filterwarnings(\"ignore\", category=FutureWarning)\n",
        "warnings.filterwarnings(\"ignore\", category=UserWarning)\n",
        "import sys\n",
        "import os\n",
        "import numpy as np\n",
        "import pandas as pd\n",
        "import torch\n",
        "from torchsummary import summary\n",
        "import torch.nn as nn\n",
        "from torch.utils.data import TensorDataset, DataLoader, Subset, ConcatDataset\n",
        "import torchvision\n",
        "import torchvision.datasets as datasets\n",
        "import torchvision.transforms as transforms\n",
        "from kornia import augmentation as K\n",
        "from kornia.augmentation import AugmentationSequential\n",
        "from torch.optim.lr_scheduler import CosineAnnealingLR, StepLR\n",
        "import matplotlib.pyplot as plt\n",
        "%matplotlib inline\n",
        "from tqdm import tqdm\n",
        "import random\n",
        "import time\n",
        "from datetime import datetime\n",
        "import json\n",
        "import gc\n",
        "import subprocess"
      ]
    },
    {
      "cell_type": "markdown",
      "metadata": {
        "id": "vQJKfOGEJWan"
      },
      "source": [
        "<h1 style=\"display: flex; align-items: center; font-size: 25px; margin: 0;\">\n",
        "    <img src=\"../assets/icons/icons8-function-80.png\" style=\"width: 40px; height: 40px; margin-right: 5px;\">\n",
        "    Import Internal Functions\n",
        "</h1>\n"
      ]
    },
    {
      "cell_type": "code",
      "execution_count": 4,
      "metadata": {
        "id": "clhd-UgNJb27"
      },
      "outputs": [],
      "source": [
        "from models import def_models\n",
        "from utils import utils_funcs\n",
        "from utils import optuna_search"
      ]
    },
    {
      "cell_type": "markdown",
      "metadata": {
        "id": "3C9hi5C_-LDb"
      },
      "source": [
        "<h1 style=\"display: flex; align-items: center; font-size: 25px; margin: 0;\">\n",
        "    <img src=\"../assets/icons/icons8-gpu-64.png\" style=\"width: 40px; height: 40px; margin-right: 5px;\">\n",
        "    Define Definition\n",
        "</h1>"
      ]
    },
    {
      "cell_type": "code",
      "execution_count": 5,
      "metadata": {
        "colab": {
          "base_uri": "https://localhost:8080/"
        },
        "id": "gULVrEpb-LDb",
        "outputId": "3ddf951b-5e7a-4105-9110-9907fc609421"
      },
      "outputs": [
        {
          "name": "stdout",
          "output_type": "stream",
          "text": [
            "torch.cuda.is_available(): True\n",
            "device: cuda:0\n"
          ]
        }
      ],
      "source": [
        "print(f'torch.cuda.is_available(): {torch.cuda.is_available()}')\n",
        "device = torch.device(\"cuda:0\" if torch.cuda.is_available() else \"cpu\")\n",
        "print(f'device: {device}')\n",
        "torch.cuda.empty_cache()\n",
        "gc.collect()\n",
        "utils_funcs.open_nvitop()"
      ]
    },
    {
      "cell_type": "markdown",
      "metadata": {
        "id": "2kZK4UP6bri3"
      },
      "source": [
        "<h1 style=\"display: flex; align-items: center; font-size: 25px; margin: 0;\">\n",
        "    <img src=\"../assets/icons/icons8-load-50.png\" style=\"width: 40px; height: 40px; margin-right: 5px;\">\n",
        "    Load Dataset\n",
        "</h1>"
      ]
    },
    {
      "cell_type": "code",
      "execution_count": 6,
      "metadata": {
        "id": "AAMNS4v3ASQs"
      },
      "outputs": [],
      "source": [
        "train_set = torch.load('dataset/dataset_variables/train_set.pt')\n",
        "validation_set = torch.load('dataset/dataset_variables/validation_set.pt')\n",
        "test_set = torch.load('dataset/dataset_variables/test_set.pt')"
      ]
    },
    {
      "cell_type": "markdown",
      "metadata": {
        "id": "eCYl_TtCNRRy"
      },
      "source": [
        "<h1 style=\"display: flex; align-items: center; font-size: 25px; margin: 0;\">\n",
        "    <img src=\"../assets/icons/icons8-data-recovery-40.png\" style=\"width: 40px; height: 40px; margin-right: 5px;\">\n",
        "    Model Definition and Initialization\n",
        "</h1>"
      ]
    },
    {
      "cell_type": "code",
      "execution_count": 7,
      "metadata": {
        "colab": {
          "base_uri": "https://localhost:8080/"
        },
        "id": "h0rr3nWPNoN8",
        "outputId": "a9402c03-142d-414e-b83a-de28ee47c8f1"
      },
      "outputs": [
        {
          "name": "stderr",
          "output_type": "stream",
          "text": [
            "Downloading: \"https://download.pytorch.org/models/efficientnet_b0_rwightman-7f5810bc.pth\" to /root/.cache/torch/hub/checkpoints/efficientnet_b0_rwightman-7f5810bc.pth\n",
            "100%|██████████| 20.5M/20.5M [00:00<00:00, 46.3MB/s]\n"
          ]
        }
      ],
      "source": [
        "# Initialize input and output sizes\n",
        "input_width = 224\n",
        "input_height = 224\n",
        "input_channels = 3\n",
        "output_channels = 4\n",
        "\n",
        "# Load a pre-trained EfficientNet-B0 model\n",
        "EfficientNet_backbone_model = torchvision.models.efficientnet_b0(pretrained=True)\n",
        "\n",
        "# Finetune EfficientNet-B0 layers\n",
        "for param in EfficientNet_backbone_model.parameters():\n",
        "    param.requires_grad = True\n",
        "\n",
        "# Create EfficientNet-B0 model with FC layers before the output\n",
        "model = def_models.EfficientNet(EfficientNet_backbone=EfficientNet_backbone_model, output_channels=output_channels).to(device)"
      ]
    },
    {
      "cell_type": "markdown",
      "metadata": {
        "id": "saYl7RZGbri3"
      },
      "source": [
        "<h1 style=\"display: flex; align-items: center; font-size: 25px; margin: 0;\">\n",
        "    <img src=\"../assets/icons/icons8-statistics-64.png\" style=\"width: 40px; height: 40px; margin-right: 5px;\">\n",
        "    Model statistics\n",
        "</h1>"
      ]
    },
    {
      "cell_type": "code",
      "execution_count": 8,
      "metadata": {
        "colab": {
          "base_uri": "https://localhost:8080/"
        },
        "id": "EeoGhA5A-LDe",
        "outputId": "72c04010-728d-4053-d2a8-8abcb190cb4b"
      },
      "outputs": [
        {
          "name": "stdout",
          "output_type": "stream",
          "text": [
            "Model EfficientNet Statistics:\n",
            "----------------------------------------------------------------\n",
            "        Layer (type)               Output Shape         Param #\n",
            "================================================================\n",
            "            Conv2d-1         [-1, 32, 112, 112]             864\n",
            "       BatchNorm2d-2         [-1, 32, 112, 112]              64\n",
            "              SiLU-3         [-1, 32, 112, 112]               0\n",
            "            Conv2d-4         [-1, 32, 112, 112]             288\n",
            "       BatchNorm2d-5         [-1, 32, 112, 112]              64\n",
            "              SiLU-6         [-1, 32, 112, 112]               0\n",
            " AdaptiveAvgPool2d-7             [-1, 32, 1, 1]               0\n",
            "            Conv2d-8              [-1, 8, 1, 1]             264\n",
            "              SiLU-9              [-1, 8, 1, 1]               0\n",
            "           Conv2d-10             [-1, 32, 1, 1]             288\n",
            "          Sigmoid-11             [-1, 32, 1, 1]               0\n",
            "SqueezeExcitation-12         [-1, 32, 112, 112]               0\n",
            "           Conv2d-13         [-1, 16, 112, 112]             512\n",
            "      BatchNorm2d-14         [-1, 16, 112, 112]              32\n",
            "           MBConv-15         [-1, 16, 112, 112]               0\n",
            "           Conv2d-16         [-1, 96, 112, 112]           1,536\n",
            "      BatchNorm2d-17         [-1, 96, 112, 112]             192\n",
            "             SiLU-18         [-1, 96, 112, 112]               0\n",
            "           Conv2d-19           [-1, 96, 56, 56]             864\n",
            "      BatchNorm2d-20           [-1, 96, 56, 56]             192\n",
            "             SiLU-21           [-1, 96, 56, 56]               0\n",
            "AdaptiveAvgPool2d-22             [-1, 96, 1, 1]               0\n",
            "           Conv2d-23              [-1, 4, 1, 1]             388\n",
            "             SiLU-24              [-1, 4, 1, 1]               0\n",
            "           Conv2d-25             [-1, 96, 1, 1]             480\n",
            "          Sigmoid-26             [-1, 96, 1, 1]               0\n",
            "SqueezeExcitation-27           [-1, 96, 56, 56]               0\n",
            "           Conv2d-28           [-1, 24, 56, 56]           2,304\n",
            "      BatchNorm2d-29           [-1, 24, 56, 56]              48\n",
            "           MBConv-30           [-1, 24, 56, 56]               0\n",
            "           Conv2d-31          [-1, 144, 56, 56]           3,456\n",
            "      BatchNorm2d-32          [-1, 144, 56, 56]             288\n",
            "             SiLU-33          [-1, 144, 56, 56]               0\n",
            "           Conv2d-34          [-1, 144, 56, 56]           1,296\n",
            "      BatchNorm2d-35          [-1, 144, 56, 56]             288\n",
            "             SiLU-36          [-1, 144, 56, 56]               0\n",
            "AdaptiveAvgPool2d-37            [-1, 144, 1, 1]               0\n",
            "           Conv2d-38              [-1, 6, 1, 1]             870\n",
            "             SiLU-39              [-1, 6, 1, 1]               0\n",
            "           Conv2d-40            [-1, 144, 1, 1]           1,008\n",
            "          Sigmoid-41            [-1, 144, 1, 1]               0\n",
            "SqueezeExcitation-42          [-1, 144, 56, 56]               0\n",
            "           Conv2d-43           [-1, 24, 56, 56]           3,456\n",
            "      BatchNorm2d-44           [-1, 24, 56, 56]              48\n",
            "  StochasticDepth-45           [-1, 24, 56, 56]               0\n",
            "           MBConv-46           [-1, 24, 56, 56]               0\n",
            "           Conv2d-47          [-1, 144, 56, 56]           3,456\n",
            "      BatchNorm2d-48          [-1, 144, 56, 56]             288\n",
            "             SiLU-49          [-1, 144, 56, 56]               0\n",
            "           Conv2d-50          [-1, 144, 28, 28]           3,600\n",
            "      BatchNorm2d-51          [-1, 144, 28, 28]             288\n",
            "             SiLU-52          [-1, 144, 28, 28]               0\n",
            "AdaptiveAvgPool2d-53            [-1, 144, 1, 1]               0\n",
            "           Conv2d-54              [-1, 6, 1, 1]             870\n",
            "             SiLU-55              [-1, 6, 1, 1]               0\n",
            "           Conv2d-56            [-1, 144, 1, 1]           1,008\n",
            "          Sigmoid-57            [-1, 144, 1, 1]               0\n",
            "SqueezeExcitation-58          [-1, 144, 28, 28]               0\n",
            "           Conv2d-59           [-1, 40, 28, 28]           5,760\n",
            "      BatchNorm2d-60           [-1, 40, 28, 28]              80\n",
            "           MBConv-61           [-1, 40, 28, 28]               0\n",
            "           Conv2d-62          [-1, 240, 28, 28]           9,600\n",
            "      BatchNorm2d-63          [-1, 240, 28, 28]             480\n",
            "             SiLU-64          [-1, 240, 28, 28]               0\n",
            "           Conv2d-65          [-1, 240, 28, 28]           6,000\n",
            "      BatchNorm2d-66          [-1, 240, 28, 28]             480\n",
            "             SiLU-67          [-1, 240, 28, 28]               0\n",
            "AdaptiveAvgPool2d-68            [-1, 240, 1, 1]               0\n",
            "           Conv2d-69             [-1, 10, 1, 1]           2,410\n",
            "             SiLU-70             [-1, 10, 1, 1]               0\n",
            "           Conv2d-71            [-1, 240, 1, 1]           2,640\n",
            "          Sigmoid-72            [-1, 240, 1, 1]               0\n",
            "SqueezeExcitation-73          [-1, 240, 28, 28]               0\n",
            "           Conv2d-74           [-1, 40, 28, 28]           9,600\n",
            "      BatchNorm2d-75           [-1, 40, 28, 28]              80\n",
            "  StochasticDepth-76           [-1, 40, 28, 28]               0\n",
            "           MBConv-77           [-1, 40, 28, 28]               0\n",
            "           Conv2d-78          [-1, 240, 28, 28]           9,600\n",
            "      BatchNorm2d-79          [-1, 240, 28, 28]             480\n",
            "             SiLU-80          [-1, 240, 28, 28]               0\n",
            "           Conv2d-81          [-1, 240, 14, 14]           2,160\n",
            "      BatchNorm2d-82          [-1, 240, 14, 14]             480\n",
            "             SiLU-83          [-1, 240, 14, 14]               0\n",
            "AdaptiveAvgPool2d-84            [-1, 240, 1, 1]               0\n",
            "           Conv2d-85             [-1, 10, 1, 1]           2,410\n",
            "             SiLU-86             [-1, 10, 1, 1]               0\n",
            "           Conv2d-87            [-1, 240, 1, 1]           2,640\n",
            "          Sigmoid-88            [-1, 240, 1, 1]               0\n",
            "SqueezeExcitation-89          [-1, 240, 14, 14]               0\n",
            "           Conv2d-90           [-1, 80, 14, 14]          19,200\n",
            "      BatchNorm2d-91           [-1, 80, 14, 14]             160\n",
            "           MBConv-92           [-1, 80, 14, 14]               0\n",
            "           Conv2d-93          [-1, 480, 14, 14]          38,400\n",
            "      BatchNorm2d-94          [-1, 480, 14, 14]             960\n",
            "             SiLU-95          [-1, 480, 14, 14]               0\n",
            "           Conv2d-96          [-1, 480, 14, 14]           4,320\n",
            "      BatchNorm2d-97          [-1, 480, 14, 14]             960\n",
            "             SiLU-98          [-1, 480, 14, 14]               0\n",
            "AdaptiveAvgPool2d-99            [-1, 480, 1, 1]               0\n",
            "          Conv2d-100             [-1, 20, 1, 1]           9,620\n",
            "            SiLU-101             [-1, 20, 1, 1]               0\n",
            "          Conv2d-102            [-1, 480, 1, 1]          10,080\n",
            "         Sigmoid-103            [-1, 480, 1, 1]               0\n",
            "SqueezeExcitation-104          [-1, 480, 14, 14]               0\n",
            "          Conv2d-105           [-1, 80, 14, 14]          38,400\n",
            "     BatchNorm2d-106           [-1, 80, 14, 14]             160\n",
            " StochasticDepth-107           [-1, 80, 14, 14]               0\n",
            "          MBConv-108           [-1, 80, 14, 14]               0\n",
            "          Conv2d-109          [-1, 480, 14, 14]          38,400\n",
            "     BatchNorm2d-110          [-1, 480, 14, 14]             960\n",
            "            SiLU-111          [-1, 480, 14, 14]               0\n",
            "          Conv2d-112          [-1, 480, 14, 14]           4,320\n",
            "     BatchNorm2d-113          [-1, 480, 14, 14]             960\n",
            "            SiLU-114          [-1, 480, 14, 14]               0\n",
            "AdaptiveAvgPool2d-115            [-1, 480, 1, 1]               0\n",
            "          Conv2d-116             [-1, 20, 1, 1]           9,620\n",
            "            SiLU-117             [-1, 20, 1, 1]               0\n",
            "          Conv2d-118            [-1, 480, 1, 1]          10,080\n",
            "         Sigmoid-119            [-1, 480, 1, 1]               0\n",
            "SqueezeExcitation-120          [-1, 480, 14, 14]               0\n",
            "          Conv2d-121           [-1, 80, 14, 14]          38,400\n",
            "     BatchNorm2d-122           [-1, 80, 14, 14]             160\n",
            " StochasticDepth-123           [-1, 80, 14, 14]               0\n",
            "          MBConv-124           [-1, 80, 14, 14]               0\n",
            "          Conv2d-125          [-1, 480, 14, 14]          38,400\n",
            "     BatchNorm2d-126          [-1, 480, 14, 14]             960\n",
            "            SiLU-127          [-1, 480, 14, 14]               0\n",
            "          Conv2d-128          [-1, 480, 14, 14]          12,000\n",
            "     BatchNorm2d-129          [-1, 480, 14, 14]             960\n",
            "            SiLU-130          [-1, 480, 14, 14]               0\n",
            "AdaptiveAvgPool2d-131            [-1, 480, 1, 1]               0\n",
            "          Conv2d-132             [-1, 20, 1, 1]           9,620\n",
            "            SiLU-133             [-1, 20, 1, 1]               0\n",
            "          Conv2d-134            [-1, 480, 1, 1]          10,080\n",
            "         Sigmoid-135            [-1, 480, 1, 1]               0\n",
            "SqueezeExcitation-136          [-1, 480, 14, 14]               0\n",
            "          Conv2d-137          [-1, 112, 14, 14]          53,760\n",
            "     BatchNorm2d-138          [-1, 112, 14, 14]             224\n",
            "          MBConv-139          [-1, 112, 14, 14]               0\n",
            "          Conv2d-140          [-1, 672, 14, 14]          75,264\n",
            "     BatchNorm2d-141          [-1, 672, 14, 14]           1,344\n",
            "            SiLU-142          [-1, 672, 14, 14]               0\n",
            "          Conv2d-143          [-1, 672, 14, 14]          16,800\n",
            "     BatchNorm2d-144          [-1, 672, 14, 14]           1,344\n",
            "            SiLU-145          [-1, 672, 14, 14]               0\n",
            "AdaptiveAvgPool2d-146            [-1, 672, 1, 1]               0\n",
            "          Conv2d-147             [-1, 28, 1, 1]          18,844\n",
            "            SiLU-148             [-1, 28, 1, 1]               0\n",
            "          Conv2d-149            [-1, 672, 1, 1]          19,488\n",
            "         Sigmoid-150            [-1, 672, 1, 1]               0\n",
            "SqueezeExcitation-151          [-1, 672, 14, 14]               0\n",
            "          Conv2d-152          [-1, 112, 14, 14]          75,264\n",
            "     BatchNorm2d-153          [-1, 112, 14, 14]             224\n",
            " StochasticDepth-154          [-1, 112, 14, 14]               0\n",
            "          MBConv-155          [-1, 112, 14, 14]               0\n",
            "          Conv2d-156          [-1, 672, 14, 14]          75,264\n",
            "     BatchNorm2d-157          [-1, 672, 14, 14]           1,344\n",
            "            SiLU-158          [-1, 672, 14, 14]               0\n",
            "          Conv2d-159          [-1, 672, 14, 14]          16,800\n",
            "     BatchNorm2d-160          [-1, 672, 14, 14]           1,344\n",
            "            SiLU-161          [-1, 672, 14, 14]               0\n",
            "AdaptiveAvgPool2d-162            [-1, 672, 1, 1]               0\n",
            "          Conv2d-163             [-1, 28, 1, 1]          18,844\n",
            "            SiLU-164             [-1, 28, 1, 1]               0\n",
            "          Conv2d-165            [-1, 672, 1, 1]          19,488\n",
            "         Sigmoid-166            [-1, 672, 1, 1]               0\n",
            "SqueezeExcitation-167          [-1, 672, 14, 14]               0\n",
            "          Conv2d-168          [-1, 112, 14, 14]          75,264\n",
            "     BatchNorm2d-169          [-1, 112, 14, 14]             224\n",
            " StochasticDepth-170          [-1, 112, 14, 14]               0\n",
            "          MBConv-171          [-1, 112, 14, 14]               0\n",
            "          Conv2d-172          [-1, 672, 14, 14]          75,264\n",
            "     BatchNorm2d-173          [-1, 672, 14, 14]           1,344\n",
            "            SiLU-174          [-1, 672, 14, 14]               0\n",
            "          Conv2d-175            [-1, 672, 7, 7]          16,800\n",
            "     BatchNorm2d-176            [-1, 672, 7, 7]           1,344\n",
            "            SiLU-177            [-1, 672, 7, 7]               0\n",
            "AdaptiveAvgPool2d-178            [-1, 672, 1, 1]               0\n",
            "          Conv2d-179             [-1, 28, 1, 1]          18,844\n",
            "            SiLU-180             [-1, 28, 1, 1]               0\n",
            "          Conv2d-181            [-1, 672, 1, 1]          19,488\n",
            "         Sigmoid-182            [-1, 672, 1, 1]               0\n",
            "SqueezeExcitation-183            [-1, 672, 7, 7]               0\n",
            "          Conv2d-184            [-1, 192, 7, 7]         129,024\n",
            "     BatchNorm2d-185            [-1, 192, 7, 7]             384\n",
            "          MBConv-186            [-1, 192, 7, 7]               0\n",
            "          Conv2d-187           [-1, 1152, 7, 7]         221,184\n",
            "     BatchNorm2d-188           [-1, 1152, 7, 7]           2,304\n",
            "            SiLU-189           [-1, 1152, 7, 7]               0\n",
            "          Conv2d-190           [-1, 1152, 7, 7]          28,800\n",
            "     BatchNorm2d-191           [-1, 1152, 7, 7]           2,304\n",
            "            SiLU-192           [-1, 1152, 7, 7]               0\n",
            "AdaptiveAvgPool2d-193           [-1, 1152, 1, 1]               0\n",
            "          Conv2d-194             [-1, 48, 1, 1]          55,344\n",
            "            SiLU-195             [-1, 48, 1, 1]               0\n",
            "          Conv2d-196           [-1, 1152, 1, 1]          56,448\n",
            "         Sigmoid-197           [-1, 1152, 1, 1]               0\n",
            "SqueezeExcitation-198           [-1, 1152, 7, 7]               0\n",
            "          Conv2d-199            [-1, 192, 7, 7]         221,184\n",
            "     BatchNorm2d-200            [-1, 192, 7, 7]             384\n",
            " StochasticDepth-201            [-1, 192, 7, 7]               0\n",
            "          MBConv-202            [-1, 192, 7, 7]               0\n",
            "          Conv2d-203           [-1, 1152, 7, 7]         221,184\n",
            "     BatchNorm2d-204           [-1, 1152, 7, 7]           2,304\n",
            "            SiLU-205           [-1, 1152, 7, 7]               0\n",
            "          Conv2d-206           [-1, 1152, 7, 7]          28,800\n",
            "     BatchNorm2d-207           [-1, 1152, 7, 7]           2,304\n",
            "            SiLU-208           [-1, 1152, 7, 7]               0\n",
            "AdaptiveAvgPool2d-209           [-1, 1152, 1, 1]               0\n",
            "          Conv2d-210             [-1, 48, 1, 1]          55,344\n",
            "            SiLU-211             [-1, 48, 1, 1]               0\n",
            "          Conv2d-212           [-1, 1152, 1, 1]          56,448\n",
            "         Sigmoid-213           [-1, 1152, 1, 1]               0\n",
            "SqueezeExcitation-214           [-1, 1152, 7, 7]               0\n",
            "          Conv2d-215            [-1, 192, 7, 7]         221,184\n",
            "     BatchNorm2d-216            [-1, 192, 7, 7]             384\n",
            " StochasticDepth-217            [-1, 192, 7, 7]               0\n",
            "          MBConv-218            [-1, 192, 7, 7]               0\n",
            "          Conv2d-219           [-1, 1152, 7, 7]         221,184\n",
            "     BatchNorm2d-220           [-1, 1152, 7, 7]           2,304\n",
            "            SiLU-221           [-1, 1152, 7, 7]               0\n",
            "          Conv2d-222           [-1, 1152, 7, 7]          28,800\n",
            "     BatchNorm2d-223           [-1, 1152, 7, 7]           2,304\n",
            "            SiLU-224           [-1, 1152, 7, 7]               0\n",
            "AdaptiveAvgPool2d-225           [-1, 1152, 1, 1]               0\n",
            "          Conv2d-226             [-1, 48, 1, 1]          55,344\n",
            "            SiLU-227             [-1, 48, 1, 1]               0\n",
            "          Conv2d-228           [-1, 1152, 1, 1]          56,448\n",
            "         Sigmoid-229           [-1, 1152, 1, 1]               0\n",
            "SqueezeExcitation-230           [-1, 1152, 7, 7]               0\n",
            "          Conv2d-231            [-1, 192, 7, 7]         221,184\n",
            "     BatchNorm2d-232            [-1, 192, 7, 7]             384\n",
            " StochasticDepth-233            [-1, 192, 7, 7]               0\n",
            "          MBConv-234            [-1, 192, 7, 7]               0\n",
            "          Conv2d-235           [-1, 1152, 7, 7]         221,184\n",
            "     BatchNorm2d-236           [-1, 1152, 7, 7]           2,304\n",
            "            SiLU-237           [-1, 1152, 7, 7]               0\n",
            "          Conv2d-238           [-1, 1152, 7, 7]          10,368\n",
            "     BatchNorm2d-239           [-1, 1152, 7, 7]           2,304\n",
            "            SiLU-240           [-1, 1152, 7, 7]               0\n",
            "AdaptiveAvgPool2d-241           [-1, 1152, 1, 1]               0\n",
            "          Conv2d-242             [-1, 48, 1, 1]          55,344\n",
            "            SiLU-243             [-1, 48, 1, 1]               0\n",
            "          Conv2d-244           [-1, 1152, 1, 1]          56,448\n",
            "         Sigmoid-245           [-1, 1152, 1, 1]               0\n",
            "SqueezeExcitation-246           [-1, 1152, 7, 7]               0\n",
            "          Conv2d-247            [-1, 320, 7, 7]         368,640\n",
            "     BatchNorm2d-248            [-1, 320, 7, 7]             640\n",
            "          MBConv-249            [-1, 320, 7, 7]               0\n",
            "          Conv2d-250           [-1, 1280, 7, 7]         409,600\n",
            "     BatchNorm2d-251           [-1, 1280, 7, 7]           2,560\n",
            "            SiLU-252           [-1, 1280, 7, 7]               0\n",
            "AdaptiveAvgPool2d-253           [-1, 1280, 1, 1]               0\n",
            "         Dropout-254                 [-1, 1280]               0\n",
            "          Linear-255                 [-1, 1000]       1,281,000\n",
            "    EfficientNet-256                 [-1, 1000]               0\n",
            "          Linear-257                 [-1, 1024]       1,025,024\n",
            "     BatchNorm1d-258                 [-1, 1024]           2,048\n",
            "            GELU-259                 [-1, 1024]               0\n",
            "         Dropout-260                 [-1, 1024]               0\n",
            "          Linear-261                  [-1, 512]         524,800\n",
            "     BatchNorm1d-262                  [-1, 512]           1,024\n",
            "            GELU-263                  [-1, 512]               0\n",
            "         Dropout-264                  [-1, 512]               0\n",
            "          Linear-265                  [-1, 256]         131,328\n",
            "     BatchNorm1d-266                  [-1, 256]             512\n",
            "            GELU-267                  [-1, 256]               0\n",
            "         Dropout-268                  [-1, 256]               0\n",
            "          Linear-269                    [-1, 4]           1,028\n",
            "================================================================\n",
            "Total params: 6,974,312\n",
            "Trainable params: 6,974,312\n",
            "Non-trainable params: 0\n",
            "----------------------------------------------------------------\n",
            "Input size (MB): 0.57\n",
            "Forward/backward pass size (MB): 173.71\n",
            "Params size (MB): 26.60\n",
            "Estimated Total Size (MB): 200.89\n",
            "----------------------------------------------------------------\n"
          ]
        }
      ],
      "source": [
        "model_name = type(model).__name__\n",
        "print(\"Model\", model_name, \"Statistics:\")\n",
        "summary(model, (input_channels, input_height, input_width))"
      ]
    },
    {
      "cell_type": "markdown",
      "metadata": {
        "id": "5IgNxKOu-LDf"
      },
      "source": [
        "<h1 style=\"display: flex; align-items: center; font-size: 25px; margin: 0;\">\n",
        "    <img src=\"../assets/icons/icons8-tuna-50.png\" style=\"width: 40px; height: 40px; margin-right: 5px;\">\n",
        "    Set Hyper-Parameters Using Optuna\n",
        "</h1>"
      ]
    },
    {
      "cell_type": "code",
      "execution_count": 9,
      "metadata": {
        "colab": {
          "base_uri": "https://localhost:8080/"
        },
        "id": "gbHsApTN-LDf",
        "outputId": "21a1bbee-2392-41cb-b291-a76336c79771"
      },
      "outputs": [
        {
          "name": "stderr",
          "output_type": "stream",
          "text": [
            "[I 2024-10-17 07:45:51,493] A new study created in memory with name: mri-alzhimer-classification\n"
          ]
        },
        {
          "name": "stdout",
          "output_type": "stream",
          "text": [
            "Optuna is done on device: cuda:0\n"
          ]
        },
        {
          "name": "stderr",
          "output_type": "stream",
          "text": [
            "100%|██████████| 10/10 [01:03<00:00,  6.38s/it]\n",
            "[I 2024-10-17 07:46:56,204] Trial 0 finished with value: 0.7625 and parameters: {'lr': 1.8229106413373008e-05, 'optimizer': 'RMSprop', 'batch_size': 32, 'scheduler': 'CosineAnnealingLR'}. Best is trial 0 with value: 0.7625.\n",
            "100%|██████████| 10/10 [02:08<00:00, 12.84s/it]\n",
            "[I 2024-10-17 07:49:04,835] Trial 1 finished with value: 0.8109375 and parameters: {'lr': 0.005906701547624786, 'optimizer': 'Adam', 'batch_size': 64, 'scheduler': 'CosineAnnealingLR'}. Best is trial 1 with value: 0.8109375.\n",
            "100%|██████████| 10/10 [02:07<00:00, 12.79s/it]\n",
            "[I 2024-10-17 07:51:12,996] Trial 2 finished with value: 0.61875 and parameters: {'lr': 3.7111230493135953e-06, 'optimizer': 'Adam', 'batch_size': 64, 'scheduler': 'CosineAnnealingLR'}. Best is trial 1 with value: 0.8109375.\n",
            "100%|██████████| 10/10 [01:01<00:00,  6.11s/it]\n",
            "[I 2024-10-17 07:52:14,362] Trial 3 finished with value: 0.678125 and parameters: {'lr': 0.002384250024131759, 'optimizer': 'SGD', 'batch_size': 32, 'scheduler': 'CosineAnnealingLR'}. Best is trial 1 with value: 0.8109375.\n",
            "100%|██████████| 10/10 [01:01<00:00,  6.16s/it]\n",
            "[I 2024-10-17 07:53:16,394] Trial 4 finished with value: 0.29375 and parameters: {'lr': 0.004367024361864524, 'optimizer': 'RMSprop', 'batch_size': 32, 'scheduler': 'StepLR'}. Best is trial 1 with value: 0.8109375.\n",
            "  0%|          | 0/10 [00:04<?, ?it/s]\n",
            "[I 2024-10-17 07:53:21,187] Trial 5 pruned. \n",
            "  0%|          | 0/10 [00:12<?, ?it/s]\n",
            "[I 2024-10-17 07:53:34,230] Trial 6 pruned. \n",
            "  0%|          | 0/10 [00:03<?, ?it/s]\n",
            "[I 2024-10-17 07:53:37,943] Trial 7 pruned. \n",
            "100%|██████████| 10/10 [02:05<00:00, 12.58s/it]\n",
            "[I 2024-10-17 07:55:44,040] Trial 8 finished with value: 0.796875 and parameters: {'lr': 0.0016030313209785783, 'optimizer': 'Adam', 'batch_size': 64, 'scheduler': 'StepLR'}. Best is trial 1 with value: 0.8109375.\n",
            "  0%|          | 0/10 [00:11<?, ?it/s]\n",
            "[I 2024-10-17 07:55:55,919] Trial 9 pruned. \n",
            "100%|██████████| 10/10 [02:08<00:00, 12.80s/it]\n",
            "[I 2024-10-17 07:58:04,377] Trial 10 finished with value: 0.8625 and parameters: {'lr': 0.0002258322844121532, 'optimizer': 'Adam', 'batch_size': 64, 'scheduler': 'CosineAnnealingLR'}. Best is trial 10 with value: 0.8625.\n",
            "100%|██████████| 10/10 [02:08<00:00, 12.88s/it]\n",
            "[I 2024-10-17 08:00:13,602] Trial 11 finished with value: 0.8359375 and parameters: {'lr': 0.00010514721959452728, 'optimizer': 'Adam', 'batch_size': 64, 'scheduler': 'CosineAnnealingLR'}. Best is trial 10 with value: 0.8625.\n",
            "100%|██████████| 10/10 [02:08<00:00, 12.83s/it]\n",
            "[I 2024-10-17 08:02:22,195] Trial 12 finished with value: 0.8609375 and parameters: {'lr': 0.00026644863344989575, 'optimizer': 'Adam', 'batch_size': 64, 'scheduler': 'CosineAnnealingLR'}. Best is trial 10 with value: 0.8625.\n",
            "100%|██████████| 10/10 [02:05<00:00, 12.59s/it]\n",
            "[I 2024-10-17 08:04:28,375] Trial 13 finished with value: 0.85625 and parameters: {'lr': 0.00027448400793030086, 'optimizer': 'Adam', 'batch_size': 64, 'scheduler': 'CosineAnnealingLR'}. Best is trial 10 with value: 0.8625.\n",
            "  0%|          | 0/10 [00:12<?, ?it/s]\n",
            "[I 2024-10-17 08:04:40,789] Trial 14 pruned. \n",
            "  0%|          | 0/10 [00:03<?, ?it/s]\n",
            "[I 2024-10-17 08:04:44,615] Trial 15 pruned. \n",
            "100%|██████████| 10/10 [02:04<00:00, 12.41s/it]\n",
            "[I 2024-10-17 08:06:49,016] Trial 16 finished with value: 0.8609375 and parameters: {'lr': 0.0006225694493717129, 'optimizer': 'Adam', 'batch_size': 64, 'scheduler': 'CosineAnnealingLR'}. Best is trial 10 with value: 0.8625.\n",
            "  0%|          | 0/10 [00:11<?, ?it/s]\n",
            "[I 2024-10-17 08:07:01,198] Trial 17 pruned. \n",
            "  0%|          | 0/10 [00:05<?, ?it/s]\n",
            "[I 2024-10-17 08:07:07,365] Trial 18 pruned. \n",
            " 10%|█         | 1/10 [00:07<01:08,  7.56s/it]\n",
            "[I 2024-10-17 08:07:15,182] Trial 19 pruned. \n",
            "  0%|          | 0/10 [00:12<?, ?it/s]\n",
            "[I 2024-10-17 08:07:28,196] Trial 20 pruned. \n",
            "100%|██████████| 10/10 [02:05<00:00, 12.50s/it]\n",
            "[I 2024-10-17 08:09:33,567] Trial 21 finished with value: 0.8671875 and parameters: {'lr': 0.0006244533537392306, 'optimizer': 'Adam', 'batch_size': 64, 'scheduler': 'CosineAnnealingLR'}. Best is trial 21 with value: 0.8671875.\n",
            "  0%|          | 0/10 [00:12<?, ?it/s]\n",
            "[I 2024-10-17 08:09:46,479] Trial 22 pruned. \n",
            "  0%|          | 0/10 [00:12<?, ?it/s]\n",
            "[I 2024-10-17 08:09:58,965] Trial 23 pruned. \n",
            "100%|██████████| 10/10 [02:06<00:00, 12.67s/it]\n",
            "[I 2024-10-17 08:12:06,078] Trial 24 finished with value: 0.840625 and parameters: {'lr': 0.00032625610370790823, 'optimizer': 'Adam', 'batch_size': 64, 'scheduler': 'CosineAnnealingLR'}. Best is trial 21 with value: 0.8671875.\n",
            "  0%|          | 0/10 [00:12<?, ?it/s]\n",
            "[I 2024-10-17 08:12:19,523] Trial 25 pruned. \n",
            " 60%|██████    | 6/10 [01:30<01:00, 15.08s/it]\n",
            "[I 2024-10-17 08:13:50,336] Trial 26 pruned. \n",
            "  0%|          | 0/10 [00:12<?, ?it/s]\n",
            "[I 2024-10-17 08:14:03,578] Trial 27 pruned. \n",
            "  0%|          | 0/10 [00:05<?, ?it/s]\n",
            "[I 2024-10-17 08:14:09,464] Trial 28 pruned. \n",
            "  0%|          | 0/10 [00:04<?, ?it/s]\n",
            "[I 2024-10-17 08:14:14,267] Trial 29 pruned. \n",
            "100%|██████████| 10/10 [01:01<00:00,  6.18s/it]\n",
            "[I 2024-10-17 08:15:16,376] Trial 30 finished with value: 0.83125 and parameters: {'lr': 0.0002243174408944291, 'optimizer': 'RMSprop', 'batch_size': 32, 'scheduler': 'CosineAnnealingLR'}. Best is trial 21 with value: 0.8671875.\n",
            "  0%|          | 0/10 [00:13<?, ?it/s]\n",
            "[I 2024-10-17 08:15:29,955] Trial 31 pruned. \n",
            "100%|██████████| 10/10 [02:08<00:00, 12.80s/it]\n",
            "[I 2024-10-17 08:17:38,234] Trial 32 finished with value: 0.8671875 and parameters: {'lr': 0.0006133283148149155, 'optimizer': 'Adam', 'batch_size': 64, 'scheduler': 'CosineAnnealingLR'}. Best is trial 21 with value: 0.8671875.\n",
            "  0%|          | 0/10 [00:12<?, ?it/s]\n",
            "[I 2024-10-17 08:17:51,197] Trial 33 pruned. \n",
            " 10%|█         | 1/10 [00:24<03:43, 24.84s/it]\n",
            "[I 2024-10-17 08:18:16,296] Trial 34 pruned. \n"
          ]
        },
        {
          "name": "stdout",
          "output_type": "stream",
          "text": [
            "Study statistics: \n",
            "  Number of finished trials:  35\n",
            "  Number of pruned trials:  20\n",
            "  Number of complete trials:  15\n",
            "Best trial:\n",
            "  Value:  0.8671875\n",
            "  Params: \n",
            "    lr: 0.0006244533537392306\n",
            "    optimizer: Adam\n",
            "    batch_size: 64\n",
            "    scheduler: CosineAnnealingLR\n",
            "Best parameters saved to checkpoints/optuna_params/EfficientNet/EfficientNet_0.8672.json\n",
            "{'lr': 0.0006244533537392306, 'optimizer': 'Adam', 'batch_size': 64, 'scheduler': 'CosineAnnealingLR'}\n"
          ]
        }
      ],
      "source": [
        "load_existing_hyperparams = False\n",
        "\n",
        "if load_existing_hyperparams:\n",
        "    # Load hyper-parameters (relevant if optuna has already used)\n",
        "    optuna_params_path = f'./checkpoints/optuna_params/{model_name}/EfficientNet_0.8901.json'\n",
        "    with open(optuna_params_path, 'r') as file:\n",
        "        hyperparams = json.load(file)\n",
        "else:\n",
        "    # Find optimal hyper-parameters using optuna\n",
        "    torch.cuda.empty_cache()\n",
        "    hyperparams = optuna_search.optuna_param_search(model_name=\"EfficientNet\", loss_criterion=nn.CrossEntropyLoss(), num_epochs_for_experiments=10, device=device, transfer_learning=True)\n",
        "\n",
        "print(hyperparams)"
      ]
    },
    {
      "cell_type": "code",
      "execution_count": 10,
      "metadata": {
        "id": "zZJ3eTYHNxv3"
      },
      "outputs": [],
      "source": [
        "# Set hyper-parameters\n",
        "batch_size = hyperparams['batch_size']\n",
        "learning_rate = hyperparams['lr']\n",
        "optimizer_name = hyperparams['optimizer']\n",
        "optimizer = getattr(torch.optim, optimizer_name)(model.parameters(), lr=learning_rate)\n",
        "num_epochs = 35\n",
        "scheduler = hyperparams['scheduler']\n",
        "scheduler = StepLR(optimizer, 10, 0.1, verbose=True) if scheduler == \"StepLR\" else CosineAnnealingLR(optimizer, num_epochs, verbose=True)\n",
        "criterion = nn.CrossEntropyLoss()"
      ]
    },
    {
      "cell_type": "markdown",
      "metadata": {
        "id": "FqhovXlwErj8"
      },
      "source": [
        "<h1 style=\"display: flex; align-items: center; font-size: 25px; margin: 0;\">\n",
        "    <img src=\"../assets/icons/icons8-augmentation-64.png\" style=\"width: 40px; height: 40px; margin-right: 5px;\">\n",
        "    Data Augmentations\n",
        "</h1>"
      ]
    },
    {
      "cell_type": "code",
      "execution_count": 11,
      "metadata": {
        "id": "4F_MUSBBEwao"
      },
      "outputs": [],
      "source": [
        "augmentations = K.AugmentationSequential(\n",
        "    K.RandomHorizontalFlip(p=0.1),\n",
        "    K.RandomVerticalFlip(p=0.1),\n",
        "    K.RandomRotation(degrees=10, p=0.1),\n",
        "    K.RandomAffine(degrees=5, translate=(0.05, 0.05), scale=(0.95, 1.05), p=0.1),\n",
        "    K.RandomBrightness(brightness=(0.8, 1.2), p=0.1),\n",
        "    K.RandomContrast(contrast=(0.8, 1.2), p=0.1),\n",
        "    K.RandomGamma(gamma=(0.9, 1.1), p=0.1),\n",
        "    K.RandomSharpness(p=0.1),\n",
        "    same_on_batch=False\n",
        ")"
      ]
    },
    {
      "cell_type": "markdown",
      "metadata": {
        "id": "gfXa0erP-LDh"
      },
      "source": [
        "<h1 style=\"display: flex; align-items: center; font-size: 25px; margin: 0;\">\n",
        "    <img src=\"../assets/icons/icons8-loader-80.png\" style=\"width: 40px; height: 40px; margin-right: 5px;\">\n",
        "    Create Data Loaders\n",
        "</h1>\n"
      ]
    },
    {
      "cell_type": "code",
      "execution_count": 12,
      "metadata": {
        "id": "osh9hV7S-LDh"
      },
      "outputs": [],
      "source": [
        "# Data loading and shuffling\n",
        "trainloader = torch.utils.data.DataLoader(train_set, batch_size=batch_size, shuffle=True, num_workers=4, pin_memory=True)\n",
        "validationloader = torch.utils.data.DataLoader(validation_set, batch_size=batch_size, shuffle=True, num_workers=4, pin_memory=True)\n",
        "testloader = torch.utils.data.DataLoader(test_set, batch_size=batch_size, shuffle=False, num_workers=4, pin_memory=True)"
      ]
    },
    {
      "cell_type": "markdown",
      "metadata": {
        "id": "0NMxcWt8WBVl"
      },
      "source": [
        "<h1 style=\"display: flex; align-items: center; font-size: 25px; margin: 0;\">\n",
        "    <img src=\"../assets/icons/icons8-training-100.png\" style=\"width: 50px; height: 50px; margin-right: 5px;\">\n",
        "    Train Model\n",
        "</h1>"
      ]
    },
    {
      "cell_type": "code",
      "execution_count": 13,
      "metadata": {
        "colab": {
          "base_uri": "https://localhost:8080/"
        },
        "id": "RFzmKpCGODd8",
        "outputId": "62ecd99f-27bc-4d63-8a9f-410d599f3eca"
      },
      "outputs": [
        {
          "name": "stdout",
          "output_type": "stream",
          "text": [
            "Created training session directory: ./checkpoints/EfficientNet_083104_17102024\n",
            "Training model: EfficientNet on cuda:0\n"
          ]
        },
        {
          "name": "stderr",
          "output_type": "stream",
          "text": [
            "Training: 100%|██████████| 128/128 [01:06<00:00,  1.93it/s]\n",
            "Validation: 100%|██████████| 32/32 [00:12<00:00,  2.48it/s]\n"
          ]
        },
        {
          "name": "stdout",
          "output_type": "stream",
          "text": [
            "Epoch: 1 | Training Loss: 0.5722 | Training Accuracy: 84.644% | Validation Loss: 0.4404 | Validation Accuracy: 82.373% | Epoch Time: 101.88 secs\n"
          ]
        },
        {
          "name": "stderr",
          "output_type": "stream",
          "text": [
            "Training: 100%|██████████| 128/128 [01:03<00:00,  2.02it/s]\n",
            "Validation: 100%|██████████| 32/32 [00:13<00:00,  2.32it/s]\n"
          ]
        },
        {
          "name": "stdout",
          "output_type": "stream",
          "text": [
            "Epoch: 2 | Training Loss: 0.3644 | Training Accuracy: 91.870% | Validation Loss: 0.3712 | Validation Accuracy: 87.744% | Epoch Time: 99.09 secs\n"
          ]
        },
        {
          "name": "stderr",
          "output_type": "stream",
          "text": [
            "Training: 100%|██████████| 128/128 [01:03<00:00,  2.01it/s]\n",
            "Validation: 100%|██████████| 32/32 [00:11<00:00,  2.71it/s]\n"
          ]
        },
        {
          "name": "stdout",
          "output_type": "stream",
          "text": [
            "Epoch: 3 | Training Loss: 0.2820 | Training Accuracy: 96.228% | Validation Loss: 0.2644 | Validation Accuracy: 92.285% | Epoch Time: 98.98 secs\n"
          ]
        },
        {
          "name": "stderr",
          "output_type": "stream",
          "text": [
            "Training: 100%|██████████| 128/128 [01:03<00:00,  2.01it/s]\n",
            "Validation: 100%|██████████| 32/32 [00:14<00:00,  2.28it/s]\n"
          ]
        },
        {
          "name": "stdout",
          "output_type": "stream",
          "text": [
            "Epoch: 4 | Training Loss: 0.2230 | Training Accuracy: 95.923% | Validation Loss: 0.2668 | Validation Accuracy: 91.748% | Epoch Time: 100.84 secs\n"
          ]
        },
        {
          "name": "stderr",
          "output_type": "stream",
          "text": [
            "Training: 100%|██████████| 128/128 [01:04<00:00,  1.99it/s]\n",
            "Validation: 100%|██████████| 32/32 [00:12<00:00,  2.59it/s]\n"
          ]
        },
        {
          "name": "stdout",
          "output_type": "stream",
          "text": [
            "Epoch: 5 | Training Loss: 0.1704 | Training Accuracy: 98.547% | Validation Loss: 0.1930 | Validation Accuracy: 95.264% | Epoch Time: 98.99 secs\n",
            "==> Saving model ...\n",
            "Saved as ./checkpoints/EfficientNet_083104_17102024/EfficientNet_083924_17102024_train_0.1704_val_0.1930.pth\n"
          ]
        },
        {
          "name": "stderr",
          "output_type": "stream",
          "text": [
            "Training: 100%|██████████| 128/128 [01:03<00:00,  2.01it/s]\n",
            "Validation: 100%|██████████| 32/32 [00:14<00:00,  2.26it/s]\n"
          ]
        },
        {
          "name": "stdout",
          "output_type": "stream",
          "text": [
            "Epoch: 6 | Training Loss: 0.1335 | Training Accuracy: 98.987% | Validation Loss: 0.1645 | Validation Accuracy: 95.703% | Epoch Time: 100.24 secs\n"
          ]
        },
        {
          "name": "stderr",
          "output_type": "stream",
          "text": [
            "Training: 100%|██████████| 128/128 [01:03<00:00,  2.02it/s]\n",
            "Validation: 100%|██████████| 32/32 [00:12<00:00,  2.47it/s]\n"
          ]
        },
        {
          "name": "stdout",
          "output_type": "stream",
          "text": [
            "Epoch: 7 | Training Loss: 0.1170 | Training Accuracy: 98.218% | Validation Loss: 0.2089 | Validation Accuracy: 93.799% | Epoch Time: 100.18 secs\n"
          ]
        },
        {
          "name": "stderr",
          "output_type": "stream",
          "text": [
            "Training: 100%|██████████| 128/128 [00:59<00:00,  2.15it/s]\n",
            "Validation: 100%|██████████| 32/32 [00:13<00:00,  2.39it/s]\n"
          ]
        },
        {
          "name": "stdout",
          "output_type": "stream",
          "text": [
            "Epoch: 8 | Training Loss: 0.1074 | Training Accuracy: 99.072% | Validation Loss: 0.1501 | Validation Accuracy: 95.801% | Epoch Time: 95.40 secs\n"
          ]
        },
        {
          "name": "stderr",
          "output_type": "stream",
          "text": [
            "Training: 100%|██████████| 128/128 [00:57<00:00,  2.22it/s]\n",
            "Validation: 100%|██████████| 32/32 [00:13<00:00,  2.31it/s]\n"
          ]
        },
        {
          "name": "stdout",
          "output_type": "stream",
          "text": [
            "Epoch: 9 | Training Loss: 0.0851 | Training Accuracy: 99.768% | Validation Loss: 0.1172 | Validation Accuracy: 97.461% | Epoch Time: 94.06 secs\n"
          ]
        },
        {
          "name": "stderr",
          "output_type": "stream",
          "text": [
            "Training: 100%|██████████| 128/128 [01:03<00:00,  2.00it/s]\n",
            "Validation: 100%|██████████| 32/32 [00:13<00:00,  2.34it/s]\n"
          ]
        },
        {
          "name": "stdout",
          "output_type": "stream",
          "text": [
            "Epoch: 10 | Training Loss: 0.0709 | Training Accuracy: 99.121% | Validation Loss: 0.1557 | Validation Accuracy: 96.631% | Epoch Time: 100.36 secs\n",
            "==> Saving model ...\n",
            "Saved as ./checkpoints/EfficientNet_083104_17102024/EfficientNet_084734_17102024_train_0.0709_val_0.1557.pth\n"
          ]
        },
        {
          "name": "stderr",
          "output_type": "stream",
          "text": [
            "Training: 100%|██████████| 128/128 [01:04<00:00,  1.99it/s]\n",
            "Validation: 100%|██████████| 32/32 [00:13<00:00,  2.39it/s]\n"
          ]
        },
        {
          "name": "stdout",
          "output_type": "stream",
          "text": [
            "Epoch: 11 | Training Loss: 0.0681 | Training Accuracy: 99.768% | Validation Loss: 0.1233 | Validation Accuracy: 97.900% | Epoch Time: 100.11 secs\n"
          ]
        },
        {
          "name": "stderr",
          "output_type": "stream",
          "text": [
            "Training: 100%|██████████| 128/128 [01:02<00:00,  2.03it/s]\n",
            "Validation: 100%|██████████| 32/32 [00:13<00:00,  2.35it/s]\n"
          ]
        },
        {
          "name": "stdout",
          "output_type": "stream",
          "text": [
            "Epoch: 12 | Training Loss: 0.0600 | Training Accuracy: 99.963% | Validation Loss: 0.0898 | Validation Accuracy: 98.340% | Epoch Time: 98.91 secs\n"
          ]
        },
        {
          "name": "stderr",
          "output_type": "stream",
          "text": [
            "Training: 100%|██████████| 128/128 [00:58<00:00,  2.21it/s]\n",
            "Validation: 100%|██████████| 32/32 [00:13<00:00,  2.34it/s]\n"
          ]
        },
        {
          "name": "stdout",
          "output_type": "stream",
          "text": [
            "Epoch: 13 | Training Loss: 0.0527 | Training Accuracy: 99.951% | Validation Loss: 0.0801 | Validation Accuracy: 98.730% | Epoch Time: 94.10 secs\n"
          ]
        },
        {
          "name": "stderr",
          "output_type": "stream",
          "text": [
            "Training: 100%|██████████| 128/128 [01:04<00:00,  1.98it/s]\n",
            "Validation: 100%|██████████| 32/32 [00:12<00:00,  2.47it/s]\n"
          ]
        },
        {
          "name": "stdout",
          "output_type": "stream",
          "text": [
            "Epoch: 14 | Training Loss: 0.0455 | Training Accuracy: 99.988% | Validation Loss: 0.0702 | Validation Accuracy: 98.633% | Epoch Time: 99.25 secs\n"
          ]
        },
        {
          "name": "stderr",
          "output_type": "stream",
          "text": [
            "Training: 100%|██████████| 128/128 [01:03<00:00,  2.01it/s]\n",
            "Validation: 100%|██████████| 32/32 [00:12<00:00,  2.48it/s]\n"
          ]
        },
        {
          "name": "stdout",
          "output_type": "stream",
          "text": [
            "Epoch: 15 | Training Loss: 0.0420 | Training Accuracy: 99.939% | Validation Loss: 0.0927 | Validation Accuracy: 98.535% | Epoch Time: 98.52 secs\n",
            "==> Saving model ...\n",
            "Saved as ./checkpoints/EfficientNet_083104_17102024/EfficientNet_085545_17102024_train_0.0420_val_0.0927.pth\n"
          ]
        },
        {
          "name": "stderr",
          "output_type": "stream",
          "text": [
            "Training: 100%|██████████| 128/128 [01:03<00:00,  2.00it/s]\n",
            "Validation: 100%|██████████| 32/32 [00:12<00:00,  2.60it/s]\n"
          ]
        },
        {
          "name": "stdout",
          "output_type": "stream",
          "text": [
            "Epoch: 16 | Training Loss: 0.0337 | Training Accuracy: 99.866% | Validation Loss: 0.0764 | Validation Accuracy: 98.730% | Epoch Time: 99.59 secs\n"
          ]
        },
        {
          "name": "stderr",
          "output_type": "stream",
          "text": [
            "Training: 100%|██████████| 128/128 [01:02<00:00,  2.04it/s]\n",
            "Validation: 100%|██████████| 32/32 [00:13<00:00,  2.44it/s]\n"
          ]
        },
        {
          "name": "stdout",
          "output_type": "stream",
          "text": [
            "Epoch: 17 | Training Loss: 0.0340 | Training Accuracy: 99.963% | Validation Loss: 0.0757 | Validation Accuracy: 98.291% | Epoch Time: 97.97 secs\n"
          ]
        },
        {
          "name": "stderr",
          "output_type": "stream",
          "text": [
            "Training: 100%|██████████| 128/128 [01:03<00:00,  2.02it/s]\n",
            "Validation: 100%|██████████| 32/32 [00:12<00:00,  2.54it/s]\n"
          ]
        },
        {
          "name": "stdout",
          "output_type": "stream",
          "text": [
            "Epoch: 18 | Training Loss: 0.0270 | Training Accuracy: 99.963% | Validation Loss: 0.0712 | Validation Accuracy: 98.535% | Epoch Time: 99.24 secs\n"
          ]
        },
        {
          "name": "stderr",
          "output_type": "stream",
          "text": [
            "Training: 100%|██████████| 128/128 [01:04<00:00,  1.98it/s]\n",
            "Validation: 100%|██████████| 32/32 [00:13<00:00,  2.40it/s]\n"
          ]
        },
        {
          "name": "stdout",
          "output_type": "stream",
          "text": [
            "Epoch: 19 | Training Loss: 0.0292 | Training Accuracy: 99.963% | Validation Loss: 0.0697 | Validation Accuracy: 99.219% | Epoch Time: 100.10 secs\n"
          ]
        },
        {
          "name": "stderr",
          "output_type": "stream",
          "text": [
            "Training: 100%|██████████| 128/128 [01:04<00:00,  1.98it/s]\n",
            "Validation: 100%|██████████| 32/32 [00:13<00:00,  2.44it/s]\n"
          ]
        },
        {
          "name": "stdout",
          "output_type": "stream",
          "text": [
            "Epoch: 20 | Training Loss: 0.0194 | Training Accuracy: 99.988% | Validation Loss: 0.0518 | Validation Accuracy: 99.268% | Epoch Time: 100.08 secs\n",
            "==> Saving model ...\n",
            "Saved as ./checkpoints/EfficientNet_083104_17102024/EfficientNet_090402_17102024_train_0.0194_val_0.0518.pth\n"
          ]
        },
        {
          "name": "stderr",
          "output_type": "stream",
          "text": [
            "Training: 100%|██████████| 128/128 [00:55<00:00,  2.32it/s]\n",
            "Validation: 100%|██████████| 32/32 [00:11<00:00,  2.85it/s]\n"
          ]
        },
        {
          "name": "stdout",
          "output_type": "stream",
          "text": [
            "Epoch: 21 | Training Loss: 0.0177 | Training Accuracy: 99.976% | Validation Loss: 0.0658 | Validation Accuracy: 98.584% | Epoch Time: 88.61 secs\n"
          ]
        },
        {
          "name": "stderr",
          "output_type": "stream",
          "text": [
            "Training: 100%|██████████| 128/128 [01:03<00:00,  2.02it/s]\n",
            "Validation: 100%|██████████| 32/32 [00:13<00:00,  2.43it/s]\n"
          ]
        },
        {
          "name": "stdout",
          "output_type": "stream",
          "text": [
            "Epoch: 22 | Training Loss: 0.0158 | Training Accuracy: 100.000% | Validation Loss: 0.0579 | Validation Accuracy: 98.926% | Epoch Time: 98.75 secs\n"
          ]
        },
        {
          "name": "stderr",
          "output_type": "stream",
          "text": [
            "Training: 100%|██████████| 128/128 [01:03<00:00,  2.03it/s]\n",
            "Validation: 100%|██████████| 32/32 [00:12<00:00,  2.50it/s]\n"
          ]
        },
        {
          "name": "stdout",
          "output_type": "stream",
          "text": [
            "Epoch: 23 | Training Loss: 0.0171 | Training Accuracy: 100.000% | Validation Loss: 0.0574 | Validation Accuracy: 99.121% | Epoch Time: 99.92 secs\n"
          ]
        },
        {
          "name": "stderr",
          "output_type": "stream",
          "text": [
            "Training: 100%|██████████| 128/128 [01:03<00:00,  2.00it/s]\n",
            "Validation: 100%|██████████| 32/32 [00:12<00:00,  2.47it/s]\n"
          ]
        },
        {
          "name": "stdout",
          "output_type": "stream",
          "text": [
            "Epoch: 24 | Training Loss: 0.0110 | Training Accuracy: 100.000% | Validation Loss: 0.0600 | Validation Accuracy: 99.121% | Epoch Time: 98.74 secs\n"
          ]
        },
        {
          "name": "stderr",
          "output_type": "stream",
          "text": [
            "Training: 100%|██████████| 128/128 [01:03<00:00,  2.01it/s]\n",
            "Validation: 100%|██████████| 32/32 [00:13<00:00,  2.38it/s]\n"
          ]
        },
        {
          "name": "stdout",
          "output_type": "stream",
          "text": [
            "Epoch: 25 | Training Loss: 0.0097 | Training Accuracy: 100.000% | Validation Loss: 0.0441 | Validation Accuracy: 99.072% | Epoch Time: 100.16 secs\n",
            "==> Saving model ...\n",
            "Saved as ./checkpoints/EfficientNet_083104_17102024/EfficientNet_091209_17102024_train_0.0097_val_0.0441.pth\n"
          ]
        },
        {
          "name": "stderr",
          "output_type": "stream",
          "text": [
            "Training: 100%|██████████| 128/128 [01:03<00:00,  2.02it/s]\n",
            "Validation: 100%|██████████| 32/32 [00:13<00:00,  2.45it/s]\n"
          ]
        },
        {
          "name": "stdout",
          "output_type": "stream",
          "text": [
            "Epoch: 26 | Training Loss: 0.0106 | Training Accuracy: 100.000% | Validation Loss: 0.0473 | Validation Accuracy: 99.072% | Epoch Time: 98.96 secs\n"
          ]
        },
        {
          "name": "stderr",
          "output_type": "stream",
          "text": [
            "Training: 100%|██████████| 128/128 [01:03<00:00,  2.00it/s]\n",
            "Validation: 100%|██████████| 32/32 [00:13<00:00,  2.34it/s]\n"
          ]
        },
        {
          "name": "stdout",
          "output_type": "stream",
          "text": [
            "Epoch: 27 | Training Loss: 0.0079 | Training Accuracy: 100.000% | Validation Loss: 0.0559 | Validation Accuracy: 99.219% | Epoch Time: 100.20 secs\n"
          ]
        },
        {
          "name": "stderr",
          "output_type": "stream",
          "text": [
            "Training: 100%|██████████| 128/128 [00:56<00:00,  2.27it/s]\n",
            "Validation: 100%|██████████| 32/32 [00:13<00:00,  2.40it/s]\n"
          ]
        },
        {
          "name": "stdout",
          "output_type": "stream",
          "text": [
            "Epoch: 28 | Training Loss: 0.0078 | Training Accuracy: 100.000% | Validation Loss: 0.0370 | Validation Accuracy: 99.268% | Epoch Time: 91.82 secs\n"
          ]
        },
        {
          "name": "stderr",
          "output_type": "stream",
          "text": [
            "Training: 100%|██████████| 128/128 [01:02<00:00,  2.04it/s]\n",
            "Validation: 100%|██████████| 32/32 [00:12<00:00,  2.53it/s]\n"
          ]
        },
        {
          "name": "stdout",
          "output_type": "stream",
          "text": [
            "Epoch: 29 | Training Loss: 0.0074 | Training Accuracy: 100.000% | Validation Loss: 0.0460 | Validation Accuracy: 99.268% | Epoch Time: 97.69 secs\n"
          ]
        },
        {
          "name": "stderr",
          "output_type": "stream",
          "text": [
            "Training: 100%|██████████| 128/128 [01:02<00:00,  2.04it/s]\n",
            "Validation: 100%|██████████| 32/32 [00:11<00:00,  2.81it/s]\n"
          ]
        },
        {
          "name": "stdout",
          "output_type": "stream",
          "text": [
            "Epoch: 30 | Training Loss: 0.0064 | Training Accuracy: 100.000% | Validation Loss: 0.0409 | Validation Accuracy: 99.316% | Epoch Time: 99.76 secs\n",
            "==> Saving model ...\n",
            "Saved as ./checkpoints/EfficientNet_083104_17102024/EfficientNet_092017_17102024_train_0.0064_val_0.0409.pth\n"
          ]
        },
        {
          "name": "stderr",
          "output_type": "stream",
          "text": [
            "Training: 100%|██████████| 128/128 [01:05<00:00,  1.95it/s]\n",
            "Validation: 100%|██████████| 32/32 [00:13<00:00,  2.34it/s]\n"
          ]
        },
        {
          "name": "stdout",
          "output_type": "stream",
          "text": [
            "Epoch: 31 | Training Loss: 0.0083 | Training Accuracy: 100.000% | Validation Loss: 0.0396 | Validation Accuracy: 99.316% | Epoch Time: 102.33 secs\n"
          ]
        },
        {
          "name": "stderr",
          "output_type": "stream",
          "text": [
            "Training: 100%|██████████| 128/128 [01:04<00:00,  1.98it/s]\n",
            "Validation: 100%|██████████| 32/32 [00:13<00:00,  2.34it/s]\n"
          ]
        },
        {
          "name": "stdout",
          "output_type": "stream",
          "text": [
            "Epoch: 32 | Training Loss: 0.0040 | Training Accuracy: 100.000% | Validation Loss: 0.0383 | Validation Accuracy: 99.414% | Epoch Time: 100.74 secs\n"
          ]
        },
        {
          "name": "stderr",
          "output_type": "stream",
          "text": [
            "Training: 100%|██████████| 128/128 [01:03<00:00,  2.02it/s]\n",
            "Validation: 100%|██████████| 32/32 [00:12<00:00,  2.48it/s]\n"
          ]
        },
        {
          "name": "stdout",
          "output_type": "stream",
          "text": [
            "Epoch: 33 | Training Loss: 0.0048 | Training Accuracy: 100.000% | Validation Loss: 0.0424 | Validation Accuracy: 99.316% | Epoch Time: 98.42 secs\n"
          ]
        },
        {
          "name": "stderr",
          "output_type": "stream",
          "text": [
            "Training: 100%|██████████| 128/128 [01:05<00:00,  1.94it/s]\n",
            "Validation: 100%|██████████| 32/32 [00:12<00:00,  2.47it/s]\n"
          ]
        },
        {
          "name": "stdout",
          "output_type": "stream",
          "text": [
            "Epoch: 34 | Training Loss: 0.0032 | Training Accuracy: 100.000% | Validation Loss: 0.0380 | Validation Accuracy: 99.316% | Epoch Time: 103.19 secs\n"
          ]
        },
        {
          "name": "stderr",
          "output_type": "stream",
          "text": [
            "Training: 100%|██████████| 128/128 [01:06<00:00,  1.94it/s]\n",
            "Validation: 100%|██████████| 32/32 [00:12<00:00,  2.67it/s]\n"
          ]
        },
        {
          "name": "stdout",
          "output_type": "stream",
          "text": [
            "Epoch: 35 | Training Loss: 0.0044 | Training Accuracy: 100.000% | Validation Loss: 0.0401 | Validation Accuracy: 99.316% | Epoch Time: 100.34 secs\n",
            "==> Saving model ...\n",
            "Saved as ./checkpoints/EfficientNet_083104_17102024/EfficientNet_092843_17102024_train_0.0044_val_0.0401.pth\n"
          ]
        }
      ],
      "source": [
        "load_existing_params = False\n",
        "train_loaded_model = False\n",
        "\n",
        "if load_existing_params:\n",
        "    model_path = './checkpoints/EfficientNet_225106_16102024/EfficientNet_001249_17102024_train_0.0434_val_0.1027.pth'\n",
        "    checkpoint = torch.load(model_path, weights_only=True)\n",
        "    model.load_state_dict(checkpoint['net'])\n",
        "    if (train_loaded_model):\n",
        "        epoch_train_losses, epoch_validation_losses, epoch_train_accuracies, epoch_validation_accuracies = utils_funcs.train_model(model, num_epochs, trainloader, validationloader, device, criterion, optimizer, scheduler, augmentations, use_amp=True)\n",
        "    else:\n",
        "        # Load the saved values from the checkpoint\n",
        "        epoch_train_losses = checkpoint['train_epoch_losses']\n",
        "        epoch_validation_losses = checkpoint['validation_epoch_losses']\n",
        "        epoch_train_accuracies = checkpoint['train_epoch_accuracies']\n",
        "        epoch_validation_accuracies = checkpoint['validation_epoch_accuracies']\n",
        "        num_epochs = checkpoint['epoch']\n",
        "else:\n",
        "    epoch_train_losses, epoch_validation_losses, epoch_train_accuracies, epoch_validation_accuracies = utils_funcs.train_model(model, num_epochs, trainloader, validationloader, device, criterion, optimizer, scheduler, augmentations, use_amp=True)"
      ]
    },
    {
      "cell_type": "markdown",
      "metadata": {
        "id": "EbJ0dBbeVkzF"
      },
      "source": [
        "<h1 style=\"display: flex; align-items: center; font-size: 25px; margin: 0;\">\n",
        "    <img src=\"../assets/icons/icons8-results-58.png\" style=\"width: 50px; height: 50px; margin-right: 5px;\">\n",
        "    Results\n",
        "</h1>"
      ]
    },
    {
      "cell_type": "code",
      "execution_count": 14,
      "metadata": {
        "colab": {
          "base_uri": "https://localhost:8080/"
        },
        "id": "bWniJm-0VgEz",
        "outputId": "77117606-be59-4a39-9993-a5b1900a508d"
      },
      "outputs": [
        {
          "name": "stdout",
          "output_type": "stream",
          "text": [
            "Test accuracy: 98.905%\n"
          ]
        }
      ],
      "source": [
        "test_accuracy = utils_funcs.calculate_accuracy(model, testloader, device)\n",
        "print(\"Test accuracy: {:.3f}%\".format(test_accuracy))"
      ]
    },
    {
      "cell_type": "code",
      "execution_count": 15,
      "metadata": {
        "colab": {
          "base_uri": "https://localhost:8080/",
          "height": 504
        },
        "id": "7VSHJRpx-LDj",
        "outputId": "71eff5e6-b05d-4f3c-d077-4a28b3eac410"
      },
      "outputs": [
        {
          "data": {
            "text/plain": [
              "<Figure size 800x600 with 0 Axes>"
            ]
          },
          "metadata": {},
          "output_type": "display_data"
        },
        {
          "data": {
            "image/png": "[encoded data removed]",
            "text/plain": [
              "<Figure size 640x480 with 2 Axes>"
            ]
          },
          "metadata": {},
          "output_type": "display_data"
        }
      ],
      "source": [
        "class_names = ['VeryMildDemented', 'NonDemented', 'ModerateDemented', 'MildDemented']\n",
        "utils_funcs.plot_normalized_confusion_matrix(testloader, model, class_names, device, model_name)"
      ]
    },
    {
      "cell_type": "code",
      "execution_count": 16,
      "metadata": {
        "colab": {
          "base_uri": "https://localhost:8080/",
          "height": 507
        },
        "id": "g7O4VexWVcyQ",
        "outputId": "3295c8ad-c8aa-4096-b794-8a18b06ccd6a"
      },
      "outputs": [
        {
          "data": {
            "image/png": "[encoded data removed]",
            "text/plain": [
              "<Figure size 500x500 with 1 Axes>"
            ]
          },
          "metadata": {},
          "output_type": "display_data"
        }
      ],
      "source": [
        "utils_funcs.plot_loss_curve(epoch_train_losses, epoch_validation_losses, num_epochs, model_name)"
      ]
    },
    {
      "cell_type": "code",
      "execution_count": 17,
      "metadata": {
        "colab": {
          "base_uri": "https://localhost:8080/",
          "height": 507
        },
        "id": "QXboM0ht4Rcc",
        "outputId": "a933fb9f-2f48-484c-d9ec-8b3e1d451607"
      },
      "outputs": [
        {
          "data": {
            "image/png": "[encoded data removed]",
            "text/plain": [
              "<Figure size 500x500 with 1 Axes>"
            ]
          },
          "metadata": {},
          "output_type": "display_data"
        }
      ],
      "source": [
        "utils_funcs.plot_accuracy_curve(epoch_train_accuracies, epoch_validation_accuracies, num_epochs, model_name)"
      ]
    }
  ],
  "metadata": {
    "accelerator": "GPU",
    "colab": {
      "gpuType": "T4",
      "provenance": []
    },
    "kernelspec": {
      "display_name": "dino_deep_learn_cuda124",
      "language": "python",
      "name": "python3"
    },
    "language_info": {
      "codemirror_mode": {
        "name": "ipython",
        "version": 3
      },
      "file_extension": ".py",
      "mimetype": "text/x-python",
      "name": "python",
      "nbconvert_exporter": "python",
      "pygments_lexer": "ipython3",
      "version": "3.10.14"
    }
  },
  "nbformat": 4,
  "nbformat_minor": 0
}
