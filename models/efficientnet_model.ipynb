{
  "cells": [
    {
      "cell_type": "markdown",
      "metadata": {
        "id": "CSXDJcczMrB6"
      },
      "source": [
        "# **MRI Brain Alzheimer Classification - EfficientNet Model**"
      ]
    },
    {
      "cell_type": "markdown",
      "metadata": {
        "id": "mEWgxGwpIvtv"
      },
      "source": [
        "**Clone Dataset from GitHub**"
      ]
    },
    {
      "cell_type": "code",
      "execution_count": 1,
      "metadata": {
        "colab": {
          "base_uri": "https://localhost:8080/"
        },
        "id": "jJiyYyeMASQj",
        "outputId": "a77b7b5b-4b01-4f6b-89d3-f8fad541c21b"
      },
      "outputs": [
        {
          "name": "stdout",
          "output_type": "stream",
          "text": [
            "c:\\Dor\\TECHNION\\deep_learning\\Project\\MRI_Brain_Alzheimer_Classification\n"
          ]
        }
      ],
      "source": [
        "# Clone repository from GitHub\n",
        "# !git clone https://github.com/nivbartov/MRI_Brain_Alzheimer_Classification\n",
        "\n",
        "# %cd MRI_Brain_Alzheimer_Classification\n",
        "%cd .."
      ]
    },
    {
      "cell_type": "markdown",
      "metadata": {
        "id": "EI_InVVAASQl"
      },
      "source": [
        "**Import Packages**"
      ]
    },
    {
      "cell_type": "code",
      "execution_count": 2,
      "metadata": {
        "id": "v_yU5PXHEX4x"
      },
      "outputs": [],
      "source": [
        "import warnings\n",
        "warnings.filterwarnings(\"ignore\", category=FutureWarning)\n",
        "warnings.filterwarnings(\"ignore\", category=UserWarning)\n",
        "import sys\n",
        "import os\n",
        "import numpy as np\n",
        "import pandas as pd\n",
        "import torch\n",
        "from torchsummary import summary\n",
        "import torch.nn as nn\n",
        "from torch.utils.data import TensorDataset, DataLoader, Subset, ConcatDataset\n",
        "import torchvision\n",
        "import torchvision.datasets as datasets\n",
        "import torchvision.transforms as transforms\n",
        "from kornia import augmentation as K\n",
        "from kornia.augmentation import AugmentationSequential\n",
        "from torch.optim.lr_scheduler import CosineAnnealingLR, StepLR\n",
        "import matplotlib.pyplot as plt\n",
        "%matplotlib inline\n",
        "from tqdm import tqdm\n",
        "import random\n",
        "import time\n",
        "from datetime import datetime\n",
        "import json\n",
        "import gc\n",
        "import subprocess"
      ]
    },
    {
      "cell_type": "markdown",
      "metadata": {
        "id": "vQJKfOGEJWan"
      },
      "source": [
        "**Import Internal Functions**"
      ]
    },
    {
      "cell_type": "code",
      "execution_count": 3,
      "metadata": {
        "id": "clhd-UgNJb27"
      },
      "outputs": [],
      "source": [
        "from models import def_models\n",
        "from utils import utils_funcs\n",
        "from utils import optuna_search"
      ]
    },
    {
      "cell_type": "markdown",
      "metadata": {
        "id": "3C9hi5C_-LDb"
      },
      "source": [
        "**Device Definition**"
      ]
    },
    {
      "cell_type": "code",
      "execution_count": 4,
      "metadata": {
        "colab": {
          "base_uri": "https://localhost:8080/"
        },
        "id": "gULVrEpb-LDb",
        "outputId": "def3bed7-3d0c-413b-97d7-c1f79c290856"
      },
      "outputs": [
        {
          "name": "stdout",
          "output_type": "stream",
          "text": [
            "torch.cuda.is_available(): True\n",
            "device: cuda:0\n",
            "|===========================================================================|\n",
            "|                  PyTorch CUDA memory summary, device ID 0                 |\n",
            "|---------------------------------------------------------------------------|\n",
            "|            CUDA OOMs: 0            |        cudaMalloc retries: 0         |\n",
            "|===========================================================================|\n",
            "|        Metric         | Cur Usage  | Peak Usage | Tot Alloc  | Tot Freed  |\n",
            "|---------------------------------------------------------------------------|\n",
            "| Allocated memory      |      0 B   |      0 B   |      0 B   |      0 B   |\n",
            "|       from large pool |      0 B   |      0 B   |      0 B   |      0 B   |\n",
            "|       from small pool |      0 B   |      0 B   |      0 B   |      0 B   |\n",
            "|---------------------------------------------------------------------------|\n",
            "| Active memory         |      0 B   |      0 B   |      0 B   |      0 B   |\n",
            "|       from large pool |      0 B   |      0 B   |      0 B   |      0 B   |\n",
            "|       from small pool |      0 B   |      0 B   |      0 B   |      0 B   |\n",
            "|---------------------------------------------------------------------------|\n",
            "| Requested memory      |      0 B   |      0 B   |      0 B   |      0 B   |\n",
            "|       from large pool |      0 B   |      0 B   |      0 B   |      0 B   |\n",
            "|       from small pool |      0 B   |      0 B   |      0 B   |      0 B   |\n",
            "|---------------------------------------------------------------------------|\n",
            "| GPU reserved memory   |      0 B   |      0 B   |      0 B   |      0 B   |\n",
            "|       from large pool |      0 B   |      0 B   |      0 B   |      0 B   |\n",
            "|       from small pool |      0 B   |      0 B   |      0 B   |      0 B   |\n",
            "|---------------------------------------------------------------------------|\n",
            "| Non-releasable memory |      0 B   |      0 B   |      0 B   |      0 B   |\n",
            "|       from large pool |      0 B   |      0 B   |      0 B   |      0 B   |\n",
            "|       from small pool |      0 B   |      0 B   |      0 B   |      0 B   |\n",
            "|---------------------------------------------------------------------------|\n",
            "| Allocations           |       0    |       0    |       0    |       0    |\n",
            "|       from large pool |       0    |       0    |       0    |       0    |\n",
            "|       from small pool |       0    |       0    |       0    |       0    |\n",
            "|---------------------------------------------------------------------------|\n",
            "| Active allocs         |       0    |       0    |       0    |       0    |\n",
            "|       from large pool |       0    |       0    |       0    |       0    |\n",
            "|       from small pool |       0    |       0    |       0    |       0    |\n",
            "|---------------------------------------------------------------------------|\n",
            "| GPU reserved segments |       0    |       0    |       0    |       0    |\n",
            "|       from large pool |       0    |       0    |       0    |       0    |\n",
            "|       from small pool |       0    |       0    |       0    |       0    |\n",
            "|---------------------------------------------------------------------------|\n",
            "| Non-releasable allocs |       0    |       0    |       0    |       0    |\n",
            "|       from large pool |       0    |       0    |       0    |       0    |\n",
            "|       from small pool |       0    |       0    |       0    |       0    |\n",
            "|---------------------------------------------------------------------------|\n",
            "| Oversize allocations  |       0    |       0    |       0    |       0    |\n",
            "|---------------------------------------------------------------------------|\n",
            "| Oversize GPU segments |       0    |       0    |       0    |       0    |\n",
            "|===========================================================================|\n",
            "\n"
          ]
        }
      ],
      "source": [
        "print(f'torch.cuda.is_available(): {torch.cuda.is_available()}')\n",
        "device = torch.device(\"cuda:0\" if torch.cuda.is_available() else \"cpu\")\n",
        "print(f'device: {device}')\n",
        "torch.cuda.empty_cache()\n",
        "gc.collect()\n",
        "print(torch.cuda.memory_summary())\n",
        "utils_funcs.open_nvitop()"
      ]
    },
    {
      "cell_type": "markdown",
      "metadata": {
        "id": "eCYl_TtCNRRy"
      },
      "source": [
        "**Model Definition and Initialization**"
      ]
    },
    {
      "cell_type": "code",
      "execution_count": 5,
      "metadata": {
        "colab": {
          "base_uri": "https://localhost:8080/"
        },
        "id": "h0rr3nWPNoN8",
        "outputId": "173b79d6-4d14-4fc2-93c0-56c16545d9aa"
      },
      "outputs": [],
      "source": [
        "# Initialize input and output sizes\n",
        "input_width = 224\n",
        "input_height = 224\n",
        "input_channels = 3\n",
        "output_channels = 4\n",
        "\n",
        "# Load a pre-trained EfficientNet-B4 model\n",
        "EfficientNet_backbone_model = torchvision.models.efficientnet_b4(pretrained=True)\n",
        "\n",
        "# Freeze EfficientNet-B4 layers\n",
        "for param in EfficientNet_backbone_model.parameters():\n",
        "    param.requires_grad = False\n",
        "\n",
        "# Create EfficientNet-B4 model with FC layers before the output\n",
        "model = def_models.EfficientNet(EfficientNet_backbone=EfficientNet_backbone_model, output_channels=output_channels).to(device)"
      ]
    },
    {
      "cell_type": "markdown",
      "metadata": {
        "id": "0azuu8JCASQr"
      },
      "source": [
        "**Load Dataset**"
      ]
    },
    {
      "cell_type": "code",
      "execution_count": 6,
      "metadata": {
        "id": "AAMNS4v3ASQs"
      },
      "outputs": [],
      "source": [
        "train_set = torch.load('dataset/dataset_variables/train_set.pt')\n",
        "validation_set = torch.load('dataset/dataset_variables/validation_set.pt')\n",
        "test_set = torch.load('dataset/dataset_variables/test_set.pt')"
      ]
    },
    {
      "cell_type": "markdown",
      "metadata": {},
      "source": [
        "**Preprocessing the Data**"
      ]
    },
    {
      "cell_type": "code",
      "execution_count": 7,
      "metadata": {},
      "outputs": [],
      "source": [
        "input_height = 380\n",
        "input_width = 380\n",
        "transform = transforms.Compose([\n",
        "    transforms.Resize((input_height, input_width)),  # Resize images to 224x224\n",
        "    transforms.ToTensor()  # Convert images to tensors\n",
        "])\n",
        "\n",
        "# Apply transformation on the datasets\n",
        "train_set = utils_funcs.apply_transformations(train_set, transform)\n",
        "validation_set = utils_funcs.apply_transformations(validation_set, transform)\n",
        "test_set = utils_funcs.apply_transformations(test_set, transform)"
      ]
    },
    {
      "cell_type": "markdown",
      "metadata": {},
      "source": [
        "**Model Statistics**"
      ]
    },
    {
      "cell_type": "code",
      "execution_count": 8,
      "metadata": {
        "colab": {
          "base_uri": "https://localhost:8080/"
        },
        "id": "EeoGhA5A-LDe",
        "outputId": "253d7a78-9cf9-4a4b-d22f-5224077a97be"
      },
      "outputs": [
        {
          "name": "stdout",
          "output_type": "stream",
          "text": [
            "Model EfficientNet Statistics:\n",
            "----------------------------------------------------------------\n",
            "        Layer (type)               Output Shape         Param #\n",
            "================================================================\n",
            "            Conv2d-1         [-1, 48, 190, 190]           1,296\n",
            "       BatchNorm2d-2         [-1, 48, 190, 190]              96\n",
            "              SiLU-3         [-1, 48, 190, 190]               0\n",
            "            Conv2d-4         [-1, 48, 190, 190]             432\n",
            "       BatchNorm2d-5         [-1, 48, 190, 190]              96\n",
            "              SiLU-6         [-1, 48, 190, 190]               0\n",
            " AdaptiveAvgPool2d-7             [-1, 48, 1, 1]               0\n",
            "            Conv2d-8             [-1, 12, 1, 1]             588\n",
            "              SiLU-9             [-1, 12, 1, 1]               0\n",
            "           Conv2d-10             [-1, 48, 1, 1]             624\n",
            "          Sigmoid-11             [-1, 48, 1, 1]               0\n",
            "SqueezeExcitation-12         [-1, 48, 190, 190]               0\n",
            "           Conv2d-13         [-1, 24, 190, 190]           1,152\n",
            "      BatchNorm2d-14         [-1, 24, 190, 190]              48\n",
            "           MBConv-15         [-1, 24, 190, 190]               0\n",
            "           Conv2d-16         [-1, 24, 190, 190]             216\n",
            "      BatchNorm2d-17         [-1, 24, 190, 190]              48\n",
            "             SiLU-18         [-1, 24, 190, 190]               0\n",
            "AdaptiveAvgPool2d-19             [-1, 24, 1, 1]               0\n",
            "           Conv2d-20              [-1, 6, 1, 1]             150\n",
            "             SiLU-21              [-1, 6, 1, 1]               0\n",
            "           Conv2d-22             [-1, 24, 1, 1]             168\n",
            "          Sigmoid-23             [-1, 24, 1, 1]               0\n",
            "SqueezeExcitation-24         [-1, 24, 190, 190]               0\n",
            "           Conv2d-25         [-1, 24, 190, 190]             576\n",
            "      BatchNorm2d-26         [-1, 24, 190, 190]              48\n",
            "  StochasticDepth-27         [-1, 24, 190, 190]               0\n",
            "           MBConv-28         [-1, 24, 190, 190]               0\n",
            "           Conv2d-29        [-1, 144, 190, 190]           3,456\n",
            "      BatchNorm2d-30        [-1, 144, 190, 190]             288\n",
            "             SiLU-31        [-1, 144, 190, 190]               0\n",
            "           Conv2d-32          [-1, 144, 95, 95]           1,296\n",
            "      BatchNorm2d-33          [-1, 144, 95, 95]             288\n",
            "             SiLU-34          [-1, 144, 95, 95]               0\n",
            "AdaptiveAvgPool2d-35            [-1, 144, 1, 1]               0\n",
            "           Conv2d-36              [-1, 6, 1, 1]             870\n",
            "             SiLU-37              [-1, 6, 1, 1]               0\n",
            "           Conv2d-38            [-1, 144, 1, 1]           1,008\n",
            "          Sigmoid-39            [-1, 144, 1, 1]               0\n",
            "SqueezeExcitation-40          [-1, 144, 95, 95]               0\n",
            "           Conv2d-41           [-1, 32, 95, 95]           4,608\n",
            "      BatchNorm2d-42           [-1, 32, 95, 95]              64\n",
            "           MBConv-43           [-1, 32, 95, 95]               0\n",
            "           Conv2d-44          [-1, 192, 95, 95]           6,144\n",
            "      BatchNorm2d-45          [-1, 192, 95, 95]             384\n",
            "             SiLU-46          [-1, 192, 95, 95]               0\n",
            "           Conv2d-47          [-1, 192, 95, 95]           1,728\n",
            "      BatchNorm2d-48          [-1, 192, 95, 95]             384\n",
            "             SiLU-49          [-1, 192, 95, 95]               0\n",
            "AdaptiveAvgPool2d-50            [-1, 192, 1, 1]               0\n",
            "           Conv2d-51              [-1, 8, 1, 1]           1,544\n",
            "             SiLU-52              [-1, 8, 1, 1]               0\n",
            "           Conv2d-53            [-1, 192, 1, 1]           1,728\n",
            "          Sigmoid-54            [-1, 192, 1, 1]               0\n",
            "SqueezeExcitation-55          [-1, 192, 95, 95]               0\n",
            "           Conv2d-56           [-1, 32, 95, 95]           6,144\n",
            "      BatchNorm2d-57           [-1, 32, 95, 95]              64\n",
            "  StochasticDepth-58           [-1, 32, 95, 95]               0\n",
            "           MBConv-59           [-1, 32, 95, 95]               0\n",
            "           Conv2d-60          [-1, 192, 95, 95]           6,144\n",
            "      BatchNorm2d-61          [-1, 192, 95, 95]             384\n",
            "             SiLU-62          [-1, 192, 95, 95]               0\n",
            "           Conv2d-63          [-1, 192, 95, 95]           1,728\n",
            "      BatchNorm2d-64          [-1, 192, 95, 95]             384\n",
            "             SiLU-65          [-1, 192, 95, 95]               0\n",
            "AdaptiveAvgPool2d-66            [-1, 192, 1, 1]               0\n",
            "           Conv2d-67              [-1, 8, 1, 1]           1,544\n",
            "             SiLU-68              [-1, 8, 1, 1]               0\n",
            "           Conv2d-69            [-1, 192, 1, 1]           1,728\n",
            "          Sigmoid-70            [-1, 192, 1, 1]               0\n",
            "SqueezeExcitation-71          [-1, 192, 95, 95]               0\n",
            "           Conv2d-72           [-1, 32, 95, 95]           6,144\n",
            "      BatchNorm2d-73           [-1, 32, 95, 95]              64\n",
            "  StochasticDepth-74           [-1, 32, 95, 95]               0\n",
            "           MBConv-75           [-1, 32, 95, 95]               0\n",
            "           Conv2d-76          [-1, 192, 95, 95]           6,144\n",
            "      BatchNorm2d-77          [-1, 192, 95, 95]             384\n",
            "             SiLU-78          [-1, 192, 95, 95]               0\n",
            "           Conv2d-79          [-1, 192, 95, 95]           1,728\n",
            "      BatchNorm2d-80          [-1, 192, 95, 95]             384\n",
            "             SiLU-81          [-1, 192, 95, 95]               0\n",
            "AdaptiveAvgPool2d-82            [-1, 192, 1, 1]               0\n",
            "           Conv2d-83              [-1, 8, 1, 1]           1,544\n",
            "             SiLU-84              [-1, 8, 1, 1]               0\n",
            "           Conv2d-85            [-1, 192, 1, 1]           1,728\n",
            "          Sigmoid-86            [-1, 192, 1, 1]               0\n",
            "SqueezeExcitation-87          [-1, 192, 95, 95]               0\n",
            "           Conv2d-88           [-1, 32, 95, 95]           6,144\n",
            "      BatchNorm2d-89           [-1, 32, 95, 95]              64\n",
            "  StochasticDepth-90           [-1, 32, 95, 95]               0\n",
            "           MBConv-91           [-1, 32, 95, 95]               0\n",
            "           Conv2d-92          [-1, 192, 95, 95]           6,144\n",
            "      BatchNorm2d-93          [-1, 192, 95, 95]             384\n",
            "             SiLU-94          [-1, 192, 95, 95]               0\n",
            "           Conv2d-95          [-1, 192, 48, 48]           4,800\n",
            "      BatchNorm2d-96          [-1, 192, 48, 48]             384\n",
            "             SiLU-97          [-1, 192, 48, 48]               0\n",
            "AdaptiveAvgPool2d-98            [-1, 192, 1, 1]               0\n",
            "           Conv2d-99              [-1, 8, 1, 1]           1,544\n",
            "            SiLU-100              [-1, 8, 1, 1]               0\n",
            "          Conv2d-101            [-1, 192, 1, 1]           1,728\n",
            "         Sigmoid-102            [-1, 192, 1, 1]               0\n",
            "SqueezeExcitation-103          [-1, 192, 48, 48]               0\n",
            "          Conv2d-104           [-1, 56, 48, 48]          10,752\n",
            "     BatchNorm2d-105           [-1, 56, 48, 48]             112\n",
            "          MBConv-106           [-1, 56, 48, 48]               0\n",
            "          Conv2d-107          [-1, 336, 48, 48]          18,816\n",
            "     BatchNorm2d-108          [-1, 336, 48, 48]             672\n",
            "            SiLU-109          [-1, 336, 48, 48]               0\n",
            "          Conv2d-110          [-1, 336, 48, 48]           8,400\n",
            "     BatchNorm2d-111          [-1, 336, 48, 48]             672\n",
            "            SiLU-112          [-1, 336, 48, 48]               0\n",
            "AdaptiveAvgPool2d-113            [-1, 336, 1, 1]               0\n",
            "          Conv2d-114             [-1, 14, 1, 1]           4,718\n",
            "            SiLU-115             [-1, 14, 1, 1]               0\n",
            "          Conv2d-116            [-1, 336, 1, 1]           5,040\n",
            "         Sigmoid-117            [-1, 336, 1, 1]               0\n",
            "SqueezeExcitation-118          [-1, 336, 48, 48]               0\n",
            "          Conv2d-119           [-1, 56, 48, 48]          18,816\n",
            "     BatchNorm2d-120           [-1, 56, 48, 48]             112\n",
            " StochasticDepth-121           [-1, 56, 48, 48]               0\n",
            "          MBConv-122           [-1, 56, 48, 48]               0\n",
            "          Conv2d-123          [-1, 336, 48, 48]          18,816\n",
            "     BatchNorm2d-124          [-1, 336, 48, 48]             672\n",
            "            SiLU-125          [-1, 336, 48, 48]               0\n",
            "          Conv2d-126          [-1, 336, 48, 48]           8,400\n",
            "     BatchNorm2d-127          [-1, 336, 48, 48]             672\n",
            "            SiLU-128          [-1, 336, 48, 48]               0\n",
            "AdaptiveAvgPool2d-129            [-1, 336, 1, 1]               0\n",
            "          Conv2d-130             [-1, 14, 1, 1]           4,718\n",
            "            SiLU-131             [-1, 14, 1, 1]               0\n",
            "          Conv2d-132            [-1, 336, 1, 1]           5,040\n",
            "         Sigmoid-133            [-1, 336, 1, 1]               0\n",
            "SqueezeExcitation-134          [-1, 336, 48, 48]               0\n",
            "          Conv2d-135           [-1, 56, 48, 48]          18,816\n",
            "     BatchNorm2d-136           [-1, 56, 48, 48]             112\n",
            " StochasticDepth-137           [-1, 56, 48, 48]               0\n",
            "          MBConv-138           [-1, 56, 48, 48]               0\n",
            "          Conv2d-139          [-1, 336, 48, 48]          18,816\n",
            "     BatchNorm2d-140          [-1, 336, 48, 48]             672\n",
            "            SiLU-141          [-1, 336, 48, 48]               0\n",
            "          Conv2d-142          [-1, 336, 48, 48]           8,400\n",
            "     BatchNorm2d-143          [-1, 336, 48, 48]             672\n",
            "            SiLU-144          [-1, 336, 48, 48]               0\n",
            "AdaptiveAvgPool2d-145            [-1, 336, 1, 1]               0\n",
            "          Conv2d-146             [-1, 14, 1, 1]           4,718\n",
            "            SiLU-147             [-1, 14, 1, 1]               0\n",
            "          Conv2d-148            [-1, 336, 1, 1]           5,040\n",
            "         Sigmoid-149            [-1, 336, 1, 1]               0\n",
            "SqueezeExcitation-150          [-1, 336, 48, 48]               0\n",
            "          Conv2d-151           [-1, 56, 48, 48]          18,816\n",
            "     BatchNorm2d-152           [-1, 56, 48, 48]             112\n",
            " StochasticDepth-153           [-1, 56, 48, 48]               0\n",
            "          MBConv-154           [-1, 56, 48, 48]               0\n",
            "          Conv2d-155          [-1, 336, 48, 48]          18,816\n",
            "     BatchNorm2d-156          [-1, 336, 48, 48]             672\n",
            "            SiLU-157          [-1, 336, 48, 48]               0\n",
            "          Conv2d-158          [-1, 336, 24, 24]           3,024\n",
            "     BatchNorm2d-159          [-1, 336, 24, 24]             672\n",
            "            SiLU-160          [-1, 336, 24, 24]               0\n",
            "AdaptiveAvgPool2d-161            [-1, 336, 1, 1]               0\n",
            "          Conv2d-162             [-1, 14, 1, 1]           4,718\n",
            "            SiLU-163             [-1, 14, 1, 1]               0\n",
            "          Conv2d-164            [-1, 336, 1, 1]           5,040\n",
            "         Sigmoid-165            [-1, 336, 1, 1]               0\n",
            "SqueezeExcitation-166          [-1, 336, 24, 24]               0\n",
            "          Conv2d-167          [-1, 112, 24, 24]          37,632\n",
            "     BatchNorm2d-168          [-1, 112, 24, 24]             224\n",
            "          MBConv-169          [-1, 112, 24, 24]               0\n",
            "          Conv2d-170          [-1, 672, 24, 24]          75,264\n",
            "     BatchNorm2d-171          [-1, 672, 24, 24]           1,344\n",
            "            SiLU-172          [-1, 672, 24, 24]               0\n",
            "          Conv2d-173          [-1, 672, 24, 24]           6,048\n",
            "     BatchNorm2d-174          [-1, 672, 24, 24]           1,344\n",
            "            SiLU-175          [-1, 672, 24, 24]               0\n",
            "AdaptiveAvgPool2d-176            [-1, 672, 1, 1]               0\n",
            "          Conv2d-177             [-1, 28, 1, 1]          18,844\n",
            "            SiLU-178             [-1, 28, 1, 1]               0\n",
            "          Conv2d-179            [-1, 672, 1, 1]          19,488\n",
            "         Sigmoid-180            [-1, 672, 1, 1]               0\n",
            "SqueezeExcitation-181          [-1, 672, 24, 24]               0\n",
            "          Conv2d-182          [-1, 112, 24, 24]          75,264\n",
            "     BatchNorm2d-183          [-1, 112, 24, 24]             224\n",
            " StochasticDepth-184          [-1, 112, 24, 24]               0\n",
            "          MBConv-185          [-1, 112, 24, 24]               0\n",
            "          Conv2d-186          [-1, 672, 24, 24]          75,264\n",
            "     BatchNorm2d-187          [-1, 672, 24, 24]           1,344\n",
            "            SiLU-188          [-1, 672, 24, 24]               0\n",
            "          Conv2d-189          [-1, 672, 24, 24]           6,048\n",
            "     BatchNorm2d-190          [-1, 672, 24, 24]           1,344\n",
            "            SiLU-191          [-1, 672, 24, 24]               0\n",
            "AdaptiveAvgPool2d-192            [-1, 672, 1, 1]               0\n",
            "          Conv2d-193             [-1, 28, 1, 1]          18,844\n",
            "            SiLU-194             [-1, 28, 1, 1]               0\n",
            "          Conv2d-195            [-1, 672, 1, 1]          19,488\n",
            "         Sigmoid-196            [-1, 672, 1, 1]               0\n",
            "SqueezeExcitation-197          [-1, 672, 24, 24]               0\n",
            "          Conv2d-198          [-1, 112, 24, 24]          75,264\n",
            "     BatchNorm2d-199          [-1, 112, 24, 24]             224\n",
            " StochasticDepth-200          [-1, 112, 24, 24]               0\n",
            "          MBConv-201          [-1, 112, 24, 24]               0\n",
            "          Conv2d-202          [-1, 672, 24, 24]          75,264\n",
            "     BatchNorm2d-203          [-1, 672, 24, 24]           1,344\n",
            "            SiLU-204          [-1, 672, 24, 24]               0\n",
            "          Conv2d-205          [-1, 672, 24, 24]           6,048\n",
            "     BatchNorm2d-206          [-1, 672, 24, 24]           1,344\n",
            "            SiLU-207          [-1, 672, 24, 24]               0\n",
            "AdaptiveAvgPool2d-208            [-1, 672, 1, 1]               0\n",
            "          Conv2d-209             [-1, 28, 1, 1]          18,844\n",
            "            SiLU-210             [-1, 28, 1, 1]               0\n",
            "          Conv2d-211            [-1, 672, 1, 1]          19,488\n",
            "         Sigmoid-212            [-1, 672, 1, 1]               0\n",
            "SqueezeExcitation-213          [-1, 672, 24, 24]               0\n",
            "          Conv2d-214          [-1, 112, 24, 24]          75,264\n",
            "     BatchNorm2d-215          [-1, 112, 24, 24]             224\n",
            " StochasticDepth-216          [-1, 112, 24, 24]               0\n",
            "          MBConv-217          [-1, 112, 24, 24]               0\n",
            "          Conv2d-218          [-1, 672, 24, 24]          75,264\n",
            "     BatchNorm2d-219          [-1, 672, 24, 24]           1,344\n",
            "            SiLU-220          [-1, 672, 24, 24]               0\n",
            "          Conv2d-221          [-1, 672, 24, 24]           6,048\n",
            "     BatchNorm2d-222          [-1, 672, 24, 24]           1,344\n",
            "            SiLU-223          [-1, 672, 24, 24]               0\n",
            "AdaptiveAvgPool2d-224            [-1, 672, 1, 1]               0\n",
            "          Conv2d-225             [-1, 28, 1, 1]          18,844\n",
            "            SiLU-226             [-1, 28, 1, 1]               0\n",
            "          Conv2d-227            [-1, 672, 1, 1]          19,488\n",
            "         Sigmoid-228            [-1, 672, 1, 1]               0\n",
            "SqueezeExcitation-229          [-1, 672, 24, 24]               0\n",
            "          Conv2d-230          [-1, 112, 24, 24]          75,264\n",
            "     BatchNorm2d-231          [-1, 112, 24, 24]             224\n",
            " StochasticDepth-232          [-1, 112, 24, 24]               0\n",
            "          MBConv-233          [-1, 112, 24, 24]               0\n",
            "          Conv2d-234          [-1, 672, 24, 24]          75,264\n",
            "     BatchNorm2d-235          [-1, 672, 24, 24]           1,344\n",
            "            SiLU-236          [-1, 672, 24, 24]               0\n",
            "          Conv2d-237          [-1, 672, 24, 24]           6,048\n",
            "     BatchNorm2d-238          [-1, 672, 24, 24]           1,344\n",
            "            SiLU-239          [-1, 672, 24, 24]               0\n",
            "AdaptiveAvgPool2d-240            [-1, 672, 1, 1]               0\n",
            "          Conv2d-241             [-1, 28, 1, 1]          18,844\n",
            "            SiLU-242             [-1, 28, 1, 1]               0\n",
            "          Conv2d-243            [-1, 672, 1, 1]          19,488\n",
            "         Sigmoid-244            [-1, 672, 1, 1]               0\n",
            "SqueezeExcitation-245          [-1, 672, 24, 24]               0\n",
            "          Conv2d-246          [-1, 112, 24, 24]          75,264\n",
            "     BatchNorm2d-247          [-1, 112, 24, 24]             224\n",
            " StochasticDepth-248          [-1, 112, 24, 24]               0\n",
            "          MBConv-249          [-1, 112, 24, 24]               0\n",
            "          Conv2d-250          [-1, 672, 24, 24]          75,264\n",
            "     BatchNorm2d-251          [-1, 672, 24, 24]           1,344\n",
            "            SiLU-252          [-1, 672, 24, 24]               0\n",
            "          Conv2d-253          [-1, 672, 24, 24]          16,800\n",
            "     BatchNorm2d-254          [-1, 672, 24, 24]           1,344\n",
            "            SiLU-255          [-1, 672, 24, 24]               0\n",
            "AdaptiveAvgPool2d-256            [-1, 672, 1, 1]               0\n",
            "          Conv2d-257             [-1, 28, 1, 1]          18,844\n",
            "            SiLU-258             [-1, 28, 1, 1]               0\n",
            "          Conv2d-259            [-1, 672, 1, 1]          19,488\n",
            "         Sigmoid-260            [-1, 672, 1, 1]               0\n",
            "SqueezeExcitation-261          [-1, 672, 24, 24]               0\n",
            "          Conv2d-262          [-1, 160, 24, 24]         107,520\n",
            "     BatchNorm2d-263          [-1, 160, 24, 24]             320\n",
            "          MBConv-264          [-1, 160, 24, 24]               0\n",
            "          Conv2d-265          [-1, 960, 24, 24]         153,600\n",
            "     BatchNorm2d-266          [-1, 960, 24, 24]           1,920\n",
            "            SiLU-267          [-1, 960, 24, 24]               0\n",
            "          Conv2d-268          [-1, 960, 24, 24]          24,000\n",
            "     BatchNorm2d-269          [-1, 960, 24, 24]           1,920\n",
            "            SiLU-270          [-1, 960, 24, 24]               0\n",
            "AdaptiveAvgPool2d-271            [-1, 960, 1, 1]               0\n",
            "          Conv2d-272             [-1, 40, 1, 1]          38,440\n",
            "            SiLU-273             [-1, 40, 1, 1]               0\n",
            "          Conv2d-274            [-1, 960, 1, 1]          39,360\n",
            "         Sigmoid-275            [-1, 960, 1, 1]               0\n",
            "SqueezeExcitation-276          [-1, 960, 24, 24]               0\n",
            "          Conv2d-277          [-1, 160, 24, 24]         153,600\n",
            "     BatchNorm2d-278          [-1, 160, 24, 24]             320\n",
            " StochasticDepth-279          [-1, 160, 24, 24]               0\n",
            "          MBConv-280          [-1, 160, 24, 24]               0\n",
            "          Conv2d-281          [-1, 960, 24, 24]         153,600\n",
            "     BatchNorm2d-282          [-1, 960, 24, 24]           1,920\n",
            "            SiLU-283          [-1, 960, 24, 24]               0\n",
            "          Conv2d-284          [-1, 960, 24, 24]          24,000\n",
            "     BatchNorm2d-285          [-1, 960, 24, 24]           1,920\n",
            "            SiLU-286          [-1, 960, 24, 24]               0\n",
            "AdaptiveAvgPool2d-287            [-1, 960, 1, 1]               0\n",
            "          Conv2d-288             [-1, 40, 1, 1]          38,440\n",
            "            SiLU-289             [-1, 40, 1, 1]               0\n",
            "          Conv2d-290            [-1, 960, 1, 1]          39,360\n",
            "         Sigmoid-291            [-1, 960, 1, 1]               0\n",
            "SqueezeExcitation-292          [-1, 960, 24, 24]               0\n",
            "          Conv2d-293          [-1, 160, 24, 24]         153,600\n",
            "     BatchNorm2d-294          [-1, 160, 24, 24]             320\n",
            " StochasticDepth-295          [-1, 160, 24, 24]               0\n",
            "          MBConv-296          [-1, 160, 24, 24]               0\n",
            "          Conv2d-297          [-1, 960, 24, 24]         153,600\n",
            "     BatchNorm2d-298          [-1, 960, 24, 24]           1,920\n",
            "            SiLU-299          [-1, 960, 24, 24]               0\n",
            "          Conv2d-300          [-1, 960, 24, 24]          24,000\n",
            "     BatchNorm2d-301          [-1, 960, 24, 24]           1,920\n",
            "            SiLU-302          [-1, 960, 24, 24]               0\n",
            "AdaptiveAvgPool2d-303            [-1, 960, 1, 1]               0\n",
            "          Conv2d-304             [-1, 40, 1, 1]          38,440\n",
            "            SiLU-305             [-1, 40, 1, 1]               0\n",
            "          Conv2d-306            [-1, 960, 1, 1]          39,360\n",
            "         Sigmoid-307            [-1, 960, 1, 1]               0\n",
            "SqueezeExcitation-308          [-1, 960, 24, 24]               0\n",
            "          Conv2d-309          [-1, 160, 24, 24]         153,600\n",
            "     BatchNorm2d-310          [-1, 160, 24, 24]             320\n",
            " StochasticDepth-311          [-1, 160, 24, 24]               0\n",
            "          MBConv-312          [-1, 160, 24, 24]               0\n",
            "          Conv2d-313          [-1, 960, 24, 24]         153,600\n",
            "     BatchNorm2d-314          [-1, 960, 24, 24]           1,920\n",
            "            SiLU-315          [-1, 960, 24, 24]               0\n",
            "          Conv2d-316          [-1, 960, 24, 24]          24,000\n",
            "     BatchNorm2d-317          [-1, 960, 24, 24]           1,920\n",
            "            SiLU-318          [-1, 960, 24, 24]               0\n",
            "AdaptiveAvgPool2d-319            [-1, 960, 1, 1]               0\n",
            "          Conv2d-320             [-1, 40, 1, 1]          38,440\n",
            "            SiLU-321             [-1, 40, 1, 1]               0\n",
            "          Conv2d-322            [-1, 960, 1, 1]          39,360\n",
            "         Sigmoid-323            [-1, 960, 1, 1]               0\n",
            "SqueezeExcitation-324          [-1, 960, 24, 24]               0\n",
            "          Conv2d-325          [-1, 160, 24, 24]         153,600\n",
            "     BatchNorm2d-326          [-1, 160, 24, 24]             320\n",
            " StochasticDepth-327          [-1, 160, 24, 24]               0\n",
            "          MBConv-328          [-1, 160, 24, 24]               0\n",
            "          Conv2d-329          [-1, 960, 24, 24]         153,600\n",
            "     BatchNorm2d-330          [-1, 960, 24, 24]           1,920\n",
            "            SiLU-331          [-1, 960, 24, 24]               0\n",
            "          Conv2d-332          [-1, 960, 24, 24]          24,000\n",
            "     BatchNorm2d-333          [-1, 960, 24, 24]           1,920\n",
            "            SiLU-334          [-1, 960, 24, 24]               0\n",
            "AdaptiveAvgPool2d-335            [-1, 960, 1, 1]               0\n",
            "          Conv2d-336             [-1, 40, 1, 1]          38,440\n",
            "            SiLU-337             [-1, 40, 1, 1]               0\n",
            "          Conv2d-338            [-1, 960, 1, 1]          39,360\n",
            "         Sigmoid-339            [-1, 960, 1, 1]               0\n",
            "SqueezeExcitation-340          [-1, 960, 24, 24]               0\n",
            "          Conv2d-341          [-1, 160, 24, 24]         153,600\n",
            "     BatchNorm2d-342          [-1, 160, 24, 24]             320\n",
            " StochasticDepth-343          [-1, 160, 24, 24]               0\n",
            "          MBConv-344          [-1, 160, 24, 24]               0\n",
            "          Conv2d-345          [-1, 960, 24, 24]         153,600\n",
            "     BatchNorm2d-346          [-1, 960, 24, 24]           1,920\n",
            "            SiLU-347          [-1, 960, 24, 24]               0\n",
            "          Conv2d-348          [-1, 960, 12, 12]          24,000\n",
            "     BatchNorm2d-349          [-1, 960, 12, 12]           1,920\n",
            "            SiLU-350          [-1, 960, 12, 12]               0\n",
            "AdaptiveAvgPool2d-351            [-1, 960, 1, 1]               0\n",
            "          Conv2d-352             [-1, 40, 1, 1]          38,440\n",
            "            SiLU-353             [-1, 40, 1, 1]               0\n",
            "          Conv2d-354            [-1, 960, 1, 1]          39,360\n",
            "         Sigmoid-355            [-1, 960, 1, 1]               0\n",
            "SqueezeExcitation-356          [-1, 960, 12, 12]               0\n",
            "          Conv2d-357          [-1, 272, 12, 12]         261,120\n",
            "     BatchNorm2d-358          [-1, 272, 12, 12]             544\n",
            "          MBConv-359          [-1, 272, 12, 12]               0\n",
            "          Conv2d-360         [-1, 1632, 12, 12]         443,904\n",
            "     BatchNorm2d-361         [-1, 1632, 12, 12]           3,264\n",
            "            SiLU-362         [-1, 1632, 12, 12]               0\n",
            "          Conv2d-363         [-1, 1632, 12, 12]          40,800\n",
            "     BatchNorm2d-364         [-1, 1632, 12, 12]           3,264\n",
            "            SiLU-365         [-1, 1632, 12, 12]               0\n",
            "AdaptiveAvgPool2d-366           [-1, 1632, 1, 1]               0\n",
            "          Conv2d-367             [-1, 68, 1, 1]         111,044\n",
            "            SiLU-368             [-1, 68, 1, 1]               0\n",
            "          Conv2d-369           [-1, 1632, 1, 1]         112,608\n",
            "         Sigmoid-370           [-1, 1632, 1, 1]               0\n",
            "SqueezeExcitation-371         [-1, 1632, 12, 12]               0\n",
            "          Conv2d-372          [-1, 272, 12, 12]         443,904\n",
            "     BatchNorm2d-373          [-1, 272, 12, 12]             544\n",
            " StochasticDepth-374          [-1, 272, 12, 12]               0\n",
            "          MBConv-375          [-1, 272, 12, 12]               0\n",
            "          Conv2d-376         [-1, 1632, 12, 12]         443,904\n",
            "     BatchNorm2d-377         [-1, 1632, 12, 12]           3,264\n",
            "            SiLU-378         [-1, 1632, 12, 12]               0\n",
            "          Conv2d-379         [-1, 1632, 12, 12]          40,800\n",
            "     BatchNorm2d-380         [-1, 1632, 12, 12]           3,264\n",
            "            SiLU-381         [-1, 1632, 12, 12]               0\n",
            "AdaptiveAvgPool2d-382           [-1, 1632, 1, 1]               0\n",
            "          Conv2d-383             [-1, 68, 1, 1]         111,044\n",
            "            SiLU-384             [-1, 68, 1, 1]               0\n",
            "          Conv2d-385           [-1, 1632, 1, 1]         112,608\n",
            "         Sigmoid-386           [-1, 1632, 1, 1]               0\n",
            "SqueezeExcitation-387         [-1, 1632, 12, 12]               0\n",
            "          Conv2d-388          [-1, 272, 12, 12]         443,904\n",
            "     BatchNorm2d-389          [-1, 272, 12, 12]             544\n",
            " StochasticDepth-390          [-1, 272, 12, 12]               0\n",
            "          MBConv-391          [-1, 272, 12, 12]               0\n",
            "          Conv2d-392         [-1, 1632, 12, 12]         443,904\n",
            "     BatchNorm2d-393         [-1, 1632, 12, 12]           3,264\n",
            "            SiLU-394         [-1, 1632, 12, 12]               0\n",
            "          Conv2d-395         [-1, 1632, 12, 12]          40,800\n",
            "     BatchNorm2d-396         [-1, 1632, 12, 12]           3,264\n",
            "            SiLU-397         [-1, 1632, 12, 12]               0\n",
            "AdaptiveAvgPool2d-398           [-1, 1632, 1, 1]               0\n",
            "          Conv2d-399             [-1, 68, 1, 1]         111,044\n",
            "            SiLU-400             [-1, 68, 1, 1]               0\n",
            "          Conv2d-401           [-1, 1632, 1, 1]         112,608\n",
            "         Sigmoid-402           [-1, 1632, 1, 1]               0\n",
            "SqueezeExcitation-403         [-1, 1632, 12, 12]               0\n",
            "          Conv2d-404          [-1, 272, 12, 12]         443,904\n",
            "     BatchNorm2d-405          [-1, 272, 12, 12]             544\n",
            " StochasticDepth-406          [-1, 272, 12, 12]               0\n",
            "          MBConv-407          [-1, 272, 12, 12]               0\n",
            "          Conv2d-408         [-1, 1632, 12, 12]         443,904\n",
            "     BatchNorm2d-409         [-1, 1632, 12, 12]           3,264\n",
            "            SiLU-410         [-1, 1632, 12, 12]               0\n",
            "          Conv2d-411         [-1, 1632, 12, 12]          40,800\n",
            "     BatchNorm2d-412         [-1, 1632, 12, 12]           3,264\n",
            "            SiLU-413         [-1, 1632, 12, 12]               0\n",
            "AdaptiveAvgPool2d-414           [-1, 1632, 1, 1]               0\n",
            "          Conv2d-415             [-1, 68, 1, 1]         111,044\n",
            "            SiLU-416             [-1, 68, 1, 1]               0\n",
            "          Conv2d-417           [-1, 1632, 1, 1]         112,608\n",
            "         Sigmoid-418           [-1, 1632, 1, 1]               0\n",
            "SqueezeExcitation-419         [-1, 1632, 12, 12]               0\n",
            "          Conv2d-420          [-1, 272, 12, 12]         443,904\n",
            "     BatchNorm2d-421          [-1, 272, 12, 12]             544\n",
            " StochasticDepth-422          [-1, 272, 12, 12]               0\n",
            "          MBConv-423          [-1, 272, 12, 12]               0\n",
            "          Conv2d-424         [-1, 1632, 12, 12]         443,904\n",
            "     BatchNorm2d-425         [-1, 1632, 12, 12]           3,264\n",
            "            SiLU-426         [-1, 1632, 12, 12]               0\n",
            "          Conv2d-427         [-1, 1632, 12, 12]          40,800\n",
            "     BatchNorm2d-428         [-1, 1632, 12, 12]           3,264\n",
            "            SiLU-429         [-1, 1632, 12, 12]               0\n",
            "AdaptiveAvgPool2d-430           [-1, 1632, 1, 1]               0\n",
            "          Conv2d-431             [-1, 68, 1, 1]         111,044\n",
            "            SiLU-432             [-1, 68, 1, 1]               0\n",
            "          Conv2d-433           [-1, 1632, 1, 1]         112,608\n",
            "         Sigmoid-434           [-1, 1632, 1, 1]               0\n",
            "SqueezeExcitation-435         [-1, 1632, 12, 12]               0\n",
            "          Conv2d-436          [-1, 272, 12, 12]         443,904\n",
            "     BatchNorm2d-437          [-1, 272, 12, 12]             544\n",
            " StochasticDepth-438          [-1, 272, 12, 12]               0\n",
            "          MBConv-439          [-1, 272, 12, 12]               0\n",
            "          Conv2d-440         [-1, 1632, 12, 12]         443,904\n",
            "     BatchNorm2d-441         [-1, 1632, 12, 12]           3,264\n",
            "            SiLU-442         [-1, 1632, 12, 12]               0\n",
            "          Conv2d-443         [-1, 1632, 12, 12]          40,800\n",
            "     BatchNorm2d-444         [-1, 1632, 12, 12]           3,264\n",
            "            SiLU-445         [-1, 1632, 12, 12]               0\n",
            "AdaptiveAvgPool2d-446           [-1, 1632, 1, 1]               0\n",
            "          Conv2d-447             [-1, 68, 1, 1]         111,044\n",
            "            SiLU-448             [-1, 68, 1, 1]               0\n",
            "          Conv2d-449           [-1, 1632, 1, 1]         112,608\n",
            "         Sigmoid-450           [-1, 1632, 1, 1]               0\n",
            "SqueezeExcitation-451         [-1, 1632, 12, 12]               0\n",
            "          Conv2d-452          [-1, 272, 12, 12]         443,904\n",
            "     BatchNorm2d-453          [-1, 272, 12, 12]             544\n",
            " StochasticDepth-454          [-1, 272, 12, 12]               0\n",
            "          MBConv-455          [-1, 272, 12, 12]               0\n",
            "          Conv2d-456         [-1, 1632, 12, 12]         443,904\n",
            "     BatchNorm2d-457         [-1, 1632, 12, 12]           3,264\n",
            "            SiLU-458         [-1, 1632, 12, 12]               0\n",
            "          Conv2d-459         [-1, 1632, 12, 12]          40,800\n",
            "     BatchNorm2d-460         [-1, 1632, 12, 12]           3,264\n",
            "            SiLU-461         [-1, 1632, 12, 12]               0\n",
            "AdaptiveAvgPool2d-462           [-1, 1632, 1, 1]               0\n",
            "          Conv2d-463             [-1, 68, 1, 1]         111,044\n",
            "            SiLU-464             [-1, 68, 1, 1]               0\n",
            "          Conv2d-465           [-1, 1632, 1, 1]         112,608\n",
            "         Sigmoid-466           [-1, 1632, 1, 1]               0\n",
            "SqueezeExcitation-467         [-1, 1632, 12, 12]               0\n",
            "          Conv2d-468          [-1, 272, 12, 12]         443,904\n",
            "     BatchNorm2d-469          [-1, 272, 12, 12]             544\n",
            " StochasticDepth-470          [-1, 272, 12, 12]               0\n",
            "          MBConv-471          [-1, 272, 12, 12]               0\n",
            "          Conv2d-472         [-1, 1632, 12, 12]         443,904\n",
            "     BatchNorm2d-473         [-1, 1632, 12, 12]           3,264\n",
            "            SiLU-474         [-1, 1632, 12, 12]               0\n",
            "          Conv2d-475         [-1, 1632, 12, 12]          14,688\n",
            "     BatchNorm2d-476         [-1, 1632, 12, 12]           3,264\n",
            "            SiLU-477         [-1, 1632, 12, 12]               0\n",
            "AdaptiveAvgPool2d-478           [-1, 1632, 1, 1]               0\n",
            "          Conv2d-479             [-1, 68, 1, 1]         111,044\n",
            "            SiLU-480             [-1, 68, 1, 1]               0\n",
            "          Conv2d-481           [-1, 1632, 1, 1]         112,608\n",
            "         Sigmoid-482           [-1, 1632, 1, 1]               0\n",
            "SqueezeExcitation-483         [-1, 1632, 12, 12]               0\n",
            "          Conv2d-484          [-1, 448, 12, 12]         731,136\n",
            "     BatchNorm2d-485          [-1, 448, 12, 12]             896\n",
            "          MBConv-486          [-1, 448, 12, 12]               0\n",
            "          Conv2d-487         [-1, 2688, 12, 12]       1,204,224\n",
            "     BatchNorm2d-488         [-1, 2688, 12, 12]           5,376\n",
            "            SiLU-489         [-1, 2688, 12, 12]               0\n",
            "          Conv2d-490         [-1, 2688, 12, 12]          24,192\n",
            "     BatchNorm2d-491         [-1, 2688, 12, 12]           5,376\n",
            "            SiLU-492         [-1, 2688, 12, 12]               0\n",
            "AdaptiveAvgPool2d-493           [-1, 2688, 1, 1]               0\n",
            "          Conv2d-494            [-1, 112, 1, 1]         301,168\n",
            "            SiLU-495            [-1, 112, 1, 1]               0\n",
            "          Conv2d-496           [-1, 2688, 1, 1]         303,744\n",
            "         Sigmoid-497           [-1, 2688, 1, 1]               0\n",
            "SqueezeExcitation-498         [-1, 2688, 12, 12]               0\n",
            "          Conv2d-499          [-1, 448, 12, 12]       1,204,224\n",
            "     BatchNorm2d-500          [-1, 448, 12, 12]             896\n",
            " StochasticDepth-501          [-1, 448, 12, 12]               0\n",
            "          MBConv-502          [-1, 448, 12, 12]               0\n",
            "          Conv2d-503         [-1, 1792, 12, 12]         802,816\n",
            "     BatchNorm2d-504         [-1, 1792, 12, 12]           3,584\n",
            "            SiLU-505         [-1, 1792, 12, 12]               0\n",
            "AdaptiveAvgPool2d-506           [-1, 1792, 1, 1]               0\n",
            "         Dropout-507                 [-1, 1792]               0\n",
            "          Linear-508                 [-1, 1000]       1,793,000\n",
            "    EfficientNet-509                 [-1, 1000]               0\n",
            "          Linear-510                 [-1, 2048]       2,050,048\n",
            "     BatchNorm1d-511                 [-1, 2048]           4,096\n",
            "            GELU-512                 [-1, 2048]               0\n",
            "         Dropout-513                 [-1, 2048]               0\n",
            "          Linear-514                 [-1, 2048]       4,196,352\n",
            "     BatchNorm1d-515                 [-1, 2048]           4,096\n",
            "            GELU-516                 [-1, 2048]               0\n",
            "         Dropout-517                 [-1, 2048]               0\n",
            "          Linear-518                 [-1, 2048]       4,196,352\n",
            "     BatchNorm1d-519                 [-1, 2048]           4,096\n",
            "            GELU-520                 [-1, 2048]               0\n",
            "         Dropout-521                 [-1, 2048]               0\n",
            "          Linear-522                 [-1, 1024]       2,098,176\n",
            "     BatchNorm1d-523                 [-1, 1024]           2,048\n",
            "            GELU-524                 [-1, 1024]               0\n",
            "         Dropout-525                 [-1, 1024]               0\n",
            "          Linear-526                    [-1, 4]           4,100\n",
            "================================================================\n",
            "Total params: 31,900,980\n",
            "Trainable params: 12,559,364\n",
            "Non-trainable params: 19,341,616\n",
            "----------------------------------------------------------------\n",
            "Input size (MB): 1.65\n",
            "Forward/backward pass size (MB): 1306.82\n",
            "Params size (MB): 121.69\n",
            "Estimated Total Size (MB): 1430.16\n",
            "----------------------------------------------------------------\n"
          ]
        }
      ],
      "source": [
        "model_name = type(model).__name__\n",
        "print(\"Model\", model_name, \"Statistics:\")\n",
        "summary(model, (input_channels, input_height, input_width))"
      ]
    },
    {
      "cell_type": "markdown",
      "metadata": {
        "id": "5IgNxKOu-LDf"
      },
      "source": [
        "**Set Hyper-Parameters Using Optuna**"
      ]
    },
    {
      "cell_type": "code",
      "execution_count": 9,
      "metadata": {
        "colab": {
          "base_uri": "https://localhost:8080/"
        },
        "id": "gbHsApTN-LDf",
        "outputId": "85aecf12-1a30-4be7-fb6d-1d762b48f330"
      },
      "outputs": [
        {
          "name": "stderr",
          "output_type": "stream",
          "text": [
            "[I 2024-10-07 21:55:32,971] A new study created in memory with name: mri-alzhimer-classification\n"
          ]
        },
        {
          "name": "stdout",
          "output_type": "stream",
          "text": [
            "Optuna is done on device: cuda:0\n"
          ]
        },
        {
          "name": "stderr",
          "output_type": "stream",
          "text": [
            "100%|██████████| 10/10 [04:51<00:00, 29.20s/it]\n",
            "[I 2024-10-07 22:00:26,353] Trial 0 finished with value: 0.7083333333333334 and parameters: {'lr': 2.6052938706341693e-05, 'optimizer': 'Adam', 'batch_size': 16, 'scheduler': 'CosineAnnealingLR'}. Best is trial 0 with value: 0.7083333333333334.\n"
          ]
        },
        {
          "name": "stdout",
          "output_type": "stream",
          "text": [
            "Study statistics: \n",
            "  Number of finished trials:  1\n",
            "  Number of pruned trials:  0\n",
            "  Number of complete trials:  1\n",
            "Best trial:\n",
            "  Value:  0.7083333333333334\n",
            "  Params: \n",
            "    lr: 2.6052938706341693e-05\n",
            "    optimizer: Adam\n",
            "    batch_size: 16\n",
            "    scheduler: CosineAnnealingLR\n",
            "Best parameters saved to checkpoints/optuna_params\\EfficientNet\\EfficientNet_0.7083.json\n",
            "{'lr': 2.6052938706341693e-05, 'optimizer': 'Adam', 'batch_size': 16, 'scheduler': 'CosineAnnealingLR'}\n"
          ]
        }
      ],
      "source": [
        "load_existing_hyperparams = False\n",
        "\n",
        "if load_existing_hyperparams:\n",
        "    # Load hyper-parameters (relevant if optuna has already used)\n",
        "    optuna_params_path = f'./checkpoints/optuna_params/{model_name}/DINOv2_0.9109.json'\n",
        "    with open(optuna_params_path, 'r') as file:\n",
        "        hyperparams = json.load(file)\n",
        "else:\n",
        "    # Find optimal hyper-parameters using optuna\n",
        "    torch.cuda.empty_cache()\n",
        "    hyperparams = optuna_search.optuna_param_search(model_name=\"EfficientNet\", loss_criterion=nn.CrossEntropyLoss(), num_epochs_for_experiments=10, device=device, transfer_learning=True)\n",
        "\n",
        "print(hyperparams)"
      ]
    },
    {
      "cell_type": "code",
      "execution_count": 10,
      "metadata": {
        "id": "zZJ3eTYHNxv3"
      },
      "outputs": [],
      "source": [
        "# Set hyper-parameters\n",
        "batch_size = hyperparams['batch_size']\n",
        "learning_rate = hyperparams['lr']\n",
        "optimizer_name = hyperparams['optimizer']\n",
        "optimizer = getattr(torch.optim, optimizer_name)(model.fc.parameters(), lr=learning_rate)\n",
        "num_epochs = 3\n",
        "scheduler = hyperparams['scheduler']\n",
        "scheduler = StepLR(optimizer, 10, 0.1, verbose=True) if scheduler == \"StepLR\" else CosineAnnealingLR(optimizer, num_epochs, verbose=True)\n",
        "\n",
        "criterion = nn.CrossEntropyLoss()"
      ]
    },
    {
      "cell_type": "markdown",
      "metadata": {
        "id": "FqhovXlwErj8"
      },
      "source": [
        "**Data Augmentations**"
      ]
    },
    {
      "cell_type": "code",
      "execution_count": 11,
      "metadata": {
        "id": "4F_MUSBBEwao"
      },
      "outputs": [],
      "source": [
        "augmentations = K.AugmentationSequential(\n",
        "    K.RandomHorizontalFlip(p=0.1),\n",
        "    K.RandomVerticalFlip(p=0.1),\n",
        "    K.RandomRotation(degrees=10, p=0.1),\n",
        "    K.RandomAffine(degrees=5, translate=(0.05, 0.05), scale=(0.95, 1.05), p=0.1),\n",
        "    K.RandomBrightness(brightness=(0.8, 1.2), p=0.1),\n",
        "    K.RandomContrast(contrast=(0.8, 1.2), p=0.1),\n",
        "    K.RandomGamma(gamma=(0.9, 1.1), p=0.1),\n",
        "    K.RandomSharpness(p=0.1),\n",
        "    same_on_batch=False\n",
        ")"
      ]
    },
    {
      "cell_type": "markdown",
      "metadata": {
        "id": "gfXa0erP-LDh"
      },
      "source": [
        "**Create Data Loaders**"
      ]
    },
    {
      "cell_type": "code",
      "execution_count": null,
      "metadata": {
        "id": "osh9hV7S-LDh"
      },
      "outputs": [],
      "source": [
        "# Data loading and shuffling\n",
        "trainloader = torch.utils.data.DataLoader(train_set, batch_size=batch_size, shuffle=True, num_workers=4, pin_memory=True)\n",
        "validationloader = torch.utils.data.DataLoader(validation_set, batch_size=batch_size, shuffle=True, num_workers=4, pin_memory=True)\n",
        "testloader = torch.utils.data.DataLoader(test_set, batch_size=batch_size, shuffle=False, num_workers=4, pin_memory=True)"
      ]
    },
    {
      "cell_type": "markdown",
      "metadata": {
        "id": "0NMxcWt8WBVl"
      },
      "source": [
        "**Train Model**"
      ]
    },
    {
      "cell_type": "code",
      "execution_count": 13,
      "metadata": {
        "colab": {
          "base_uri": "https://localhost:8080/",
          "height": 478
        },
        "id": "RFzmKpCGODd8",
        "outputId": "2247d507-74ec-4d10-e716-1b55e6a92e27"
      },
      "outputs": [
        {
          "name": "stdout",
          "output_type": "stream",
          "text": [
            "Created training session directory: ./checkpoints/EfficientNet_220026_07102024\n",
            "Training model: EfficientNet on cuda:0\n"
          ]
        },
        {
          "name": "stderr",
          "output_type": "stream",
          "text": [
            "Training: 100%|██████████| 512/512 [01:33<00:00,  5.47it/s]\n",
            "Validation: 100%|██████████| 128/128 [00:25<00:00,  4.95it/s]\n"
          ]
        },
        {
          "name": "stdout",
          "output_type": "stream",
          "text": [
            "Epoch: 1 | Training Loss: 0.9674 | Training Accuracy: 74.536% | Validation Loss: 0.7056 | Validation Accuracy: 70.752% | Epoch Time: 528.43 secs\n"
          ]
        },
        {
          "name": "stderr",
          "output_type": "stream",
          "text": [
            "Training: 100%|██████████| 512/512 [04:20<00:00,  1.97it/s]\n",
            "Validation: 100%|██████████| 128/128 [00:32<00:00,  3.94it/s]\n"
          ]
        },
        {
          "name": "stdout",
          "output_type": "stream",
          "text": [
            "Epoch: 2 | Training Loss: 0.8068 | Training Accuracy: 76.501% | Validation Loss: 0.6548 | Validation Accuracy: 72.021% | Epoch Time: 746.36 secs\n"
          ]
        },
        {
          "name": "stderr",
          "output_type": "stream",
          "text": [
            "Training: 100%|██████████| 512/512 [03:31<00:00,  2.43it/s]\n",
            "Validation: 100%|██████████| 128/128 [00:34<00:00,  3.71it/s]\n"
          ]
        },
        {
          "name": "stdout",
          "output_type": "stream",
          "text": [
            "Epoch: 3 | Training Loss: 0.7813 | Training Accuracy: 78.137% | Validation Loss: 0.6347 | Validation Accuracy: 73.975% | Epoch Time: 788.27 secs\n"
          ]
        }
      ],
      "source": [
        "load_existing_params = False\n",
        "train_loaded_model = False\n",
        "\n",
        "if load_existing_params:\n",
        "    model_path = './checkpoints/DINOv2_204018_04102024/DINOv2_211438_04102024_train_0.0333_val_0.1188.pth'\n",
        "    checkpoint = torch.load(model_path, weights_only=True)\n",
        "    model.load_state_dict(checkpoint['net'])\n",
        "    if (train_loaded_model):\n",
        "        epoch_train_losses, epoch_validation_losses, epoch_train_accuracies, epoch_validation_accuracies = utils_funcs.train_model(model, num_epochs, trainloader, validationloader, device, criterion, optimizer, scheduler, augmentations, use_amp=True)\n",
        "else:\n",
        "    epoch_train_losses, epoch_validation_losses, epoch_train_accuracies, epoch_validation_accuracies = utils_funcs.train_model(model, num_epochs, trainloader, validationloader, device, criterion, optimizer, scheduler, augmentations, use_amp=True)"
      ]
    },
    {
      "cell_type": "markdown",
      "metadata": {
        "id": "EbJ0dBbeVkzF"
      },
      "source": [
        "**Results**"
      ]
    },
    {
      "cell_type": "code",
      "execution_count": 14,
      "metadata": {
        "id": "bWniJm-0VgEz",
        "outputId": "e5587a8b-ca09-47e8-d110-3d919beaef2a"
      },
      "outputs": [
        {
          "name": "stdout",
          "output_type": "stream",
          "text": [
            "Test accuracy: 56.138%\n"
          ]
        }
      ],
      "source": [
        "test_accuracy = utils_funcs.calculate_accuracy(model, testloader, device)\n",
        "print(\"Test accuracy: {:.3f}%\".format(test_accuracy))"
      ]
    },
    {
      "cell_type": "code",
      "execution_count": 15,
      "metadata": {
        "id": "7VSHJRpx-LDj",
        "outputId": "6e8f0ed6-e0ac-47dc-a3d8-706dbe351c12"
      },
      "outputs": [
        {
          "data": {
            "text/plain": [
              "<Figure size 800x600 with 0 Axes>"
            ]
          },
          "metadata": {},
          "output_type": "display_data"
        },
        {
          "data": {
            "image/png": "[encoded data removed]",
            "text/plain": [
              "<Figure size 640x480 with 2 Axes>"
            ]
          },
          "metadata": {},
          "output_type": "display_data"
        }
      ],
      "source": [
        "class_names = ['VeryMildDemented', 'NonDemented', 'ModerateDemented', 'MildDemented']\n",
        "utils_funcs.plot_normalized_confusion_matrix(testloader, model, class_names, device, model_name)"
      ]
    },
    {
      "cell_type": "code",
      "execution_count": 16,
      "metadata": {
        "id": "g7O4VexWVcyQ",
        "outputId": "165ace2e-19d7-4248-80e2-9ea59de1384f"
      },
      "outputs": [
        {
          "data": {
            "image/png": "[encoded data removed]",
            "text/plain": [
              "<Figure size 500x500 with 1 Axes>"
            ]
          },
          "metadata": {},
          "output_type": "display_data"
        }
      ],
      "source": [
        "utils_funcs.plot_loss_curve(epoch_train_losses, epoch_validation_losses, num_epochs, model_name)"
      ]
    },
    {
      "cell_type": "code",
      "execution_count": 17,
      "metadata": {
        "id": "QXboM0ht4Rcc",
        "outputId": "56b2cf5d-a09d-4e93-df2b-2be506d3ac65"
      },
      "outputs": [
        {
          "data": {
            "image/png": "[encoded data removed]",
            "text/plain": [
              "<Figure size 500x500 with 1 Axes>"
            ]
          },
          "metadata": {},
          "output_type": "display_data"
        }
      ],
      "source": [
        "utils_funcs.plot_accuracy_curve(epoch_train_accuracies, epoch_validation_accuracies, num_epochs, model_name)"
      ]
    }
  ],
  "metadata": {
    "accelerator": "GPU",
    "colab": {
      "gpuType": "T4",
      "provenance": []
    },
    "kernelspec": {
      "display_name": "dino_deep_learn_cuda124",
      "language": "python",
      "name": "python3"
    },
    "language_info": {
      "codemirror_mode": {
        "name": "ipython",
        "version": 3
      },
      "file_extension": ".py",
      "mimetype": "text/x-python",
      "name": "python",
      "nbconvert_exporter": "python",
      "pygments_lexer": "ipython3",
      "version": "3.10.14"
    }
  },
  "nbformat": 4,
  "nbformat_minor": 0
}
