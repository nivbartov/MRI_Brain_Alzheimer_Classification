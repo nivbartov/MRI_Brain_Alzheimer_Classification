{
  "cells": [
    {
      "cell_type": "markdown",
      "metadata": {
        "id": "CSXDJcczMrB6"
      },
      "source": [
        "<h1 style=\"display: flex; align-items: center;\">\n",
        "    <img src=\"https://github.com/nivbartov/MRI_Brain_Alzheimer_Classification/blob/main/assets/icons/deep-learning.png?raw=1\" style=\"width: 50px; height: 50px; margin-right: 10px;\">\n",
        "    <strong>MRI Brain Alzheimer Classification - ResNet Model</strong>\n",
        "</h1>"
      ]
    },
    {
      "cell_type": "markdown",
      "metadata": {
        "id": "mEWgxGwpIvtv"
      },
      "source": [
        "<h1 style=\"display: flex; align-items: center; font-size: 25px; margin: 0;\">\n",
        "    <img src=\"https://github.com/nivbartov/MRI_Brain_Alzheimer_Classification/blob/main/assets/icons/icons8-git-48.png?raw=1\" style=\"width: 40px; height: 40px; margin-right: 5px;\">\n",
        "    Clone Repository from GitHub\n",
        "</h1>\n"
      ]
    },
    {
      "cell_type": "code",
      "execution_count": 1,
      "metadata": {
        "colab": {
          "base_uri": "https://localhost:8080/"
        },
        "id": "jJiyYyeMASQj",
        "outputId": "d582d3f6-76e3-47d7-fbe0-cdd95e4eaee0"
      },
      "outputs": [
        {
          "name": "stdout",
          "output_type": "stream",
          "text": [
            "Cloning into 'MRI_Brain_Alzheimer_Classification'...\n",
            "remote: Enumerating objects: 18488, done.\u001b[K\n",
            "remote: Counting objects: 100% (512/512), done.\u001b[K\n",
            "remote: Compressing objects: 100% (296/296), done.\u001b[K\n",
            "remote: Total 18488 (delta 234), reused 479 (delta 202), pack-reused 17976 (from 1)\u001b[K\n",
            "Receiving objects: 100% (18488/18488), 224.43 MiB | 12.87 MiB/s, done.\n",
            "Resolving deltas: 100% (310/310), done.\n",
            "Updating files: 100% (11594/11594), done.\n",
            "/content/MRI_Brain_Alzheimer_Classification\n"
          ]
        }
      ],
      "source": [
        "# # Clone repository from GitHub\n",
        "!git clone https://github.com/nivbartov/MRI_Brain_Alzheimer_Classification\n",
        "\n",
        "%cd MRI_Brain_Alzheimer_Classification\n",
        "# %cd .."
      ]
    },
    {
      "cell_type": "markdown",
      "metadata": {
        "id": "EI_InVVAASQl"
      },
      "source": [
        "<h1 style=\"display: flex; align-items: center; font-size: 25px; margin: 0;\">\n",
        "    <img src=\"https://github.com/nivbartov/MRI_Brain_Alzheimer_Classification/blob/main/assets/icons/icons8-import-64.png?raw=1\" style=\"width: 40px; height: 40px; margin-right: 5px;\">\n",
        "    Import Packages\n",
        "</h1>"
      ]
    },
    {
      "cell_type": "code",
      "execution_count": 3,
      "metadata": {
        "id": "v_yU5PXHEX4x"
      },
      "outputs": [],
      "source": [
        "import warnings\n",
        "warnings.filterwarnings(\"ignore\", category=FutureWarning)\n",
        "warnings.filterwarnings(\"ignore\", category=UserWarning)\n",
        "import sys\n",
        "import os\n",
        "import numpy as np\n",
        "import pandas as pd\n",
        "import torch\n",
        "from torchsummary import summary\n",
        "import torch.nn as nn\n",
        "from torch.utils.data import TensorDataset, DataLoader, Subset, ConcatDataset\n",
        "import torchvision\n",
        "import torchvision.datasets as datasets\n",
        "import torchvision.transforms as transforms\n",
        "from kornia import augmentation as K\n",
        "from kornia.augmentation import AugmentationSequential\n",
        "from torch.optim.lr_scheduler import CosineAnnealingLR, StepLR\n",
        "import matplotlib.pyplot as plt\n",
        "%matplotlib inline\n",
        "from tqdm import tqdm\n",
        "import random\n",
        "import time\n",
        "from datetime import datetime\n",
        "import json\n",
        "import gc\n",
        "import subprocess"
      ]
    },
    {
      "cell_type": "markdown",
      "metadata": {
        "id": "vQJKfOGEJWan"
      },
      "source": [
        "<h1 style=\"display: flex; align-items: center; font-size: 25px; margin: 0;\">\n",
        "    <img src=\"https://github.com/nivbartov/MRI_Brain_Alzheimer_Classification/blob/main/assets/icons/icons8-function-80.png?raw=1\" style=\"width: 40px; height: 40px; margin-right: 5px;\">\n",
        "    Import Internal Functions\n",
        "</h1>"
      ]
    },
    {
      "cell_type": "code",
      "execution_count": 4,
      "metadata": {
        "id": "clhd-UgNJb27"
      },
      "outputs": [],
      "source": [
        "from models import def_models\n",
        "from utils import utils_funcs\n",
        "from utils import optuna_search"
      ]
    },
    {
      "cell_type": "markdown",
      "metadata": {
        "id": "3C9hi5C_-LDb"
      },
      "source": [
        "<h1 style=\"display: flex; align-items: center; font-size: 25px; margin: 0;\">\n",
        "    <img src=\"https://github.com/nivbartov/MRI_Brain_Alzheimer_Classification/blob/main/assets/icons/icons8-gpu-64.png?raw=1\" style=\"width: 40px; height: 40px; margin-right: 5px;\">\n",
        "    Define Definition\n",
        "</h1>"
      ]
    },
    {
      "cell_type": "code",
      "execution_count": 5,
      "metadata": {
        "colab": {
          "base_uri": "https://localhost:8080/"
        },
        "id": "gULVrEpb-LDb",
        "outputId": "03234034-8901-4718-b499-ba42ef3da51e"
      },
      "outputs": [
        {
          "name": "stdout",
          "output_type": "stream",
          "text": [
            "torch.cuda.is_available(): True\n",
            "device: cuda:0\n"
          ]
        }
      ],
      "source": [
        "print(f'torch.cuda.is_available(): {torch.cuda.is_available()}')\n",
        "device = torch.device(\"cuda:0\" if torch.cuda.is_available() else \"cpu\")\n",
        "print(f'device: {device}')\n",
        "torch.cuda.empty_cache()\n",
        "gc.collect()\n",
        "utils_funcs.open_nvitop()"
      ]
    },
    {
      "cell_type": "markdown",
      "metadata": {
        "id": "eCYl_TtCNRRy"
      },
      "source": [
        "<h1 style=\"display: flex; align-items: center; font-size: 25px; margin: 0;\">\n",
        "    <img src=\"https://github.com/nivbartov/MRI_Brain_Alzheimer_Classification/blob/main/assets/icons/icons8-data-recovery-40.png?raw=1\" style=\"width: 40px; height: 40px; margin-right: 5px;\">\n",
        "    Model Definition and Initialization\n",
        "</h1>"
      ]
    },
    {
      "cell_type": "code",
      "execution_count": 6,
      "metadata": {
        "colab": {
          "base_uri": "https://localhost:8080/"
        },
        "id": "h0rr3nWPNoN8",
        "outputId": "f8490a10-e0ff-4103-db66-d87f76a78bb6"
      },
      "outputs": [
        {
          "name": "stderr",
          "output_type": "stream",
          "text": [
            "Downloading: \"https://download.pytorch.org/models/resnet34-b627a593.pth\" to /root/.cache/torch/hub/checkpoints/resnet34-b627a593.pth\n",
            "100%|██████████| 83.3M/83.3M [00:00<00:00, 94.9MB/s]\n"
          ]
        }
      ],
      "source": [
        "# Initialize input and output sizes\n",
        "input_width = 224\n",
        "input_height = 224\n",
        "input_channels = 3\n",
        "output_channels = 4\n",
        "\n",
        "# Load a pre-trained ResNet34 model\n",
        "ResNet_backbone_model = torchvision.models.resnet34(pretrained=True)\n",
        "\n",
        "# Finetune EfficientNet-B0 layers\n",
        "for param in ResNet_backbone_model.parameters():\n",
        "    param.requires_grad = True\n",
        "\n",
        "# Create ResNet34 model with FC layers before the output\n",
        "model = def_models.ResNet(ResNet_backbone=ResNet_backbone_model, output_channels=output_channels).to(device)"
      ]
    },
    {
      "cell_type": "markdown",
      "metadata": {
        "id": "0azuu8JCASQr"
      },
      "source": [
        "<h1 style=\"display: flex; align-items: center; font-size: 25px; margin: 0;\">\n",
        "    <img src=\"https://github.com/nivbartov/MRI_Brain_Alzheimer_Classification/blob/main/assets/icons/icons8-load-50.png?raw=1\" style=\"width: 40px; height: 40px; margin-right: 5px;\">\n",
        "    Load Dataset\n",
        "</h1>"
      ]
    },
    {
      "cell_type": "code",
      "execution_count": 7,
      "metadata": {
        "id": "AAMNS4v3ASQs"
      },
      "outputs": [],
      "source": [
        "train_set = torch.load('dataset/dataset_variables/train_set.pt')\n",
        "validation_set = torch.load('dataset/dataset_variables/validation_set.pt')\n",
        "test_set = torch.load('dataset/dataset_variables/test_set.pt')"
      ]
    },
    {
      "cell_type": "markdown",
      "metadata": {
        "id": "3vkYHTm--LDe"
      },
      "source": [
        "<h1 style=\"display: flex; align-items: center; font-size: 25px; margin: 0;\">\n",
        "    <img src=\"https://github.com/nivbartov/MRI_Brain_Alzheimer_Classification/blob/main/assets/icons/icons8-statistics-64.png?raw=1\" style=\"width: 40px; height: 40px; margin-right: 5px;\">\n",
        "    Model statistics\n",
        "</h1>"
      ]
    },
    {
      "cell_type": "code",
      "execution_count": 8,
      "metadata": {
        "colab": {
          "base_uri": "https://localhost:8080/"
        },
        "id": "EeoGhA5A-LDe",
        "outputId": "69c03875-b397-4f72-f155-31008263b781"
      },
      "outputs": [
        {
          "name": "stdout",
          "output_type": "stream",
          "text": [
            "Model ResNet Statistics:\n",
            "----------------------------------------------------------------\n",
            "        Layer (type)               Output Shape         Param #\n",
            "================================================================\n",
            "            Conv2d-1         [-1, 64, 112, 112]           9,408\n",
            "       BatchNorm2d-2         [-1, 64, 112, 112]             128\n",
            "              ReLU-3         [-1, 64, 112, 112]               0\n",
            "         MaxPool2d-4           [-1, 64, 56, 56]               0\n",
            "            Conv2d-5           [-1, 64, 56, 56]          36,864\n",
            "       BatchNorm2d-6           [-1, 64, 56, 56]             128\n",
            "              ReLU-7           [-1, 64, 56, 56]               0\n",
            "            Conv2d-8           [-1, 64, 56, 56]          36,864\n",
            "       BatchNorm2d-9           [-1, 64, 56, 56]             128\n",
            "             ReLU-10           [-1, 64, 56, 56]               0\n",
            "       BasicBlock-11           [-1, 64, 56, 56]               0\n",
            "           Conv2d-12           [-1, 64, 56, 56]          36,864\n",
            "      BatchNorm2d-13           [-1, 64, 56, 56]             128\n",
            "             ReLU-14           [-1, 64, 56, 56]               0\n",
            "           Conv2d-15           [-1, 64, 56, 56]          36,864\n",
            "      BatchNorm2d-16           [-1, 64, 56, 56]             128\n",
            "             ReLU-17           [-1, 64, 56, 56]               0\n",
            "       BasicBlock-18           [-1, 64, 56, 56]               0\n",
            "           Conv2d-19           [-1, 64, 56, 56]          36,864\n",
            "      BatchNorm2d-20           [-1, 64, 56, 56]             128\n",
            "             ReLU-21           [-1, 64, 56, 56]               0\n",
            "           Conv2d-22           [-1, 64, 56, 56]          36,864\n",
            "      BatchNorm2d-23           [-1, 64, 56, 56]             128\n",
            "             ReLU-24           [-1, 64, 56, 56]               0\n",
            "       BasicBlock-25           [-1, 64, 56, 56]               0\n",
            "           Conv2d-26          [-1, 128, 28, 28]          73,728\n",
            "      BatchNorm2d-27          [-1, 128, 28, 28]             256\n",
            "             ReLU-28          [-1, 128, 28, 28]               0\n",
            "           Conv2d-29          [-1, 128, 28, 28]         147,456\n",
            "      BatchNorm2d-30          [-1, 128, 28, 28]             256\n",
            "           Conv2d-31          [-1, 128, 28, 28]           8,192\n",
            "      BatchNorm2d-32          [-1, 128, 28, 28]             256\n",
            "             ReLU-33          [-1, 128, 28, 28]               0\n",
            "       BasicBlock-34          [-1, 128, 28, 28]               0\n",
            "           Conv2d-35          [-1, 128, 28, 28]         147,456\n",
            "      BatchNorm2d-36          [-1, 128, 28, 28]             256\n",
            "             ReLU-37          [-1, 128, 28, 28]               0\n",
            "           Conv2d-38          [-1, 128, 28, 28]         147,456\n",
            "      BatchNorm2d-39          [-1, 128, 28, 28]             256\n",
            "             ReLU-40          [-1, 128, 28, 28]               0\n",
            "       BasicBlock-41          [-1, 128, 28, 28]               0\n",
            "           Conv2d-42          [-1, 128, 28, 28]         147,456\n",
            "      BatchNorm2d-43          [-1, 128, 28, 28]             256\n",
            "             ReLU-44          [-1, 128, 28, 28]               0\n",
            "           Conv2d-45          [-1, 128, 28, 28]         147,456\n",
            "      BatchNorm2d-46          [-1, 128, 28, 28]             256\n",
            "             ReLU-47          [-1, 128, 28, 28]               0\n",
            "       BasicBlock-48          [-1, 128, 28, 28]               0\n",
            "           Conv2d-49          [-1, 128, 28, 28]         147,456\n",
            "      BatchNorm2d-50          [-1, 128, 28, 28]             256\n",
            "             ReLU-51          [-1, 128, 28, 28]               0\n",
            "           Conv2d-52          [-1, 128, 28, 28]         147,456\n",
            "      BatchNorm2d-53          [-1, 128, 28, 28]             256\n",
            "             ReLU-54          [-1, 128, 28, 28]               0\n",
            "       BasicBlock-55          [-1, 128, 28, 28]               0\n",
            "           Conv2d-56          [-1, 256, 14, 14]         294,912\n",
            "      BatchNorm2d-57          [-1, 256, 14, 14]             512\n",
            "             ReLU-58          [-1, 256, 14, 14]               0\n",
            "           Conv2d-59          [-1, 256, 14, 14]         589,824\n",
            "      BatchNorm2d-60          [-1, 256, 14, 14]             512\n",
            "           Conv2d-61          [-1, 256, 14, 14]          32,768\n",
            "      BatchNorm2d-62          [-1, 256, 14, 14]             512\n",
            "             ReLU-63          [-1, 256, 14, 14]               0\n",
            "       BasicBlock-64          [-1, 256, 14, 14]               0\n",
            "           Conv2d-65          [-1, 256, 14, 14]         589,824\n",
            "      BatchNorm2d-66          [-1, 256, 14, 14]             512\n",
            "             ReLU-67          [-1, 256, 14, 14]               0\n",
            "           Conv2d-68          [-1, 256, 14, 14]         589,824\n",
            "      BatchNorm2d-69          [-1, 256, 14, 14]             512\n",
            "             ReLU-70          [-1, 256, 14, 14]               0\n",
            "       BasicBlock-71          [-1, 256, 14, 14]               0\n",
            "           Conv2d-72          [-1, 256, 14, 14]         589,824\n",
            "      BatchNorm2d-73          [-1, 256, 14, 14]             512\n",
            "             ReLU-74          [-1, 256, 14, 14]               0\n",
            "           Conv2d-75          [-1, 256, 14, 14]         589,824\n",
            "      BatchNorm2d-76          [-1, 256, 14, 14]             512\n",
            "             ReLU-77          [-1, 256, 14, 14]               0\n",
            "       BasicBlock-78          [-1, 256, 14, 14]               0\n",
            "           Conv2d-79          [-1, 256, 14, 14]         589,824\n",
            "      BatchNorm2d-80          [-1, 256, 14, 14]             512\n",
            "             ReLU-81          [-1, 256, 14, 14]               0\n",
            "           Conv2d-82          [-1, 256, 14, 14]         589,824\n",
            "      BatchNorm2d-83          [-1, 256, 14, 14]             512\n",
            "             ReLU-84          [-1, 256, 14, 14]               0\n",
            "       BasicBlock-85          [-1, 256, 14, 14]               0\n",
            "           Conv2d-86          [-1, 256, 14, 14]         589,824\n",
            "      BatchNorm2d-87          [-1, 256, 14, 14]             512\n",
            "             ReLU-88          [-1, 256, 14, 14]               0\n",
            "           Conv2d-89          [-1, 256, 14, 14]         589,824\n",
            "      BatchNorm2d-90          [-1, 256, 14, 14]             512\n",
            "             ReLU-91          [-1, 256, 14, 14]               0\n",
            "       BasicBlock-92          [-1, 256, 14, 14]               0\n",
            "           Conv2d-93          [-1, 256, 14, 14]         589,824\n",
            "      BatchNorm2d-94          [-1, 256, 14, 14]             512\n",
            "             ReLU-95          [-1, 256, 14, 14]               0\n",
            "           Conv2d-96          [-1, 256, 14, 14]         589,824\n",
            "      BatchNorm2d-97          [-1, 256, 14, 14]             512\n",
            "             ReLU-98          [-1, 256, 14, 14]               0\n",
            "       BasicBlock-99          [-1, 256, 14, 14]               0\n",
            "          Conv2d-100            [-1, 512, 7, 7]       1,179,648\n",
            "     BatchNorm2d-101            [-1, 512, 7, 7]           1,024\n",
            "            ReLU-102            [-1, 512, 7, 7]               0\n",
            "          Conv2d-103            [-1, 512, 7, 7]       2,359,296\n",
            "     BatchNorm2d-104            [-1, 512, 7, 7]           1,024\n",
            "          Conv2d-105            [-1, 512, 7, 7]         131,072\n",
            "     BatchNorm2d-106            [-1, 512, 7, 7]           1,024\n",
            "            ReLU-107            [-1, 512, 7, 7]               0\n",
            "      BasicBlock-108            [-1, 512, 7, 7]               0\n",
            "          Conv2d-109            [-1, 512, 7, 7]       2,359,296\n",
            "     BatchNorm2d-110            [-1, 512, 7, 7]           1,024\n",
            "            ReLU-111            [-1, 512, 7, 7]               0\n",
            "          Conv2d-112            [-1, 512, 7, 7]       2,359,296\n",
            "     BatchNorm2d-113            [-1, 512, 7, 7]           1,024\n",
            "            ReLU-114            [-1, 512, 7, 7]               0\n",
            "      BasicBlock-115            [-1, 512, 7, 7]               0\n",
            "          Conv2d-116            [-1, 512, 7, 7]       2,359,296\n",
            "     BatchNorm2d-117            [-1, 512, 7, 7]           1,024\n",
            "            ReLU-118            [-1, 512, 7, 7]               0\n",
            "          Conv2d-119            [-1, 512, 7, 7]       2,359,296\n",
            "     BatchNorm2d-120            [-1, 512, 7, 7]           1,024\n",
            "            ReLU-121            [-1, 512, 7, 7]               0\n",
            "      BasicBlock-122            [-1, 512, 7, 7]               0\n",
            "AdaptiveAvgPool2d-123            [-1, 512, 1, 1]               0\n",
            "          Linear-124                 [-1, 1000]         513,000\n",
            "          ResNet-125                 [-1, 1000]               0\n",
            "          Linear-126                 [-1, 1024]       1,025,024\n",
            "     BatchNorm1d-127                 [-1, 1024]           2,048\n",
            "            GELU-128                 [-1, 1024]               0\n",
            "         Dropout-129                 [-1, 1024]               0\n",
            "          Linear-130                  [-1, 512]         524,800\n",
            "     BatchNorm1d-131                  [-1, 512]           1,024\n",
            "            GELU-132                  [-1, 512]               0\n",
            "         Dropout-133                  [-1, 512]               0\n",
            "          Linear-134                  [-1, 256]         131,328\n",
            "     BatchNorm1d-135                  [-1, 256]             512\n",
            "            GELU-136                  [-1, 256]               0\n",
            "         Dropout-137                  [-1, 256]               0\n",
            "          Linear-138                    [-1, 4]           1,028\n",
            "================================================================\n",
            "Total params: 23,483,436\n",
            "Trainable params: 23,483,436\n",
            "Non-trainable params: 0\n",
            "----------------------------------------------------------------\n",
            "Input size (MB): 0.57\n",
            "Forward/backward pass size (MB): 96.35\n",
            "Params size (MB): 89.58\n",
            "Estimated Total Size (MB): 186.51\n",
            "----------------------------------------------------------------\n"
          ]
        }
      ],
      "source": [
        "model_name = type(model).__name__\n",
        "print(\"Model\", model_name, \"Statistics:\")\n",
        "summary(model, (input_channels, input_height, input_width))"
      ]
    },
    {
      "cell_type": "markdown",
      "metadata": {
        "id": "5IgNxKOu-LDf"
      },
      "source": [
        "<h1 style=\"display: flex; align-items: center; font-size: 25px; margin: 0;\">\n",
        "    <img src=\"https://github.com/nivbartov/MRI_Brain_Alzheimer_Classification/blob/main/assets/icons/icons8-tuna-50.png?raw=1\" style=\"width: 40px; height: 40px; margin-right: 5px;\">\n",
        "    Set Hyper-Parameters Using Optuna\n",
        "</h1>"
      ]
    },
    {
      "cell_type": "code",
      "execution_count": 9,
      "metadata": {
        "colab": {
          "base_uri": "https://localhost:8080/"
        },
        "id": "gbHsApTN-LDf",
        "outputId": "83780929-7b2d-40b9-899c-4a8677ec1d8d"
      },
      "outputs": [
        {
          "name": "stderr",
          "output_type": "stream",
          "text": [
            "[I 2024-10-19 09:11:29,045] A new study created in memory with name: mri-alzhimer-classification\n"
          ]
        },
        {
          "name": "stdout",
          "output_type": "stream",
          "text": [
            "Optuna is done on device: cuda:0\n"
          ]
        },
        {
          "name": "stderr",
          "output_type": "stream",
          "text": [
            "100%|██████████| 12/12 [01:17<00:00,  6.48s/it]\n",
            "[I 2024-10-19 09:12:47,824] Trial 0 finished with value: 0.31875 and parameters: {'lr': 2.009759761375756e-05, 'optimizer': 'SGD', 'batch_size': 32, 'scheduler': 'CosineAnnealingLR'}. Best is trial 0 with value: 0.31875.\n",
            "100%|██████████| 12/12 [02:18<00:00, 11.54s/it]\n",
            "[I 2024-10-19 09:15:06,844] Trial 1 finished with value: 0.6328125 and parameters: {'lr': 0.00031340402062973266, 'optimizer': 'SGD', 'batch_size': 64, 'scheduler': 'StepLR'}. Best is trial 1 with value: 0.6328125.\n",
            "100%|██████████| 12/12 [01:11<00:00,  5.96s/it]\n",
            "[I 2024-10-19 09:16:18,907] Trial 2 finished with value: 0.3625 and parameters: {'lr': 4.4427584637422316e-05, 'optimizer': 'SGD', 'batch_size': 32, 'scheduler': 'ReduceLROnPlateau'}. Best is trial 1 with value: 0.6328125.\n",
            "100%|██████████| 12/12 [01:14<00:00,  6.19s/it]\n",
            "[I 2024-10-19 09:17:33,958] Trial 3 finished with value: 0.8375 and parameters: {'lr': 0.00027187213444233426, 'optimizer': 'RMSprop', 'batch_size': 32, 'scheduler': 'CosineAnnealingLR'}. Best is trial 3 with value: 0.8375.\n",
            "100%|██████████| 12/12 [02:21<00:00, 11.79s/it]\n",
            "[I 2024-10-19 09:19:55,987] Trial 4 finished with value: 0.775 and parameters: {'lr': 0.0031270291376045405, 'optimizer': 'Adam', 'batch_size': 64, 'scheduler': 'StepLR'}. Best is trial 3 with value: 0.8375.\n",
            "100%|██████████| 12/12 [02:19<00:00, 11.62s/it]\n",
            "[I 2024-10-19 09:22:16,167] Trial 5 finished with value: 0.8421875 and parameters: {'lr': 1.070987227792231e-05, 'optimizer': 'RMSprop', 'batch_size': 64, 'scheduler': 'StepLR'}. Best is trial 5 with value: 0.8421875.\n",
            "100%|██████████| 12/12 [02:24<00:00, 12.04s/it]\n",
            "[I 2024-10-19 09:24:41,161] Trial 6 finished with value: 0.7140625 and parameters: {'lr': 3.1211453478596244e-06, 'optimizer': 'Adam', 'batch_size': 64, 'scheduler': 'ReduceLROnPlateau'}. Best is trial 5 with value: 0.8421875.\n",
            "  0%|          | 0/12 [00:10<?, ?it/s]\n",
            "[I 2024-10-19 09:24:52,179] Trial 7 pruned. \n",
            " 17%|█▋        | 2/12 [00:11<00:55,  5.55s/it]\n",
            "[I 2024-10-19 09:25:04,167] Trial 8 pruned. \n",
            " 17%|█▋        | 2/12 [00:36<03:04, 18.43s/it]\n",
            "[I 2024-10-19 09:25:41,597] Trial 9 pruned. \n",
            "100%|██████████| 12/12 [00:43<00:00,  3.64s/it]\n",
            "[I 2024-10-19 09:26:25,772] Trial 10 finished with value: 0.7625 and parameters: {'lr': 7.0467179583703295e-06, 'optimizer': 'RMSprop', 'batch_size': 16, 'scheduler': 'StepLR'}. Best is trial 5 with value: 0.8421875.\n",
            "100%|██████████| 12/12 [01:14<00:00,  6.22s/it]\n",
            "[I 2024-10-19 09:27:40,950] Trial 11 finished with value: 0.8375 and parameters: {'lr': 0.00020971710214753633, 'optimizer': 'RMSprop', 'batch_size': 32, 'scheduler': 'CosineAnnealingLR'}. Best is trial 5 with value: 0.8421875.\n",
            "  0%|          | 0/12 [00:05<?, ?it/s]\n",
            "[I 2024-10-19 09:27:47,054] Trial 12 pruned. \n",
            "100%|██████████| 12/12 [01:14<00:00,  6.17s/it]\n",
            "[I 2024-10-19 09:29:01,624] Trial 13 finished with value: 0.871875 and parameters: {'lr': 5.0971675650643754e-05, 'optimizer': 'RMSprop', 'batch_size': 32, 'scheduler': 'CosineAnnealingLR'}. Best is trial 13 with value: 0.871875.\n",
            "100%|██████████| 12/12 [00:43<00:00,  3.64s/it]\n",
            "[I 2024-10-19 09:29:46,326] Trial 14 finished with value: 0.85 and parameters: {'lr': 1.9594370914697884e-05, 'optimizer': 'RMSprop', 'batch_size': 16, 'scheduler': 'CosineAnnealingLR'}. Best is trial 13 with value: 0.871875.\n",
            "100%|██████████| 12/12 [00:44<00:00,  3.69s/it]\n",
            "[I 2024-10-19 09:30:31,132] Trial 15 finished with value: 0.8625 and parameters: {'lr': 5.828707415952889e-05, 'optimizer': 'RMSprop', 'batch_size': 16, 'scheduler': 'CosineAnnealingLR'}. Best is trial 13 with value: 0.871875.\n",
            "100%|██████████| 12/12 [00:44<00:00,  3.70s/it]\n",
            "[I 2024-10-19 09:31:16,063] Trial 16 finished with value: 0.84375 and parameters: {'lr': 8.10041744956969e-05, 'optimizer': 'RMSprop', 'batch_size': 16, 'scheduler': 'CosineAnnealingLR'}. Best is trial 13 with value: 0.871875.\n",
            "  0%|          | 0/12 [00:03<?, ?it/s]\n",
            "[I 2024-10-19 09:31:19,847] Trial 17 pruned. \n",
            "100%|██████████| 12/12 [00:43<00:00,  3.59s/it]\n",
            "[I 2024-10-19 09:32:03,467] Trial 18 finished with value: 0.875 and parameters: {'lr': 8.91736035590038e-05, 'optimizer': 'RMSprop', 'batch_size': 16, 'scheduler': 'CosineAnnealingLR'}. Best is trial 18 with value: 0.875.\n",
            "100%|██████████| 12/12 [01:15<00:00,  6.30s/it]\n",
            "[I 2024-10-19 09:33:19,610] Trial 19 finished with value: 0.88125 and parameters: {'lr': 0.00013400442016296747, 'optimizer': 'Adam', 'batch_size': 32, 'scheduler': 'CosineAnnealingLR'}. Best is trial 19 with value: 0.88125.\n",
            "  8%|▊         | 1/12 [00:12<02:14, 12.25s/it]\n",
            "[I 2024-10-19 09:33:32,641] Trial 20 pruned. \n",
            "100%|██████████| 12/12 [01:14<00:00,  6.21s/it]\n",
            "[I 2024-10-19 09:34:48,025] Trial 21 finished with value: 0.89375 and parameters: {'lr': 0.00013924310825034767, 'optimizer': 'Adam', 'batch_size': 32, 'scheduler': 'CosineAnnealingLR'}. Best is trial 21 with value: 0.89375.\n",
            "  8%|▊         | 1/12 [00:12<02:13, 12.11s/it]\n",
            "[I 2024-10-19 09:35:00,624] Trial 22 pruned. \n",
            "100%|██████████| 12/12 [01:15<00:00,  6.28s/it]\n",
            "[I 2024-10-19 09:36:16,522] Trial 23 finished with value: 0.9 and parameters: {'lr': 0.00013260296994192767, 'optimizer': 'Adam', 'batch_size': 32, 'scheduler': 'CosineAnnealingLR'}. Best is trial 23 with value: 0.9.\n",
            "  0%|          | 0/12 [00:05<?, ?it/s]\n",
            "[I 2024-10-19 09:36:22,907] Trial 24 pruned. \n",
            "100%|██████████| 12/12 [01:14<00:00,  6.23s/it]\n",
            "[I 2024-10-19 09:37:38,526] Trial 25 finished with value: 0.84375 and parameters: {'lr': 0.00013882947137511064, 'optimizer': 'Adam', 'batch_size': 32, 'scheduler': 'ReduceLROnPlateau'}. Best is trial 23 with value: 0.9.\n",
            "  0%|          | 0/12 [00:05<?, ?it/s]\n",
            "[I 2024-10-19 09:37:44,723] Trial 26 pruned. \n",
            "  0%|          | 0/12 [00:06<?, ?it/s]\n",
            "[I 2024-10-19 09:37:51,625] Trial 27 pruned. \n",
            "  0%|          | 0/12 [00:05<?, ?it/s]\n",
            "[I 2024-10-19 09:37:57,895] Trial 28 pruned. \n",
            "  0%|          | 0/12 [00:06<?, ?it/s]\n",
            "[I 2024-10-19 09:38:04,871] Trial 29 pruned. \n",
            " 92%|█████████▏| 11/12 [01:14<00:06,  6.81s/it]\n",
            "[I 2024-10-19 09:39:20,303] Trial 30 pruned. \n",
            "100%|██████████| 12/12 [00:45<00:00,  3.75s/it]\n",
            "[I 2024-10-19 09:40:05,828] Trial 31 finished with value: 0.83125 and parameters: {'lr': 0.00011194609548105605, 'optimizer': 'Adam', 'batch_size': 16, 'scheduler': 'CosineAnnealingLR'}. Best is trial 23 with value: 0.9.\n",
            "  0%|          | 0/12 [00:06<?, ?it/s]\n",
            "[I 2024-10-19 09:40:12,790] Trial 32 pruned. \n",
            "  8%|▊         | 1/12 [00:06<01:13,  6.72s/it]\n",
            "[I 2024-10-19 09:40:19,991] Trial 33 pruned. \n",
            "  0%|          | 0/12 [00:06<?, ?it/s]\n",
            "[I 2024-10-19 09:40:27,126] Trial 34 pruned. \n",
            "100%|██████████| 12/12 [01:14<00:00,  6.21s/it]\n",
            "[I 2024-10-19 09:41:42,197] Trial 35 finished with value: 0.85 and parameters: {'lr': 0.00019992702217652545, 'optimizer': 'Adam', 'batch_size': 32, 'scheduler': 'CosineAnnealingLR'}. Best is trial 23 with value: 0.9.\n",
            "  0%|          | 0/12 [00:06<?, ?it/s]\n",
            "[I 2024-10-19 09:41:48,906] Trial 36 pruned. \n",
            "  0%|          | 0/12 [00:03<?, ?it/s]\n",
            "[I 2024-10-19 09:41:52,789] Trial 37 pruned. \n",
            "  0%|          | 0/12 [00:11<?, ?it/s]\n",
            "[I 2024-10-19 09:42:04,637] Trial 38 pruned. \n",
            "  0%|          | 0/12 [00:05<?, ?it/s]\n",
            "[I 2024-10-19 09:42:10,933] Trial 39 pruned. \n"
          ]
        },
        {
          "name": "stdout",
          "output_type": "stream",
          "text": [
            "Study statistics: \n",
            "  Number of finished trials:  40\n",
            "  Number of pruned trials:  20\n",
            "  Number of complete trials:  20\n",
            "Best trial:\n",
            "  Value:  0.9\n",
            "  Params: \n",
            "    lr: 0.00013260296994192767\n",
            "    optimizer: Adam\n",
            "    batch_size: 32\n",
            "    scheduler: CosineAnnealingLR\n",
            "Best parameters saved to checkpoints/optuna_params/ResNet/ResNet_0.9000.json\n",
            "{'lr': 0.00013260296994192767, 'optimizer': 'Adam', 'batch_size': 32, 'scheduler': 'CosineAnnealingLR'}\n"
          ]
        }
      ],
      "source": [
        "load_existing_hyperparams = False\n",
        "\n",
        "if load_existing_hyperparams:\n",
        "    # Load hyper-parameters (relevant if optuna has already used)\n",
        "    optuna_params_path = f'./checkpoints/optuna_params/{model_name}/ResNet_0.8292.json'\n",
        "    with open(optuna_params_path, 'r') as file:\n",
        "        hyperparams = json.load(file)\n",
        "else:\n",
        "    # Find optimal hyper-parameters using optuna\n",
        "    torch.cuda.empty_cache()\n",
        "    hyperparams = optuna_search.optuna_param_search(model_name=\"ResNet\", loss_criterion=nn.CrossEntropyLoss(), num_epochs_for_experiments=12, device=device, transfer_learning=True)\n",
        "\n",
        "print(hyperparams)"
      ]
    },
    {
      "cell_type": "code",
      "execution_count": 10,
      "metadata": {
        "id": "zZJ3eTYHNxv3"
      },
      "outputs": [],
      "source": [
        "# Set hyper-parameters\n",
        "batch_size = hyperparams['batch_size']\n",
        "learning_rate = hyperparams['lr']\n",
        "optimizer_name = hyperparams['optimizer']\n",
        "optimizer = getattr(torch.optim, optimizer_name)(model.parameters(), lr=learning_rate)\n",
        "\n",
        "num_epochs = 30\n",
        "scheduler_name = hyperparams['scheduler']\n",
        "\n",
        "# Set up the learning rate scheduler based on the chosen scheduler\n",
        "if scheduler_name == \"StepLR\":\n",
        "    scheduler = StepLR(optimizer, step_size=10, gamma=0.1, verbose=True)\n",
        "elif scheduler_name == \"CosineAnnealingLR\":\n",
        "    scheduler = CosineAnnealingLR(optimizer, T_max=num_epochs, verbose=True)\n",
        "elif scheduler_name == \"ReduceLROnPlateau\":\n",
        "    scheduler = torch.optim.lr_scheduler.ReduceLROnPlateau(optimizer, mode='max', factor=0.1, patience=5, verbose=True)\n",
        "else:\n",
        "    raise ValueError(f\"Unknown scheduler: {scheduler_name}\")\n",
        "\n",
        "criterion = nn.CrossEntropyLoss()"
      ]
    },
    {
      "cell_type": "markdown",
      "metadata": {
        "id": "FqhovXlwErj8"
      },
      "source": [
        "<h1 style=\"display: flex; align-items: center; font-size: 25px; margin: 0;\">\n",
        "    <img src=\"https://github.com/nivbartov/MRI_Brain_Alzheimer_Classification/blob/main/assets/icons/icons8-augmentation-64.png?raw=1\" style=\"width: 40px; height: 40px; margin-right: 5px;\">\n",
        "    Data Augmentations\n",
        "</h1>"
      ]
    },
    {
      "cell_type": "code",
      "execution_count": 11,
      "metadata": {
        "id": "4F_MUSBBEwao"
      },
      "outputs": [],
      "source": [
        "augmentations = K.AugmentationSequential(\n",
        "    K.RandomHorizontalFlip(p=0.1),\n",
        "    K.RandomVerticalFlip(p=0.1),\n",
        "    K.RandomRotation(degrees=10, p=0.1),\n",
        "    K.RandomAffine(degrees=5, translate=(0.05, 0.05), scale=(0.95, 1.05), p=0.1),\n",
        "    K.RandomBrightness(brightness=(0.8, 1.2), p=0.1),\n",
        "    K.RandomContrast(contrast=(0.8, 1.2), p=0.1),\n",
        "    K.RandomGamma(gamma=(0.9, 1.1), p=0.1),\n",
        "    K.RandomSharpness(p=0.1),\n",
        "    same_on_batch=False\n",
        ")"
      ]
    },
    {
      "cell_type": "markdown",
      "metadata": {
        "id": "gfXa0erP-LDh"
      },
      "source": [
        "<h1 style=\"display: flex; align-items: center; font-size: 25px; margin: 0;\">\n",
        "    <img src=\"https://github.com/nivbartov/MRI_Brain_Alzheimer_Classification/blob/main/assets/icons/icons8-loader-80.png?raw=1\" style=\"width: 40px; height: 40px; margin-right: 5px;\">\n",
        "    Create Data Loaders\n",
        "</h1>\n"
      ]
    },
    {
      "cell_type": "code",
      "execution_count": 12,
      "metadata": {
        "id": "osh9hV7S-LDh"
      },
      "outputs": [],
      "source": [
        "# Data loading and shuffling\n",
        "trainloader = torch.utils.data.DataLoader(train_set, batch_size=batch_size, shuffle=True, num_workers=4, pin_memory=True)\n",
        "validationloader = torch.utils.data.DataLoader(validation_set, batch_size=batch_size, shuffle=True, num_workers=4, pin_memory=True)\n",
        "testloader = torch.utils.data.DataLoader(test_set, batch_size=batch_size, shuffle=False, num_workers=4, pin_memory=True)"
      ]
    },
    {
      "cell_type": "markdown",
      "metadata": {
        "id": "0NMxcWt8WBVl"
      },
      "source": [
        "<h1 style=\"display: flex; align-items: center; font-size: 25px; margin: 0;\">\n",
        "    <img src=\"https://github.com/nivbartov/MRI_Brain_Alzheimer_Classification/blob/main/assets/icons/icons8-training-100.png?raw=1\" style=\"width: 50px; height: 50px; margin-right: 5px;\">\n",
        "    Train Model\n",
        "</h1>"
      ]
    },
    {
      "cell_type": "code",
      "execution_count": 13,
      "metadata": {
        "colab": {
          "base_uri": "https://localhost:8080/"
        },
        "id": "RFzmKpCGODd8",
        "outputId": "4ba4d1b4-13ca-4f75-8380-4fb1a662a84a"
      },
      "outputs": [
        {
          "name": "stdout",
          "output_type": "stream",
          "text": [
            "Created training session directory: ./checkpoints/ResNet_094701_19102024\n",
            "Training model: ResNet on cuda:0\n"
          ]
        },
        {
          "name": "stderr",
          "output_type": "stream",
          "text": [
            "Training: 100%|██████████| 256/256 [00:50<00:00,  5.05it/s]\n",
            "Validation: 100%|██████████| 64/64 [00:09<00:00,  7.03it/s]\n"
          ]
        },
        {
          "name": "stdout",
          "output_type": "stream",
          "text": [
            "Epoch: 1 | Training Loss: 0.5265 | Training Accuracy: 82.959% | Validation Loss: 0.4824 | Validation Accuracy: 80.957% | Epoch Time: 85.71 secs\n"
          ]
        },
        {
          "name": "stderr",
          "output_type": "stream",
          "text": [
            "Training: 100%|██████████| 256/256 [00:47<00:00,  5.35it/s]\n",
            "Validation: 100%|██████████| 64/64 [00:10<00:00,  6.34it/s]\n"
          ]
        },
        {
          "name": "stdout",
          "output_type": "stream",
          "text": [
            "Epoch: 2 | Training Loss: 0.3286 | Training Accuracy: 80.713% | Validation Loss: 0.7110 | Validation Accuracy: 74.561% | Epoch Time: 81.82 secs\n"
          ]
        },
        {
          "name": "stderr",
          "output_type": "stream",
          "text": [
            "Training: 100%|██████████| 256/256 [00:47<00:00,  5.34it/s]\n",
            "Validation: 100%|██████████| 64/64 [00:10<00:00,  6.15it/s]\n"
          ]
        },
        {
          "name": "stdout",
          "output_type": "stream",
          "text": [
            "Epoch: 3 | Training Loss: 0.2364 | Training Accuracy: 94.067% | Validation Loss: 0.3430 | Validation Accuracy: 89.795% | Epoch Time: 81.99 secs\n"
          ]
        },
        {
          "name": "stderr",
          "output_type": "stream",
          "text": [
            "Training: 100%|██████████| 256/256 [00:48<00:00,  5.25it/s]\n",
            "Validation: 100%|██████████| 64/64 [00:10<00:00,  6.05it/s]\n"
          ]
        },
        {
          "name": "stdout",
          "output_type": "stream",
          "text": [
            "Epoch: 4 | Training Loss: 0.1817 | Training Accuracy: 92.554% | Validation Loss: 0.4341 | Validation Accuracy: 88.184% | Epoch Time: 83.96 secs\n"
          ]
        },
        {
          "name": "stderr",
          "output_type": "stream",
          "text": [
            "Training: 100%|██████████| 256/256 [00:50<00:00,  5.12it/s]\n",
            "Validation: 100%|██████████| 64/64 [00:08<00:00,  7.29it/s]\n"
          ]
        },
        {
          "name": "stdout",
          "output_type": "stream",
          "text": [
            "Epoch: 5 | Training Loss: 0.1630 | Training Accuracy: 98.987% | Validation Loss: 0.2032 | Validation Accuracy: 95.752% | Epoch Time: 85.21 secs\n",
            "==> Saving model ...\n",
            "Saved as ./checkpoints/ResNet_094701_19102024/ResNet_095359_19102024_train_0.1630_val_0.2032.pth\n"
          ]
        },
        {
          "name": "stderr",
          "output_type": "stream",
          "text": [
            "Training: 100%|██████████| 256/256 [00:48<00:00,  5.25it/s]\n",
            "Validation: 100%|██████████| 64/64 [00:10<00:00,  6.03it/s]\n"
          ]
        },
        {
          "name": "stdout",
          "output_type": "stream",
          "text": [
            "Epoch: 6 | Training Loss: 0.1421 | Training Accuracy: 99.512% | Validation Loss: 0.1733 | Validation Accuracy: 97.217% | Epoch Time: 83.08 secs\n"
          ]
        },
        {
          "name": "stderr",
          "output_type": "stream",
          "text": [
            "Training: 100%|██████████| 256/256 [00:48<00:00,  5.27it/s]\n",
            "Validation: 100%|██████████| 64/64 [00:08<00:00,  7.47it/s]\n"
          ]
        },
        {
          "name": "stdout",
          "output_type": "stream",
          "text": [
            "Epoch: 7 | Training Loss: 0.1190 | Training Accuracy: 99.377% | Validation Loss: 0.1475 | Validation Accuracy: 96.338% | Epoch Time: 83.79 secs\n"
          ]
        },
        {
          "name": "stderr",
          "output_type": "stream",
          "text": [
            "Training: 100%|██████████| 256/256 [00:48<00:00,  5.28it/s]\n",
            "Validation: 100%|██████████| 64/64 [00:09<00:00,  6.99it/s]\n"
          ]
        },
        {
          "name": "stdout",
          "output_type": "stream",
          "text": [
            "Epoch: 8 | Training Loss: 0.1037 | Training Accuracy: 99.695% | Validation Loss: 0.1315 | Validation Accuracy: 97.754% | Epoch Time: 82.52 secs\n"
          ]
        },
        {
          "name": "stderr",
          "output_type": "stream",
          "text": [
            "Training: 100%|██████████| 256/256 [00:48<00:00,  5.26it/s]\n",
            "Validation: 100%|██████████| 64/64 [00:10<00:00,  6.21it/s]\n"
          ]
        },
        {
          "name": "stdout",
          "output_type": "stream",
          "text": [
            "Epoch: 9 | Training Loss: 0.0932 | Training Accuracy: 98.596% | Validation Loss: 0.2216 | Validation Accuracy: 94.971% | Epoch Time: 82.21 secs\n"
          ]
        },
        {
          "name": "stderr",
          "output_type": "stream",
          "text": [
            "Training: 100%|██████████| 256/256 [00:48<00:00,  5.29it/s]\n",
            "Validation: 100%|██████████| 64/64 [00:10<00:00,  5.86it/s]\n"
          ]
        },
        {
          "name": "stdout",
          "output_type": "stream",
          "text": [
            "Epoch: 10 | Training Loss: 0.0831 | Training Accuracy: 97.388% | Validation Loss: 0.2461 | Validation Accuracy: 94.287% | Epoch Time: 83.24 secs\n",
            "==> Saving model ...\n",
            "Saved as ./checkpoints/ResNet_094701_19102024/ResNet_100100_19102024_train_0.0831_val_0.2461.pth\n"
          ]
        },
        {
          "name": "stderr",
          "output_type": "stream",
          "text": [
            "Training: 100%|██████████| 256/256 [00:48<00:00,  5.25it/s]\n",
            "Validation: 100%|██████████| 64/64 [00:10<00:00,  6.08it/s]\n"
          ]
        },
        {
          "name": "stdout",
          "output_type": "stream",
          "text": [
            "Epoch: 11 | Training Loss: 0.0762 | Training Accuracy: 99.792% | Validation Loss: 0.1342 | Validation Accuracy: 97.266% | Epoch Time: 83.29 secs\n"
          ]
        },
        {
          "name": "stderr",
          "output_type": "stream",
          "text": [
            "Training: 100%|██████████| 256/256 [00:48<00:00,  5.25it/s]\n",
            "Validation: 100%|██████████| 64/64 [00:08<00:00,  7.57it/s]\n"
          ]
        },
        {
          "name": "stdout",
          "output_type": "stream",
          "text": [
            "Epoch: 12 | Training Loss: 0.0721 | Training Accuracy: 99.939% | Validation Loss: 0.1317 | Validation Accuracy: 97.852% | Epoch Time: 83.51 secs\n"
          ]
        },
        {
          "name": "stderr",
          "output_type": "stream",
          "text": [
            "Training: 100%|██████████| 256/256 [00:48<00:00,  5.33it/s]\n",
            "Validation: 100%|██████████| 64/64 [00:08<00:00,  7.49it/s]\n"
          ]
        },
        {
          "name": "stdout",
          "output_type": "stream",
          "text": [
            "Epoch: 13 | Training Loss: 0.0573 | Training Accuracy: 99.756% | Validation Loss: 0.1313 | Validation Accuracy: 97.754% | Epoch Time: 81.73 secs\n"
          ]
        },
        {
          "name": "stderr",
          "output_type": "stream",
          "text": [
            "Training: 100%|██████████| 256/256 [00:48<00:00,  5.32it/s]\n",
            "Validation: 100%|██████████| 64/64 [00:09<00:00,  6.89it/s]\n"
          ]
        },
        {
          "name": "stdout",
          "output_type": "stream",
          "text": [
            "Epoch: 14 | Training Loss: 0.0487 | Training Accuracy: 99.805% | Validation Loss: 0.1544 | Validation Accuracy: 97.754% | Epoch Time: 80.61 secs\n"
          ]
        },
        {
          "name": "stderr",
          "output_type": "stream",
          "text": [
            "Training: 100%|██████████| 256/256 [00:47<00:00,  5.38it/s]\n",
            "Validation: 100%|██████████| 64/64 [00:09<00:00,  6.50it/s]\n"
          ]
        },
        {
          "name": "stdout",
          "output_type": "stream",
          "text": [
            "Epoch: 15 | Training Loss: 0.0427 | Training Accuracy: 99.951% | Validation Loss: 0.0995 | Validation Accuracy: 97.949% | Epoch Time: 80.12 secs\n",
            "==> Saving model ...\n",
            "Saved as ./checkpoints/ResNet_094701_19102024/ResNet_100750_19102024_train_0.0427_val_0.0995.pth\n"
          ]
        },
        {
          "name": "stderr",
          "output_type": "stream",
          "text": [
            "Training: 100%|██████████| 256/256 [00:47<00:00,  5.35it/s]\n",
            "Validation: 100%|██████████| 64/64 [00:11<00:00,  5.81it/s]\n"
          ]
        },
        {
          "name": "stdout",
          "output_type": "stream",
          "text": [
            "Epoch: 16 | Training Loss: 0.0392 | Training Accuracy: 99.988% | Validation Loss: 0.0999 | Validation Accuracy: 97.998% | Epoch Time: 82.18 secs\n"
          ]
        },
        {
          "name": "stderr",
          "output_type": "stream",
          "text": [
            "Training: 100%|██████████| 256/256 [00:48<00:00,  5.29it/s]\n",
            "Validation: 100%|██████████| 64/64 [00:10<00:00,  6.05it/s]\n"
          ]
        },
        {
          "name": "stdout",
          "output_type": "stream",
          "text": [
            "Epoch: 17 | Training Loss: 0.0401 | Training Accuracy: 99.915% | Validation Loss: 0.1318 | Validation Accuracy: 97.559% | Epoch Time: 82.16 secs\n"
          ]
        },
        {
          "name": "stderr",
          "output_type": "stream",
          "text": [
            "Training: 100%|██████████| 256/256 [00:48<00:00,  5.29it/s]\n",
            "Validation: 100%|██████████| 64/64 [00:10<00:00,  6.07it/s]\n"
          ]
        },
        {
          "name": "stdout",
          "output_type": "stream",
          "text": [
            "Epoch: 18 | Training Loss: 0.0344 | Training Accuracy: 100.000% | Validation Loss: 0.0847 | Validation Accuracy: 98.535% | Epoch Time: 82.30 secs\n"
          ]
        },
        {
          "name": "stderr",
          "output_type": "stream",
          "text": [
            "Training: 100%|██████████| 256/256 [00:48<00:00,  5.32it/s]\n",
            "Validation: 100%|██████████| 64/64 [00:09<00:00,  6.41it/s]\n"
          ]
        },
        {
          "name": "stdout",
          "output_type": "stream",
          "text": [
            "Epoch: 19 | Training Loss: 0.0306 | Training Accuracy: 100.000% | Validation Loss: 0.0697 | Validation Accuracy: 99.072% | Epoch Time: 82.44 secs\n"
          ]
        },
        {
          "name": "stderr",
          "output_type": "stream",
          "text": [
            "Training: 100%|██████████| 256/256 [00:48<00:00,  5.29it/s]\n",
            "Validation: 100%|██████████| 64/64 [00:08<00:00,  7.43it/s]\n"
          ]
        },
        {
          "name": "stdout",
          "output_type": "stream",
          "text": [
            "Epoch: 20 | Training Loss: 0.0236 | Training Accuracy: 100.000% | Validation Loss: 0.0680 | Validation Accuracy: 99.170% | Epoch Time: 83.17 secs\n",
            "==> Saving model ...\n",
            "Saved as ./checkpoints/ResNet_094701_19102024/ResNet_101443_19102024_train_0.0236_val_0.0680.pth\n"
          ]
        },
        {
          "name": "stderr",
          "output_type": "stream",
          "text": [
            "Training: 100%|██████████| 256/256 [00:46<00:00,  5.45it/s]\n",
            "Validation: 100%|██████████| 64/64 [00:09<00:00,  7.11it/s]\n"
          ]
        },
        {
          "name": "stdout",
          "output_type": "stream",
          "text": [
            "Epoch: 21 | Training Loss: 0.0244 | Training Accuracy: 100.000% | Validation Loss: 0.0512 | Validation Accuracy: 99.268% | Epoch Time: 79.65 secs\n"
          ]
        },
        {
          "name": "stderr",
          "output_type": "stream",
          "text": [
            "Training: 100%|██████████| 256/256 [00:47<00:00,  5.38it/s]\n",
            "Validation: 100%|██████████| 64/64 [00:10<00:00,  5.91it/s]\n"
          ]
        },
        {
          "name": "stdout",
          "output_type": "stream",
          "text": [
            "Epoch: 22 | Training Loss: 0.0194 | Training Accuracy: 100.000% | Validation Loss: 0.0635 | Validation Accuracy: 99.121% | Epoch Time: 81.65 secs\n"
          ]
        },
        {
          "name": "stderr",
          "output_type": "stream",
          "text": [
            "Training: 100%|██████████| 256/256 [00:48<00:00,  5.25it/s]\n",
            "Validation: 100%|██████████| 64/64 [00:10<00:00,  5.85it/s]\n"
          ]
        },
        {
          "name": "stdout",
          "output_type": "stream",
          "text": [
            "Epoch: 23 | Training Loss: 0.0145 | Training Accuracy: 100.000% | Validation Loss: 0.0492 | Validation Accuracy: 99.268% | Epoch Time: 83.06 secs\n"
          ]
        },
        {
          "name": "stderr",
          "output_type": "stream",
          "text": [
            "Training: 100%|██████████| 256/256 [00:47<00:00,  5.34it/s]\n",
            "Validation: 100%|██████████| 64/64 [00:09<00:00,  6.53it/s]\n"
          ]
        },
        {
          "name": "stdout",
          "output_type": "stream",
          "text": [
            "Epoch: 24 | Training Loss: 0.0154 | Training Accuracy: 100.000% | Validation Loss: 0.0663 | Validation Accuracy: 99.219% | Epoch Time: 81.21 secs\n"
          ]
        },
        {
          "name": "stderr",
          "output_type": "stream",
          "text": [
            "Training: 100%|██████████| 256/256 [00:48<00:00,  5.32it/s]\n",
            "Validation: 100%|██████████| 64/64 [00:08<00:00,  7.42it/s]\n"
          ]
        },
        {
          "name": "stdout",
          "output_type": "stream",
          "text": [
            "Epoch: 25 | Training Loss: 0.0157 | Training Accuracy: 100.000% | Validation Loss: 0.0490 | Validation Accuracy: 99.268% | Epoch Time: 82.94 secs\n",
            "==> Saving model ...\n",
            "Saved as ./checkpoints/ResNet_094701_19102024/ResNet_102132_19102024_train_0.0157_val_0.0490.pth\n"
          ]
        },
        {
          "name": "stderr",
          "output_type": "stream",
          "text": [
            "Training: 100%|██████████| 256/256 [00:48<00:00,  5.28it/s]\n",
            "Validation: 100%|██████████| 64/64 [00:10<00:00,  5.93it/s]\n"
          ]
        },
        {
          "name": "stdout",
          "output_type": "stream",
          "text": [
            "Epoch: 26 | Training Loss: 0.0130 | Training Accuracy: 100.000% | Validation Loss: 0.0519 | Validation Accuracy: 99.170% | Epoch Time: 82.53 secs\n"
          ]
        },
        {
          "name": "stderr",
          "output_type": "stream",
          "text": [
            "Training: 100%|██████████| 256/256 [00:47<00:00,  5.37it/s]\n",
            "Validation: 100%|██████████| 64/64 [00:09<00:00,  6.62it/s]\n"
          ]
        },
        {
          "name": "stdout",
          "output_type": "stream",
          "text": [
            "Epoch: 27 | Training Loss: 0.0102 | Training Accuracy: 100.000% | Validation Loss: 0.0514 | Validation Accuracy: 99.121% | Epoch Time: 81.50 secs\n"
          ]
        },
        {
          "name": "stderr",
          "output_type": "stream",
          "text": [
            "Training: 100%|██████████| 256/256 [00:48<00:00,  5.24it/s]\n",
            "Validation: 100%|██████████| 64/64 [00:08<00:00,  7.32it/s]\n"
          ]
        },
        {
          "name": "stdout",
          "output_type": "stream",
          "text": [
            "Epoch: 28 | Training Loss: 0.0112 | Training Accuracy: 100.000% | Validation Loss: 0.0505 | Validation Accuracy: 99.268% | Epoch Time: 84.26 secs\n"
          ]
        },
        {
          "name": "stderr",
          "output_type": "stream",
          "text": [
            "Training: 100%|██████████| 256/256 [00:49<00:00,  5.19it/s]\n",
            "Validation: 100%|██████████| 64/64 [00:10<00:00,  6.36it/s]\n"
          ]
        },
        {
          "name": "stdout",
          "output_type": "stream",
          "text": [
            "Epoch: 29 | Training Loss: 0.0104 | Training Accuracy: 100.000% | Validation Loss: 0.0509 | Validation Accuracy: 99.268% | Epoch Time: 83.09 secs\n"
          ]
        },
        {
          "name": "stderr",
          "output_type": "stream",
          "text": [
            "Training: 100%|██████████| 256/256 [00:47<00:00,  5.38it/s]\n",
            "Validation: 100%|██████████| 64/64 [00:10<00:00,  6.28it/s]\n"
          ]
        },
        {
          "name": "stdout",
          "output_type": "stream",
          "text": [
            "Epoch: 30 | Training Loss: 0.0098 | Training Accuracy: 100.000% | Validation Loss: 0.0427 | Validation Accuracy: 99.268% | Epoch Time: 82.15 secs\n",
            "==> Saving model ...\n",
            "Saved as ./checkpoints/ResNet_094701_19102024/ResNet_102831_19102024_train_0.0098_val_0.0427.pth\n"
          ]
        }
      ],
      "source": [
        "load_existing_params = False\n",
        "train_loaded_model = False\n",
        "\n",
        "if load_existing_params:\n",
        "    model_path = './checkpoints/DINOv2_015151_06102024/DINOv2_042140_06102024_train_0.0226_val_0.1180.pth'\n",
        "    checkpoint = torch.load(model_path, weights_only=True)\n",
        "    model.load_state_dict(checkpoint['net'])\n",
        "    if (train_loaded_model):\n",
        "        epoch_train_losses, epoch_validation_losses, epoch_train_accuracies, epoch_validation_accuracies = utils_funcs.train_model(model, num_epochs, trainloader, validationloader, device, criterion, optimizer, scheduler, augmentations, use_amp=True)\n",
        "    else:\n",
        "        # Load the saved values from the checkpoint\n",
        "        epoch_train_losses = checkpoint['train_epoch_losses']\n",
        "        epoch_validation_losses = checkpoint['validation_epoch_losses']\n",
        "        epoch_train_accuracies = checkpoint['train_epoch_accuracies']\n",
        "        epoch_validation_accuracies = checkpoint['validation_epoch_accuracies']\n",
        "        num_epochs = checkpoint['epoch']\n",
        "else:\n",
        "    epoch_train_losses, epoch_validation_losses, epoch_train_accuracies, epoch_validation_accuracies = utils_funcs.train_model(model, num_epochs, trainloader, validationloader, device, criterion, optimizer, scheduler, augmentations, use_amp=True)"
      ]
    },
    {
      "cell_type": "markdown",
      "metadata": {
        "id": "EbJ0dBbeVkzF"
      },
      "source": [
        "<h1 style=\"display: flex; align-items: center; font-size: 25px; margin: 0;\">\n",
        "    <img src=\"https://github.com/nivbartov/MRI_Brain_Alzheimer_Classification/blob/main/assets/icons/icons8-results-58.png?raw=1\" style=\"width: 50px; height: 50px; margin-right: 5px;\">\n",
        "    Results\n",
        "</h1>"
      ]
    },
    {
      "cell_type": "code",
      "execution_count": 14,
      "metadata": {
        "colab": {
          "base_uri": "https://localhost:8080/"
        },
        "id": "bWniJm-0VgEz",
        "outputId": "fb1470a9-a1b7-4531-e09b-64801fb131b5"
      },
      "outputs": [
        {
          "name": "stdout",
          "output_type": "stream",
          "text": [
            "Test accuracy: 98.593%\n"
          ]
        }
      ],
      "source": [
        "test_accuracy = utils_funcs.calculate_accuracy(model, testloader, device)\n",
        "print(\"Test accuracy: {:.3f}%\".format(test_accuracy))"
      ]
    },
    {
      "cell_type": "code",
      "execution_count": 15,
      "metadata": {
        "colab": {
          "base_uri": "https://localhost:8080/",
          "height": 504
        },
        "id": "7VSHJRpx-LDj",
        "outputId": "2ac439ef-f64e-47d8-a78f-3f514ab217fd"
      },
      "outputs": [
        {
          "data": {
            "text/plain": [
              "<Figure size 800x600 with 0 Axes>"
            ]
          },
          "metadata": {},
          "output_type": "display_data"
        },
        {
          "data": {
            "image/png": "[encoded data removed]",
            "text/plain": [
              "<Figure size 640x480 with 2 Axes>"
            ]
          },
          "metadata": {},
          "output_type": "display_data"
        }
      ],
      "source": [
        "class_names = ['VeryMildDemented', 'NonDemented', 'ModerateDemented', 'MildDemented']\n",
        "utils_funcs.plot_normalized_confusion_matrix(testloader, model, class_names, device, model_name)"
      ]
    },
    {
      "cell_type": "code",
      "execution_count": 16,
      "metadata": {
        "colab": {
          "base_uri": "https://localhost:8080/",
          "height": 507
        },
        "id": "g7O4VexWVcyQ",
        "outputId": "43eb5058-9ec4-4137-c73b-a160d8b31d90"
      },
      "outputs": [
        {
          "data": {
            "image/png": "[encoded data removed]",
            "text/plain": [
              "<Figure size 500x500 with 1 Axes>"
            ]
          },
          "metadata": {},
          "output_type": "display_data"
        }
      ],
      "source": [
        "utils_funcs.plot_loss_curve(epoch_train_losses, epoch_validation_losses, num_epochs, model_name)"
      ]
    },
    {
      "cell_type": "code",
      "execution_count": 17,
      "metadata": {
        "colab": {
          "base_uri": "https://localhost:8080/",
          "height": 507
        },
        "id": "8VTVbj1wCY7A",
        "outputId": "2fc57c05-fb66-476a-bc1a-c8b835c82970"
      },
      "outputs": [
        {
          "data": {
            "image/png": "[encoded data removed]",
            "text/plain": [
              "<Figure size 500x500 with 1 Axes>"
            ]
          },
          "metadata": {},
          "output_type": "display_data"
        }
      ],
      "source": [
        "utils_funcs.plot_accuracy_curve(epoch_train_accuracies, epoch_validation_accuracies, num_epochs, model_name)"
      ]
    }
  ],
  "metadata": {
    "accelerator": "GPU",
    "colab": {
      "gpuType": "T4",
      "provenance": []
    },
    "kernelspec": {
      "display_name": "dino_deep_learn_cuda124",
      "language": "python",
      "name": "python3"
    },
    "language_info": {
      "codemirror_mode": {
        "name": "ipython",
        "version": 3
      },
      "file_extension": ".py",
      "mimetype": "text/x-python",
      "name": "python",
      "nbconvert_exporter": "python",
      "pygments_lexer": "ipython3",
      "version": "3.10.14"
    }
  },
  "nbformat": 4,
  "nbformat_minor": 0
}
