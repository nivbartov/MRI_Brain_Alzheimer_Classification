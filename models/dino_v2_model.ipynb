{
  "cells": [
    {
      "cell_type": "markdown",
      "metadata": {
        "id": "CSXDJcczMrB6"
      },
      "source": [
        "<h1 style=\"display: flex; align-items: center;\">\n",
        "    <img src=\"../assets/icons/icons8-kawaii-dinosaur-48.png\" style=\"width: 50px; height: 50px; margin-right: 10px;\">\n",
        "    <strong>MRI Brain Alzheimer Classification - DINOv2 Model</strong>\n",
        "</h1>"
      ]
    },
    {
      "cell_type": "markdown",
      "metadata": {
        "id": "mEWgxGwpIvtv"
      },
      "source": [
        "**Clone Dataset from GitHub**"
      ]
    },
    {
      "cell_type": "code",
      "execution_count": 1,
      "metadata": {},
      "outputs": [
        {
          "name": "stdout",
          "output_type": "stream",
          "text": [
            "c:\\Dor\\TECHNION\\deep_learning\\Project\\MRI_Barin_Alzheimer_Classification\n"
          ]
        }
      ],
      "source": [
        "# Clone repository from GitHub\n",
        "# !git clone https://github.com/nivbartov/MRI_Brain_Alzheimer_Classification\n",
        "\n",
        "# %cd MRI_Brain_Alzheimer_Classification\n",
        "%cd .."
      ]
    },
    {
      "cell_type": "markdown",
      "metadata": {},
      "source": [
        "**Import Packages**"
      ]
    },
    {
      "cell_type": "code",
      "execution_count": 2,
      "metadata": {
        "id": "v_yU5PXHEX4x"
      },
      "outputs": [],
      "source": [
        "import warnings\n",
        "warnings.filterwarnings(\"ignore\", category=FutureWarning)\n",
        "warnings.filterwarnings(\"ignore\", category=UserWarning)\n",
        "import sys\n",
        "import os\n",
        "import numpy as np\n",
        "import pandas as pd\n",
        "import torch\n",
        "from torchsummary import summary\n",
        "import torch.nn as nn\n",
        "from torch.utils.data import TensorDataset, DataLoader, Subset, ConcatDataset\n",
        "import torchvision\n",
        "import torchvision.datasets as datasets\n",
        "import torchvision.transforms as transforms\n",
        "from kornia import augmentation as K\n",
        "from kornia.augmentation import AugmentationSequential\n",
        "from torch.optim.lr_scheduler import CosineAnnealingLR, StepLR\n",
        "import matplotlib.pyplot as plt\n",
        "%matplotlib inline\n",
        "from tqdm import tqdm\n",
        "import random\n",
        "import time\n",
        "from datetime import datetime\n",
        "import json\n",
        "import gc\n",
        "import subprocess"
      ]
    },
    {
      "cell_type": "markdown",
      "metadata": {
        "id": "vQJKfOGEJWan"
      },
      "source": [
        "**Import Internal Functions**"
      ]
    },
    {
      "cell_type": "code",
      "execution_count": 3,
      "metadata": {
        "id": "clhd-UgNJb27"
      },
      "outputs": [],
      "source": [
        "from models import def_models\n",
        "from utils import utils_funcs\n",
        "from utils import optuna_search"
      ]
    },
    {
      "cell_type": "markdown",
      "metadata": {
        "id": "3C9hi5C_-LDb"
      },
      "source": [
        "**Device Definition**"
      ]
    },
    {
      "cell_type": "code",
      "execution_count": 4,
      "metadata": {
        "id": "gULVrEpb-LDb"
      },
      "outputs": [
        {
          "name": "stdout",
          "output_type": "stream",
          "text": [
            "torch.cuda.is_available(): True\n",
            "device: cuda:0\n",
            "|===========================================================================|\n",
            "|                  PyTorch CUDA memory summary, device ID 0                 |\n",
            "|---------------------------------------------------------------------------|\n",
            "|            CUDA OOMs: 0            |        cudaMalloc retries: 0         |\n",
            "|===========================================================================|\n",
            "|        Metric         | Cur Usage  | Peak Usage | Tot Alloc  | Tot Freed  |\n",
            "|---------------------------------------------------------------------------|\n",
            "| Allocated memory      |      0 B   |      0 B   |      0 B   |      0 B   |\n",
            "|       from large pool |      0 B   |      0 B   |      0 B   |      0 B   |\n",
            "|       from small pool |      0 B   |      0 B   |      0 B   |      0 B   |\n",
            "|---------------------------------------------------------------------------|\n",
            "| Active memory         |      0 B   |      0 B   |      0 B   |      0 B   |\n",
            "|       from large pool |      0 B   |      0 B   |      0 B   |      0 B   |\n",
            "|       from small pool |      0 B   |      0 B   |      0 B   |      0 B   |\n",
            "|---------------------------------------------------------------------------|\n",
            "| Requested memory      |      0 B   |      0 B   |      0 B   |      0 B   |\n",
            "|       from large pool |      0 B   |      0 B   |      0 B   |      0 B   |\n",
            "|       from small pool |      0 B   |      0 B   |      0 B   |      0 B   |\n",
            "|---------------------------------------------------------------------------|\n",
            "| GPU reserved memory   |      0 B   |      0 B   |      0 B   |      0 B   |\n",
            "|       from large pool |      0 B   |      0 B   |      0 B   |      0 B   |\n",
            "|       from small pool |      0 B   |      0 B   |      0 B   |      0 B   |\n",
            "|---------------------------------------------------------------------------|\n",
            "| Non-releasable memory |      0 B   |      0 B   |      0 B   |      0 B   |\n",
            "|       from large pool |      0 B   |      0 B   |      0 B   |      0 B   |\n",
            "|       from small pool |      0 B   |      0 B   |      0 B   |      0 B   |\n",
            "|---------------------------------------------------------------------------|\n",
            "| Allocations           |       0    |       0    |       0    |       0    |\n",
            "|       from large pool |       0    |       0    |       0    |       0    |\n",
            "|       from small pool |       0    |       0    |       0    |       0    |\n",
            "|---------------------------------------------------------------------------|\n",
            "| Active allocs         |       0    |       0    |       0    |       0    |\n",
            "|       from large pool |       0    |       0    |       0    |       0    |\n",
            "|       from small pool |       0    |       0    |       0    |       0    |\n",
            "|---------------------------------------------------------------------------|\n",
            "| GPU reserved segments |       0    |       0    |       0    |       0    |\n",
            "|       from large pool |       0    |       0    |       0    |       0    |\n",
            "|       from small pool |       0    |       0    |       0    |       0    |\n",
            "|---------------------------------------------------------------------------|\n",
            "| Non-releasable allocs |       0    |       0    |       0    |       0    |\n",
            "|       from large pool |       0    |       0    |       0    |       0    |\n",
            "|       from small pool |       0    |       0    |       0    |       0    |\n",
            "|---------------------------------------------------------------------------|\n",
            "| Oversize allocations  |       0    |       0    |       0    |       0    |\n",
            "|---------------------------------------------------------------------------|\n",
            "| Oversize GPU segments |       0    |       0    |       0    |       0    |\n",
            "|===========================================================================|\n",
            "\n"
          ]
        }
      ],
      "source": [
        "print(f'torch.cuda.is_available(): {torch.cuda.is_available()}')\n",
        "device = torch.device(\"cuda:0\" if torch.cuda.is_available() else \"cpu\")\n",
        "print(f'device: {device}')\n",
        "torch.cuda.empty_cache()\n",
        "gc.collect()\n",
        "print(torch.cuda.memory_summary())\n",
        "utils_funcs.open_nvitop()"
      ]
    },
    {
      "cell_type": "markdown",
      "metadata": {
        "id": "eCYl_TtCNRRy"
      },
      "source": [
        "**Model Definition and Initialization**"
      ]
    },
    {
      "cell_type": "code",
      "execution_count": 5,
      "metadata": {
        "id": "h0rr3nWPNoN8"
      },
      "outputs": [
        {
          "name": "stderr",
          "output_type": "stream",
          "text": [
            "Using cache found in C:\\Users\\97252/.cache\\torch\\hub\\facebookresearch_dinov2_main\n"
          ]
        }
      ],
      "source": [
        "# Initialize input and output sizes\n",
        "input_width = 224\n",
        "input_height = 224\n",
        "input_channels = 3\n",
        "output_channels = 4\n",
        "\n",
        "dino_v2_model = torch.hub.load('facebookresearch/dinov2', 'dinov2_vits14')\n",
        "\n",
        "# Freeze DINOv2 layers\n",
        "for param in dino_v2_model.parameters():\n",
        "    param.requires_grad = False\n",
        "\n",
        "# Create DINOv2 model with FC layers before the output\n",
        "model = def_models.DINO_v2_FT(dino_backbone=dino_v2_model, output_channels=output_channels).to(device)"
      ]
    },
    {
      "cell_type": "markdown",
      "metadata": {},
      "source": [
        "**Load Dataset**"
      ]
    },
    {
      "cell_type": "code",
      "execution_count": 6,
      "metadata": {},
      "outputs": [],
      "source": [
        "# Load the dataset\n",
        "train_set = torch.load('./dataset/dataset_variables/train_set.pt')\n",
        "validation_set = torch.load('dataset/dataset_variables/validation_set.pt')\n",
        "test_set = torch.load('./dataset/dataset_variables/test_set.pt')"
      ]
    },
    {
      "cell_type": "markdown",
      "metadata": {
        "id": "3vkYHTm--LDe"
      },
      "source": [
        "**Model Statistics**"
      ]
    },
    {
      "cell_type": "code",
      "execution_count": 7,
      "metadata": {
        "id": "EeoGhA5A-LDe"
      },
      "outputs": [
        {
          "name": "stdout",
          "output_type": "stream",
          "text": [
            "Model DINO_v2_FT statistics:\n",
            "----------------------------------------------------------------\n",
            "        Layer (type)               Output Shape         Param #\n",
            "================================================================\n",
            "            Conv2d-1          [-1, 384, 16, 16]         226,176\n",
            "          Identity-2             [-1, 256, 384]               0\n",
            "        PatchEmbed-3             [-1, 256, 384]               0\n",
            "         LayerNorm-4             [-1, 257, 384]             768\n",
            "            Linear-5            [-1, 257, 1152]         443,520\n",
            "            Linear-6             [-1, 257, 384]         147,840\n",
            "           Dropout-7             [-1, 257, 384]               0\n",
            "   MemEffAttention-8             [-1, 257, 384]               0\n",
            "        LayerScale-9             [-1, 257, 384]               0\n",
            "        LayerNorm-10             [-1, 257, 384]             768\n",
            "           Linear-11            [-1, 257, 1536]         591,360\n",
            "             GELU-12            [-1, 257, 1536]               0\n",
            "          Dropout-13            [-1, 257, 1536]               0\n",
            "           Linear-14             [-1, 257, 384]         590,208\n",
            "          Dropout-15             [-1, 257, 384]               0\n",
            "              Mlp-16             [-1, 257, 384]               0\n",
            "       LayerScale-17             [-1, 257, 384]               0\n",
            "NestedTensorBlock-18             [-1, 257, 384]               0\n",
            "        LayerNorm-19             [-1, 257, 384]             768\n",
            "           Linear-20            [-1, 257, 1152]         443,520\n",
            "           Linear-21             [-1, 257, 384]         147,840\n",
            "          Dropout-22             [-1, 257, 384]               0\n",
            "  MemEffAttention-23             [-1, 257, 384]               0\n",
            "       LayerScale-24             [-1, 257, 384]               0\n",
            "        LayerNorm-25             [-1, 257, 384]             768\n",
            "           Linear-26            [-1, 257, 1536]         591,360\n",
            "             GELU-27            [-1, 257, 1536]               0\n",
            "          Dropout-28            [-1, 257, 1536]               0\n",
            "           Linear-29             [-1, 257, 384]         590,208\n",
            "          Dropout-30             [-1, 257, 384]               0\n",
            "              Mlp-31             [-1, 257, 384]               0\n",
            "       LayerScale-32             [-1, 257, 384]               0\n",
            "NestedTensorBlock-33             [-1, 257, 384]               0\n",
            "        LayerNorm-34             [-1, 257, 384]             768\n",
            "           Linear-35            [-1, 257, 1152]         443,520\n",
            "           Linear-36             [-1, 257, 384]         147,840\n",
            "          Dropout-37             [-1, 257, 384]               0\n",
            "  MemEffAttention-38             [-1, 257, 384]               0\n",
            "       LayerScale-39             [-1, 257, 384]               0\n",
            "        LayerNorm-40             [-1, 257, 384]             768\n",
            "           Linear-41            [-1, 257, 1536]         591,360\n",
            "             GELU-42            [-1, 257, 1536]               0\n",
            "          Dropout-43            [-1, 257, 1536]               0\n",
            "           Linear-44             [-1, 257, 384]         590,208\n",
            "          Dropout-45             [-1, 257, 384]               0\n",
            "              Mlp-46             [-1, 257, 384]               0\n",
            "       LayerScale-47             [-1, 257, 384]               0\n",
            "NestedTensorBlock-48             [-1, 257, 384]               0\n",
            "        LayerNorm-49             [-1, 257, 384]             768\n",
            "           Linear-50            [-1, 257, 1152]         443,520\n",
            "           Linear-51             [-1, 257, 384]         147,840\n",
            "          Dropout-52             [-1, 257, 384]               0\n",
            "  MemEffAttention-53             [-1, 257, 384]               0\n",
            "       LayerScale-54             [-1, 257, 384]               0\n",
            "        LayerNorm-55             [-1, 257, 384]             768\n",
            "           Linear-56            [-1, 257, 1536]         591,360\n",
            "             GELU-57            [-1, 257, 1536]               0\n",
            "          Dropout-58            [-1, 257, 1536]               0\n",
            "           Linear-59             [-1, 257, 384]         590,208\n",
            "          Dropout-60             [-1, 257, 384]               0\n",
            "              Mlp-61             [-1, 257, 384]               0\n",
            "       LayerScale-62             [-1, 257, 384]               0\n",
            "NestedTensorBlock-63             [-1, 257, 384]               0\n",
            "        LayerNorm-64             [-1, 257, 384]             768\n",
            "           Linear-65            [-1, 257, 1152]         443,520\n",
            "           Linear-66             [-1, 257, 384]         147,840\n",
            "          Dropout-67             [-1, 257, 384]               0\n",
            "  MemEffAttention-68             [-1, 257, 384]               0\n",
            "       LayerScale-69             [-1, 257, 384]               0\n",
            "        LayerNorm-70             [-1, 257, 384]             768\n",
            "           Linear-71            [-1, 257, 1536]         591,360\n",
            "             GELU-72            [-1, 257, 1536]               0\n",
            "          Dropout-73            [-1, 257, 1536]               0\n",
            "           Linear-74             [-1, 257, 384]         590,208\n",
            "          Dropout-75             [-1, 257, 384]               0\n",
            "              Mlp-76             [-1, 257, 384]               0\n",
            "       LayerScale-77             [-1, 257, 384]               0\n",
            "NestedTensorBlock-78             [-1, 257, 384]               0\n",
            "        LayerNorm-79             [-1, 257, 384]             768\n",
            "           Linear-80            [-1, 257, 1152]         443,520\n",
            "           Linear-81             [-1, 257, 384]         147,840\n",
            "          Dropout-82             [-1, 257, 384]               0\n",
            "  MemEffAttention-83             [-1, 257, 384]               0\n",
            "       LayerScale-84             [-1, 257, 384]               0\n",
            "        LayerNorm-85             [-1, 257, 384]             768\n",
            "           Linear-86            [-1, 257, 1536]         591,360\n",
            "             GELU-87            [-1, 257, 1536]               0\n",
            "          Dropout-88            [-1, 257, 1536]               0\n",
            "           Linear-89             [-1, 257, 384]         590,208\n",
            "          Dropout-90             [-1, 257, 384]               0\n",
            "              Mlp-91             [-1, 257, 384]               0\n",
            "       LayerScale-92             [-1, 257, 384]               0\n",
            "NestedTensorBlock-93             [-1, 257, 384]               0\n",
            "        LayerNorm-94             [-1, 257, 384]             768\n",
            "           Linear-95            [-1, 257, 1152]         443,520\n",
            "           Linear-96             [-1, 257, 384]         147,840\n",
            "          Dropout-97             [-1, 257, 384]               0\n",
            "  MemEffAttention-98             [-1, 257, 384]               0\n",
            "       LayerScale-99             [-1, 257, 384]               0\n",
            "       LayerNorm-100             [-1, 257, 384]             768\n",
            "          Linear-101            [-1, 257, 1536]         591,360\n",
            "            GELU-102            [-1, 257, 1536]               0\n",
            "         Dropout-103            [-1, 257, 1536]               0\n",
            "          Linear-104             [-1, 257, 384]         590,208\n",
            "         Dropout-105             [-1, 257, 384]               0\n",
            "             Mlp-106             [-1, 257, 384]               0\n",
            "      LayerScale-107             [-1, 257, 384]               0\n",
            "NestedTensorBlock-108             [-1, 257, 384]               0\n",
            "       LayerNorm-109             [-1, 257, 384]             768\n",
            "          Linear-110            [-1, 257, 1152]         443,520\n",
            "          Linear-111             [-1, 257, 384]         147,840\n",
            "         Dropout-112             [-1, 257, 384]               0\n",
            " MemEffAttention-113             [-1, 257, 384]               0\n",
            "      LayerScale-114             [-1, 257, 384]               0\n",
            "       LayerNorm-115             [-1, 257, 384]             768\n",
            "          Linear-116            [-1, 257, 1536]         591,360\n",
            "            GELU-117            [-1, 257, 1536]               0\n",
            "         Dropout-118            [-1, 257, 1536]               0\n",
            "          Linear-119             [-1, 257, 384]         590,208\n",
            "         Dropout-120             [-1, 257, 384]               0\n",
            "             Mlp-121             [-1, 257, 384]               0\n",
            "      LayerScale-122             [-1, 257, 384]               0\n",
            "NestedTensorBlock-123             [-1, 257, 384]               0\n",
            "       LayerNorm-124             [-1, 257, 384]             768\n",
            "          Linear-125            [-1, 257, 1152]         443,520\n",
            "          Linear-126             [-1, 257, 384]         147,840\n",
            "         Dropout-127             [-1, 257, 384]               0\n",
            " MemEffAttention-128             [-1, 257, 384]               0\n",
            "      LayerScale-129             [-1, 257, 384]               0\n",
            "       LayerNorm-130             [-1, 257, 384]             768\n",
            "          Linear-131            [-1, 257, 1536]         591,360\n",
            "            GELU-132            [-1, 257, 1536]               0\n",
            "         Dropout-133            [-1, 257, 1536]               0\n",
            "          Linear-134             [-1, 257, 384]         590,208\n",
            "         Dropout-135             [-1, 257, 384]               0\n",
            "             Mlp-136             [-1, 257, 384]               0\n",
            "      LayerScale-137             [-1, 257, 384]               0\n",
            "NestedTensorBlock-138             [-1, 257, 384]               0\n",
            "       LayerNorm-139             [-1, 257, 384]             768\n",
            "          Linear-140            [-1, 257, 1152]         443,520\n",
            "          Linear-141             [-1, 257, 384]         147,840\n",
            "         Dropout-142             [-1, 257, 384]               0\n",
            " MemEffAttention-143             [-1, 257, 384]               0\n",
            "      LayerScale-144             [-1, 257, 384]               0\n",
            "       LayerNorm-145             [-1, 257, 384]             768\n",
            "          Linear-146            [-1, 257, 1536]         591,360\n",
            "            GELU-147            [-1, 257, 1536]               0\n",
            "         Dropout-148            [-1, 257, 1536]               0\n",
            "          Linear-149             [-1, 257, 384]         590,208\n",
            "         Dropout-150             [-1, 257, 384]               0\n",
            "             Mlp-151             [-1, 257, 384]               0\n",
            "      LayerScale-152             [-1, 257, 384]               0\n",
            "NestedTensorBlock-153             [-1, 257, 384]               0\n",
            "       LayerNorm-154             [-1, 257, 384]             768\n",
            "          Linear-155            [-1, 257, 1152]         443,520\n",
            "          Linear-156             [-1, 257, 384]         147,840\n",
            "         Dropout-157             [-1, 257, 384]               0\n",
            " MemEffAttention-158             [-1, 257, 384]               0\n",
            "      LayerScale-159             [-1, 257, 384]               0\n",
            "       LayerNorm-160             [-1, 257, 384]             768\n",
            "          Linear-161            [-1, 257, 1536]         591,360\n",
            "            GELU-162            [-1, 257, 1536]               0\n",
            "         Dropout-163            [-1, 257, 1536]               0\n",
            "          Linear-164             [-1, 257, 384]         590,208\n",
            "         Dropout-165             [-1, 257, 384]               0\n",
            "             Mlp-166             [-1, 257, 384]               0\n",
            "      LayerScale-167             [-1, 257, 384]               0\n",
            "NestedTensorBlock-168             [-1, 257, 384]               0\n",
            "       LayerNorm-169             [-1, 257, 384]             768\n",
            "          Linear-170            [-1, 257, 1152]         443,520\n",
            "          Linear-171             [-1, 257, 384]         147,840\n",
            "         Dropout-172             [-1, 257, 384]               0\n",
            " MemEffAttention-173             [-1, 257, 384]               0\n",
            "      LayerScale-174             [-1, 257, 384]               0\n",
            "       LayerNorm-175             [-1, 257, 384]             768\n",
            "          Linear-176            [-1, 257, 1536]         591,360\n",
            "            GELU-177            [-1, 257, 1536]               0\n",
            "         Dropout-178            [-1, 257, 1536]               0\n",
            "          Linear-179             [-1, 257, 384]         590,208\n",
            "         Dropout-180             [-1, 257, 384]               0\n",
            "             Mlp-181             [-1, 257, 384]               0\n",
            "      LayerScale-182             [-1, 257, 384]               0\n",
            "NestedTensorBlock-183             [-1, 257, 384]               0\n",
            "       LayerNorm-184             [-1, 257, 384]             768\n",
            "        Identity-185                  [-1, 384]               0\n",
            "DinoVisionTransformer-186                  [-1, 384]               0\n",
            "          Linear-187                 [-1, 2048]         788,480\n",
            "     BatchNorm1d-188                 [-1, 2048]           4,096\n",
            "            GELU-189                 [-1, 2048]               0\n",
            "         Dropout-190                 [-1, 2048]               0\n",
            "          Linear-191                 [-1, 2048]       4,196,352\n",
            "     BatchNorm1d-192                 [-1, 2048]           4,096\n",
            "            GELU-193                 [-1, 2048]               0\n",
            "         Dropout-194                 [-1, 2048]               0\n",
            "          Linear-195                 [-1, 2048]       4,196,352\n",
            "     BatchNorm1d-196                 [-1, 2048]           4,096\n",
            "            GELU-197                 [-1, 2048]               0\n",
            "         Dropout-198                 [-1, 2048]               0\n",
            "          Linear-199                 [-1, 1000]       2,049,000\n",
            "     BatchNorm1d-200                 [-1, 1000]           2,000\n",
            "            GELU-201                 [-1, 1000]               0\n",
            "         Dropout-202                 [-1, 1000]               0\n",
            "          Linear-203                    [-1, 4]           4,004\n",
            "================================================================\n",
            "Total params: 32,768,988\n",
            "Trainable params: 11,248,476\n",
            "Non-trainable params: 21,520,512\n",
            "----------------------------------------------------------------\n",
            "Input size (MB): 0.57\n",
            "Forward/backward pass size (MB): 238.14\n",
            "Params size (MB): 125.00\n",
            "Estimated Total Size (MB): 363.72\n",
            "----------------------------------------------------------------\n"
          ]
        }
      ],
      "source": [
        "model_name = type(model).__name__\n",
        "print(\"Model\", model_name, \"statistics:\")\n",
        "summary(model, (input_channels, input_height, input_width))"
      ]
    },
    {
      "cell_type": "markdown",
      "metadata": {
        "id": "5IgNxKOu-LDf"
      },
      "source": [
        "**Set Hyper-Parameters Using Optuna**"
      ]
    },
    {
      "cell_type": "code",
      "execution_count": 8,
      "metadata": {
        "id": "gbHsApTN-LDf"
      },
      "outputs": [
        {
          "name": "stderr",
          "output_type": "stream",
          "text": [
            "[I 2024-10-05 23:23:47,602] A new study created in memory with name: mri-alzhimer-classification\n"
          ]
        },
        {
          "name": "stdout",
          "output_type": "stream",
          "text": [
            "Optuna is done on device: cuda:0\n"
          ]
        },
        {
          "name": "stderr",
          "output_type": "stream",
          "text": [
            "Using cache found in C:\\Users\\97252/.cache\\torch\\hub\\facebookresearch_dinov2_main\n",
            "100%|██████████| 10/10 [07:46<00:00, 46.61s/it]\n",
            "[I 2024-10-05 23:31:34,953] Trial 0 finished with value: 0.8135416666666667 and parameters: {'lr': 6.125800979342132e-06, 'optimizer': 'RMSprop', 'batch_size': 64, 'scheduler': 'StepLR'}. Best is trial 0 with value: 0.8135416666666667.\n",
            "Using cache found in C:\\Users\\97252/.cache\\torch\\hub\\facebookresearch_dinov2_main\n",
            "100%|██████████| 10/10 [05:17<00:00, 31.75s/it]\n",
            "[I 2024-10-05 23:36:54,237] Trial 1 finished with value: 0.8083333333333333 and parameters: {'lr': 5.782691185629487e-06, 'optimizer': 'RMSprop', 'batch_size': 16, 'scheduler': 'StepLR'}. Best is trial 0 with value: 0.8135416666666667.\n",
            "Using cache found in C:\\Users\\97252/.cache\\torch\\hub\\facebookresearch_dinov2_main\n",
            "100%|██████████| 10/10 [05:13<00:00, 31.33s/it]\n",
            "[I 2024-10-05 23:42:09,043] Trial 2 finished with value: 0.7916666666666666 and parameters: {'lr': 3.355616618249038e-06, 'optimizer': 'RMSprop', 'batch_size': 16, 'scheduler': 'CosineAnnealingLR'}. Best is trial 0 with value: 0.8135416666666667.\n",
            "Using cache found in C:\\Users\\97252/.cache\\torch\\hub\\facebookresearch_dinov2_main\n",
            "100%|██████████| 10/10 [09:48<00:00, 58.85s/it]\n",
            "[I 2024-10-05 23:51:59,359] Trial 3 finished with value: 0.8885416666666667 and parameters: {'lr': 0.00021637922085836916, 'optimizer': 'RMSprop', 'batch_size': 64, 'scheduler': 'CosineAnnealingLR'}. Best is trial 3 with value: 0.8885416666666667.\n",
            "Using cache found in C:\\Users\\97252/.cache\\torch\\hub\\facebookresearch_dinov2_main\n",
            "100%|██████████| 10/10 [05:15<00:00, 31.58s/it]\n",
            "[I 2024-10-05 23:57:17,044] Trial 4 finished with value: 0.19166666666666668 and parameters: {'lr': 1.6035921695102241e-06, 'optimizer': 'SGD', 'batch_size': 16, 'scheduler': 'CosineAnnealingLR'}. Best is trial 3 with value: 0.8885416666666667.\n",
            "Using cache found in C:\\Users\\97252/.cache\\torch\\hub\\facebookresearch_dinov2_main\n",
            "100%|██████████| 10/10 [05:15<00:00, 31.52s/it]\n",
            "[I 2024-10-06 00:02:33,894] Trial 5 finished with value: 0.8708333333333333 and parameters: {'lr': 2.062987939863097e-05, 'optimizer': 'RMSprop', 'batch_size': 16, 'scheduler': 'StepLR'}. Best is trial 3 with value: 0.8885416666666667.\n",
            "Using cache found in C:\\Users\\97252/.cache\\torch\\hub\\facebookresearch_dinov2_main\n",
            "  0%|          | 0/10 [00:31<?, ?it/s]\n",
            "[I 2024-10-06 00:03:06,709] Trial 6 pruned. \n",
            "Using cache found in C:\\Users\\97252/.cache\\torch\\hub\\facebookresearch_dinov2_main\n",
            "100%|██████████| 10/10 [10:41<00:00, 64.18s/it]\n",
            "[I 2024-10-06 00:13:50,123] Trial 7 finished with value: 0.8822916666666667 and parameters: {'lr': 2.293942122251959e-05, 'optimizer': 'RMSprop', 'batch_size': 64, 'scheduler': 'StepLR'}. Best is trial 3 with value: 0.8885416666666667.\n",
            "Using cache found in C:\\Users\\97252/.cache\\torch\\hub\\facebookresearch_dinov2_main\n",
            "100%|██████████| 10/10 [05:20<00:00, 32.06s/it]\n",
            "[I 2024-10-06 00:19:12,601] Trial 8 finished with value: 0.8375 and parameters: {'lr': 0.00013002161586064378, 'optimizer': 'RMSprop', 'batch_size': 16, 'scheduler': 'CosineAnnealingLR'}. Best is trial 3 with value: 0.8885416666666667.\n",
            "Using cache found in C:\\Users\\97252/.cache\\torch\\hub\\facebookresearch_dinov2_main\n",
            "100%|██████████| 10/10 [06:29<00:00, 38.98s/it]\n",
            "[I 2024-10-06 00:25:44,017] Trial 9 finished with value: 0.8270833333333333 and parameters: {'lr': 0.00020041527749078245, 'optimizer': 'RMSprop', 'batch_size': 32, 'scheduler': 'StepLR'}. Best is trial 3 with value: 0.8885416666666667.\n",
            "Using cache found in C:\\Users\\97252/.cache\\torch\\hub\\facebookresearch_dinov2_main\n",
            " 10%|█         | 1/10 [02:05<18:53, 125.94s/it]\n",
            "[I 2024-10-06 00:27:51,726] Trial 10 pruned. \n",
            "Using cache found in C:\\Users\\97252/.cache\\torch\\hub\\facebookresearch_dinov2_main\n",
            "  0%|          | 0/10 [01:09<?, ?it/s]\n",
            "[I 2024-10-06 00:29:02,920] Trial 11 pruned. \n",
            "Using cache found in C:\\Users\\97252/.cache\\torch\\hub\\facebookresearch_dinov2_main\n",
            "100%|██████████| 10/10 [12:12<00:00, 73.28s/it]\n",
            "[I 2024-10-06 00:41:17,512] Trial 12 finished with value: 0.8885416666666667 and parameters: {'lr': 4.489166294424592e-05, 'optimizer': 'RMSprop', 'batch_size': 64, 'scheduler': 'CosineAnnealingLR'}. Best is trial 3 with value: 0.8885416666666667.\n",
            "Using cache found in C:\\Users\\97252/.cache\\torch\\hub\\facebookresearch_dinov2_main\n",
            " 10%|█         | 1/10 [02:29<22:22, 149.16s/it]\n",
            "[I 2024-10-06 00:43:48,408] Trial 13 pruned. \n",
            "Using cache found in C:\\Users\\97252/.cache\\torch\\hub\\facebookresearch_dinov2_main\n",
            "  0%|          | 0/10 [00:42<?, ?it/s]\n",
            "[I 2024-10-06 00:44:32,212] Trial 14 pruned. \n",
            "Using cache found in C:\\Users\\97252/.cache\\torch\\hub\\facebookresearch_dinov2_main\n",
            "100%|██████████| 10/10 [12:25<00:00, 74.52s/it]\n",
            "[I 2024-10-06 00:56:59,218] Trial 15 finished with value: 0.890625 and parameters: {'lr': 8.640015401621386e-05, 'optimizer': 'Adam', 'batch_size': 64, 'scheduler': 'CosineAnnealingLR'}. Best is trial 15 with value: 0.890625.\n",
            "Using cache found in C:\\Users\\97252/.cache\\torch\\hub\\facebookresearch_dinov2_main\n",
            "100%|██████████| 10/10 [12:45<00:00, 76.52s/it]\n",
            "[I 2024-10-06 01:09:46,265] Trial 16 finished with value: 0.8947916666666667 and parameters: {'lr': 9.309985367886295e-05, 'optimizer': 'Adam', 'batch_size': 64, 'scheduler': 'CosineAnnealingLR'}. Best is trial 16 with value: 0.8947916666666667.\n",
            "Using cache found in C:\\Users\\97252/.cache\\torch\\hub\\facebookresearch_dinov2_main\n",
            "100%|██████████| 10/10 [07:06<00:00, 42.67s/it]\n",
            "[I 2024-10-06 01:16:54,860] Trial 17 finished with value: 0.8583333333333333 and parameters: {'lr': 8.571118845218346e-05, 'optimizer': 'Adam', 'batch_size': 32, 'scheduler': 'CosineAnnealingLR'}. Best is trial 16 with value: 0.8947916666666667.\n",
            "Using cache found in C:\\Users\\97252/.cache\\torch\\hub\\facebookresearch_dinov2_main\n",
            "  0%|          | 0/10 [01:10<?, ?it/s]\n",
            "[I 2024-10-06 01:18:07,518] Trial 18 pruned. \n",
            "Using cache found in C:\\Users\\97252/.cache\\torch\\hub\\facebookresearch_dinov2_main\n",
            "100%|██████████| 10/10 [12:51<00:00, 77.14s/it]\n",
            "[I 2024-10-06 01:31:00,758] Trial 19 finished with value: 0.9072916666666667 and parameters: {'lr': 6.917436540093293e-05, 'optimizer': 'Adam', 'batch_size': 64, 'scheduler': 'CosineAnnealingLR'}. Best is trial 19 with value: 0.9072916666666667.\n",
            "Using cache found in C:\\Users\\97252/.cache\\torch\\hub\\facebookresearch_dinov2_main\n",
            "  0%|          | 0/10 [01:14<?, ?it/s]\n",
            "[I 2024-10-06 01:32:17,099] Trial 20 pruned. \n",
            "Using cache found in C:\\Users\\97252/.cache\\torch\\hub\\facebookresearch_dinov2_main\n",
            "100%|██████████| 10/10 [12:59<00:00, 78.00s/it]\n",
            "[I 2024-10-06 01:45:18,917] Trial 21 finished with value: 0.8989583333333333 and parameters: {'lr': 7.135983551599295e-05, 'optimizer': 'Adam', 'batch_size': 64, 'scheduler': 'CosineAnnealingLR'}. Best is trial 19 with value: 0.9072916666666667.\n",
            "Using cache found in C:\\Users\\97252/.cache\\torch\\hub\\facebookresearch_dinov2_main\n",
            "  0%|          | 0/10 [01:16<?, ?it/s]\n",
            "[I 2024-10-06 01:46:37,438] Trial 22 pruned. \n",
            "Using cache found in C:\\Users\\97252/.cache\\torch\\hub\\facebookresearch_dinov2_main\n",
            " 20%|██        | 2/10 [03:53<15:34, 116.77s/it]\n",
            "[I 2024-10-06 01:50:32,751] Trial 23 pruned. \n",
            "Using cache found in C:\\Users\\97252/.cache\\torch\\hub\\facebookresearch_dinov2_main\n",
            "  0%|          | 0/10 [01:16<?, ?it/s]\n",
            "[I 2024-10-06 01:51:50,950] Trial 24 pruned. \n"
          ]
        },
        {
          "name": "stdout",
          "output_type": "stream",
          "text": [
            "Study statistics: \n",
            "  Number of finished trials:  25\n",
            "  Number of pruned trials:  10\n",
            "  Number of complete trials:  15\n",
            "Best trial:\n",
            "  Value:  0.9072916666666667\n",
            "  Params: \n",
            "    lr: 6.917436540093293e-05\n",
            "    optimizer: Adam\n",
            "    batch_size: 64\n",
            "    scheduler: CosineAnnealingLR\n",
            "Best parameters saved to checkpoints/op_tuna_params\\DINO_v2_FT\\DINO_v2_FT_0.9073.json\n",
            "{'lr': 6.917436540093293e-05, 'optimizer': 'Adam', 'batch_size': 64, 'scheduler': 'CosineAnnealingLR'}\n"
          ]
        }
      ],
      "source": [
        "load_existing_hyperparams = False\n",
        "\n",
        "if load_existing_hyperparams:\n",
        "    # Load hyper-parameters (relevant if optuna has already used)\n",
        "    optuna_params_path = f'./checkpoints/op_tuna_params/{model_name}/DINO_v2_FT_0.8865.json'\n",
        "    with open(optuna_params_path, 'r') as file:\n",
        "        hyperparams = json.load(file)\n",
        "else:\n",
        "    # Find optimal hyper-parameters using optuna\n",
        "    hyperparams = optuna_search.optuna_param_search(model_name=\"DINO_v2_FT\", loss_criterion=nn.CrossEntropyLoss(), num_epochs_for_experiments=10, device=device, transfer_learning=True)\n",
        "\n",
        "print(hyperparams)"
      ]
    },
    {
      "cell_type": "code",
      "execution_count": 9,
      "metadata": {
        "id": "zZJ3eTYHNxv3"
      },
      "outputs": [],
      "source": [
        "# Set hyper-parameters\n",
        "batch_size = hyperparams['batch_size']\n",
        "learning_rate = hyperparams['lr']\n",
        "optimizer_name = hyperparams['optimizer']\n",
        "optimizer = getattr(torch.optim, optimizer_name)(model.fc.parameters(), lr=learning_rate)\n",
        "num_epochs = 35\n",
        "scheduler = hyperparams['scheduler']\n",
        "scheduler = StepLR(optimizer, 10, 0.1, verbose=True) if scheduler == \"StepLR\" else CosineAnnealingLR(optimizer, num_epochs, verbose=True)\n",
        "\n",
        "criterion = nn.CrossEntropyLoss()"
      ]
    },
    {
      "cell_type": "markdown",
      "metadata": {
        "id": "FqhovXlwErj8"
      },
      "source": [
        "**Data Augmentations**"
      ]
    },
    {
      "cell_type": "code",
      "execution_count": 10,
      "metadata": {
        "id": "4F_MUSBBEwao"
      },
      "outputs": [],
      "source": [
        "augmentations = K.AugmentationSequential(\n",
        "    K.RandomHorizontalFlip(p=0.1),\n",
        "    K.RandomVerticalFlip(p=0.1),\n",
        "    K.RandomRotation(degrees=10, p=0.1),\n",
        "    K.RandomAffine(degrees=5, translate=(0.05, 0.05), scale=(0.95, 1.05), p=0.1),\n",
        "    K.RandomBrightness(brightness=(0.8, 1.2), p=0.1),\n",
        "    K.RandomContrast(contrast=(0.8, 1.2), p=0.1),\n",
        "    K.RandomGamma(gamma=(0.9, 1.1), p=0.1),\n",
        "    K.RandomSharpness(p=0.1),\n",
        "    same_on_batch=False\n",
        ")"
      ]
    },
    {
      "cell_type": "markdown",
      "metadata": {
        "id": "gfXa0erP-LDh"
      },
      "source": [
        "**Create Data Loaders**"
      ]
    },
    {
      "cell_type": "code",
      "execution_count": 11,
      "metadata": {
        "id": "osh9hV7S-LDh"
      },
      "outputs": [],
      "source": [
        "# Data loading and shuffling\n",
        "trainloader = torch.utils.data.DataLoader(train_set, batch_size=batch_size, shuffle=True, num_workers=4, pin_memory=True)\n",
        "validationloader = torch.utils.data.DataLoader(validation_set, batch_size=batch_size, shuffle=True, num_workers=4, pin_memory=True)\n",
        "testloader = torch.utils.data.DataLoader(test_set, batch_size=batch_size, shuffle=False, num_workers=4, pin_memory=True)"
      ]
    },
    {
      "cell_type": "markdown",
      "metadata": {
        "id": "0NMxcWt8WBVl"
      },
      "source": [
        "**Train Model**"
      ]
    },
    {
      "cell_type": "code",
      "execution_count": 12,
      "metadata": {
        "id": "RFzmKpCGODd8"
      },
      "outputs": [
        {
          "name": "stdout",
          "output_type": "stream",
          "text": [
            "Created training session directory: ./checkpoints/DINO_v2_FT_015151_06102024\n",
            "Training model: DINO_v2_FT on cuda:0\n"
          ]
        },
        {
          "name": "stderr",
          "output_type": "stream",
          "text": [
            "Training: 100%|██████████| 128/128 [00:41<00:00,  3.08it/s]\n",
            "Validation: 100%|██████████| 32/32 [00:07<00:00,  4.06it/s]\n"
          ]
        },
        {
          "name": "stdout",
          "output_type": "stream",
          "text": [
            "Epoch: 1 | Training Loss: 0.5500 | Training Accuracy: 88.184% | Validation Loss: 0.4212 | Validation Accuracy: 83.740% | Epoch Time: 243.64 secs\n"
          ]
        },
        {
          "name": "stderr",
          "output_type": "stream",
          "text": [
            "Training: 100%|██████████| 128/128 [00:44<00:00,  2.90it/s]\n",
            "Validation: 100%|██████████| 32/32 [00:07<00:00,  4.24it/s]\n"
          ]
        },
        {
          "name": "stdout",
          "output_type": "stream",
          "text": [
            "Epoch: 2 | Training Loss: 0.3602 | Training Accuracy: 91.528% | Validation Loss: 0.3808 | Validation Accuracy: 85.693% | Epoch Time: 256.02 secs\n"
          ]
        },
        {
          "name": "stderr",
          "output_type": "stream",
          "text": [
            "Training: 100%|██████████| 128/128 [00:46<00:00,  2.76it/s]\n",
            "Validation: 100%|██████████| 32/32 [00:07<00:00,  4.23it/s]\n"
          ]
        },
        {
          "name": "stdout",
          "output_type": "stream",
          "text": [
            "Epoch: 3 | Training Loss: 0.2842 | Training Accuracy: 96.252% | Validation Loss: 0.3321 | Validation Accuracy: 89.648% | Epoch Time: 261.94 secs\n"
          ]
        },
        {
          "name": "stderr",
          "output_type": "stream",
          "text": [
            "Training: 100%|██████████| 128/128 [00:44<00:00,  2.87it/s]\n",
            "Validation: 100%|██████████| 32/32 [00:07<00:00,  4.27it/s]\n"
          ]
        },
        {
          "name": "stdout",
          "output_type": "stream",
          "text": [
            "Epoch: 4 | Training Loss: 0.2295 | Training Accuracy: 97.729% | Validation Loss: 0.2854 | Validation Accuracy: 91.064% | Epoch Time: 254.98 secs\n"
          ]
        },
        {
          "name": "stderr",
          "output_type": "stream",
          "text": [
            "Training: 100%|██████████| 128/128 [00:33<00:00,  3.78it/s]\n",
            "Validation: 100%|██████████| 32/32 [00:07<00:00,  4.26it/s]\n"
          ]
        },
        {
          "name": "stdout",
          "output_type": "stream",
          "text": [
            "Epoch: 5 | Training Loss: 0.1884 | Training Accuracy: 98.218% | Validation Loss: 0.2739 | Validation Accuracy: 91.650% | Epoch Time: 257.53 secs\n",
            "==> Saving model ...\n",
            "Saved as ./checkpoints/DINO_v2_FT_015151_06102024/DINO_v2_FT_021305_06102024_train_0.1884_val_0.2739.pth\n"
          ]
        },
        {
          "name": "stderr",
          "output_type": "stream",
          "text": [
            "Training: 100%|██████████| 128/128 [00:33<00:00,  3.84it/s]\n",
            "Validation: 100%|██████████| 32/32 [00:07<00:00,  4.27it/s]\n"
          ]
        },
        {
          "name": "stdout",
          "output_type": "stream",
          "text": [
            "Epoch: 6 | Training Loss: 0.1745 | Training Accuracy: 99.023% | Validation Loss: 0.2344 | Validation Accuracy: 92.969% | Epoch Time: 255.71 secs\n"
          ]
        },
        {
          "name": "stderr",
          "output_type": "stream",
          "text": [
            "Training: 100%|██████████| 128/128 [00:36<00:00,  3.49it/s]\n",
            "Validation: 100%|██████████| 32/32 [00:07<00:00,  4.25it/s]\n"
          ]
        },
        {
          "name": "stdout",
          "output_type": "stream",
          "text": [
            "Epoch: 7 | Training Loss: 0.1602 | Training Accuracy: 99.500% | Validation Loss: 0.2136 | Validation Accuracy: 93.164% | Epoch Time: 257.30 secs\n"
          ]
        },
        {
          "name": "stderr",
          "output_type": "stream",
          "text": [
            "Training: 100%|██████████| 128/128 [00:33<00:00,  3.87it/s]\n",
            "Validation: 100%|██████████| 32/32 [00:07<00:00,  4.24it/s]\n"
          ]
        },
        {
          "name": "stdout",
          "output_type": "stream",
          "text": [
            "Epoch: 8 | Training Loss: 0.1201 | Training Accuracy: 99.548% | Validation Loss: 0.2218 | Validation Accuracy: 94.092% | Epoch Time: 253.13 secs\n"
          ]
        },
        {
          "name": "stderr",
          "output_type": "stream",
          "text": [
            "Training: 100%|██████████| 128/128 [00:41<00:00,  3.11it/s]\n",
            "Validation: 100%|██████████| 32/32 [00:07<00:00,  4.28it/s]\n"
          ]
        },
        {
          "name": "stdout",
          "output_type": "stream",
          "text": [
            "Epoch: 9 | Training Loss: 0.1130 | Training Accuracy: 99.670% | Validation Loss: 0.2163 | Validation Accuracy: 93.652% | Epoch Time: 251.09 secs\n"
          ]
        },
        {
          "name": "stderr",
          "output_type": "stream",
          "text": [
            "Training: 100%|██████████| 128/128 [00:45<00:00,  2.81it/s]\n",
            "Validation: 100%|██████████| 32/32 [00:07<00:00,  4.29it/s]\n"
          ]
        },
        {
          "name": "stdout",
          "output_type": "stream",
          "text": [
            "Epoch: 10 | Training Loss: 0.1052 | Training Accuracy: 99.756% | Validation Loss: 0.2063 | Validation Accuracy: 94.043% | Epoch Time: 255.07 secs\n",
            "==> Saving model ...\n",
            "Saved as ./checkpoints/DINO_v2_FT_015151_06102024/DINO_v2_FT_023417_06102024_train_0.1052_val_0.2063.pth\n"
          ]
        },
        {
          "name": "stderr",
          "output_type": "stream",
          "text": [
            "Training: 100%|██████████| 128/128 [00:32<00:00,  3.98it/s]\n",
            "Validation: 100%|██████████| 32/32 [00:07<00:00,  4.14it/s]\n"
          ]
        },
        {
          "name": "stdout",
          "output_type": "stream",
          "text": [
            "Epoch: 11 | Training Loss: 0.0969 | Training Accuracy: 99.731% | Validation Loss: 0.1861 | Validation Accuracy: 94.775% | Epoch Time: 256.48 secs\n"
          ]
        },
        {
          "name": "stderr",
          "output_type": "stream",
          "text": [
            "Training: 100%|██████████| 128/128 [00:31<00:00,  4.04it/s]\n",
            "Validation: 100%|██████████| 32/32 [00:07<00:00,  4.25it/s]\n"
          ]
        },
        {
          "name": "stdout",
          "output_type": "stream",
          "text": [
            "Epoch: 12 | Training Loss: 0.0897 | Training Accuracy: 99.927% | Validation Loss: 0.2126 | Validation Accuracy: 94.385% | Epoch Time: 255.02 secs\n"
          ]
        },
        {
          "name": "stderr",
          "output_type": "stream",
          "text": [
            "Training: 100%|██████████| 128/128 [00:34<00:00,  3.74it/s]\n",
            "Validation: 100%|██████████| 32/32 [00:07<00:00,  4.28it/s]\n"
          ]
        },
        {
          "name": "stdout",
          "output_type": "stream",
          "text": [
            "Epoch: 13 | Training Loss: 0.0793 | Training Accuracy: 99.915% | Validation Loss: 0.1935 | Validation Accuracy: 94.678% | Epoch Time: 256.26 secs\n"
          ]
        },
        {
          "name": "stderr",
          "output_type": "stream",
          "text": [
            "Training: 100%|██████████| 128/128 [00:40<00:00,  3.19it/s]\n",
            "Validation: 100%|██████████| 32/32 [00:07<00:00,  4.36it/s]\n"
          ]
        },
        {
          "name": "stdout",
          "output_type": "stream",
          "text": [
            "Epoch: 14 | Training Loss: 0.0715 | Training Accuracy: 100.000% | Validation Loss: 0.1692 | Validation Accuracy: 95.410% | Epoch Time: 247.24 secs\n"
          ]
        },
        {
          "name": "stderr",
          "output_type": "stream",
          "text": [
            "Training: 100%|██████████| 128/128 [00:36<00:00,  3.49it/s]\n",
            "Validation: 100%|██████████| 32/32 [00:07<00:00,  4.13it/s]\n"
          ]
        },
        {
          "name": "stdout",
          "output_type": "stream",
          "text": [
            "Epoch: 15 | Training Loss: 0.0671 | Training Accuracy: 99.988% | Validation Loss: 0.1550 | Validation Accuracy: 95.996% | Epoch Time: 250.42 secs\n",
            "==> Saving model ...\n",
            "Saved as ./checkpoints/DINO_v2_FT_015151_06102024/DINO_v2_FT_025523_06102024_train_0.0671_val_0.1550.pth\n"
          ]
        },
        {
          "name": "stderr",
          "output_type": "stream",
          "text": [
            "Training: 100%|██████████| 128/128 [00:32<00:00,  3.97it/s]\n",
            "Validation: 100%|██████████| 32/32 [00:07<00:00,  4.08it/s]\n"
          ]
        },
        {
          "name": "stdout",
          "output_type": "stream",
          "text": [
            "Epoch: 16 | Training Loss: 0.0588 | Training Accuracy: 99.988% | Validation Loss: 0.1561 | Validation Accuracy: 96.094% | Epoch Time: 255.66 secs\n"
          ]
        },
        {
          "name": "stderr",
          "output_type": "stream",
          "text": [
            "Training: 100%|██████████| 128/128 [00:32<00:00,  3.89it/s]\n",
            "Validation: 100%|██████████| 32/32 [00:07<00:00,  4.22it/s]\n"
          ]
        },
        {
          "name": "stdout",
          "output_type": "stream",
          "text": [
            "Epoch: 17 | Training Loss: 0.0583 | Training Accuracy: 100.000% | Validation Loss: 0.1856 | Validation Accuracy: 95.752% | Epoch Time: 249.33 secs\n"
          ]
        },
        {
          "name": "stderr",
          "output_type": "stream",
          "text": [
            "Training: 100%|██████████| 128/128 [00:40<00:00,  3.20it/s]\n",
            "Validation: 100%|██████████| 32/32 [00:07<00:00,  4.30it/s]\n"
          ]
        },
        {
          "name": "stdout",
          "output_type": "stream",
          "text": [
            "Epoch: 18 | Training Loss: 0.0496 | Training Accuracy: 99.988% | Validation Loss: 0.1341 | Validation Accuracy: 96.143% | Epoch Time: 253.94 secs\n"
          ]
        },
        {
          "name": "stderr",
          "output_type": "stream",
          "text": [
            "Training: 100%|██████████| 128/128 [00:41<00:00,  3.05it/s]\n",
            "Validation: 100%|██████████| 32/32 [00:07<00:00,  4.25it/s]\n"
          ]
        },
        {
          "name": "stdout",
          "output_type": "stream",
          "text": [
            "Epoch: 19 | Training Loss: 0.0492 | Training Accuracy: 99.988% | Validation Loss: 0.1415 | Validation Accuracy: 96.191% | Epoch Time: 253.63 secs\n"
          ]
        },
        {
          "name": "stderr",
          "output_type": "stream",
          "text": [
            "Training: 100%|██████████| 128/128 [00:35<00:00,  3.65it/s]\n",
            "Validation: 100%|██████████| 32/32 [00:07<00:00,  4.21it/s]\n"
          ]
        },
        {
          "name": "stdout",
          "output_type": "stream",
          "text": [
            "Epoch: 20 | Training Loss: 0.0483 | Training Accuracy: 100.000% | Validation Loss: 0.1431 | Validation Accuracy: 96.045% | Epoch Time: 250.14 secs\n",
            "==> Saving model ...\n",
            "Saved as ./checkpoints/DINO_v2_FT_015151_06102024/DINO_v2_FT_031626_06102024_train_0.0483_val_0.1431.pth\n"
          ]
        },
        {
          "name": "stderr",
          "output_type": "stream",
          "text": [
            "Training: 100%|██████████| 128/128 [00:39<00:00,  3.27it/s]\n",
            "Validation: 100%|██████████| 32/32 [00:07<00:00,  4.21it/s]\n"
          ]
        },
        {
          "name": "stdout",
          "output_type": "stream",
          "text": [
            "Epoch: 21 | Training Loss: 0.0398 | Training Accuracy: 100.000% | Validation Loss: 0.1349 | Validation Accuracy: 96.289% | Epoch Time: 254.43 secs\n"
          ]
        },
        {
          "name": "stderr",
          "output_type": "stream",
          "text": [
            "Training: 100%|██████████| 128/128 [00:45<00:00,  2.84it/s]\n",
            "Validation: 100%|██████████| 32/32 [00:07<00:00,  4.20it/s]\n"
          ]
        },
        {
          "name": "stdout",
          "output_type": "stream",
          "text": [
            "Epoch: 22 | Training Loss: 0.0401 | Training Accuracy: 100.000% | Validation Loss: 0.1497 | Validation Accuracy: 96.289% | Epoch Time: 265.02 secs\n"
          ]
        },
        {
          "name": "stderr",
          "output_type": "stream",
          "text": [
            "Training: 100%|██████████| 128/128 [00:32<00:00,  3.96it/s]\n",
            "Validation: 100%|██████████| 32/32 [00:07<00:00,  4.25it/s]\n"
          ]
        },
        {
          "name": "stdout",
          "output_type": "stream",
          "text": [
            "Epoch: 23 | Training Loss: 0.0395 | Training Accuracy: 100.000% | Validation Loss: 0.1255 | Validation Accuracy: 96.484% | Epoch Time: 261.44 secs\n"
          ]
        },
        {
          "name": "stderr",
          "output_type": "stream",
          "text": [
            "Training: 100%|██████████| 128/128 [00:32<00:00,  3.92it/s]\n",
            "Validation: 100%|██████████| 32/32 [00:07<00:00,  4.33it/s]\n"
          ]
        },
        {
          "name": "stdout",
          "output_type": "stream",
          "text": [
            "Epoch: 24 | Training Loss: 0.0348 | Training Accuracy: 100.000% | Validation Loss: 0.1313 | Validation Accuracy: 96.631% | Epoch Time: 257.62 secs\n"
          ]
        },
        {
          "name": "stderr",
          "output_type": "stream",
          "text": [
            "Training: 100%|██████████| 128/128 [00:46<00:00,  2.78it/s]\n",
            "Validation: 100%|██████████| 32/32 [00:07<00:00,  4.17it/s]\n"
          ]
        },
        {
          "name": "stdout",
          "output_type": "stream",
          "text": [
            "Epoch: 25 | Training Loss: 0.0351 | Training Accuracy: 100.000% | Validation Loss: 0.1353 | Validation Accuracy: 96.582% | Epoch Time: 259.26 secs\n",
            "==> Saving model ...\n",
            "Saved as ./checkpoints/DINO_v2_FT_015151_06102024/DINO_v2_FT_033804_06102024_train_0.0351_val_0.1353.pth\n"
          ]
        },
        {
          "name": "stderr",
          "output_type": "stream",
          "text": [
            "Training: 100%|██████████| 128/128 [00:41<00:00,  3.11it/s]\n",
            "Validation: 100%|██████████| 32/32 [00:08<00:00,  3.77it/s]\n"
          ]
        },
        {
          "name": "stdout",
          "output_type": "stream",
          "text": [
            "Epoch: 26 | Training Loss: 0.0329 | Training Accuracy: 100.000% | Validation Loss: 0.1300 | Validation Accuracy: 96.826% | Epoch Time: 257.68 secs\n"
          ]
        },
        {
          "name": "stderr",
          "output_type": "stream",
          "text": [
            "Training: 100%|██████████| 128/128 [00:35<00:00,  3.63it/s]\n",
            "Validation: 100%|██████████| 32/32 [00:08<00:00,  3.80it/s]\n"
          ]
        },
        {
          "name": "stdout",
          "output_type": "stream",
          "text": [
            "Epoch: 27 | Training Loss: 0.0323 | Training Accuracy: 100.000% | Validation Loss: 0.1261 | Validation Accuracy: 96.777% | Epoch Time: 258.94 secs\n"
          ]
        },
        {
          "name": "stderr",
          "output_type": "stream",
          "text": [
            "Training: 100%|██████████| 128/128 [00:37<00:00,  3.42it/s]\n",
            "Validation: 100%|██████████| 32/32 [00:07<00:00,  4.22it/s]\n"
          ]
        },
        {
          "name": "stdout",
          "output_type": "stream",
          "text": [
            "Epoch: 28 | Training Loss: 0.0328 | Training Accuracy: 100.000% | Validation Loss: 0.1155 | Validation Accuracy: 96.875% | Epoch Time: 260.22 secs\n"
          ]
        },
        {
          "name": "stderr",
          "output_type": "stream",
          "text": [
            "Training: 100%|██████████| 128/128 [00:42<00:00,  3.00it/s]\n",
            "Validation: 100%|██████████| 32/32 [00:13<00:00,  2.30it/s]\n"
          ]
        },
        {
          "name": "stdout",
          "output_type": "stream",
          "text": [
            "Epoch: 29 | Training Loss: 0.0296 | Training Accuracy: 100.000% | Validation Loss: 0.1203 | Validation Accuracy: 96.729% | Epoch Time: 266.86 secs\n"
          ]
        },
        {
          "name": "stderr",
          "output_type": "stream",
          "text": [
            "Training: 100%|██████████| 128/128 [00:33<00:00,  3.81it/s]\n",
            "Validation: 100%|██████████| 32/32 [00:07<00:00,  4.21it/s]\n"
          ]
        },
        {
          "name": "stdout",
          "output_type": "stream",
          "text": [
            "Epoch: 30 | Training Loss: 0.0277 | Training Accuracy: 100.000% | Validation Loss: 0.1151 | Validation Accuracy: 96.826% | Epoch Time: 262.02 secs\n",
            "==> Saving model ...\n",
            "Saved as ./checkpoints/DINO_v2_FT_015151_06102024/DINO_v2_FT_035950_06102024_train_0.0277_val_0.1151.pth\n"
          ]
        },
        {
          "name": "stderr",
          "output_type": "stream",
          "text": [
            "Training: 100%|██████████| 128/128 [00:47<00:00,  2.70it/s]\n",
            "Validation: 100%|██████████| 32/32 [00:07<00:00,  4.21it/s]\n"
          ]
        },
        {
          "name": "stdout",
          "output_type": "stream",
          "text": [
            "Epoch: 31 | Training Loss: 0.0305 | Training Accuracy: 100.000% | Validation Loss: 0.1177 | Validation Accuracy: 96.777% | Epoch Time: 263.34 secs\n"
          ]
        },
        {
          "name": "stderr",
          "output_type": "stream",
          "text": [
            "Training: 100%|██████████| 128/128 [00:35<00:00,  3.58it/s]\n",
            "Validation: 100%|██████████| 32/32 [00:07<00:00,  4.21it/s]\n"
          ]
        },
        {
          "name": "stdout",
          "output_type": "stream",
          "text": [
            "Epoch: 32 | Training Loss: 0.0264 | Training Accuracy: 100.000% | Validation Loss: 0.1168 | Validation Accuracy: 96.875% | Epoch Time: 254.50 secs\n"
          ]
        },
        {
          "name": "stderr",
          "output_type": "stream",
          "text": [
            "Training: 100%|██████████| 128/128 [00:44<00:00,  2.85it/s]\n",
            "Validation: 100%|██████████| 32/32 [00:07<00:00,  4.26it/s]\n"
          ]
        },
        {
          "name": "stdout",
          "output_type": "stream",
          "text": [
            "Epoch: 33 | Training Loss: 0.0249 | Training Accuracy: 100.000% | Validation Loss: 0.1124 | Validation Accuracy: 96.924% | Epoch Time: 262.90 secs\n"
          ]
        },
        {
          "name": "stderr",
          "output_type": "stream",
          "text": [
            "Training: 100%|██████████| 128/128 [00:50<00:00,  2.52it/s]\n",
            "Validation: 100%|██████████| 32/32 [00:07<00:00,  4.22it/s]\n"
          ]
        },
        {
          "name": "stdout",
          "output_type": "stream",
          "text": [
            "Epoch: 34 | Training Loss: 0.0293 | Training Accuracy: 100.000% | Validation Loss: 0.1246 | Validation Accuracy: 96.826% | Epoch Time: 266.90 secs\n"
          ]
        },
        {
          "name": "stderr",
          "output_type": "stream",
          "text": [
            "Training: 100%|██████████| 128/128 [00:46<00:00,  2.73it/s]\n",
            "Validation: 100%|██████████| 32/32 [00:07<00:00,  4.16it/s]\n"
          ]
        },
        {
          "name": "stdout",
          "output_type": "stream",
          "text": [
            "Epoch: 35 | Training Loss: 0.0226 | Training Accuracy: 100.000% | Validation Loss: 0.1180 | Validation Accuracy: 96.973% | Epoch Time: 262.28 secs\n",
            "==> Saving model ...\n",
            "Saved as ./checkpoints/DINO_v2_FT_015151_06102024/DINO_v2_FT_042140_06102024_train_0.0226_val_0.1180.pth\n"
          ]
        }
      ],
      "source": [
        "load_existing_params = False\n",
        "train_loaded_model = False\n",
        "\n",
        "if load_existing_params:\n",
        "    model_path = './checkpoints/DINO_v2_FT_151506_05102024/DINO_v2_FT_173045_05102024_train_0.0364_val_0.1293.pth'\n",
        "    checkpoint = torch.load(model_path, weights_only=True)\n",
        "    model.load_state_dict(checkpoint['net'])\n",
        "    if(train_loaded_model):\n",
        "        epoch_train_losses, epoch_validation_losses, epoch_train_accuracies, epoch_validation_accuracies = utils_funcs.train_model(model, num_epochs, trainloader, validationloader, device, criterion, optimizer, scheduler, augmentations, use_amp=True)\n",
        "else:\n",
        "    epoch_train_losses, epoch_validation_losses, epoch_train_accuracies, epoch_validation_accuracies = utils_funcs.train_model(model, num_epochs, trainloader, validationloader, device, criterion, optimizer, scheduler, augmentations, use_amp=True)"
      ]
    },
    {
      "cell_type": "markdown",
      "metadata": {
        "id": "EbJ0dBbeVkzF"
      },
      "source": [
        "**Results**"
      ]
    },
    {
      "cell_type": "code",
      "execution_count": 13,
      "metadata": {
        "id": "bWniJm-0VgEz"
      },
      "outputs": [
        {
          "name": "stdout",
          "output_type": "stream",
          "text": [
            "Test accuracy: 95.152%\n"
          ]
        }
      ],
      "source": [
        "test_accuracy = utils_funcs.calculate_accuracy(model, testloader, device)\n",
        "print(\"Test accuracy: {:.3f}%\".format(test_accuracy))"
      ]
    },
    {
      "cell_type": "code",
      "execution_count": 14,
      "metadata": {
        "id": "7VSHJRpx-LDj"
      },
      "outputs": [
        {
          "data": {
            "text/plain": [
              "<Figure size 800x600 with 0 Axes>"
            ]
          },
          "metadata": {},
          "output_type": "display_data"
        },
        {
          "data": {
            "image/png": "[encoded data removed]",
            "text/plain": [
              "<Figure size 640x480 with 2 Axes>"
            ]
          },
          "metadata": {},
          "output_type": "display_data"
        }
      ],
      "source": [
        "class_names = ['VeryMildDemented', 'NonDemented', 'ModerateDemented', 'MildDemented']\n",
        "utils_funcs.plot_normalized_confusion_matrix(testloader, model, class_names, device, model_name)"
      ]
    },
    {
      "cell_type": "code",
      "execution_count": 16,
      "metadata": {
        "id": "g7O4VexWVcyQ"
      },
      "outputs": [
        {
          "data": {
            "image/png": "[encoded data removed]",
            "text/plain": [
              "<Figure size 500x500 with 1 Axes>"
            ]
          },
          "metadata": {},
          "output_type": "display_data"
        }
      ],
      "source": [
        "utils_funcs.plot_loss_curve(epoch_train_losses, epoch_validation_losses, num_epochs, model_name)"
      ]
    },
    {
      "cell_type": "code",
      "execution_count": 17,
      "metadata": {},
      "outputs": [
        {
          "data": {
            "image/png": "[encoded data removed]",
            "text/plain": [
              "<Figure size 500x500 with 1 Axes>"
            ]
          },
          "metadata": {},
          "output_type": "display_data"
        }
      ],
      "source": [
        "utils_funcs.plot_accuracy_curve(epoch_train_accuracies, epoch_validation_accuracies, num_epochs, model_name)"
      ]
    }
  ],
  "metadata": {
    "accelerator": "GPU",
    "colab": {
      "gpuType": "T4",
      "provenance": []
    },
    "kernelspec": {
      "display_name": "dino_deep_learn_cuda124",
      "language": "python",
      "name": "python3"
    },
    "language_info": {
      "codemirror_mode": {
        "name": "ipython",
        "version": 3
      },
      "file_extension": ".py",
      "mimetype": "text/x-python",
      "name": "python",
      "nbconvert_exporter": "python",
      "pygments_lexer": "ipython3",
      "version": "3.10.14"
    }
  },
  "nbformat": 4,
  "nbformat_minor": 0
}
