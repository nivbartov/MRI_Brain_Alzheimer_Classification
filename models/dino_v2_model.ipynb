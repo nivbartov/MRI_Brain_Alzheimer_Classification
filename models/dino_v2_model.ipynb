{
  "cells": [
    {
      "cell_type": "markdown",
      "metadata": {
        "id": "CSXDJcczMrB6"
      },
      "source": [
        "<h1 style=\"display: flex; align-items: center;\">\n",
        "    <img src=\"../assets/icons/icons8-kawaii-dinosaur-48.png\" style=\"width: 50px; height: 50px; margin-right: 10px;\">\n",
        "    <strong>MRI Brain Alzheimer Classification - DINOv2 Model</strong>\n",
        "</h1>"
      ]
    },
    {
      "cell_type": "markdown",
      "metadata": {
        "id": "mEWgxGwpIvtv"
      },
      "source": [
        "**Clone Repository from GitHub**"
      ]
    },
    {
      "cell_type": "code",
      "execution_count": 1,
      "metadata": {},
      "outputs": [
        {
          "name": "stdout",
          "output_type": "stream",
          "text": [
            "c:\\Dor\\TECHNION\\deep_learning\\Project\\MRI_Brain_Alzheimer_Classification\n"
          ]
        }
      ],
      "source": [
        "# !git clone https://github.com/nivbartov/MRI_Brain_Alzheimer_Classification\n",
        "\n",
        "# %cd MRI_Brain_Alzheimer_Classification\n",
        "%cd .."
      ]
    },
    {
      "cell_type": "markdown",
      "metadata": {},
      "source": [
        "**Import Packages**"
      ]
    },
    {
      "cell_type": "code",
      "execution_count": 2,
      "metadata": {
        "id": "v_yU5PXHEX4x"
      },
      "outputs": [],
      "source": [
        "import warnings\n",
        "warnings.filterwarnings(\"ignore\", category=FutureWarning)\n",
        "warnings.filterwarnings(\"ignore\", category=UserWarning)\n",
        "import sys\n",
        "import os\n",
        "import numpy as np\n",
        "import pandas as pd\n",
        "import torch\n",
        "from torchsummary import summary\n",
        "import torch.nn as nn\n",
        "from torch.utils.data import TensorDataset, DataLoader, Subset, ConcatDataset\n",
        "import torchvision\n",
        "import torchvision.datasets as datasets\n",
        "import torchvision.transforms as transforms\n",
        "from kornia import augmentation as K\n",
        "from kornia.augmentation import AugmentationSequential\n",
        "from torch.optim.lr_scheduler import CosineAnnealingLR, StepLR\n",
        "import matplotlib.pyplot as plt\n",
        "%matplotlib inline\n",
        "from tqdm import tqdm\n",
        "import random\n",
        "import time\n",
        "from datetime import datetime\n",
        "import json\n",
        "import gc\n",
        "import subprocess"
      ]
    },
    {
      "cell_type": "markdown",
      "metadata": {
        "id": "vQJKfOGEJWan"
      },
      "source": [
        "**Import Internal Functions**"
      ]
    },
    {
      "cell_type": "code",
      "execution_count": 3,
      "metadata": {
        "id": "clhd-UgNJb27"
      },
      "outputs": [],
      "source": [
        "from models import def_models\n",
        "from utils import utils_funcs\n",
        "from utils import optuna_search"
      ]
    },
    {
      "cell_type": "markdown",
      "metadata": {
        "id": "3C9hi5C_-LDb"
      },
      "source": [
        "**Device Definition**"
      ]
    },
    {
      "cell_type": "code",
      "execution_count": 4,
      "metadata": {
        "id": "gULVrEpb-LDb"
      },
      "outputs": [
        {
          "name": "stdout",
          "output_type": "stream",
          "text": [
            "torch.cuda.is_available(): True\n",
            "device: cuda:0\n",
            "|===========================================================================|\n",
            "|                  PyTorch CUDA memory summary, device ID 0                 |\n",
            "|---------------------------------------------------------------------------|\n",
            "|            CUDA OOMs: 0            |        cudaMalloc retries: 0         |\n",
            "|===========================================================================|\n",
            "|        Metric         | Cur Usage  | Peak Usage | Tot Alloc  | Tot Freed  |\n",
            "|---------------------------------------------------------------------------|\n",
            "| Allocated memory      |      0 B   |      0 B   |      0 B   |      0 B   |\n",
            "|       from large pool |      0 B   |      0 B   |      0 B   |      0 B   |\n",
            "|       from small pool |      0 B   |      0 B   |      0 B   |      0 B   |\n",
            "|---------------------------------------------------------------------------|\n",
            "| Active memory         |      0 B   |      0 B   |      0 B   |      0 B   |\n",
            "|       from large pool |      0 B   |      0 B   |      0 B   |      0 B   |\n",
            "|       from small pool |      0 B   |      0 B   |      0 B   |      0 B   |\n",
            "|---------------------------------------------------------------------------|\n",
            "| Requested memory      |      0 B   |      0 B   |      0 B   |      0 B   |\n",
            "|       from large pool |      0 B   |      0 B   |      0 B   |      0 B   |\n",
            "|       from small pool |      0 B   |      0 B   |      0 B   |      0 B   |\n",
            "|---------------------------------------------------------------------------|\n",
            "| GPU reserved memory   |      0 B   |      0 B   |      0 B   |      0 B   |\n",
            "|       from large pool |      0 B   |      0 B   |      0 B   |      0 B   |\n",
            "|       from small pool |      0 B   |      0 B   |      0 B   |      0 B   |\n",
            "|---------------------------------------------------------------------------|\n",
            "| Non-releasable memory |      0 B   |      0 B   |      0 B   |      0 B   |\n",
            "|       from large pool |      0 B   |      0 B   |      0 B   |      0 B   |\n",
            "|       from small pool |      0 B   |      0 B   |      0 B   |      0 B   |\n",
            "|---------------------------------------------------------------------------|\n",
            "| Allocations           |       0    |       0    |       0    |       0    |\n",
            "|       from large pool |       0    |       0    |       0    |       0    |\n",
            "|       from small pool |       0    |       0    |       0    |       0    |\n",
            "|---------------------------------------------------------------------------|\n",
            "| Active allocs         |       0    |       0    |       0    |       0    |\n",
            "|       from large pool |       0    |       0    |       0    |       0    |\n",
            "|       from small pool |       0    |       0    |       0    |       0    |\n",
            "|---------------------------------------------------------------------------|\n",
            "| GPU reserved segments |       0    |       0    |       0    |       0    |\n",
            "|       from large pool |       0    |       0    |       0    |       0    |\n",
            "|       from small pool |       0    |       0    |       0    |       0    |\n",
            "|---------------------------------------------------------------------------|\n",
            "| Non-releasable allocs |       0    |       0    |       0    |       0    |\n",
            "|       from large pool |       0    |       0    |       0    |       0    |\n",
            "|       from small pool |       0    |       0    |       0    |       0    |\n",
            "|---------------------------------------------------------------------------|\n",
            "| Oversize allocations  |       0    |       0    |       0    |       0    |\n",
            "|---------------------------------------------------------------------------|\n",
            "| Oversize GPU segments |       0    |       0    |       0    |       0    |\n",
            "|===========================================================================|\n",
            "\n"
          ]
        }
      ],
      "source": [
        "print(f'torch.cuda.is_available(): {torch.cuda.is_available()}')\n",
        "device = torch.device(\"cuda:0\" if torch.cuda.is_available() else \"cpu\")\n",
        "print(f'device: {device}')\n",
        "torch.cuda.empty_cache()\n",
        "gc.collect()\n",
        "print(torch.cuda.memory_summary())\n",
        "utils_funcs.open_nvitop()"
      ]
    },
    {
      "cell_type": "markdown",
      "metadata": {
        "id": "eCYl_TtCNRRy"
      },
      "source": [
        "**Model Definition and Initialization**"
      ]
    },
    {
      "cell_type": "code",
      "execution_count": 5,
      "metadata": {
        "id": "h0rr3nWPNoN8"
      },
      "outputs": [
        {
          "name": "stderr",
          "output_type": "stream",
          "text": [
            "Using cache found in C:\\Users\\97252/.cache\\torch\\hub\\facebookresearch_dinov2_main\n"
          ]
        }
      ],
      "source": [
        "# Initialize input and output sizes\n",
        "input_width = 224\n",
        "input_height = 224\n",
        "input_channels = 3\n",
        "output_channels = 4\n",
        "\n",
        "DINOv2_backbone_model = torch.hub.load('facebookresearch/dinov2', 'dinov2_vits14')\n",
        "\n",
        "# Freeze DINOv2 layers\n",
        "for param in DINOv2_backbone_model.parameters():\n",
        "    param.requires_grad = False\n",
        "\n",
        "# Create DINOv2 model with FC layers before the output\n",
        "model = def_models.DINOv2(DINOv2_backbone=DINOv2_backbone_model, output_channels=output_channels).to(device)"
      ]
    },
    {
      "cell_type": "markdown",
      "metadata": {},
      "source": [
        "**Load Dataset**"
      ]
    },
    {
      "cell_type": "code",
      "execution_count": 6,
      "metadata": {},
      "outputs": [],
      "source": [
        "# Load the dataset\n",
        "train_set = torch.load('./dataset/dataset_variables/train_set.pt')\n",
        "validation_set = torch.load('dataset/dataset_variables/validation_set.pt')\n",
        "test_set = torch.load('./dataset/dataset_variables/test_set.pt')"
      ]
    },
    {
      "cell_type": "markdown",
      "metadata": {
        "id": "3vkYHTm--LDe"
      },
      "source": [
        "**Model Statistics**"
      ]
    },
    {
      "cell_type": "code",
      "execution_count": 7,
      "metadata": {
        "id": "EeoGhA5A-LDe"
      },
      "outputs": [
        {
          "name": "stdout",
          "output_type": "stream",
          "text": [
            "Model DINOv2 Statistics:\n",
            "----------------------------------------------------------------\n",
            "        Layer (type)               Output Shape         Param #\n",
            "================================================================\n",
            "            Conv2d-1          [-1, 384, 16, 16]         226,176\n",
            "          Identity-2             [-1, 256, 384]               0\n",
            "        PatchEmbed-3             [-1, 256, 384]               0\n",
            "         LayerNorm-4             [-1, 257, 384]             768\n",
            "            Linear-5            [-1, 257, 1152]         443,520\n",
            "            Linear-6             [-1, 257, 384]         147,840\n",
            "           Dropout-7             [-1, 257, 384]               0\n",
            "   MemEffAttention-8             [-1, 257, 384]               0\n",
            "        LayerScale-9             [-1, 257, 384]               0\n",
            "        LayerNorm-10             [-1, 257, 384]             768\n",
            "           Linear-11            [-1, 257, 1536]         591,360\n",
            "             GELU-12            [-1, 257, 1536]               0\n",
            "          Dropout-13            [-1, 257, 1536]               0\n",
            "           Linear-14             [-1, 257, 384]         590,208\n",
            "          Dropout-15             [-1, 257, 384]               0\n",
            "              Mlp-16             [-1, 257, 384]               0\n",
            "       LayerScale-17             [-1, 257, 384]               0\n",
            "NestedTensorBlock-18             [-1, 257, 384]               0\n",
            "        LayerNorm-19             [-1, 257, 384]             768\n",
            "           Linear-20            [-1, 257, 1152]         443,520\n",
            "           Linear-21             [-1, 257, 384]         147,840\n",
            "          Dropout-22             [-1, 257, 384]               0\n",
            "  MemEffAttention-23             [-1, 257, 384]               0\n",
            "       LayerScale-24             [-1, 257, 384]               0\n",
            "        LayerNorm-25             [-1, 257, 384]             768\n",
            "           Linear-26            [-1, 257, 1536]         591,360\n",
            "             GELU-27            [-1, 257, 1536]               0\n",
            "          Dropout-28            [-1, 257, 1536]               0\n",
            "           Linear-29             [-1, 257, 384]         590,208\n",
            "          Dropout-30             [-1, 257, 384]               0\n",
            "              Mlp-31             [-1, 257, 384]               0\n",
            "       LayerScale-32             [-1, 257, 384]               0\n",
            "NestedTensorBlock-33             [-1, 257, 384]               0\n",
            "        LayerNorm-34             [-1, 257, 384]             768\n",
            "           Linear-35            [-1, 257, 1152]         443,520\n",
            "           Linear-36             [-1, 257, 384]         147,840\n",
            "          Dropout-37             [-1, 257, 384]               0\n",
            "  MemEffAttention-38             [-1, 257, 384]               0\n",
            "       LayerScale-39             [-1, 257, 384]               0\n",
            "        LayerNorm-40             [-1, 257, 384]             768\n",
            "           Linear-41            [-1, 257, 1536]         591,360\n",
            "             GELU-42            [-1, 257, 1536]               0\n",
            "          Dropout-43            [-1, 257, 1536]               0\n",
            "           Linear-44             [-1, 257, 384]         590,208\n",
            "          Dropout-45             [-1, 257, 384]               0\n",
            "              Mlp-46             [-1, 257, 384]               0\n",
            "       LayerScale-47             [-1, 257, 384]               0\n",
            "NestedTensorBlock-48             [-1, 257, 384]               0\n",
            "        LayerNorm-49             [-1, 257, 384]             768\n",
            "           Linear-50            [-1, 257, 1152]         443,520\n",
            "           Linear-51             [-1, 257, 384]         147,840\n",
            "          Dropout-52             [-1, 257, 384]               0\n",
            "  MemEffAttention-53             [-1, 257, 384]               0\n",
            "       LayerScale-54             [-1, 257, 384]               0\n",
            "        LayerNorm-55             [-1, 257, 384]             768\n",
            "           Linear-56            [-1, 257, 1536]         591,360\n",
            "             GELU-57            [-1, 257, 1536]               0\n",
            "          Dropout-58            [-1, 257, 1536]               0\n",
            "           Linear-59             [-1, 257, 384]         590,208\n",
            "          Dropout-60             [-1, 257, 384]               0\n",
            "              Mlp-61             [-1, 257, 384]               0\n",
            "       LayerScale-62             [-1, 257, 384]               0\n",
            "NestedTensorBlock-63             [-1, 257, 384]               0\n",
            "        LayerNorm-64             [-1, 257, 384]             768\n",
            "           Linear-65            [-1, 257, 1152]         443,520\n",
            "           Linear-66             [-1, 257, 384]         147,840\n",
            "          Dropout-67             [-1, 257, 384]               0\n",
            "  MemEffAttention-68             [-1, 257, 384]               0\n",
            "       LayerScale-69             [-1, 257, 384]               0\n",
            "        LayerNorm-70             [-1, 257, 384]             768\n",
            "           Linear-71            [-1, 257, 1536]         591,360\n",
            "             GELU-72            [-1, 257, 1536]               0\n",
            "          Dropout-73            [-1, 257, 1536]               0\n",
            "           Linear-74             [-1, 257, 384]         590,208\n",
            "          Dropout-75             [-1, 257, 384]               0\n",
            "              Mlp-76             [-1, 257, 384]               0\n",
            "       LayerScale-77             [-1, 257, 384]               0\n",
            "NestedTensorBlock-78             [-1, 257, 384]               0\n",
            "        LayerNorm-79             [-1, 257, 384]             768\n",
            "           Linear-80            [-1, 257, 1152]         443,520\n",
            "           Linear-81             [-1, 257, 384]         147,840\n",
            "          Dropout-82             [-1, 257, 384]               0\n",
            "  MemEffAttention-83             [-1, 257, 384]               0\n",
            "       LayerScale-84             [-1, 257, 384]               0\n",
            "        LayerNorm-85             [-1, 257, 384]             768\n",
            "           Linear-86            [-1, 257, 1536]         591,360\n",
            "             GELU-87            [-1, 257, 1536]               0\n",
            "          Dropout-88            [-1, 257, 1536]               0\n",
            "           Linear-89             [-1, 257, 384]         590,208\n",
            "          Dropout-90             [-1, 257, 384]               0\n",
            "              Mlp-91             [-1, 257, 384]               0\n",
            "       LayerScale-92             [-1, 257, 384]               0\n",
            "NestedTensorBlock-93             [-1, 257, 384]               0\n",
            "        LayerNorm-94             [-1, 257, 384]             768\n",
            "           Linear-95            [-1, 257, 1152]         443,520\n",
            "           Linear-96             [-1, 257, 384]         147,840\n",
            "          Dropout-97             [-1, 257, 384]               0\n",
            "  MemEffAttention-98             [-1, 257, 384]               0\n",
            "       LayerScale-99             [-1, 257, 384]               0\n",
            "       LayerNorm-100             [-1, 257, 384]             768\n",
            "          Linear-101            [-1, 257, 1536]         591,360\n",
            "            GELU-102            [-1, 257, 1536]               0\n",
            "         Dropout-103            [-1, 257, 1536]               0\n",
            "          Linear-104             [-1, 257, 384]         590,208\n",
            "         Dropout-105             [-1, 257, 384]               0\n",
            "             Mlp-106             [-1, 257, 384]               0\n",
            "      LayerScale-107             [-1, 257, 384]               0\n",
            "NestedTensorBlock-108             [-1, 257, 384]               0\n",
            "       LayerNorm-109             [-1, 257, 384]             768\n",
            "          Linear-110            [-1, 257, 1152]         443,520\n",
            "          Linear-111             [-1, 257, 384]         147,840\n",
            "         Dropout-112             [-1, 257, 384]               0\n",
            " MemEffAttention-113             [-1, 257, 384]               0\n",
            "      LayerScale-114             [-1, 257, 384]               0\n",
            "       LayerNorm-115             [-1, 257, 384]             768\n",
            "          Linear-116            [-1, 257, 1536]         591,360\n",
            "            GELU-117            [-1, 257, 1536]               0\n",
            "         Dropout-118            [-1, 257, 1536]               0\n",
            "          Linear-119             [-1, 257, 384]         590,208\n",
            "         Dropout-120             [-1, 257, 384]               0\n",
            "             Mlp-121             [-1, 257, 384]               0\n",
            "      LayerScale-122             [-1, 257, 384]               0\n",
            "NestedTensorBlock-123             [-1, 257, 384]               0\n",
            "       LayerNorm-124             [-1, 257, 384]             768\n",
            "          Linear-125            [-1, 257, 1152]         443,520\n",
            "          Linear-126             [-1, 257, 384]         147,840\n",
            "         Dropout-127             [-1, 257, 384]               0\n",
            " MemEffAttention-128             [-1, 257, 384]               0\n",
            "      LayerScale-129             [-1, 257, 384]               0\n",
            "       LayerNorm-130             [-1, 257, 384]             768\n",
            "          Linear-131            [-1, 257, 1536]         591,360\n",
            "            GELU-132            [-1, 257, 1536]               0\n",
            "         Dropout-133            [-1, 257, 1536]               0\n",
            "          Linear-134             [-1, 257, 384]         590,208\n",
            "         Dropout-135             [-1, 257, 384]               0\n",
            "             Mlp-136             [-1, 257, 384]               0\n",
            "      LayerScale-137             [-1, 257, 384]               0\n",
            "NestedTensorBlock-138             [-1, 257, 384]               0\n",
            "       LayerNorm-139             [-1, 257, 384]             768\n",
            "          Linear-140            [-1, 257, 1152]         443,520\n",
            "          Linear-141             [-1, 257, 384]         147,840\n",
            "         Dropout-142             [-1, 257, 384]               0\n",
            " MemEffAttention-143             [-1, 257, 384]               0\n",
            "      LayerScale-144             [-1, 257, 384]               0\n",
            "       LayerNorm-145             [-1, 257, 384]             768\n",
            "          Linear-146            [-1, 257, 1536]         591,360\n",
            "            GELU-147            [-1, 257, 1536]               0\n",
            "         Dropout-148            [-1, 257, 1536]               0\n",
            "          Linear-149             [-1, 257, 384]         590,208\n",
            "         Dropout-150             [-1, 257, 384]               0\n",
            "             Mlp-151             [-1, 257, 384]               0\n",
            "      LayerScale-152             [-1, 257, 384]               0\n",
            "NestedTensorBlock-153             [-1, 257, 384]               0\n",
            "       LayerNorm-154             [-1, 257, 384]             768\n",
            "          Linear-155            [-1, 257, 1152]         443,520\n",
            "          Linear-156             [-1, 257, 384]         147,840\n",
            "         Dropout-157             [-1, 257, 384]               0\n",
            " MemEffAttention-158             [-1, 257, 384]               0\n",
            "      LayerScale-159             [-1, 257, 384]               0\n",
            "       LayerNorm-160             [-1, 257, 384]             768\n",
            "          Linear-161            [-1, 257, 1536]         591,360\n",
            "            GELU-162            [-1, 257, 1536]               0\n",
            "         Dropout-163            [-1, 257, 1536]               0\n",
            "          Linear-164             [-1, 257, 384]         590,208\n",
            "         Dropout-165             [-1, 257, 384]               0\n",
            "             Mlp-166             [-1, 257, 384]               0\n",
            "      LayerScale-167             [-1, 257, 384]               0\n",
            "NestedTensorBlock-168             [-1, 257, 384]               0\n",
            "       LayerNorm-169             [-1, 257, 384]             768\n",
            "          Linear-170            [-1, 257, 1152]         443,520\n",
            "          Linear-171             [-1, 257, 384]         147,840\n",
            "         Dropout-172             [-1, 257, 384]               0\n",
            " MemEffAttention-173             [-1, 257, 384]               0\n",
            "      LayerScale-174             [-1, 257, 384]               0\n",
            "       LayerNorm-175             [-1, 257, 384]             768\n",
            "          Linear-176            [-1, 257, 1536]         591,360\n",
            "            GELU-177            [-1, 257, 1536]               0\n",
            "         Dropout-178            [-1, 257, 1536]               0\n",
            "          Linear-179             [-1, 257, 384]         590,208\n",
            "         Dropout-180             [-1, 257, 384]               0\n",
            "             Mlp-181             [-1, 257, 384]               0\n",
            "      LayerScale-182             [-1, 257, 384]               0\n",
            "NestedTensorBlock-183             [-1, 257, 384]               0\n",
            "       LayerNorm-184             [-1, 257, 384]             768\n",
            "        Identity-185                  [-1, 384]               0\n",
            "DinoVisionTransformer-186                  [-1, 384]               0\n",
            "          Linear-187                 [-1, 2048]         788,480\n",
            "     BatchNorm1d-188                 [-1, 2048]           4,096\n",
            "            GELU-189                 [-1, 2048]               0\n",
            "         Dropout-190                 [-1, 2048]               0\n",
            "          Linear-191                 [-1, 2048]       4,196,352\n",
            "     BatchNorm1d-192                 [-1, 2048]           4,096\n",
            "            GELU-193                 [-1, 2048]               0\n",
            "         Dropout-194                 [-1, 2048]               0\n",
            "          Linear-195                 [-1, 2048]       4,196,352\n",
            "     BatchNorm1d-196                 [-1, 2048]           4,096\n",
            "            GELU-197                 [-1, 2048]               0\n",
            "         Dropout-198                 [-1, 2048]               0\n",
            "          Linear-199                 [-1, 1000]       2,049,000\n",
            "     BatchNorm1d-200                 [-1, 1000]           2,000\n",
            "            GELU-201                 [-1, 1000]               0\n",
            "         Dropout-202                 [-1, 1000]               0\n",
            "          Linear-203                    [-1, 4]           4,004\n",
            "================================================================\n",
            "Total params: 32,768,988\n",
            "Trainable params: 11,248,476\n",
            "Non-trainable params: 21,520,512\n",
            "----------------------------------------------------------------\n",
            "Input size (MB): 0.57\n",
            "Forward/backward pass size (MB): 238.14\n",
            "Params size (MB): 125.00\n",
            "Estimated Total Size (MB): 363.72\n",
            "----------------------------------------------------------------\n"
          ]
        }
      ],
      "source": [
        "model_name = type(model).__name__\n",
        "print(\"Model\", model_name, \"Statistics:\")\n",
        "summary(model, (input_channels, input_height, input_width))"
      ]
    },
    {
      "cell_type": "markdown",
      "metadata": {
        "id": "5IgNxKOu-LDf"
      },
      "source": [
        "**Set Hyper-Parameters Using Optuna**"
      ]
    },
    {
      "cell_type": "code",
      "execution_count": 8,
      "metadata": {
        "id": "gbHsApTN-LDf"
      },
      "outputs": [
        {
          "name": "stdout",
          "output_type": "stream",
          "text": [
            "{'lr': 6.917436540093293e-05, 'optimizer': 'Adam', 'batch_size': 64, 'scheduler': 'CosineAnnealingLR'}\n"
          ]
        }
      ],
      "source": [
        "load_existing_hyperparams = True\n",
        "\n",
        "if load_existing_hyperparams:\n",
        "    # Load hyper-parameters (relevant if optuna has already used)\n",
        "    optuna_params_path = f'./checkpoints/optuna_params/{model_name}/DINOv2_0.9073.json'\n",
        "    with open(optuna_params_path, 'r') as file:\n",
        "        hyperparams = json.load(file)\n",
        "else:\n",
        "    # Find optimal hyper-parameters using optuna\n",
        "    hyperparams = optuna_search.optuna_param_search(model_name=\"DINOv2\", loss_criterion=nn.CrossEntropyLoss(), num_epochs_for_experiments=10, device=device, transfer_learning=True)\n",
        "\n",
        "print(hyperparams)"
      ]
    },
    {
      "cell_type": "code",
      "execution_count": 9,
      "metadata": {
        "id": "zZJ3eTYHNxv3"
      },
      "outputs": [],
      "source": [
        "# Set hyper-parameters\n",
        "batch_size = hyperparams['batch_size']\n",
        "learning_rate = hyperparams['lr']\n",
        "optimizer_name = hyperparams['optimizer']\n",
        "optimizer = getattr(torch.optim, optimizer_name)(model.fc.parameters(), lr=learning_rate)\n",
        "num_epochs = 65\n",
        "scheduler = hyperparams['scheduler']\n",
        "scheduler = StepLR(optimizer, 10, 0.1, verbose=True) if scheduler == \"StepLR\" else CosineAnnealingLR(optimizer, num_epochs, verbose=True)\n",
        "\n",
        "criterion = nn.CrossEntropyLoss()"
      ]
    },
    {
      "cell_type": "markdown",
      "metadata": {
        "id": "FqhovXlwErj8"
      },
      "source": [
        "**Data Augmentations**"
      ]
    },
    {
      "cell_type": "code",
      "execution_count": 10,
      "metadata": {
        "id": "4F_MUSBBEwao"
      },
      "outputs": [],
      "source": [
        "augmentations = K.AugmentationSequential(\n",
        "    K.RandomHorizontalFlip(p=0.1),\n",
        "    K.RandomVerticalFlip(p=0.1),\n",
        "    K.RandomRotation(degrees=10, p=0.1),\n",
        "    K.RandomAffine(degrees=5, translate=(0.05, 0.05), scale=(0.95, 1.05), p=0.1),\n",
        "    K.RandomBrightness(brightness=(0.8, 1.2), p=0.1),\n",
        "    K.RandomContrast(contrast=(0.8, 1.2), p=0.1),\n",
        "    K.RandomGamma(gamma=(0.9, 1.1), p=0.1),\n",
        "    K.RandomSharpness(p=0.1),\n",
        "    same_on_batch=False\n",
        ")"
      ]
    },
    {
      "cell_type": "markdown",
      "metadata": {
        "id": "gfXa0erP-LDh"
      },
      "source": [
        "**Create Data Loaders**"
      ]
    },
    {
      "cell_type": "code",
      "execution_count": 11,
      "metadata": {
        "id": "osh9hV7S-LDh"
      },
      "outputs": [],
      "source": [
        "# Data loading and shuffling\n",
        "trainloader = torch.utils.data.DataLoader(train_set, batch_size=batch_size, shuffle=True, num_workers=4, pin_memory=True)\n",
        "validationloader = torch.utils.data.DataLoader(validation_set, batch_size=batch_size, shuffle=True, num_workers=4, pin_memory=True)\n",
        "testloader = torch.utils.data.DataLoader(test_set, batch_size=batch_size, shuffle=False, num_workers=4, pin_memory=True)"
      ]
    },
    {
      "cell_type": "markdown",
      "metadata": {
        "id": "0NMxcWt8WBVl"
      },
      "source": [
        "**Train Model**"
      ]
    },
    {
      "cell_type": "code",
      "execution_count": 12,
      "metadata": {
        "id": "RFzmKpCGODd8"
      },
      "outputs": [
        {
          "name": "stdout",
          "output_type": "stream",
          "text": [
            "Created training session directory: ./checkpoints/DINOv2_074712_09102024\n",
            "Training model: DINOv2 on cuda:0\n"
          ]
        },
        {
          "name": "stderr",
          "output_type": "stream",
          "text": [
            "Training: 100%|██████████| 128/128 [00:27<00:00,  4.62it/s]\n",
            "Validation: 100%|██████████| 32/32 [00:07<00:00,  4.16it/s]\n"
          ]
        },
        {
          "name": "stdout",
          "output_type": "stream",
          "text": [
            "Epoch: 1 | Training Loss: 0.5517 | Training Accuracy: 88.684% | Validation Loss: 0.4205 | Validation Accuracy: 83.887% | Epoch Time: 172.76 secs\n"
          ]
        },
        {
          "name": "stderr",
          "output_type": "stream",
          "text": [
            "Training: 100%|██████████| 128/128 [00:29<00:00,  4.39it/s]\n",
            "Validation: 100%|██████████| 32/32 [00:07<00:00,  4.03it/s]\n"
          ]
        },
        {
          "name": "stdout",
          "output_type": "stream",
          "text": [
            "Epoch: 2 | Training Loss: 0.3635 | Training Accuracy: 93.445% | Validation Loss: 0.3574 | Validation Accuracy: 86.768% | Epoch Time: 220.15 secs\n"
          ]
        },
        {
          "name": "stderr",
          "output_type": "stream",
          "text": [
            "Training: 100%|██████████| 128/128 [00:30<00:00,  4.25it/s]\n",
            "Validation: 100%|██████████| 32/32 [00:08<00:00,  3.98it/s]\n"
          ]
        },
        {
          "name": "stdout",
          "output_type": "stream",
          "text": [
            "Epoch: 3 | Training Loss: 0.2929 | Training Accuracy: 95.947% | Validation Loss: 0.3237 | Validation Accuracy: 88.867% | Epoch Time: 246.65 secs\n"
          ]
        },
        {
          "name": "stderr",
          "output_type": "stream",
          "text": [
            "Training: 100%|██████████| 128/128 [00:32<00:00,  3.90it/s]\n",
            "Validation: 100%|██████████| 32/32 [00:08<00:00,  3.94it/s]\n"
          ]
        },
        {
          "name": "stdout",
          "output_type": "stream",
          "text": [
            "Epoch: 4 | Training Loss: 0.2446 | Training Accuracy: 96.899% | Validation Loss: 0.3033 | Validation Accuracy: 90.723% | Epoch Time: 298.66 secs\n"
          ]
        },
        {
          "name": "stderr",
          "output_type": "stream",
          "text": [
            "Training: 100%|██████████| 128/128 [00:44<00:00,  2.86it/s]\n",
            "Validation: 100%|██████████| 32/32 [00:08<00:00,  3.87it/s]\n"
          ]
        },
        {
          "name": "stdout",
          "output_type": "stream",
          "text": [
            "Epoch: 5 | Training Loss: 0.2060 | Training Accuracy: 98.511% | Validation Loss: 0.2800 | Validation Accuracy: 92.090% | Epoch Time: 328.22 secs\n",
            "==> Saving model ...\n",
            "Saved as ./checkpoints/DINOv2_074712_09102024/DINOv2_080818_09102024_train_0.2060_val_0.2800.pth\n"
          ]
        },
        {
          "name": "stderr",
          "output_type": "stream",
          "text": [
            "Training: 100%|██████████| 128/128 [00:45<00:00,  2.79it/s]\n",
            "Validation: 100%|██████████| 32/32 [00:08<00:00,  3.94it/s]\n"
          ]
        },
        {
          "name": "stdout",
          "output_type": "stream",
          "text": [
            "Epoch: 6 | Training Loss: 0.1752 | Training Accuracy: 98.315% | Validation Loss: 0.2500 | Validation Accuracy: 91.357% | Epoch Time: 296.89 secs\n"
          ]
        },
        {
          "name": "stderr",
          "output_type": "stream",
          "text": [
            "Training: 100%|██████████| 128/128 [00:41<00:00,  3.06it/s]\n",
            "Validation: 100%|██████████| 32/32 [00:08<00:00,  3.94it/s]\n"
          ]
        },
        {
          "name": "stdout",
          "output_type": "stream",
          "text": [
            "Epoch: 7 | Training Loss: 0.1458 | Training Accuracy: 99.243% | Validation Loss: 0.2387 | Validation Accuracy: 93.359% | Epoch Time: 309.48 secs\n"
          ]
        },
        {
          "name": "stderr",
          "output_type": "stream",
          "text": [
            "Training: 100%|██████████| 128/128 [00:52<00:00,  2.44it/s]\n",
            "Validation: 100%|██████████| 32/32 [00:07<00:00,  4.03it/s]\n"
          ]
        },
        {
          "name": "stdout",
          "output_type": "stream",
          "text": [
            "Epoch: 8 | Training Loss: 0.1372 | Training Accuracy: 99.121% | Validation Loss: 0.2314 | Validation Accuracy: 92.383% | Epoch Time: 311.49 secs\n"
          ]
        },
        {
          "name": "stderr",
          "output_type": "stream",
          "text": [
            "Training: 100%|██████████| 128/128 [00:51<00:00,  2.47it/s]\n",
            "Validation: 100%|██████████| 32/32 [00:08<00:00,  3.93it/s]\n"
          ]
        },
        {
          "name": "stdout",
          "output_type": "stream",
          "text": [
            "Epoch: 9 | Training Loss: 0.1201 | Training Accuracy: 99.646% | Validation Loss: 0.2068 | Validation Accuracy: 93.945% | Epoch Time: 312.20 secs\n"
          ]
        },
        {
          "name": "stderr",
          "output_type": "stream",
          "text": [
            "Training: 100%|██████████| 128/128 [00:41<00:00,  3.08it/s]\n",
            "Validation: 100%|██████████| 32/32 [00:07<00:00,  4.03it/s]\n"
          ]
        },
        {
          "name": "stdout",
          "output_type": "stream",
          "text": [
            "Epoch: 10 | Training Loss: 0.1098 | Training Accuracy: 99.548% | Validation Loss: 0.2031 | Validation Accuracy: 92.822% | Epoch Time: 328.67 secs\n",
            "==> Saving model ...\n",
            "Saved as ./checkpoints/DINOv2_074712_09102024/DINOv2_083417_09102024_train_0.1098_val_0.2031.pth\n"
          ]
        },
        {
          "name": "stderr",
          "output_type": "stream",
          "text": [
            "Training: 100%|██████████| 128/128 [00:36<00:00,  3.46it/s]\n",
            "Validation: 100%|██████████| 32/32 [00:07<00:00,  4.00it/s]\n"
          ]
        },
        {
          "name": "stdout",
          "output_type": "stream",
          "text": [
            "Epoch: 11 | Training Loss: 0.0949 | Training Accuracy: 99.719% | Validation Loss: 0.1845 | Validation Accuracy: 94.531% | Epoch Time: 319.40 secs\n"
          ]
        },
        {
          "name": "stderr",
          "output_type": "stream",
          "text": [
            "Training: 100%|██████████| 128/128 [00:48<00:00,  2.66it/s]\n",
            "Validation: 100%|██████████| 32/32 [00:08<00:00,  3.95it/s]\n"
          ]
        },
        {
          "name": "stdout",
          "output_type": "stream",
          "text": [
            "Epoch: 12 | Training Loss: 0.0952 | Training Accuracy: 99.963% | Validation Loss: 0.1859 | Validation Accuracy: 95.020% | Epoch Time: 324.87 secs\n"
          ]
        },
        {
          "name": "stderr",
          "output_type": "stream",
          "text": [
            "Training: 100%|██████████| 128/128 [00:40<00:00,  3.16it/s]\n",
            "Validation: 100%|██████████| 32/32 [00:07<00:00,  4.07it/s]\n"
          ]
        },
        {
          "name": "stdout",
          "output_type": "stream",
          "text": [
            "Epoch: 13 | Training Loss: 0.0830 | Training Accuracy: 99.780% | Validation Loss: 0.2072 | Validation Accuracy: 94.482% | Epoch Time: 323.60 secs\n"
          ]
        },
        {
          "name": "stderr",
          "output_type": "stream",
          "text": [
            "Training: 100%|██████████| 128/128 [00:50<00:00,  2.51it/s]\n",
            "Validation: 100%|██████████| 32/32 [00:08<00:00,  3.97it/s]\n"
          ]
        },
        {
          "name": "stdout",
          "output_type": "stream",
          "text": [
            "Epoch: 14 | Training Loss: 0.0891 | Training Accuracy: 99.854% | Validation Loss: 0.2000 | Validation Accuracy: 93.896% | Epoch Time: 331.48 secs\n"
          ]
        },
        {
          "name": "stderr",
          "output_type": "stream",
          "text": [
            "Training: 100%|██████████| 128/128 [00:48<00:00,  2.64it/s]\n",
            "Validation: 100%|██████████| 32/32 [00:08<00:00,  3.74it/s]\n"
          ]
        },
        {
          "name": "stdout",
          "output_type": "stream",
          "text": [
            "Epoch: 15 | Training Loss: 0.0793 | Training Accuracy: 99.951% | Validation Loss: 0.1765 | Validation Accuracy: 95.557% | Epoch Time: 345.00 secs\n",
            "==> Saving model ...\n",
            "Saved as ./checkpoints/DINOv2_074712_09102024/DINOv2_090142_09102024_train_0.0793_val_0.1765.pth\n"
          ]
        },
        {
          "name": "stderr",
          "output_type": "stream",
          "text": [
            "Training: 100%|██████████| 128/128 [00:45<00:00,  2.79it/s]\n",
            "Validation: 100%|██████████| 32/32 [00:08<00:00,  3.89it/s]\n"
          ]
        },
        {
          "name": "stdout",
          "output_type": "stream",
          "text": [
            "Epoch: 16 | Training Loss: 0.0808 | Training Accuracy: 99.915% | Validation Loss: 0.1660 | Validation Accuracy: 95.410% | Epoch Time: 357.23 secs\n"
          ]
        },
        {
          "name": "stderr",
          "output_type": "stream",
          "text": [
            "Training: 100%|██████████| 128/128 [00:45<00:00,  2.81it/s]\n",
            "Validation: 100%|██████████| 32/32 [00:08<00:00,  3.98it/s]\n"
          ]
        },
        {
          "name": "stdout",
          "output_type": "stream",
          "text": [
            "Epoch: 17 | Training Loss: 0.0642 | Training Accuracy: 99.878% | Validation Loss: 0.2064 | Validation Accuracy: 93.994% | Epoch Time: 342.96 secs\n"
          ]
        },
        {
          "name": "stderr",
          "output_type": "stream",
          "text": [
            "Training: 100%|██████████| 128/128 [00:48<00:00,  2.64it/s]\n",
            "Validation: 100%|██████████| 32/32 [00:08<00:00,  3.96it/s]\n"
          ]
        },
        {
          "name": "stdout",
          "output_type": "stream",
          "text": [
            "Epoch: 18 | Training Loss: 0.0666 | Training Accuracy: 99.976% | Validation Loss: 0.1769 | Validation Accuracy: 95.264% | Epoch Time: 349.98 secs\n"
          ]
        },
        {
          "name": "stderr",
          "output_type": "stream",
          "text": [
            "Training: 100%|██████████| 128/128 [00:43<00:00,  2.92it/s]\n",
            "Validation: 100%|██████████| 32/32 [00:08<00:00,  3.91it/s]\n"
          ]
        },
        {
          "name": "stdout",
          "output_type": "stream",
          "text": [
            "Epoch: 19 | Training Loss: 0.0642 | Training Accuracy: 100.000% | Validation Loss: 0.1612 | Validation Accuracy: 95.801% | Epoch Time: 335.94 secs\n"
          ]
        },
        {
          "name": "stderr",
          "output_type": "stream",
          "text": [
            "Training: 100%|██████████| 128/128 [00:53<00:00,  2.39it/s]\n",
            "Validation: 100%|██████████| 32/32 [00:08<00:00,  3.94it/s]\n"
          ]
        },
        {
          "name": "stdout",
          "output_type": "stream",
          "text": [
            "Epoch: 20 | Training Loss: 0.0583 | Training Accuracy: 99.951% | Validation Loss: 0.1711 | Validation Accuracy: 95.898% | Epoch Time: 330.49 secs\n",
            "==> Saving model ...\n",
            "Saved as ./checkpoints/DINOv2_074712_09102024/DINOv2_093019_09102024_train_0.0583_val_0.1711.pth\n"
          ]
        },
        {
          "name": "stderr",
          "output_type": "stream",
          "text": [
            "Training: 100%|██████████| 128/128 [00:46<00:00,  2.76it/s]\n",
            "Validation: 100%|██████████| 32/32 [00:08<00:00,  3.92it/s]\n"
          ]
        },
        {
          "name": "stdout",
          "output_type": "stream",
          "text": [
            "Epoch: 21 | Training Loss: 0.0518 | Training Accuracy: 100.000% | Validation Loss: 0.1727 | Validation Accuracy: 95.361% | Epoch Time: 340.71 secs\n"
          ]
        },
        {
          "name": "stderr",
          "output_type": "stream",
          "text": [
            "Training: 100%|██████████| 128/128 [00:50<00:00,  2.52it/s]\n",
            "Validation: 100%|██████████| 32/32 [00:08<00:00,  4.00it/s]\n"
          ]
        },
        {
          "name": "stdout",
          "output_type": "stream",
          "text": [
            "Epoch: 22 | Training Loss: 0.0560 | Training Accuracy: 99.963% | Validation Loss: 0.1743 | Validation Accuracy: 95.410% | Epoch Time: 342.79 secs\n"
          ]
        },
        {
          "name": "stderr",
          "output_type": "stream",
          "text": [
            "Training: 100%|██████████| 128/128 [00:49<00:00,  2.60it/s]\n",
            "Validation: 100%|██████████| 32/32 [00:08<00:00,  3.93it/s]\n"
          ]
        },
        {
          "name": "stdout",
          "output_type": "stream",
          "text": [
            "Epoch: 23 | Training Loss: 0.0526 | Training Accuracy: 99.744% | Validation Loss: 0.1856 | Validation Accuracy: 94.971% | Epoch Time: 348.74 secs\n"
          ]
        },
        {
          "name": "stderr",
          "output_type": "stream",
          "text": [
            "Training: 100%|██████████| 128/128 [00:48<00:00,  2.65it/s]\n",
            "Validation: 100%|██████████| 32/32 [00:08<00:00,  3.87it/s]\n"
          ]
        },
        {
          "name": "stdout",
          "output_type": "stream",
          "text": [
            "Epoch: 24 | Training Loss: 0.0552 | Training Accuracy: 100.000% | Validation Loss: 0.1623 | Validation Accuracy: 95.264% | Epoch Time: 344.65 secs\n"
          ]
        },
        {
          "name": "stderr",
          "output_type": "stream",
          "text": [
            "Training: 100%|██████████| 128/128 [00:49<00:00,  2.61it/s]\n",
            "Validation: 100%|██████████| 32/32 [00:07<00:00,  4.03it/s]\n"
          ]
        },
        {
          "name": "stdout",
          "output_type": "stream",
          "text": [
            "Epoch: 25 | Training Loss: 0.0447 | Training Accuracy: 99.988% | Validation Loss: 0.1628 | Validation Accuracy: 95.898% | Epoch Time: 353.70 secs\n",
            "==> Saving model ...\n",
            "Saved as ./checkpoints/DINOv2_074712_09102024/DINOv2_095910_09102024_train_0.0447_val_0.1628.pth\n"
          ]
        },
        {
          "name": "stderr",
          "output_type": "stream",
          "text": [
            "Training: 100%|██████████| 128/128 [00:50<00:00,  2.53it/s]\n",
            "Validation: 100%|██████████| 32/32 [00:08<00:00,  3.95it/s]\n"
          ]
        },
        {
          "name": "stdout",
          "output_type": "stream",
          "text": [
            "Epoch: 26 | Training Loss: 0.0443 | Training Accuracy: 99.963% | Validation Loss: 0.1852 | Validation Accuracy: 95.898% | Epoch Time: 347.11 secs\n"
          ]
        },
        {
          "name": "stderr",
          "output_type": "stream",
          "text": [
            "Training: 100%|██████████| 128/128 [00:47<00:00,  2.67it/s]\n",
            "Validation: 100%|██████████| 32/32 [00:08<00:00,  3.98it/s]\n"
          ]
        },
        {
          "name": "stdout",
          "output_type": "stream",
          "text": [
            "Epoch: 27 | Training Loss: 0.0400 | Training Accuracy: 99.951% | Validation Loss: 0.1682 | Validation Accuracy: 95.361% | Epoch Time: 352.47 secs\n"
          ]
        },
        {
          "name": "stderr",
          "output_type": "stream",
          "text": [
            "Training: 100%|██████████| 128/128 [00:46<00:00,  2.76it/s]\n",
            "Validation: 100%|██████████| 32/32 [00:08<00:00,  3.92it/s]\n"
          ]
        },
        {
          "name": "stdout",
          "output_type": "stream",
          "text": [
            "Epoch: 28 | Training Loss: 0.0402 | Training Accuracy: 99.988% | Validation Loss: 0.1611 | Validation Accuracy: 95.557% | Epoch Time: 330.13 secs\n"
          ]
        },
        {
          "name": "stderr",
          "output_type": "stream",
          "text": [
            "Training: 100%|██████████| 128/128 [00:47<00:00,  2.68it/s]\n",
            "Validation: 100%|██████████| 32/32 [00:08<00:00,  3.92it/s]\n"
          ]
        },
        {
          "name": "stdout",
          "output_type": "stream",
          "text": [
            "Epoch: 29 | Training Loss: 0.0400 | Training Accuracy: 99.988% | Validation Loss: 0.1685 | Validation Accuracy: 95.850% | Epoch Time: 343.34 secs\n"
          ]
        },
        {
          "name": "stderr",
          "output_type": "stream",
          "text": [
            "Training: 100%|██████████| 128/128 [00:42<00:00,  3.03it/s]\n",
            "Validation: 100%|██████████| 32/32 [00:08<00:00,  3.92it/s]\n"
          ]
        },
        {
          "name": "stdout",
          "output_type": "stream",
          "text": [
            "Epoch: 30 | Training Loss: 0.0429 | Training Accuracy: 100.000% | Validation Loss: 0.1488 | Validation Accuracy: 95.801% | Epoch Time: 353.66 secs\n",
            "==> Saving model ...\n",
            "Saved as ./checkpoints/DINOv2_074712_09102024/DINOv2_102757_09102024_train_0.0429_val_0.1488.pth\n"
          ]
        },
        {
          "name": "stderr",
          "output_type": "stream",
          "text": [
            "Training: 100%|██████████| 128/128 [00:43<00:00,  2.94it/s]\n",
            "Validation: 100%|██████████| 32/32 [00:08<00:00,  3.98it/s]\n"
          ]
        },
        {
          "name": "stdout",
          "output_type": "stream",
          "text": [
            "Epoch: 31 | Training Loss: 0.0341 | Training Accuracy: 100.000% | Validation Loss: 0.1774 | Validation Accuracy: 95.850% | Epoch Time: 343.62 secs\n"
          ]
        },
        {
          "name": "stderr",
          "output_type": "stream",
          "text": [
            "Training: 100%|██████████| 128/128 [00:48<00:00,  2.62it/s]\n",
            "Validation: 100%|██████████| 32/32 [00:07<00:00,  4.01it/s]\n"
          ]
        },
        {
          "name": "stdout",
          "output_type": "stream",
          "text": [
            "Epoch: 32 | Training Loss: 0.0299 | Training Accuracy: 100.000% | Validation Loss: 0.1553 | Validation Accuracy: 95.947% | Epoch Time: 353.72 secs\n"
          ]
        },
        {
          "name": "stderr",
          "output_type": "stream",
          "text": [
            "Training: 100%|██████████| 128/128 [00:50<00:00,  2.51it/s]\n",
            "Validation: 100%|██████████| 32/32 [00:08<00:00,  3.94it/s]\n"
          ]
        },
        {
          "name": "stdout",
          "output_type": "stream",
          "text": [
            "Epoch: 33 | Training Loss: 0.0316 | Training Accuracy: 100.000% | Validation Loss: 0.1372 | Validation Accuracy: 96.289% | Epoch Time: 337.45 secs\n"
          ]
        },
        {
          "name": "stderr",
          "output_type": "stream",
          "text": [
            "Training: 100%|██████████| 128/128 [00:48<00:00,  2.62it/s]\n",
            "Validation: 100%|██████████| 32/32 [00:07<00:00,  4.02it/s]\n"
          ]
        },
        {
          "name": "stdout",
          "output_type": "stream",
          "text": [
            "Epoch: 34 | Training Loss: 0.0298 | Training Accuracy: 100.000% | Validation Loss: 0.1442 | Validation Accuracy: 96.240% | Epoch Time: 340.66 secs\n"
          ]
        },
        {
          "name": "stderr",
          "output_type": "stream",
          "text": [
            "Training: 100%|██████████| 128/128 [00:54<00:00,  2.34it/s]\n",
            "Validation: 100%|██████████| 32/32 [00:08<00:00,  3.86it/s]\n"
          ]
        },
        {
          "name": "stdout",
          "output_type": "stream",
          "text": [
            "Epoch: 35 | Training Loss: 0.0323 | Training Accuracy: 100.000% | Validation Loss: 0.1518 | Validation Accuracy: 96.484% | Epoch Time: 344.91 secs\n",
            "==> Saving model ...\n",
            "Saved as ./checkpoints/DINOv2_074712_09102024/DINOv2_105638_09102024_train_0.0323_val_0.1518.pth\n"
          ]
        },
        {
          "name": "stderr",
          "output_type": "stream",
          "text": [
            "Training: 100%|██████████| 128/128 [01:00<00:00,  2.12it/s]\n",
            "Validation: 100%|██████████| 32/32 [00:08<00:00,  3.57it/s]\n"
          ]
        },
        {
          "name": "stdout",
          "output_type": "stream",
          "text": [
            "Epoch: 36 | Training Loss: 0.0269 | Training Accuracy: 100.000% | Validation Loss: 0.1392 | Validation Accuracy: 96.631% | Epoch Time: 338.83 secs\n"
          ]
        },
        {
          "name": "stderr",
          "output_type": "stream",
          "text": [
            "Training: 100%|██████████| 128/128 [00:49<00:00,  2.59it/s]\n",
            "Validation: 100%|██████████| 32/32 [00:08<00:00,  3.96it/s]\n"
          ]
        },
        {
          "name": "stdout",
          "output_type": "stream",
          "text": [
            "Epoch: 37 | Training Loss: 0.0274 | Training Accuracy: 100.000% | Validation Loss: 0.1163 | Validation Accuracy: 97.021% | Epoch Time: 347.50 secs\n"
          ]
        },
        {
          "name": "stderr",
          "output_type": "stream",
          "text": [
            "Training: 100%|██████████| 128/128 [00:48<00:00,  2.64it/s]\n",
            "Validation: 100%|██████████| 32/32 [00:07<00:00,  4.07it/s]\n"
          ]
        },
        {
          "name": "stdout",
          "output_type": "stream",
          "text": [
            "Epoch: 38 | Training Loss: 0.0225 | Training Accuracy: 100.000% | Validation Loss: 0.1220 | Validation Accuracy: 96.631% | Epoch Time: 351.77 secs\n"
          ]
        },
        {
          "name": "stderr",
          "output_type": "stream",
          "text": [
            "Training: 100%|██████████| 128/128 [00:49<00:00,  2.60it/s]\n",
            "Validation: 100%|██████████| 32/32 [00:08<00:00,  3.83it/s]\n"
          ]
        },
        {
          "name": "stdout",
          "output_type": "stream",
          "text": [
            "Epoch: 39 | Training Loss: 0.0304 | Training Accuracy: 100.000% | Validation Loss: 0.1189 | Validation Accuracy: 97.168% | Epoch Time: 347.12 secs\n"
          ]
        },
        {
          "name": "stderr",
          "output_type": "stream",
          "text": [
            "Training: 100%|██████████| 128/128 [00:49<00:00,  2.60it/s]\n",
            "Validation: 100%|██████████| 32/32 [00:08<00:00,  3.94it/s]\n"
          ]
        },
        {
          "name": "stdout",
          "output_type": "stream",
          "text": [
            "Epoch: 40 | Training Loss: 0.0206 | Training Accuracy: 100.000% | Validation Loss: 0.1286 | Validation Accuracy: 96.875% | Epoch Time: 355.40 secs\n",
            "==> Saving model ...\n",
            "Saved as ./checkpoints/DINOv2_074712_09102024/DINOv2_112538_09102024_train_0.0206_val_0.1286.pth\n"
          ]
        },
        {
          "name": "stderr",
          "output_type": "stream",
          "text": [
            "Training: 100%|██████████| 128/128 [00:55<00:00,  2.29it/s]\n",
            "Validation: 100%|██████████| 32/32 [00:08<00:00,  3.88it/s]\n"
          ]
        },
        {
          "name": "stdout",
          "output_type": "stream",
          "text": [
            "Epoch: 41 | Training Loss: 0.0189 | Training Accuracy: 100.000% | Validation Loss: 0.1128 | Validation Accuracy: 97.266% | Epoch Time: 363.56 secs\n"
          ]
        },
        {
          "name": "stderr",
          "output_type": "stream",
          "text": [
            "Training: 100%|██████████| 128/128 [00:47<00:00,  2.67it/s]\n",
            "Validation: 100%|██████████| 32/32 [00:08<00:00,  3.94it/s]\n"
          ]
        },
        {
          "name": "stdout",
          "output_type": "stream",
          "text": [
            "Epoch: 42 | Training Loss: 0.0193 | Training Accuracy: 100.000% | Validation Loss: 0.1111 | Validation Accuracy: 97.119% | Epoch Time: 360.90 secs\n"
          ]
        },
        {
          "name": "stderr",
          "output_type": "stream",
          "text": [
            "Training: 100%|██████████| 128/128 [00:51<00:00,  2.47it/s]\n",
            "Validation: 100%|██████████| 32/32 [00:07<00:00,  4.02it/s]\n"
          ]
        },
        {
          "name": "stdout",
          "output_type": "stream",
          "text": [
            "Epoch: 43 | Training Loss: 0.0197 | Training Accuracy: 100.000% | Validation Loss: 0.1072 | Validation Accuracy: 97.559% | Epoch Time: 357.46 secs\n"
          ]
        },
        {
          "name": "stderr",
          "output_type": "stream",
          "text": [
            "Training: 100%|██████████| 128/128 [00:57<00:00,  2.24it/s]\n",
            "Validation: 100%|██████████| 32/32 [00:08<00:00,  3.81it/s]\n"
          ]
        },
        {
          "name": "stdout",
          "output_type": "stream",
          "text": [
            "Epoch: 44 | Training Loss: 0.0210 | Training Accuracy: 100.000% | Validation Loss: 0.1178 | Validation Accuracy: 97.412% | Epoch Time: 385.55 secs\n"
          ]
        },
        {
          "name": "stderr",
          "output_type": "stream",
          "text": [
            "Training: 100%|██████████| 128/128 [00:49<00:00,  2.56it/s]\n",
            "Validation: 100%|██████████| 32/32 [00:08<00:00,  3.87it/s]\n"
          ]
        },
        {
          "name": "stdout",
          "output_type": "stream",
          "text": [
            "Epoch: 45 | Training Loss: 0.0212 | Training Accuracy: 100.000% | Validation Loss: 0.1253 | Validation Accuracy: 97.217% | Epoch Time: 364.61 secs\n",
            "==> Saving model ...\n",
            "Saved as ./checkpoints/DINOv2_074712_09102024/DINOv2_115611_09102024_train_0.0212_val_0.1253.pth\n"
          ]
        },
        {
          "name": "stderr",
          "output_type": "stream",
          "text": [
            "Training: 100%|██████████| 128/128 [00:48<00:00,  2.62it/s]\n",
            "Validation: 100%|██████████| 32/32 [00:08<00:00,  3.99it/s]\n"
          ]
        },
        {
          "name": "stdout",
          "output_type": "stream",
          "text": [
            "Epoch: 46 | Training Loss: 0.0173 | Training Accuracy: 100.000% | Validation Loss: 0.1135 | Validation Accuracy: 97.119% | Epoch Time: 351.44 secs\n"
          ]
        },
        {
          "name": "stderr",
          "output_type": "stream",
          "text": [
            "Training: 100%|██████████| 128/128 [00:46<00:00,  2.77it/s]\n",
            "Validation: 100%|██████████| 32/32 [00:08<00:00,  3.90it/s]\n"
          ]
        },
        {
          "name": "stdout",
          "output_type": "stream",
          "text": [
            "Epoch: 47 | Training Loss: 0.0154 | Training Accuracy: 100.000% | Validation Loss: 0.1137 | Validation Accuracy: 97.168% | Epoch Time: 357.22 secs\n"
          ]
        },
        {
          "name": "stderr",
          "output_type": "stream",
          "text": [
            "Training: 100%|██████████| 128/128 [00:56<00:00,  2.28it/s]\n",
            "Validation: 100%|██████████| 32/32 [00:08<00:00,  3.95it/s]\n"
          ]
        },
        {
          "name": "stdout",
          "output_type": "stream",
          "text": [
            "Epoch: 48 | Training Loss: 0.0209 | Training Accuracy: 100.000% | Validation Loss: 0.1037 | Validation Accuracy: 97.070% | Epoch Time: 369.14 secs\n"
          ]
        },
        {
          "name": "stderr",
          "output_type": "stream",
          "text": [
            "Training: 100%|██████████| 128/128 [00:47<00:00,  2.68it/s]\n",
            "Validation: 100%|██████████| 32/32 [00:08<00:00,  3.86it/s]\n"
          ]
        },
        {
          "name": "stdout",
          "output_type": "stream",
          "text": [
            "Epoch: 49 | Training Loss: 0.0175 | Training Accuracy: 100.000% | Validation Loss: 0.1062 | Validation Accuracy: 97.314% | Epoch Time: 382.15 secs\n"
          ]
        },
        {
          "name": "stderr",
          "output_type": "stream",
          "text": [
            "Training: 100%|██████████| 128/128 [00:51<00:00,  2.48it/s]\n",
            "Validation: 100%|██████████| 32/32 [00:08<00:00,  3.90it/s]\n"
          ]
        },
        {
          "name": "stdout",
          "output_type": "stream",
          "text": [
            "Epoch: 50 | Training Loss: 0.0158 | Training Accuracy: 100.000% | Validation Loss: 0.0926 | Validation Accuracy: 97.510% | Epoch Time: 367.10 secs\n",
            "==> Saving model ...\n",
            "Saved as ./checkpoints/DINOv2_074712_09102024/DINOv2_122638_09102024_train_0.0158_val_0.0926.pth\n"
          ]
        },
        {
          "name": "stderr",
          "output_type": "stream",
          "text": [
            "Training: 100%|██████████| 128/128 [00:57<00:00,  2.22it/s]\n",
            "Validation: 100%|██████████| 32/32 [00:08<00:00,  3.86it/s]\n"
          ]
        },
        {
          "name": "stdout",
          "output_type": "stream",
          "text": [
            "Epoch: 51 | Training Loss: 0.0168 | Training Accuracy: 100.000% | Validation Loss: 0.0990 | Validation Accuracy: 97.510% | Epoch Time: 384.36 secs\n"
          ]
        },
        {
          "name": "stderr",
          "output_type": "stream",
          "text": [
            "Training: 100%|██████████| 128/128 [00:53<00:00,  2.41it/s]\n",
            "Validation: 100%|██████████| 32/32 [00:08<00:00,  3.85it/s]\n"
          ]
        },
        {
          "name": "stdout",
          "output_type": "stream",
          "text": [
            "Epoch: 52 | Training Loss: 0.0132 | Training Accuracy: 100.000% | Validation Loss: 0.1070 | Validation Accuracy: 97.119% | Epoch Time: 367.03 secs\n"
          ]
        },
        {
          "name": "stderr",
          "output_type": "stream",
          "text": [
            "Training: 100%|██████████| 128/128 [00:59<00:00,  2.13it/s]\n",
            "Validation: 100%|██████████| 32/32 [00:08<00:00,  3.90it/s]\n"
          ]
        },
        {
          "name": "stdout",
          "output_type": "stream",
          "text": [
            "Epoch: 53 | Training Loss: 0.0137 | Training Accuracy: 100.000% | Validation Loss: 0.0982 | Validation Accuracy: 97.510% | Epoch Time: 362.04 secs\n"
          ]
        },
        {
          "name": "stderr",
          "output_type": "stream",
          "text": [
            "Training: 100%|██████████| 128/128 [00:49<00:00,  2.58it/s]\n",
            "Validation: 100%|██████████| 32/32 [00:08<00:00,  3.84it/s]\n"
          ]
        },
        {
          "name": "stdout",
          "output_type": "stream",
          "text": [
            "Epoch: 54 | Training Loss: 0.0128 | Training Accuracy: 100.000% | Validation Loss: 0.0989 | Validation Accuracy: 97.412% | Epoch Time: 374.62 secs\n"
          ]
        },
        {
          "name": "stderr",
          "output_type": "stream",
          "text": [
            "Training: 100%|██████████| 128/128 [00:43<00:00,  2.97it/s]\n",
            "Validation: 100%|██████████| 32/32 [00:08<00:00,  3.82it/s]\n"
          ]
        },
        {
          "name": "stdout",
          "output_type": "stream",
          "text": [
            "Epoch: 55 | Training Loss: 0.0111 | Training Accuracy: 100.000% | Validation Loss: 0.1162 | Validation Accuracy: 97.461% | Epoch Time: 370.94 secs\n",
            "==> Saving model ...\n",
            "Saved as ./checkpoints/DINOv2_074712_09102024/DINOv2_125738_09102024_train_0.0111_val_0.1162.pth\n"
          ]
        },
        {
          "name": "stderr",
          "output_type": "stream",
          "text": [
            "Training: 100%|██████████| 128/128 [00:49<00:00,  2.59it/s]\n",
            "Validation: 100%|██████████| 32/32 [00:08<00:00,  3.84it/s]\n"
          ]
        },
        {
          "name": "stdout",
          "output_type": "stream",
          "text": [
            "Epoch: 56 | Training Loss: 0.0153 | Training Accuracy: 100.000% | Validation Loss: 0.1128 | Validation Accuracy: 97.412% | Epoch Time: 378.78 secs\n"
          ]
        },
        {
          "name": "stderr",
          "output_type": "stream",
          "text": [
            "Training: 100%|██████████| 128/128 [00:58<00:00,  2.18it/s]\n",
            "Validation: 100%|██████████| 32/32 [00:08<00:00,  3.85it/s]\n"
          ]
        },
        {
          "name": "stdout",
          "output_type": "stream",
          "text": [
            "Epoch: 57 | Training Loss: 0.0137 | Training Accuracy: 100.000% | Validation Loss: 0.1068 | Validation Accuracy: 97.461% | Epoch Time: 393.83 secs\n"
          ]
        },
        {
          "name": "stderr",
          "output_type": "stream",
          "text": [
            "Training: 100%|██████████| 128/128 [00:54<00:00,  2.35it/s]\n",
            "Validation: 100%|██████████| 32/32 [00:08<00:00,  3.83it/s]\n"
          ]
        },
        {
          "name": "stdout",
          "output_type": "stream",
          "text": [
            "Epoch: 58 | Training Loss: 0.0142 | Training Accuracy: 100.000% | Validation Loss: 0.1054 | Validation Accuracy: 97.461% | Epoch Time: 359.96 secs\n"
          ]
        },
        {
          "name": "stderr",
          "output_type": "stream",
          "text": [
            "Training: 100%|██████████| 128/128 [00:57<00:00,  2.23it/s]\n",
            "Validation: 100%|██████████| 32/32 [00:08<00:00,  3.75it/s]\n"
          ]
        },
        {
          "name": "stdout",
          "output_type": "stream",
          "text": [
            "Epoch: 59 | Training Loss: 0.0108 | Training Accuracy: 100.000% | Validation Loss: 0.1124 | Validation Accuracy: 97.559% | Epoch Time: 380.56 secs\n"
          ]
        },
        {
          "name": "stderr",
          "output_type": "stream",
          "text": [
            "Training: 100%|██████████| 128/128 [00:58<00:00,  2.17it/s]\n",
            "Validation: 100%|██████████| 32/32 [00:08<00:00,  3.79it/s]\n"
          ]
        },
        {
          "name": "stdout",
          "output_type": "stream",
          "text": [
            "Epoch: 60 | Training Loss: 0.0117 | Training Accuracy: 100.000% | Validation Loss: 0.0896 | Validation Accuracy: 97.607% | Epoch Time: 401.62 secs\n",
            "==> Saving model ...\n",
            "Saved as ./checkpoints/DINOv2_074712_09102024/DINOv2_132933_09102024_train_0.0117_val_0.0896.pth\n"
          ]
        },
        {
          "name": "stderr",
          "output_type": "stream",
          "text": [
            "Training: 100%|██████████| 128/128 [00:59<00:00,  2.15it/s]\n",
            "Validation: 100%|██████████| 32/32 [00:08<00:00,  3.74it/s]\n"
          ]
        },
        {
          "name": "stdout",
          "output_type": "stream",
          "text": [
            "Epoch: 61 | Training Loss: 0.0126 | Training Accuracy: 100.000% | Validation Loss: 0.0943 | Validation Accuracy: 97.559% | Epoch Time: 399.73 secs\n"
          ]
        },
        {
          "name": "stderr",
          "output_type": "stream",
          "text": [
            "Training: 100%|██████████| 128/128 [01:01<00:00,  2.07it/s]\n",
            "Validation: 100%|██████████| 32/32 [00:08<00:00,  3.77it/s]\n"
          ]
        },
        {
          "name": "stdout",
          "output_type": "stream",
          "text": [
            "Epoch: 62 | Training Loss: 0.0132 | Training Accuracy: 100.000% | Validation Loss: 0.1046 | Validation Accuracy: 97.559% | Epoch Time: 381.14 secs\n"
          ]
        },
        {
          "name": "stderr",
          "output_type": "stream",
          "text": [
            "Training: 100%|██████████| 128/128 [00:49<00:00,  2.61it/s]\n",
            "Validation: 100%|██████████| 32/32 [00:08<00:00,  3.69it/s]\n"
          ]
        },
        {
          "name": "stdout",
          "output_type": "stream",
          "text": [
            "Epoch: 63 | Training Loss: 0.0152 | Training Accuracy: 100.000% | Validation Loss: 0.1053 | Validation Accuracy: 97.559% | Epoch Time: 388.09 secs\n"
          ]
        },
        {
          "name": "stderr",
          "output_type": "stream",
          "text": [
            "Training: 100%|██████████| 128/128 [00:55<00:00,  2.31it/s]\n",
            "Validation: 100%|██████████| 32/32 [00:08<00:00,  3.83it/s]\n"
          ]
        },
        {
          "name": "stdout",
          "output_type": "stream",
          "text": [
            "Epoch: 64 | Training Loss: 0.0108 | Training Accuracy: 100.000% | Validation Loss: 0.1041 | Validation Accuracy: 97.559% | Epoch Time: 402.82 secs\n"
          ]
        },
        {
          "name": "stderr",
          "output_type": "stream",
          "text": [
            "Training: 100%|██████████| 128/128 [00:58<00:00,  2.18it/s]\n",
            "Validation: 100%|██████████| 32/32 [00:08<00:00,  3.66it/s]\n"
          ]
        },
        {
          "name": "stdout",
          "output_type": "stream",
          "text": [
            "Epoch: 65 | Training Loss: 0.0121 | Training Accuracy: 100.000% | Validation Loss: 0.0937 | Validation Accuracy: 97.656% | Epoch Time: 398.60 secs\n",
            "==> Saving model ...\n",
            "Saved as ./checkpoints/DINOv2_074712_09102024/DINOv2_140224_09102024_train_0.0121_val_0.0937.pth\n"
          ]
        }
      ],
      "source": [
        "load_existing_params = False\n",
        "train_loaded_model = False\n",
        "\n",
        "if load_existing_params:\n",
        "    model_path = './checkpoints/DINOv2_015151_06102024/DINOv2_042140_06102024_train_0.0226_val_0.1180.pth'\n",
        "    checkpoint = torch.load(model_path, weights_only=True)\n",
        "    model.load_state_dict(checkpoint['net'])\n",
        "    if (train_loaded_model):\n",
        "        epoch_train_losses, epoch_validation_losses, epoch_train_accuracies, epoch_validation_accuracies = utils_funcs.train_model(model, num_epochs, trainloader, validationloader, device, criterion, optimizer, scheduler, augmentations, use_amp=True)\n",
        "else:\n",
        "    epoch_train_losses, epoch_validation_losses, epoch_train_accuracies, epoch_validation_accuracies = utils_funcs.train_model(model, num_epochs, trainloader, validationloader, device, criterion, optimizer, scheduler, augmentations, use_amp=True)"
      ]
    },
    {
      "cell_type": "markdown",
      "metadata": {
        "id": "EbJ0dBbeVkzF"
      },
      "source": [
        "**Results**"
      ]
    },
    {
      "cell_type": "code",
      "execution_count": 13,
      "metadata": {
        "id": "bWniJm-0VgEz"
      },
      "outputs": [
        {
          "name": "stdout",
          "output_type": "stream",
          "text": [
            "Test accuracy: 96.013%\n"
          ]
        }
      ],
      "source": [
        "test_accuracy = utils_funcs.calculate_accuracy(model, testloader, device)\n",
        "print(\"Test accuracy: {:.3f}%\".format(test_accuracy))"
      ]
    },
    {
      "cell_type": "code",
      "execution_count": 14,
      "metadata": {
        "id": "7VSHJRpx-LDj"
      },
      "outputs": [
        {
          "data": {
            "text/plain": [
              "<Figure size 800x600 with 0 Axes>"
            ]
          },
          "metadata": {},
          "output_type": "display_data"
        },
        {
          "data": {
            "image/png": "[encoded data removed]",
            "text/plain": [
              "<Figure size 640x480 with 2 Axes>"
            ]
          },
          "metadata": {},
          "output_type": "display_data"
        }
      ],
      "source": [
        "class_names = ['VeryMildDemented', 'NonDemented', 'ModerateDemented', 'MildDemented']\n",
        "utils_funcs.plot_normalized_confusion_matrix(testloader, model, class_names, device, model_name)"
      ]
    },
    {
      "cell_type": "code",
      "execution_count": 15,
      "metadata": {
        "id": "g7O4VexWVcyQ"
      },
      "outputs": [
        {
          "data": {
            "image/png": "[encoded data removed]",
            "text/plain": [
              "<Figure size 500x500 with 1 Axes>"
            ]
          },
          "metadata": {},
          "output_type": "display_data"
        }
      ],
      "source": [
        "utils_funcs.plot_loss_curve(epoch_train_losses, epoch_validation_losses, num_epochs, model_name)"
      ]
    },
    {
      "cell_type": "code",
      "execution_count": 16,
      "metadata": {},
      "outputs": [
        {
          "data": {
            "image/png": "[encoded data removed]",
            "text/plain": [
              "<Figure size 500x500 with 1 Axes>"
            ]
          },
          "metadata": {},
          "output_type": "display_data"
        }
      ],
      "source": [
        "utils_funcs.plot_accuracy_curve(epoch_train_accuracies, epoch_validation_accuracies, num_epochs, model_name)"
      ]
    }
  ],
  "metadata": {
    "accelerator": "GPU",
    "colab": {
      "gpuType": "T4",
      "provenance": []
    },
    "kernelspec": {
      "display_name": "dino_deep_learn_cuda124",
      "language": "python",
      "name": "python3"
    },
    "language_info": {
      "codemirror_mode": {
        "name": "ipython",
        "version": 3
      },
      "file_extension": ".py",
      "mimetype": "text/x-python",
      "name": "python",
      "nbconvert_exporter": "python",
      "pygments_lexer": "ipython3",
      "version": "3.10.14"
    }
  },
  "nbformat": 4,
  "nbformat_minor": 0
}
